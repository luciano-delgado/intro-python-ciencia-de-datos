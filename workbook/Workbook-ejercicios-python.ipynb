{
  "nbformat": 4,
  "nbformat_minor": 0,
  "metadata": {
    "colab": {
      "provenance": []
    },
    "kernelspec": {
      "name": "python3",
      "display_name": "Python 3"
    },
    "language_info": {
      "name": "python"
    }
  },
  "cells": [
    {
      "cell_type": "markdown",
      "source": [
        "\n",
        "# **Workbook de Ejercicios de Python🐍**\n",
        "\n",
        "En este workbook encontrarán ejercicios para cada clase, además al final de cada sección tendrás las resoluciones.\n",
        "\n",
        "Nota: Para hacer una copia ir a \"Archivo > Guardar una copia en Drive\".\n",
        "\n",
        "Te sugerimos intentar resolverlo por tu cuenta antes de ver la solución, recuerda que la práctica es clave para fijar el conocimiento.\n",
        "\n",
        "\n",
        "# **🚨IMPORTANTE: Forma de uso de este notebook:**´\n",
        "\n",
        "Debes hacer una **copia** de este cuaderno para poder editarlo y trabajar sobre el mismo sin que eso afecte el workbook original.\n",
        "\n"
      ],
      "metadata": {
        "id": "26-Stbi-E1jn"
      }
    },
    {
      "cell_type": "markdown",
      "source": [
        "# **💥Ejercicios clase 1**"
      ],
      "metadata": {
        "id": "LBlGneS4E2bd"
      }
    },
    {
      "cell_type": "markdown",
      "source": [
        "**✔ Parte 1 Generalidades**\n",
        "\n",
        "1.1) Comentar código\n",
        "\n",
        "1.2) Introducción a la función print()\n",
        "\n",
        "1.3) Variables: Definición y nomenclatura.\n",
        "\n",
        "1.4) Asignacion Simple/Aumentada/Multiple.\n",
        "\n",
        "1.5) Constantes\n",
        "\n",
        "1.6) Keywords"
      ],
      "metadata": {
        "id": "XcYPfAzdHkEU"
      }
    },
    {
      "cell_type": "markdown",
      "source": [
        "**Ejercicio 1.1:**\n",
        "\n",
        "Define una variable que represente el número de horas que has dormido esta noche y otra variable que represente tu estado de ánimo. Luego, imprime un mensaje que combine estos datos."
      ],
      "metadata": {
        "id": "M8LaGoI8MkQO"
      }
    },
    {
      "cell_type": "code",
      "source": [
        "#Aquí podés resolver el ejercicio. Al final de la sección verás la resolución."
      ],
      "metadata": {
        "id": "BwnCLnQ9SrE2"
      },
      "execution_count": null,
      "outputs": []
    },
    {
      "cell_type": "markdown",
      "source": [
        "**Ejercicio 1.2:**\n",
        "\n",
        "Define una variable que represente tu edad. Luego, usa asignación aumentada para sumar 5 años a tu edad y asignación simple para restar 2 años. Finalmente, imprime tu edad actual.\n"
      ],
      "metadata": {
        "id": "PG6phWibMdW3"
      }
    },
    {
      "cell_type": "code",
      "source": [
        "#Aquí podés resolver el ejercicio. Al final de la sección verás la resolución."
      ],
      "metadata": {
        "id": "JoE-A-cBSy2P"
      },
      "execution_count": null,
      "outputs": []
    },
    {
      "cell_type": "markdown",
      "source": [
        "**Ejercicio 1.3:**\n",
        "\n",
        "Crea una constante llamada DESCUENTO con valor 20. Luego, calcula el precio final de un producto que cuesta $100 aplicando el descuento y muestra el resultado en pantalla"
      ],
      "metadata": {
        "id": "4iZeBppyMqLs"
      }
    },
    {
      "cell_type": "code",
      "source": [
        "#Aquí podés resolver el ejercicio. Al final de la sección verás la resolución."
      ],
      "metadata": {
        "id": "NmIo2FCdS0D_"
      },
      "execution_count": null,
      "outputs": []
    },
    {
      "cell_type": "markdown",
      "source": [
        "**✔ Parte 2: Más sobre variables. Tipos de datós básicos. Introducción a Funciones.**\n",
        "\n",
        "2.1) Ubicación en memoria de las variables\n",
        "\n",
        "2.2) Tipos de datos básicos\n",
        "\n",
        "2.3) Método type(). Castear una variable\n",
        "\n",
        "2.4) Funciones\n",
        "\n",
        "2.5) Documentación"
      ],
      "metadata": {
        "id": "q0ZmqSsyIOnG"
      }
    },
    {
      "cell_type": "markdown",
      "source": [
        "**Ejercicio 1.4:**\n",
        "\n",
        "Define dos variables, número1 y número2, y asignales valores. Luego, imprime en pantalla la ubicación en memoria de cada una de estas variables."
      ],
      "metadata": {
        "id": "f9Gh6vsoUx0P"
      }
    },
    {
      "cell_type": "code",
      "source": [
        "#Aquí podés resolver el ejercicio. Al final de la sección verás la resolución."
      ],
      "metadata": {
        "id": "7PJbnzkdU943"
      },
      "execution_count": null,
      "outputs": []
    },
    {
      "cell_type": "markdown",
      "source": [
        "**Ejercicio 1.5:**\n",
        "\n",
        "Define una variable con un valor numérico entero y otra variable con un valor de tipo cadena. Usa el método type() para mostrar el tipo de dato de cada variable. Luego, convierte la variable entera en cadena y muestra nuevamente su tipo de dato."
      ],
      "metadata": {
        "id": "x28WA_h2Uy_I"
      }
    },
    {
      "cell_type": "code",
      "source": [
        "#Aquí podés resolver el ejercicio. Al final de la sección verás la resolución."
      ],
      "metadata": {
        "id": "g9mstBDrU-4_"
      },
      "execution_count": null,
      "outputs": []
    },
    {
      "cell_type": "markdown",
      "source": [
        "**Ejercicio 1.6:**\n",
        "\n",
        "Define una función llamada suma que reciba dos números como argumentos y retorne la suma de esos números. Luego, llama a la función con valores de prueba e imprime el resultado."
      ],
      "metadata": {
        "id": "cO6dZmOdU0nv"
      }
    },
    {
      "cell_type": "code",
      "source": [
        "#Aquí podés resolver el ejercicio. Al final de la sección verás la resolución."
      ],
      "metadata": {
        "id": "3Eo4m2LfU_ff"
      },
      "execution_count": null,
      "outputs": []
    },
    {
      "cell_type": "markdown",
      "source": [
        "**✔ Parte 3: Parte 3: Condicionales.**"
      ],
      "metadata": {
        "id": "JaHlJRdZJXnM"
      }
    },
    {
      "cell_type": "markdown",
      "source": [
        "**Ejercicio 1.7:**\n",
        "\n",
        "Define dos variables, temperatura_actual y temperatura_limite. Usa condicionales anidados para imprimir un mensaje dependiendo de si la temperatura actual está por encima, por debajo o igual a la temperatura límite."
      ],
      "metadata": {
        "id": "3DR1NGxBMxD9"
      }
    },
    {
      "cell_type": "code",
      "source": [
        "#Aquí podés resolver el ejercicio. Al final de la sección verás la resolución."
      ],
      "metadata": {
        "id": "o5qM39wHTAJf"
      },
      "execution_count": null,
      "outputs": []
    },
    {
      "cell_type": "markdown",
      "source": [
        "**Ejercicio 1.8:**\n",
        "\n",
        "Define tres variables: hora_actual, hora_apertura y hora_cierre. Usa condicionales con operadores lógicos para determinar si un negocio está abierto o cerrado en función de la hora actual."
      ],
      "metadata": {
        "id": "DcE8wbShM3xj"
      }
    },
    {
      "cell_type": "code",
      "source": [
        "#Aquí podés resolver el ejercicio. Al final de la sección verás la resolución."
      ],
      "metadata": {
        "id": "NyOBtMNLTBAn"
      },
      "execution_count": null,
      "outputs": []
    },
    {
      "cell_type": "markdown",
      "source": [
        "**Ejercicio 1.9:**\n",
        "\n",
        "\n",
        "Define una variable llamada mes_actual y asigna un valor numérico correspondiente a un mes del año. Usa un condicional para imprimir el nombre del mes según el número proporcionado."
      ],
      "metadata": {
        "id": "x-UKiD5uPs3w"
      }
    },
    {
      "cell_type": "code",
      "source": [
        "#Aquí podés resolver el ejercicio. Al final de la sección verás la resolución."
      ],
      "metadata": {
        "id": "_B-LoR9fTB1g"
      },
      "execution_count": null,
      "outputs": []
    },
    {
      "cell_type": "markdown",
      "source": [
        "# **✅Resueltos clase 1**"
      ],
      "metadata": {
        "id": "tMaoBvuyG-pW"
      }
    },
    {
      "cell_type": "markdown",
      "source": [
        "**Ejercicio 1.1:**\n",
        "\n",
        "Define una variable que represente el número de horas que has dormido esta noche y otra variable que represente tu estado de ánimo. Luego, imprime un mensaje que combine estos datos."
      ],
      "metadata": {
        "id": "208ZS_GVTu86"
      }
    },
    {
      "cell_type": "code",
      "source": [
        "horas_dormidas = 7\n",
        "estado_animico = \"feliz\"\n",
        "\n",
        "print(f\"Hoy he dormido {horas_dormidas} horas y me siento {estado_animico} 😊\")"
      ],
      "metadata": {
        "colab": {
          "base_uri": "https://localhost:8080/"
        },
        "id": "OJKYi6toTw6Q",
        "outputId": "82cfbde3-b678-4e46-95d0-d97844db5d81"
      },
      "execution_count": null,
      "outputs": [
        {
          "output_type": "stream",
          "name": "stdout",
          "text": [
            "Hoy he dormido 7 horas y me siento feliz 😊\n"
          ]
        }
      ]
    },
    {
      "cell_type": "markdown",
      "source": [
        "**Ejercicio 1.2:**\n",
        "\n",
        "Define una variable que represente tu edad. Luego, usa asignación aumentada para sumar 5 años a tu edad y asignación simple para restar 2 años. Finalmente, imprime tu edad actual."
      ],
      "metadata": {
        "id": "ahxPOZ83SgrX"
      }
    },
    {
      "cell_type": "code",
      "source": [
        "edad = 25\n",
        "\n",
        "# Aumentar edad en 5 años\n",
        "edad += 5\n",
        "\n",
        "# Restar 2 años\n",
        "edad -= 2\n",
        "\n",
        "print(f\"Mi edad actual es {edad} años.\")"
      ],
      "metadata": {
        "colab": {
          "base_uri": "https://localhost:8080/"
        },
        "id": "9TZ6RJmsSkbB",
        "outputId": "5805a688-f8c0-4776-bbcb-8d3ecc03ae33"
      },
      "execution_count": null,
      "outputs": [
        {
          "output_type": "stream",
          "name": "stdout",
          "text": [
            "Mi edad actual es 28 años.\n"
          ]
        }
      ]
    },
    {
      "cell_type": "markdown",
      "source": [
        "**Ejercicio 1.3:**\n",
        "\n",
        "Crea una constante llamada DESCUENTO con valor 20. Luego, calcula el precio final de un producto que cuesta $100 aplicando el descuento y muestra el resultado en pantalla"
      ],
      "metadata": {
        "id": "5jPKZFcZUVcA"
      }
    },
    {
      "cell_type": "code",
      "source": [
        "DESCUENTO = 20\n",
        "precio_producto = 100\n",
        "\n",
        "precio_final = precio_producto - (precio_producto * (DESCUENTO / 100))\n",
        "\n",
        "print(precio_final)"
      ],
      "metadata": {
        "colab": {
          "base_uri": "https://localhost:8080/"
        },
        "id": "WRFspwIQUfHP",
        "outputId": "eb3a099f-517c-4c2b-9579-f65d532b97a2"
      },
      "execution_count": null,
      "outputs": [
        {
          "output_type": "stream",
          "name": "stdout",
          "text": [
            "80.0\n"
          ]
        }
      ]
    },
    {
      "cell_type": "markdown",
      "source": [
        "**Ejercicio 1.4:**\n",
        "\n",
        "Define dos variables, número1 y número2, y asignales valores. Luego, imprime en pantalla la ubicación en memoria de cada una de estas variables."
      ],
      "metadata": {
        "id": "p29O0EyrVhyv"
      }
    },
    {
      "cell_type": "code",
      "source": [
        "numero1 = 10\n",
        "numero2 = 20\n",
        "\n",
        "print(f\"La ubicación en memoria de número1 es: {id(numero1)}\")\n",
        "print(f\"La ubicación en memoria de número2 es: {id(numero2)}\")"
      ],
      "metadata": {
        "colab": {
          "base_uri": "https://localhost:8080/"
        },
        "id": "VuJxMtl1Vndo",
        "outputId": "315a2bad-45ff-4123-8519-6f755285d8ad"
      },
      "execution_count": null,
      "outputs": [
        {
          "output_type": "stream",
          "name": "stdout",
          "text": [
            "La ubicación en memoria de número1 es: 134086700270096\n",
            "La ubicación en memoria de número2 es: 134086700270416\n"
          ]
        }
      ]
    },
    {
      "cell_type": "markdown",
      "source": [
        "**Ejercicio 1.5:**\n",
        "\n",
        "Define una variable con un valor numérico entero y otra variable con un valor de tipo cadena. Usa el método type() para mostrar el tipo de dato de cada variable. Luego, convierte la variable entera en cadena y muestra nuevamente su tipo de dato."
      ],
      "metadata": {
        "id": "wXh0OJfNV7C4"
      }
    },
    {
      "cell_type": "code",
      "source": [
        "numero_entero = 25\n",
        "cadena_texto = \"Python\"\n",
        "\n",
        "print(type(numero_entero))\n",
        "print(type(cadena_texto))\n",
        "\n",
        "# Convertir número entero a cadena\n",
        "numero_entero = str(numero_entero)\n",
        "print(type(numero_entero))"
      ],
      "metadata": {
        "colab": {
          "base_uri": "https://localhost:8080/"
        },
        "id": "1A-wR5tFV5re",
        "outputId": "43d8274c-c396-40a4-8e07-afb345976d56"
      },
      "execution_count": null,
      "outputs": [
        {
          "output_type": "stream",
          "name": "stdout",
          "text": [
            "<class 'int'>\n",
            "<class 'str'>\n",
            "<class 'str'>\n"
          ]
        }
      ]
    },
    {
      "cell_type": "markdown",
      "source": [
        "**Ejercicio 1.6:**\n",
        "\n",
        "Define una función llamada suma que reciba dos números como argumentos y retorne la suma de esos números. Luego, llama a la función con valores de prueba e imprime el resultado."
      ],
      "metadata": {
        "id": "9baNqzwQWMlG"
      }
    },
    {
      "cell_type": "code",
      "source": [
        "def suma(a, b):\n",
        "    return a + b\n",
        "\n",
        "resultado_suma = suma(10, 5)\n",
        "print(f\"El resultado de la suma es: {resultado_suma}\")"
      ],
      "metadata": {
        "id": "Q5L9L224WSrf"
      },
      "execution_count": null,
      "outputs": []
    },
    {
      "cell_type": "markdown",
      "source": [
        "**Ejercicio 1.7:**\n",
        "\n",
        "Define dos variables, temperatura_actual y temperatura_limite. Usa condicionales anidados para imprimir un mensaje dependiendo de si la temperatura actual está por encima, por debajo o igual a la temperatura límite."
      ],
      "metadata": {
        "id": "1Pi_6-5tWZA-"
      }
    },
    {
      "cell_type": "code",
      "source": [
        "temperatura_actual = 25\n",
        "temperatura_limite = 30\n",
        "\n",
        "if temperatura_actual > temperatura_limite:\n",
        "    print(\"La temperatura está por encima del límite.\")\n",
        "elif temperatura_actual < temperatura_limite:\n",
        "    print(\"La temperatura está por debajo del límite.\")\n",
        "else:\n",
        "    print(\"La temperatura está en el límite.\")"
      ],
      "metadata": {
        "colab": {
          "base_uri": "https://localhost:8080/"
        },
        "id": "KWarmtUSW0lQ",
        "outputId": "6cf23a4a-eeed-4bd5-95e1-45af5da574c7"
      },
      "execution_count": null,
      "outputs": [
        {
          "output_type": "stream",
          "name": "stdout",
          "text": [
            "La temperatura está por debajo del límite.\n"
          ]
        }
      ]
    },
    {
      "cell_type": "markdown",
      "source": [
        "**Ejercicio 1.8:**\n",
        "\n",
        "Define tres variables: hora_actual, hora_apertura y hora_cierre. Usa condicionales con operadores lógicos para determinar si un negocio está abierto o cerrado en función de la hora actual."
      ],
      "metadata": {
        "id": "yQ-gN8ycWdVl"
      }
    },
    {
      "cell_type": "code",
      "source": [
        "hora_actual = 15\n",
        "hora_apertura = 9\n",
        "hora_cierre = 18\n",
        "\n",
        "if hora_actual >= hora_apertura and hora_actual <= hora_cierre:\n",
        "    print(\"El negocio está abierto.\")\n",
        "else:\n",
        "    print(\"El negocio está cerrado.\")"
      ],
      "metadata": {
        "colab": {
          "base_uri": "https://localhost:8080/"
        },
        "id": "uy0APj2vW_Bs",
        "outputId": "56b2b53d-d6ef-428b-d445-b24b09ceb1db"
      },
      "execution_count": null,
      "outputs": [
        {
          "output_type": "stream",
          "name": "stdout",
          "text": [
            "El negocio está abierto.\n"
          ]
        }
      ]
    },
    {
      "cell_type": "markdown",
      "source": [
        "**Ejercicio 1.9:**\n",
        "\n",
        "Define una variable llamada mes_actual y asigna un valor numérico correspondiente a un mes del año. Usa un condicional para imprimir el nombre del mes según el número proporcionado."
      ],
      "metadata": {
        "id": "Gj8VvsyFWe2H"
      }
    },
    {
      "cell_type": "code",
      "source": [
        "mes_actual = 7\n",
        "\n",
        "if mes_actual == 1:\n",
        "    print(\"Enero\")\n",
        "elif mes_actual == 2:\n",
        "    print(\"Febrero\")\n",
        "elif mes_actual == 3:\n",
        "    print(\"Marzo\")\n",
        "elif mes_actual == 4:\n",
        "    print(\"Abril\")\n",
        "elif mes_actual == 5:\n",
        "    print(\"Mayo\")\n",
        "elif mes_actual == 6:\n",
        "    print(\"Junio\")\n",
        "elif mes_actual == 7:\n",
        "    print(\"Julio\")\n",
        "elif mes_actual == 8:\n",
        "    print(\"Agosto\")\n",
        "elif mes_actual == 9:\n",
        "    print(\"Septiembre\")\n",
        "elif mes_actual == 10:\n",
        "    print(\"Octubre\")\n",
        "elif mes_actual == 11:\n",
        "    print(\"Noviembre\")\n",
        "elif mes_actual == 12:\n",
        "    print(\"Diciembre\")\n",
        "else:\n",
        "    print(\"Número de mes inválido\")"
      ],
      "metadata": {
        "id": "2ZGU6KHOXPJC"
      },
      "execution_count": null,
      "outputs": []
    },
    {
      "cell_type": "markdown",
      "source": [
        "# **💥Ejercicios clase 2**"
      ],
      "metadata": {
        "id": "cN3lSdRoGrds"
      }
    },
    {
      "cell_type": "markdown",
      "source": [
        "**✔ Parte 1: Más sobre Condicionales\n",
        "Condicionales:**\n",
        "\n",
        "1.1) Condicionales más utilizados: if/else/elif\n",
        "\n",
        "1.2) Otros condicionales: match/case"
      ],
      "metadata": {
        "id": "rRZo3U0_Jv7w"
      }
    },
    {
      "cell_type": "markdown",
      "source": [
        "**Ejercicio 2.1:**\n",
        "\n",
        "Define una variable llamada hora y asigna un valor numérico. Usa un condicional if/elif/else para imprimir un mensaje según la hora del día (mañana, tarde, noche)."
      ],
      "metadata": {
        "id": "CWmB6zpkPxK5"
      }
    },
    {
      "cell_type": "code",
      "source": [
        "#Aquí podés resolver el ejercicio. Al final de la sección verás la resolución."
      ],
      "metadata": {
        "id": "EW1giJMNTDAF"
      },
      "execution_count": null,
      "outputs": []
    },
    {
      "cell_type": "markdown",
      "source": [
        "**Ejercicio 2.2**\n",
        "\n",
        "Define una variable llamada día_semana y asigna un valor numérico del 1 al 7 para representar un día de la semana. Utiliza el condicional match/case para imprimir el nombre del día según el número proporcionado."
      ],
      "metadata": {
        "id": "1sHFInKkPz3x"
      }
    },
    {
      "cell_type": "code",
      "source": [
        "#Aquí podés resolver el ejercicio. Al final de la sección verás la resolución."
      ],
      "metadata": {
        "id": "-ieYUqzCTDwI"
      },
      "execution_count": null,
      "outputs": []
    },
    {
      "cell_type": "markdown",
      "source": [
        "**✔ Parte 2: Estructuras I**\n",
        "\n",
        "2.1) Listas\n",
        "\n",
        "2.2) Set (Conjuntos)\n",
        "\n",
        "2.3) Matrices"
      ],
      "metadata": {
        "id": "kboqHNIfKHAq"
      }
    },
    {
      "cell_type": "markdown",
      "source": [
        "**Ejercicio 2.3:**\n",
        "\n",
        "Crea una lista llamada colores con al menos 5 colores diferentes. Imprime el primer y último elemento de la lista."
      ],
      "metadata": {
        "id": "m-6viMptP1xW"
      }
    },
    {
      "cell_type": "code",
      "source": [
        "#Aquí podés resolver el ejercicio. Al final de la sección verás la resolución."
      ],
      "metadata": {
        "id": "Zn8-g5bATEpw"
      },
      "execution_count": null,
      "outputs": []
    },
    {
      "cell_type": "markdown",
      "source": [
        "**Ejercicio 2.4:**\n",
        "\n",
        "Crea una lista llamada numeros con números del 1 al 10 y un conjunto llamado pares con los números pares del 1 al 10. Imprime la suma de los números en la lista y la cantidad de elementos en el conjunto de pares."
      ],
      "metadata": {
        "id": "AUkQ_wPJP2mW"
      }
    },
    {
      "cell_type": "code",
      "source": [
        "#Aquí podés resolver el ejercicio. Al final de la sección verás la resolución."
      ],
      "metadata": {
        "id": "HunexxGgTFRJ"
      },
      "execution_count": null,
      "outputs": []
    },
    {
      "cell_type": "markdown",
      "source": [
        "**✔ Parte 3: Bucles**\n",
        "\n",
        "3.1) Bucles for\n",
        "\n",
        "3.2) Bucles while"
      ],
      "metadata": {
        "id": "rRssU_h0KXpU"
      }
    },
    {
      "cell_type": "markdown",
      "source": [
        "**Ejercicio 2.5:**\n",
        "\n",
        "Crea una matriz 3x3 llamada matriz_numeros con números del 1 al 9. Imprime la matriz completa y el valor en la posición (2, 2). (Utilizando el bucle for)"
      ],
      "metadata": {
        "id": "itRdcLg2P6hH"
      }
    },
    {
      "cell_type": "code",
      "source": [
        "#Aquí podés resolver el ejercicio. Al final de la sección verás la resolución."
      ],
      "metadata": {
        "id": "Xl8xFsW5TGT3"
      },
      "execution_count": null,
      "outputs": []
    },
    {
      "cell_type": "markdown",
      "source": [
        "**Ejercicio 2.6:**\n",
        "\n",
        "\n",
        "Crea una variable contador y asigna un valor inicial de 1. Usa un bucle while para imprimir los números del 1 al 5 y luego incrementar el contador en cada iteración."
      ],
      "metadata": {
        "id": "RHWfhK4jP8Xg"
      }
    },
    {
      "cell_type": "code",
      "source": [
        "#Aquí podés resolver el ejercicio. Al final de la sección verás la resolución."
      ],
      "metadata": {
        "id": "XlWJId87THBv"
      },
      "execution_count": null,
      "outputs": []
    },
    {
      "cell_type": "markdown",
      "source": [
        "**Ejercicio 2.7:**\n",
        "\n",
        "Crea una variable llamada suma y asigna un valor inicial de 0. Usa un bucle while con una condición que verifique que la suma sea menor que 100. En cada iteración, suma el número actual al valor de suma e imprime la suma actual."
      ],
      "metadata": {
        "id": "zeW2Oh2EIHFV"
      }
    },
    {
      "cell_type": "code",
      "source": [
        "#Aquí podés resolver el ejercicio. Al final de la sección verás la resolución."
      ],
      "metadata": {
        "id": "sVYyGk_pIL5Q"
      },
      "execution_count": null,
      "outputs": []
    },
    {
      "cell_type": "markdown",
      "source": [
        "# **✅Resueltos clase 2**"
      ],
      "metadata": {
        "id": "QukXsiA4HQut"
      }
    },
    {
      "cell_type": "markdown",
      "source": [
        "**Ejercicio 2.1:**\n",
        "\n",
        "Define una variable llamada hora y asigna un valor numérico. Usa un condicional if/elif/else para imprimir un mensaje según la hora del día (mañana, tarde, noche).\n"
      ],
      "metadata": {
        "id": "RXusW7IUXxl1"
      }
    },
    {
      "cell_type": "code",
      "source": [
        "hora = 18\n",
        "\n",
        "if hora < 12:\n",
        "    print(\"Buenos días.\")\n",
        "elif hora >= 12 and hora < 18:\n",
        "    print(\"Buenas tardes.\")\n",
        "else:\n",
        "    print(\"Buenas noches.\")"
      ],
      "metadata": {
        "id": "qxNJjBWsX0ph"
      },
      "execution_count": null,
      "outputs": []
    },
    {
      "cell_type": "markdown",
      "source": [
        "**Ejercicio 2.2:**\n",
        "\n",
        "Define una variable llamada día_semana y asigna un valor numérico del 1 al 7 para representar un día de la semana. Utiliza el condicional match/case para imprimir el nombre del día según el número proporcionado."
      ],
      "metadata": {
        "id": "8XwgPQbYYCWG"
      }
    },
    {
      "cell_type": "code",
      "source": [
        "dia_semana = 3\n",
        "\n",
        "match dia_semana:\n",
        "    case 1:\n",
        "        nombre_dia = \"Lunes\"\n",
        "    case 2:\n",
        "        nombre_dia =\"Martes\"\n",
        "    case 3:\n",
        "        nombre_dia =\"Miércoles\"\n",
        "    case 4:\n",
        "        nombre_dia =\"Jueves\"\n",
        "    case 5:\n",
        "        nombre_dia =\"Viernes\"\n",
        "    case 6:\n",
        "        nombre_dia =\"Sábado\"\n",
        "    case 7:\n",
        "        nombre_dia =\"Domingo\"\n",
        "\n",
        "print(f\"Hoy es {nombre_dia}.\")"
      ],
      "metadata": {
        "colab": {
          "base_uri": "https://localhost:8080/"
        },
        "id": "jtME37-gZVJ1",
        "outputId": "e5431835-f1d6-4424-90e0-a69182e862e9"
      },
      "execution_count": null,
      "outputs": [
        {
          "output_type": "stream",
          "name": "stdout",
          "text": [
            "Hoy es Miércoles.\n"
          ]
        }
      ]
    },
    {
      "cell_type": "markdown",
      "source": [
        "**Ejercicio 2.3:**\n",
        "\n",
        "Crea una lista llamada colores con al menos 5 colores diferentes. Imprime el primer y último elemento de la lista."
      ],
      "metadata": {
        "id": "qKMA2JdzYG1f"
      }
    },
    {
      "cell_type": "code",
      "source": [
        "colores = [\"rojo\", \"azul\", \"verde\", \"amarillo\", \"naranja\"]\n",
        "\n",
        "primer_color = colores[0]\n",
        "ultimo_color = colores[-1]\n",
        "\n",
        "print(f\"Primer color: {primer_color}\")\n",
        "print(f\"Último color: {ultimo_color}\")"
      ],
      "metadata": {
        "colab": {
          "base_uri": "https://localhost:8080/"
        },
        "id": "6AaonFdaHEeg",
        "outputId": "6a1907e2-4ad8-45fe-d51a-3952622f8cb1"
      },
      "execution_count": null,
      "outputs": [
        {
          "output_type": "stream",
          "name": "stdout",
          "text": [
            "Primer color: rojo\n",
            "Último color: naranja\n"
          ]
        }
      ]
    },
    {
      "cell_type": "markdown",
      "source": [
        "**Ejercicio 2.4:**\n",
        "\n",
        "Crea una lista llamada numeros con números del 1 al 10 y un conjunto llamado pares con los números pares del 1 al 10. Imprime la suma de los números en la lista y la cantidad de elementos en el conjunto de pares."
      ],
      "metadata": {
        "id": "xrP9Q9X8YIWd"
      }
    },
    {
      "cell_type": "code",
      "source": [
        "numeros = [1, 2, 3, 4, 5, 6, 7, 8, 9, 10]\n",
        "pares = {2, 4, 6, 8, 10}\n",
        "\n",
        "suma_numeros = sum(numeros)\n",
        "cantidad_pares = len(pares)\n",
        "\n",
        "print(f\"Suma de números en la lista: {suma_numeros}\")\n",
        "print(f\"Cantidad de elementos en el conjunto de pares: {cantidad_pares}\")"
      ],
      "metadata": {
        "colab": {
          "base_uri": "https://localhost:8080/"
        },
        "id": "1yGad52bHXdI",
        "outputId": "4737101d-4e67-49d0-8abe-3b1ff34a33b6"
      },
      "execution_count": null,
      "outputs": [
        {
          "output_type": "stream",
          "name": "stdout",
          "text": [
            "Suma de números en la lista: 55\n",
            "Cantidad de elementos en el conjunto de pares: 5\n"
          ]
        }
      ]
    },
    {
      "cell_type": "markdown",
      "source": [
        "**Ejercicio 2.5:**\n",
        "\n",
        "Crea una matriz 3x3 llamada matriz_numeros con números del 1 al 9. Imprime la matriz completa y el valor en la posición (2, 2). (Utilizando el bucle for)"
      ],
      "metadata": {
        "id": "tauvhlDOYKF2"
      }
    },
    {
      "cell_type": "code",
      "source": [
        "matriz_numeros = [\n",
        "    [1, 2, 3],\n",
        "    [4, 5, 6],\n",
        "    [7, 8, 9]\n",
        "]\n",
        "\n",
        "print(\"Matriz completa:\")\n",
        "for fila in matriz_numeros:\n",
        "    print(fila)\n",
        "\n",
        "valor_posicion_22 = matriz_numeros[2][2]\n",
        "print(f\"Valor en la posición (2, 2): {valor_posicion_22}\")"
      ],
      "metadata": {
        "colab": {
          "base_uri": "https://localhost:8080/"
        },
        "id": "qpdjtjmfHm-n",
        "outputId": "1fa20414-4d2b-4bbb-d202-4af8a149394a"
      },
      "execution_count": null,
      "outputs": [
        {
          "output_type": "stream",
          "name": "stdout",
          "text": [
            "Matriz completa:\n",
            "[1, 2, 3]\n",
            "[4, 5, 6]\n",
            "[7, 8, 9]\n",
            "Valor en la posición (2, 2): 9\n"
          ]
        }
      ]
    },
    {
      "cell_type": "markdown",
      "source": [
        "\n",
        "\n",
        "**Ejercicio 2.6:**\n",
        "\n",
        "Crea una variable contador y asigna un valor inicial de 1. Usa un bucle while para imprimir los números del 1 al 5 y luego incrementar el contador en cada iteración."
      ],
      "metadata": {
        "id": "fG-IkfZAH0k5"
      }
    },
    {
      "cell_type": "code",
      "source": [
        "contador = 1\n",
        "\n",
        "while contador <= 5:\n",
        "    print(contador)\n",
        "    contador += 1"
      ],
      "metadata": {
        "colab": {
          "base_uri": "https://localhost:8080/"
        },
        "id": "ufF6XmHSH9Pw",
        "outputId": "893d26c9-8e31-400b-b091-4abd62dc6ef3"
      },
      "execution_count": null,
      "outputs": [
        {
          "output_type": "stream",
          "name": "stdout",
          "text": [
            "1\n",
            "2\n",
            "3\n",
            "4\n",
            "5\n"
          ]
        }
      ]
    },
    {
      "cell_type": "markdown",
      "source": [
        "**Ejercicio 2.7:**\n",
        "\n",
        "Crea una variable llamada suma y asigna un valor inicial de 0. Usa un bucle while con una condición que verifique que la suma sea menor que 100. En cada iteración, suma el número actual al valor de suma e imprime la suma actual."
      ],
      "metadata": {
        "id": "v8dAqz9gIUJ3"
      }
    },
    {
      "cell_type": "code",
      "source": [
        "suma = 0\n",
        "numero_actual = 1\n",
        "\n",
        "while suma < 100:\n",
        "    suma += numero_actual\n",
        "    print(f\"Suma actual: {suma}\")\n",
        "    numero_actual += 1"
      ],
      "metadata": {
        "colab": {
          "base_uri": "https://localhost:8080/"
        },
        "id": "Mlu3wgTSIWuW",
        "outputId": "499cb22d-f0c1-4c69-c746-a6557d41544c"
      },
      "execution_count": null,
      "outputs": [
        {
          "output_type": "stream",
          "name": "stdout",
          "text": [
            "Suma actual: 1\n",
            "Suma actual: 3\n",
            "Suma actual: 6\n",
            "Suma actual: 10\n",
            "Suma actual: 15\n",
            "Suma actual: 21\n",
            "Suma actual: 28\n",
            "Suma actual: 36\n",
            "Suma actual: 45\n",
            "Suma actual: 55\n",
            "Suma actual: 66\n",
            "Suma actual: 78\n",
            "Suma actual: 91\n",
            "Suma actual: 105\n"
          ]
        }
      ]
    },
    {
      "cell_type": "markdown",
      "source": [
        "# **💥Ejercicios clase 3**"
      ],
      "metadata": {
        "id": "ApNjogGYGv38"
      }
    },
    {
      "cell_type": "markdown",
      "source": [
        "**✔Parte 1: Diccionarios y Tuplas. Conversiones de Tipos**\n",
        "\n",
        "1) Diccionarios\n",
        "\n",
        "2)Tuplas\n",
        "\n",
        "3)Conversiones de tipos"
      ],
      "metadata": {
        "id": "AHsIaQZRLAcG"
      }
    },
    {
      "cell_type": "markdown",
      "source": [
        "**Ejercicio 3.1:**\n",
        "\n",
        "Crea un diccionario llamado precios con al menos tres pares clave-valor representando productos y sus precios. Calcula e imprime el precio total de todos los productos en el diccionario."
      ],
      "metadata": {
        "id": "Z59K7MwjP_uQ"
      }
    },
    {
      "cell_type": "code",
      "source": [
        "#Aquí podés resolver el ejercicio. Al final de la sección verás la resolución."
      ],
      "metadata": {
        "id": "b-3-qxWzTIa_"
      },
      "execution_count": null,
      "outputs": []
    },
    {
      "cell_type": "markdown",
      "source": [
        "**Ejercicio 3.2:**\n",
        "\n",
        "Crea una tupla llamada frutas con al menos tres nombres de frutas. Imprime la tupla completa y accede a cada elemento por su índice para imprimirlos individualmente."
      ],
      "metadata": {
        "id": "6SX1QGEXQBWw"
      }
    },
    {
      "cell_type": "code",
      "source": [
        "#Aquí podés resolver el ejercicio. Al final de la sección verás la resolución."
      ],
      "metadata": {
        "id": "0Xe0Z267TJLg"
      },
      "execution_count": null,
      "outputs": []
    },
    {
      "cell_type": "markdown",
      "source": [
        "**Ejercicio 3.3:**\n",
        "\n",
        "Crea un diccionario llamado datos con información personal (nombre, edad, ciudad, país). Imprime las claves, valores y pares clave-valor del diccionario utilizando los métodos keys(), values() e items()."
      ],
      "metadata": {
        "id": "PLgsN7l9QUUo"
      }
    },
    {
      "cell_type": "code",
      "source": [
        "#Aquí podés resolver el ejercicio. Al final de la sección verás la resolución."
      ],
      "metadata": {
        "id": "Im4spr0iTKA4"
      },
      "execution_count": null,
      "outputs": []
    },
    {
      "cell_type": "markdown",
      "source": [
        "**✔Parte 2: Funciones**\n",
        "1)Definición de una función\n",
        "2)Argumentos de una función\n",
        "3) Packing & Unpacking"
      ],
      "metadata": {
        "id": "OWPDI-gaLw4f"
      }
    },
    {
      "cell_type": "markdown",
      "source": [
        "**Ejercicio 3.4:**\n",
        "\n",
        "Crea un diccionario llamado capitales con al menos tres pares clave-valor representando países y sus capitales. Usa el método keys() para imprimir todas las claves del diccionario."
      ],
      "metadata": {
        "id": "ilmddLbgQDPp"
      }
    },
    {
      "cell_type": "code",
      "source": [
        "#Aquí podés resolver el ejercicio. Al final de la sección verás la resolución."
      ],
      "metadata": {
        "id": "e2a_HlGeTKv1"
      },
      "execution_count": null,
      "outputs": []
    },
    {
      "cell_type": "markdown",
      "source": [
        "\n",
        "**Ejercicio 3.5:**\n",
        "\n",
        "Usa el diccionario capitales del ejercicio anterior y el método values() para imprimir todas los valores del diccionario."
      ],
      "metadata": {
        "id": "e6Msh3TgQHTB"
      }
    },
    {
      "cell_type": "code",
      "source": [
        "#Aquí podés resolver el ejercicio. Al final de la sección verás la resolución."
      ],
      "metadata": {
        "id": "tIKUYOJcTLk4"
      },
      "execution_count": null,
      "outputs": []
    },
    {
      "cell_type": "markdown",
      "source": [
        "**Ejercicio 3.6:**\n",
        "\n",
        "Usa el diccionario capitales del ejercicio anterior y el método items() para imprimir todos los pares clave-valor del diccionario."
      ],
      "metadata": {
        "id": "0jlQk2yDQLMo"
      }
    },
    {
      "cell_type": "code",
      "source": [
        "#Aquí podés resolver el ejercicio. Al final de la sección verás la resolución."
      ],
      "metadata": {
        "id": "ImI7jGbdTMNJ"
      },
      "execution_count": null,
      "outputs": []
    },
    {
      "cell_type": "markdown",
      "source": [
        "**Ejercicio 3.7:**\n",
        "\n",
        "Crea un diccionario llamado deportes con algunos deportes y sus jugadores favoritos. Luego, crea otro diccionario llamado nuevos_deportes con más deportes y jugadores favoritos. Utiliza el método update() para agregar los nuevos deportes y jugadores al diccionario original. *texto en cursiva*"
      ],
      "metadata": {
        "id": "LFHo1M9ILCKJ"
      }
    },
    {
      "cell_type": "code",
      "source": [
        "#Aquí podés resolver el ejercicio. Al final de la sección verás la resolución."
      ],
      "metadata": {
        "id": "9SvU5ZEILdYQ"
      },
      "execution_count": null,
      "outputs": []
    },
    {
      "cell_type": "markdown",
      "source": [
        "**Ejercicio 3.8:**\n",
        "\n",
        "Usa el diccionario deportes del ejercicio anterior y el método pop() para eliminar el deporte \"tenis\" y su jugador favorito del diccionario."
      ],
      "metadata": {
        "id": "pmaXZ7YnLdwv"
      }
    },
    {
      "cell_type": "code",
      "source": [
        "#Aquí podés resolver el ejercicio. Al final de la sección verás la resolución."
      ],
      "metadata": {
        "id": "zlJe5G9WLtEq"
      },
      "execution_count": null,
      "outputs": []
    },
    {
      "cell_type": "markdown",
      "source": [
        "**Ejercicio 3.9:**\n",
        "\n",
        "Copia el diccionario deportes en un nuevo diccionario llamado deportes_copia utilizando el método copy(). Modifica el nombre de un jugador en el diccionario copiado y verifica que el diccionario original no haya sido alterado."
      ],
      "metadata": {
        "id": "0qpF73hrMAEH"
      }
    },
    {
      "cell_type": "markdown",
      "source": [
        "# **✅Resueltos clase 3**"
      ],
      "metadata": {
        "id": "FbrWWOW1HTLm"
      }
    },
    {
      "cell_type": "markdown",
      "source": [
        "**Ejercicio 3.1:**\n",
        "\n",
        "Crea un diccionario llamado precios con al menos tres pares clave-valor representando productos y sus precios. Calcula e imprime el precio total de todos los productos en el diccionario."
      ],
      "metadata": {
        "id": "G3Zm-zjzI6rn"
      }
    },
    {
      "cell_type": "code",
      "source": [
        "precios = {\n",
        "    \"manzana\": 1.5,\n",
        "    \"banana\": 2.0,\n",
        "    \"pera\": 1.75\n",
        "}\n",
        "\n",
        "precio_total = sum(precios.values())\n",
        "\n",
        "print(f\"Precio total de los productos: ${precio_total}\")"
      ],
      "metadata": {
        "id": "IbjWgbCbI7r3"
      },
      "execution_count": null,
      "outputs": []
    },
    {
      "cell_type": "markdown",
      "source": [
        "**Ejercicio 3.2:**\n",
        "\n",
        "Crea una tupla llamada frutas con al menos tres nombres de frutas. Imprime la tupla completa y accede a cada elemento por su índice para imprimirlos individualmente."
      ],
      "metadata": {
        "id": "3EIdRMebIp0U"
      }
    },
    {
      "cell_type": "code",
      "source": [
        "frutas = (\"manzana\", \"banana\", \"pera\")\n",
        "\n",
        "print(\"Tupla completa:\")\n",
        "print(frutas)\n",
        "\n",
        "print(f\"Primera fruta: {frutas[0]}\")\n",
        "print(f\"Segunda fruta: {frutas[1]}\")\n",
        "print(f\"Tercera fruta: {frutas[2]}\")"
      ],
      "metadata": {
        "id": "-n04OlApIrjk"
      },
      "execution_count": null,
      "outputs": []
    },
    {
      "cell_type": "markdown",
      "source": [
        "**Ejercicio 3.3:**\n",
        "\n",
        "Crea un diccionario llamado datos con información personal (nombre, edad, ciudad, país). Imprime las claves, valores y pares clave-valor del diccionario utilizando los métodos keys(), values() e items()."
      ],
      "metadata": {
        "id": "AriO-PjGJWSX"
      }
    },
    {
      "cell_type": "code",
      "source": [
        "datos = {\n",
        "    \"nombre\": \"María\",\n",
        "    \"edad\": 30,\n",
        "    \"ciudad\": \"Barcelona\",\n",
        "    \"país\": \"España\"\n",
        "}\n",
        "\n",
        "print(\"Claves del diccionario:\")\n",
        "for clave in datos.keys():\n",
        "    print(clave)\n",
        "\n",
        "print(\"\\nValores del diccionario:\")\n",
        "for valor in datos.values():\n",
        "    print(valor)\n",
        "\n",
        "print(\"\\nPares clave-valor del diccionario:\")\n",
        "for clave, valor in datos.items():\n",
        "    print(f\"{clave}: {valor}\")"
      ],
      "metadata": {
        "colab": {
          "base_uri": "https://localhost:8080/"
        },
        "id": "x7tAaLxUJYuo",
        "outputId": "d2c3c8aa-0e12-49d0-aee2-cd398c95bb42"
      },
      "execution_count": null,
      "outputs": [
        {
          "output_type": "stream",
          "name": "stdout",
          "text": [
            "Claves del diccionario:\n",
            "nombre\n",
            "edad\n",
            "ciudad\n",
            "país\n",
            "\n",
            "Valores del diccionario:\n",
            "María\n",
            "30\n",
            "Barcelona\n",
            "España\n",
            "\n",
            "Pares clave-valor del diccionario:\n",
            "nombre: María\n",
            "edad: 30\n",
            "ciudad: Barcelona\n",
            "país: España\n"
          ]
        }
      ]
    },
    {
      "cell_type": "markdown",
      "source": [
        "**Ejercicio 3.4:**\n",
        "\n",
        "Crea un diccionario llamado capitales con al menos tres pares clave-valor representando países y sus capitales. Usa el método keys() para imprimir todas las claves del diccionario."
      ],
      "metadata": {
        "id": "pueTksunJ-nY"
      }
    },
    {
      "cell_type": "code",
      "source": [
        "capitales = {\n",
        "    \"España\": \"Madrid\",\n",
        "    \"Francia\": \"París\",\n",
        "    \"Italia\": \"Roma\"\n",
        "}\n",
        "\n",
        "claves = capitales.keys()\n",
        "\n",
        "print(\"Claves del diccionario:\")\n",
        "for clave in claves:\n",
        "    print(clave)"
      ],
      "metadata": {
        "colab": {
          "base_uri": "https://localhost:8080/"
        },
        "id": "u-SGeiwgKBV3",
        "outputId": "2fe1e511-ab91-4cee-e44c-4f50766e32f9"
      },
      "execution_count": null,
      "outputs": [
        {
          "output_type": "stream",
          "name": "stdout",
          "text": [
            "Claves del diccionario:\n",
            "España\n",
            "Francia\n",
            "Italia\n"
          ]
        }
      ]
    },
    {
      "cell_type": "markdown",
      "source": [
        "\n",
        "**Ejercicio 3.5:**\n",
        "\n",
        "Usa el diccionario capitales del ejercicio anterior y el método values() para imprimir todas los valores del diccionario."
      ],
      "metadata": {
        "id": "GtwjXeXIKKF_"
      }
    },
    {
      "cell_type": "code",
      "source": [
        "valores = capitales.values()\n",
        "\n",
        "print(\"Valores del diccionario:\")\n",
        "for valor in valores:\n",
        "    print(valor)"
      ],
      "metadata": {
        "colab": {
          "base_uri": "https://localhost:8080/"
        },
        "id": "h92o-YINKMWv",
        "outputId": "e0603796-f6eb-45fe-ead4-94f4aaa9af16"
      },
      "execution_count": null,
      "outputs": [
        {
          "output_type": "stream",
          "name": "stdout",
          "text": [
            "Valores del diccionario:\n",
            "Madrid\n",
            "París\n",
            "Roma\n"
          ]
        }
      ]
    },
    {
      "cell_type": "markdown",
      "source": [
        "**Ejercicio 3.6:**\n",
        "\n",
        "Usa el diccionario capitales del ejercicio anterior y el método items() para imprimir todos los pares clave-valor del diccionario."
      ],
      "metadata": {
        "id": "Dh4HIoSRKUUf"
      }
    },
    {
      "cell_type": "code",
      "source": [
        "pares = capitales.items()\n",
        "\n",
        "print(\"Pares clave-valor del diccionario:\")\n",
        "for clave, valor in pares:\n",
        "    print(f\"{clave}: {valor}\")"
      ],
      "metadata": {
        "colab": {
          "base_uri": "https://localhost:8080/"
        },
        "id": "7ADWborcKWx-",
        "outputId": "71c0b3f4-b933-402a-e950-bd51d0a67e9d"
      },
      "execution_count": null,
      "outputs": [
        {
          "output_type": "stream",
          "name": "stdout",
          "text": [
            "Pares clave-valor del diccionario:\n",
            "España: Madrid\n",
            "Francia: París\n",
            "Italia: Roma\n"
          ]
        }
      ]
    },
    {
      "cell_type": "markdown",
      "source": [
        "**Ejercicio 3.7:**\n",
        "\n",
        "Crea un diccionario llamado deportes con algunos deportes y sus jugadores favoritos. Luego, crea otro diccionario llamado nuevos_deportes con más deportes y jugadores favoritos. Utiliza el método update() para agregar los nuevos deportes y jugadores al diccionario original."
      ],
      "metadata": {
        "id": "R1GbY-E0LRwB"
      }
    },
    {
      "cell_type": "code",
      "source": [
        "deportes = {\n",
        "    \"fútbol\": \"Messi\",\n",
        "    \"tenis\": \"Nadal\",\n",
        "    \"baloncesto\": \"LeBron James\"\n",
        "}\n",
        "\n",
        "nuevos_deportes = {\n",
        "    \"golf\": \"Tiger Woods\",\n",
        "    \"natación\": \"Michael Phelps\"\n",
        "}\n",
        "\n",
        "deportes.update(nuevos_deportes)\n",
        "\n",
        "print(\"Diccionario actualizado:\")\n",
        "print(deportes)"
      ],
      "metadata": {
        "colab": {
          "base_uri": "https://localhost:8080/"
        },
        "id": "h0_gMf2cLV8W",
        "outputId": "0e1174d7-3410-4196-c6cd-133a97a42714"
      },
      "execution_count": null,
      "outputs": [
        {
          "output_type": "stream",
          "name": "stdout",
          "text": [
            "Diccionario actualizado:\n",
            "{'fútbol': 'Messi', 'tenis': 'Nadal', 'baloncesto': 'LeBron James', 'golf': 'Tiger Woods', 'natación': 'Michael Phelps'}\n"
          ]
        }
      ]
    },
    {
      "cell_type": "markdown",
      "source": [
        "**Ejercicio 3.8:**\n",
        "\n",
        "Usa el diccionario deportes del ejercicio anterior y el método pop() para eliminar el deporte \"tenis\" y su jugador favorito del diccionario."
      ],
      "metadata": {
        "id": "rxH5nOIkL3P_"
      }
    },
    {
      "cell_type": "code",
      "source": [
        "deporte_eliminado = deportes.pop(\"tenis\")\n",
        "\n",
        "print(\"Deporte eliminado:\")\n",
        "print(deporte_eliminado)\n",
        "\n",
        "print(\"\\nDiccionario actualizado:\")\n",
        "print(deportes)"
      ],
      "metadata": {
        "colab": {
          "base_uri": "https://localhost:8080/"
        },
        "id": "QmEJ0fT0L51I",
        "outputId": "0492a24e-d72f-4ccf-fac0-e8ef3e60f7a5"
      },
      "execution_count": null,
      "outputs": [
        {
          "output_type": "stream",
          "name": "stdout",
          "text": [
            "Deporte eliminado:\n",
            "Nadal\n",
            "\n",
            "Diccionario actualizado:\n",
            "{'fútbol': 'Messi', 'baloncesto': 'LeBron James', 'golf': 'Tiger Woods', 'natación': 'Michael Phelps'}\n"
          ]
        }
      ]
    },
    {
      "cell_type": "markdown",
      "source": [
        "**Ejercicio 3.9:**\n",
        "\n",
        "Copia el diccionario deportes en un nuevo diccionario llamado deportes_copia utilizando el método copy(). Modifica el nombre de un jugador en el diccionario copiado y verifica que el diccionario original no haya sido alterado."
      ],
      "metadata": {
        "id": "UEqfUF5dMHan"
      }
    },
    {
      "cell_type": "code",
      "source": [
        "deportes_copia = deportes.copy()\n",
        "\n",
        "deportes_copia[\"fútbol\"] = \"Cristiano Ronaldo\"\n",
        "\n",
        "print(\"Diccionario original:\")\n",
        "print(deportes)\n",
        "\n",
        "print(\"\\nDiccionario copiado con modificación:\")\n",
        "print(deportes_copia)"
      ],
      "metadata": {
        "id": "yIMCnpYpMKMx"
      },
      "execution_count": null,
      "outputs": []
    },
    {
      "cell_type": "markdown",
      "source": [
        "# **💥Ejercicios clase 4**"
      ],
      "metadata": {
        "id": "6JTdrcXGG3jl"
      }
    },
    {
      "cell_type": "markdown",
      "source": [
        "**✔ Parte 1: Manejo de Excepciones**\n",
        "\n",
        "1.1) Función sin capturar excepciones\n",
        "\n",
        "1.2) Capturando error de manera genérica\n",
        "\n",
        "1.3) Capturando ZeroDivisionError\n",
        "\n",
        "1.4)Especificando varias excepciones\n",
        "\n",
        "1.5) Cuando no conocemos qué excepción se puede dar podemos dejarla vacío o imprimirla en pantalla\n",
        "\n",
        "1.6) Cubriendo más casos"
      ],
      "metadata": {
        "id": "M6GJP7BMMJ0W"
      }
    },
    {
      "cell_type": "markdown",
      "source": [
        "**Ejercicio 4.1:**\n",
        "\n",
        "Crea una función llamada division que reciba dos números y realice la división del primero entre el segundo. Llama a la función sin ningún manejo de excepciones y provoca una división por cero para ver el error.\n"
      ],
      "metadata": {
        "id": "LAklyjsRQboH"
      }
    },
    {
      "cell_type": "code",
      "source": [
        "#Aquí podés resolver el ejercicio. Al final de la sección verás la resolución."
      ],
      "metadata": {
        "id": "yH75D3cBTNxQ"
      },
      "execution_count": null,
      "outputs": []
    },
    {
      "cell_type": "markdown",
      "source": [
        "**Ejercicio 4.2:**\n",
        "\n",
        "\n",
        "Modifica la función `division` para que el divisor sea una cadena en lugar de un número. Captura el tipo de error que se produce al intentar dividir por una cadena y muestra un mensaje de error adecuado."
      ],
      "metadata": {
        "id": "G7AORFhNQdCA"
      }
    },
    {
      "cell_type": "code",
      "source": [
        "#Aquí podés resolver el ejercicio. Al final de la sección verás la resolución."
      ],
      "metadata": {
        "id": "m2-J_7nPTOfv"
      },
      "execution_count": null,
      "outputs": []
    },
    {
      "cell_type": "markdown",
      "source": [
        "**Ejercicio 4.3:**\n",
        "\n",
        "Crea una función `convertir_a_entero` para capturar el error que se produce al intentar convertir una cadena que no representa un número entero a entero. Muestra un mensaje de error específico."
      ],
      "metadata": {
        "id": "mRn15UABQewy"
      }
    },
    {
      "cell_type": "code",
      "source": [
        "#Aquí podés resolver el ejercicio. Al final de la sección verás la resolución."
      ],
      "metadata": {
        "id": "YDwNVunMTPWW"
      },
      "execution_count": null,
      "outputs": []
    },
    {
      "cell_type": "markdown",
      "source": [
        "**Ejercicio 4.4:**\n",
        "\n",
        "Crea una lista llamada `colores` con algunos colores. Intenta acceder a un índice que está fuera del rango de la lista y captura el error que se produce. Muestra un mensaje de error apropiado."
      ],
      "metadata": {
        "id": "Z-vTqY1IPOdn"
      }
    },
    {
      "cell_type": "code",
      "source": [
        "#Aquí podés resolver el ejercicio. Al final de la sección verás la resolución."
      ],
      "metadata": {
        "id": "55olTpHfPXYs"
      },
      "execution_count": null,
      "outputs": []
    },
    {
      "cell_type": "markdown",
      "source": [
        "**Ejercicio 4.5:**\n",
        "\n",
        "Intenta imprimir el valor de una variable que no ha sido definida previamente y captura el error que se produce. Muestra un mensaje de error apropiado."
      ],
      "metadata": {
        "id": "ZOXcv3DqPpPO"
      }
    },
    {
      "cell_type": "markdown",
      "source": [
        "**✔ Parte 2: Librerias externas (o paquetes)**\n",
        "\n",
        "2.1) Random\n",
        "\n",
        "2.1.1) Método randint\n",
        "\n",
        "2.1.2) Método random()\n",
        "\n",
        "2.1.3) Mezclar una lista aleatoriamente\n",
        "\n",
        "2.1.4) Elegir un número aleatorio de una secuencia: choice()\n",
        "\n",
        "2.1.5) Funciones estadísticas: Generamos una distribución discreta\n",
        "\n",
        "2.1.6) Funciones estadísticas: Generamos una distribución normal\n",
        "\n",
        "2.2) Math\n",
        "\n",
        "2.2.1) Funciones trigonométricas: seno y coseno\n",
        "\n",
        "2.2.2) Funcion exponencial y logarítmica\n",
        "\n",
        "2.2.3) Redondeo: Hacia arriba ceil() y hacia abajo floor()\n",
        "\n",
        "2.2.4) Obtener constantes matemáticas"
      ],
      "metadata": {
        "id": "DkXUysaTMVHv"
      }
    },
    {
      "cell_type": "markdown",
      "source": [
        "**Ejercicio 4.6:**\n",
        "\n",
        "Genera dos números aleatorios enteros entre 1 y 10 utilizando los métodos randint y random del módulo random. Imprime ambos números."
      ],
      "metadata": {
        "id": "gr9VhjCLQhZR"
      }
    },
    {
      "cell_type": "code",
      "source": [
        "#Aquí podés resolver el ejercicio. Al final de la sección verás la resolución."
      ],
      "metadata": {
        "id": "cHHhrLUPTQXp"
      },
      "execution_count": null,
      "outputs": []
    },
    {
      "cell_type": "markdown",
      "source": [
        "**Ejercicio 4.7:**\n",
        "\n",
        "Genera una distribución discreta de números aleatorios con valores entre 1 y 10, y con una probabilidad de ocurrencia para cada número. Imprime la distribución generada."
      ],
      "metadata": {
        "id": "QRmXa56AQi-A"
      }
    },
    {
      "cell_type": "code",
      "source": [
        "#Aquí podés resolver el ejercicio. Al final de la sección verás la resolución."
      ],
      "metadata": {
        "id": "mkqHlulqTRGA"
      },
      "execution_count": null,
      "outputs": []
    },
    {
      "cell_type": "markdown",
      "source": [
        "**Ejercicio 4.8:**\n",
        "\n",
        "Calcula el seno y el coseno de un ángulo dado en radianes utilizando las funciones sin y cos del módulo math. Imprime los resultados."
      ],
      "metadata": {
        "id": "KO0Z7Gg0Qk0h"
      }
    },
    {
      "cell_type": "code",
      "source": [
        "#Aquí podés resolver el ejercicio. Al final de la sección verás la resolución."
      ],
      "metadata": {
        "id": "3URMc2b9TRt5"
      },
      "execution_count": null,
      "outputs": []
    },
    {
      "cell_type": "markdown",
      "source": [
        "**Ejercicio 4.9:**\n",
        "\n",
        "Redondea el número 4.7 hacia arriba utilizando la función ceil del módulo math y redondea el número 4.3 hacia abajo utilizando la función floor del módulo math. Imprime los resultados."
      ],
      "metadata": {
        "id": "gumn7NJERHf2"
      }
    },
    {
      "cell_type": "code",
      "source": [
        "#Aquí podés resolver el ejercicio. Al final de la sección verás la resolución."
      ],
      "metadata": {
        "id": "gx-lYa8mRZtV"
      },
      "execution_count": null,
      "outputs": []
    },
    {
      "cell_type": "markdown",
      "source": [
        "**Ejercicio 4.10:**  \n",
        "\n",
        "Obtén el valor de pi utilizando la constante pi del módulo math y el valor de la constante de Euler (e) utilizando la constante e del módulo math. Imprime los resultados."
      ],
      "metadata": {
        "id": "V8lrvAaFRqnF"
      }
    },
    {
      "cell_type": "code",
      "source": [
        "#Aquí podés resolver el ejercicio. Al final de la sección verás la resolución."
      ],
      "metadata": {
        "id": "KGcrxTjkRuL9"
      },
      "execution_count": null,
      "outputs": []
    },
    {
      "cell_type": "markdown",
      "source": [
        "# **✅Resueltos clase 4**"
      ],
      "metadata": {
        "id": "dGcH60s4HbRl"
      }
    },
    {
      "cell_type": "markdown",
      "source": [
        "**Ejercicio 4.1:**\n",
        "\n",
        "Crea una función llamada division que reciba dos números y realice la división del primero entre el segundo. Llama a la función sin ningún manejo de excepciones y provoca una división por cero para ver el error."
      ],
      "metadata": {
        "id": "Fh1EZWMtOL5m"
      }
    },
    {
      "cell_type": "code",
      "source": [
        "def division(a, b):\n",
        "    resultado = a / b\n",
        "    return resultado\n",
        "\n",
        "# Llamada a la función sin manejo de excepciones\n",
        "resultado = division(10, 0)\n",
        "print(resultado)"
      ],
      "metadata": {
        "colab": {
          "base_uri": "https://localhost:8080/",
          "height": 315
        },
        "id": "9cduQvavOO7P",
        "outputId": "ca02326d-9f8d-4e25-ec11-fca1597a41cd"
      },
      "execution_count": null,
      "outputs": [
        {
          "output_type": "error",
          "ename": "ZeroDivisionError",
          "evalue": "division by zero",
          "traceback": [
            "\u001b[0;31m---------------------------------------------------------------------------\u001b[0m",
            "\u001b[0;31mZeroDivisionError\u001b[0m                         Traceback (most recent call last)",
            "\u001b[0;32m<ipython-input-18-c2257e5d338e>\u001b[0m in \u001b[0;36m<cell line: 6>\u001b[0;34m()\u001b[0m\n\u001b[1;32m      4\u001b[0m \u001b[0;34m\u001b[0m\u001b[0m\n\u001b[1;32m      5\u001b[0m \u001b[0;31m# Llamada a la función sin manejo de excepciones\u001b[0m\u001b[0;34m\u001b[0m\u001b[0;34m\u001b[0m\u001b[0m\n\u001b[0;32m----> 6\u001b[0;31m \u001b[0mresultado\u001b[0m \u001b[0;34m=\u001b[0m \u001b[0mdivision\u001b[0m\u001b[0;34m(\u001b[0m\u001b[0;36m10\u001b[0m\u001b[0;34m,\u001b[0m \u001b[0;36m0\u001b[0m\u001b[0;34m)\u001b[0m\u001b[0;34m\u001b[0m\u001b[0;34m\u001b[0m\u001b[0m\n\u001b[0m\u001b[1;32m      7\u001b[0m \u001b[0mprint\u001b[0m\u001b[0;34m(\u001b[0m\u001b[0mresultado\u001b[0m\u001b[0;34m)\u001b[0m\u001b[0;34m\u001b[0m\u001b[0;34m\u001b[0m\u001b[0m\n",
            "\u001b[0;32m<ipython-input-18-c2257e5d338e>\u001b[0m in \u001b[0;36mdivision\u001b[0;34m(a, b)\u001b[0m\n\u001b[1;32m      1\u001b[0m \u001b[0;32mdef\u001b[0m \u001b[0mdivision\u001b[0m\u001b[0;34m(\u001b[0m\u001b[0ma\u001b[0m\u001b[0;34m,\u001b[0m \u001b[0mb\u001b[0m\u001b[0;34m)\u001b[0m\u001b[0;34m:\u001b[0m\u001b[0;34m\u001b[0m\u001b[0;34m\u001b[0m\u001b[0m\n\u001b[0;32m----> 2\u001b[0;31m     \u001b[0mresultado\u001b[0m \u001b[0;34m=\u001b[0m \u001b[0ma\u001b[0m \u001b[0;34m/\u001b[0m \u001b[0mb\u001b[0m\u001b[0;34m\u001b[0m\u001b[0;34m\u001b[0m\u001b[0m\n\u001b[0m\u001b[1;32m      3\u001b[0m     \u001b[0;32mreturn\u001b[0m \u001b[0mresultado\u001b[0m\u001b[0;34m\u001b[0m\u001b[0;34m\u001b[0m\u001b[0m\n\u001b[1;32m      4\u001b[0m \u001b[0;34m\u001b[0m\u001b[0m\n\u001b[1;32m      5\u001b[0m \u001b[0;31m# Llamada a la función sin manejo de excepciones\u001b[0m\u001b[0;34m\u001b[0m\u001b[0;34m\u001b[0m\u001b[0m\n",
            "\u001b[0;31mZeroDivisionError\u001b[0m: division by zero"
          ]
        }
      ]
    },
    {
      "cell_type": "markdown",
      "source": [
        "**Ejercicio 4.2:**\n",
        "\n",
        "\n",
        "Modifica la función `division` para que el divisor sea una cadena en lugar de un número. Captura el tipo de error que se produce al intentar dividir por una cadena y muestra un mensaje de error adecuado."
      ],
      "metadata": {
        "id": "MDU15clPOk0w"
      }
    },
    {
      "cell_type": "code",
      "source": [
        "def division(a, b):\n",
        "    try:\n",
        "        resultado = a / b\n",
        "        return resultado\n",
        "    except TypeError:\n",
        "        print(\"Error: No se puede dividir por una cadena.\")\n",
        "\n",
        "# Llamada a la función con divisor como cadena\n",
        "resultado = division(10, \"cadena\")"
      ],
      "metadata": {
        "colab": {
          "base_uri": "https://localhost:8080/"
        },
        "id": "fLoHvt8COoO-",
        "outputId": "9ebd72bf-5750-4947-f320-c6313a44d760"
      },
      "execution_count": null,
      "outputs": [
        {
          "output_type": "stream",
          "name": "stdout",
          "text": [
            "Error: No se puede dividir por una cadena.\n"
          ]
        }
      ]
    },
    {
      "cell_type": "markdown",
      "source": [
        "**Ejercicio 4.3:**\n",
        "\n",
        "Crea una función `convertir_a_entero` para capturar el error que se produce al intentar convertir una cadena que no representa un número entero a entero. Muestra un mensaje de error específico."
      ],
      "metadata": {
        "id": "kzhNDxlqO9_c"
      }
    },
    {
      "cell_type": "code",
      "source": [
        "def convertir_a_entero(cadena):\n",
        "    try:\n",
        "        numero = int(cadena)\n",
        "        return numero\n",
        "    except ValueError:\n",
        "        print(\"Error: La cadena no representa un número entero.\")\n",
        "\n",
        "# Llamada a la función con cadena no numérica\n",
        "numero = convertir_a_entero(\"hola\")"
      ],
      "metadata": {
        "colab": {
          "base_uri": "https://localhost:8080/"
        },
        "id": "RVVL718kPAgk",
        "outputId": "b1ea767d-d3d0-460e-dd42-31eb23ac8d9e"
      },
      "execution_count": null,
      "outputs": [
        {
          "output_type": "stream",
          "name": "stdout",
          "text": [
            "Error: La cadena no representa un número entero.\n"
          ]
        }
      ]
    },
    {
      "cell_type": "markdown",
      "source": [
        "**Ejercicio 4.4:**\n",
        "\n",
        "Crea una lista llamada `colores` con algunos colores. Intenta acceder a un índice que está fuera del rango de la lista y captura el error que se produce. Muestra un mensaje de error apropiado."
      ],
      "metadata": {
        "id": "1Cw2wSTYPby2"
      }
    },
    {
      "cell_type": "code",
      "source": [
        "colores = [\"rojo\", \"azul\", \"verde\"]\n",
        "\n",
        "try:\n",
        "    color = colores[5]\n",
        "except IndexError:\n",
        "    print(\"Error: Índice fuera de rango.\")"
      ],
      "metadata": {
        "colab": {
          "base_uri": "https://localhost:8080/"
        },
        "id": "fQQFJ1ZyPeSu",
        "outputId": "f691474d-a99a-4cad-c2d4-8d415027b71f"
      },
      "execution_count": null,
      "outputs": [
        {
          "output_type": "stream",
          "name": "stdout",
          "text": [
            "Error: Índice fuera de rango.\n"
          ]
        }
      ]
    },
    {
      "cell_type": "markdown",
      "source": [
        "**Ejercicio 4.5:**\n",
        "\n",
        "Intenta imprimir el valor de una variable que no ha sido definida previamente y captura el error que se produce. Muestra un mensaje de error apropiado."
      ],
      "metadata": {
        "id": "v0tGux9vPwLn"
      }
    },
    {
      "cell_type": "code",
      "source": [
        "try:\n",
        "    print(variable_inexistente)\n",
        "except NameError:\n",
        "    print(\"Error: Variable no definida.\")"
      ],
      "metadata": {
        "colab": {
          "base_uri": "https://localhost:8080/"
        },
        "id": "qgAnBTpXP0bA",
        "outputId": "80f3daae-046c-42e9-e738-34c26cf7d25b"
      },
      "execution_count": null,
      "outputs": [
        {
          "output_type": "stream",
          "name": "stdout",
          "text": [
            "Error: Variable no definida.\n"
          ]
        }
      ]
    },
    {
      "cell_type": "markdown",
      "source": [
        "**Ejercicio 4.6:**\n",
        "\n",
        "Genera dos números aleatorios enteros entre 1 y 10 utilizando los métodos randint y random del módulo random. Imprime ambos números."
      ],
      "metadata": {
        "id": "LsVYMjtQQLgW"
      }
    },
    {
      "cell_type": "code",
      "source": [
        "import random\n",
        "\n",
        "numero_aleatorio1 = random.randint(1, 10)\n",
        "numero_aleatorio2 = random.randint(1, 10)\n",
        "print(f\"Número aleatorio generado con randint: {numero_aleatorio1}\")\n",
        "print(f\"Número aleatorio generado con random: {numero_aleatorio2}\")"
      ],
      "metadata": {
        "colab": {
          "base_uri": "https://localhost:8080/"
        },
        "id": "kW9M789KQN4P",
        "outputId": "5cf6001d-35d0-48fe-8a10-c0b8e0916920"
      },
      "execution_count": null,
      "outputs": [
        {
          "output_type": "stream",
          "name": "stdout",
          "text": [
            "Número aleatorio generado con randint: 8\n",
            "Número aleatorio generado con random: 1\n"
          ]
        }
      ]
    },
    {
      "cell_type": "markdown",
      "source": [
        "**Ejercicio 4.7:**\n",
        "\n",
        "Genera una distribución discreta de números aleatorios con valores entre 1 y 10, y con una probabilidad de ocurrencia para cada número. Imprime la distribución generada."
      ],
      "metadata": {
        "id": "tTTWg0rYQoP2"
      }
    },
    {
      "cell_type": "code",
      "source": [
        "import random\n",
        "\n",
        "distribucion = random.choices(range(1, 11), k=10, weights=[0.1, 0.2, 0.15, 0.05, 0.1, 0.1, 0.1, 0.1, 0.05, 0.05])\n",
        "print(\"Distribución discreta generada:\")\n",
        "print(distribucion)"
      ],
      "metadata": {
        "colab": {
          "base_uri": "https://localhost:8080/"
        },
        "id": "4w4Z1QgNQsJv",
        "outputId": "d23f6d92-c0e0-4e6e-c192-c6338bc96ef5"
      },
      "execution_count": null,
      "outputs": [
        {
          "output_type": "stream",
          "name": "stdout",
          "text": [
            "Distribución discreta generada:\n",
            "[2, 2, 3, 9, 3, 3, 1, 1, 3, 2]\n"
          ]
        }
      ]
    },
    {
      "cell_type": "markdown",
      "source": [
        "**Ejercicio 4.8:**\n",
        "\n",
        "Calcula el seno y el coseno de un ángulo dado en radianes utilizando las funciones sin y cos del módulo math. Imprime los resultados."
      ],
      "metadata": {
        "id": "W7FnGiM6Q6e9"
      }
    },
    {
      "cell_type": "code",
      "source": [
        "import math\n",
        "\n",
        "angulo_radianes = math.pi / 4\n",
        "seno_angulo = math.sin(angulo_radianes)\n",
        "coseno_angulo = math.cos(angulo_radianes)\n",
        "print(f\"Seno del ángulo: {seno_angulo}\")\n",
        "print(f\"Coseno del ángulo: {coseno_angulo}\")"
      ],
      "metadata": {
        "colab": {
          "base_uri": "https://localhost:8080/"
        },
        "id": "i_QSrbTDQ9BU",
        "outputId": "718c0c42-e70b-4ebb-b317-b8a4023e2db6"
      },
      "execution_count": null,
      "outputs": [
        {
          "output_type": "stream",
          "name": "stdout",
          "text": [
            "Seno del ángulo: 0.7071067811865475\n",
            "Coseno del ángulo: 0.7071067811865476\n"
          ]
        }
      ]
    },
    {
      "cell_type": "markdown",
      "source": [
        "**Ejercicio 4.9:**\n",
        "\n",
        "Redondea el número 4.7 hacia arriba utilizando la función ceil del módulo math y redondea el número 4.3 hacia abajo utilizando la función floor del módulo math. Imprime los resultados."
      ],
      "metadata": {
        "id": "S47zpuoJRRkk"
      }
    },
    {
      "cell_type": "code",
      "source": [
        "import math\n",
        "\n",
        "numero_redondeo_arriba = math.ceil(4.7)\n",
        "numero_redondeo_abajo = math.floor(4.3)\n",
        "print(f\"Redondeo hacia arriba: {numero_redondeo_arriba}\")\n",
        "print(f\"Redondeo hacia abajo: {numero_redondeo_abajo}\")"
      ],
      "metadata": {
        "colab": {
          "base_uri": "https://localhost:8080/"
        },
        "id": "phbMpIvARVbV",
        "outputId": "dfab11cd-6edc-4a6f-ea37-d73bcf597d26"
      },
      "execution_count": null,
      "outputs": [
        {
          "output_type": "stream",
          "name": "stdout",
          "text": [
            "Redondeo hacia arriba: 5\n",
            "Redondeo hacia abajo: 4\n"
          ]
        }
      ]
    },
    {
      "cell_type": "markdown",
      "source": [
        "**Ejercicio 4.10:**  \n",
        "\n",
        "Obtén el valor de pi utilizando la constante pi del módulo math y el valor de la constante de Euler (e) utilizando la constante e del módulo math. Imprime los resultados."
      ],
      "metadata": {
        "id": "fHJjEmDPRegr"
      }
    },
    {
      "cell_type": "code",
      "source": [
        "import math\n",
        "\n",
        "valor_pi = math.pi\n",
        "valor_euler = math.e\n",
        "print(f\"Valor de pi: {valor_pi}\")\n",
        "print(f\"Valor de la constante de Euler (e): {valor_euler}\")"
      ],
      "metadata": {
        "colab": {
          "base_uri": "https://localhost:8080/"
        },
        "id": "ODL5o6oIRmgu",
        "outputId": "1cc3d507-74cd-4f93-aa18-f28d893a1c20"
      },
      "execution_count": null,
      "outputs": [
        {
          "output_type": "stream",
          "name": "stdout",
          "text": [
            "Valor de pi: 3.141592653589793\n",
            "Valor de la constante de Euler (e): 2.718281828459045\n"
          ]
        }
      ]
    },
    {
      "cell_type": "markdown",
      "source": [
        "# **💥Ejercicios clase 5**"
      ],
      "metadata": {
        "id": "v4PlMIBnG5y1"
      }
    },
    {
      "cell_type": "markdown",
      "source": [
        "**Ejercicio 5.1:**\n",
        "\n",
        "Cargar y convertir en un dataframe el archivo dataVENTAS AUTOS.csv"
      ],
      "metadata": {
        "id": "2oTL1JycHJY1"
      }
    },
    {
      "cell_type": "code",
      "source": [
        "#Aquí podés resolver el ejercicio. Al final de la sección verás la resolución."
      ],
      "metadata": {
        "id": "WDZz4MghHzek"
      },
      "execution_count": null,
      "outputs": []
    },
    {
      "cell_type": "markdown",
      "source": [
        "**Ejercicio 5.2:**\n",
        "\n",
        "Visualizamos las dimensiones (filas-columnas) de nuestro df\n",
        "\n",
        "Visualizamos las primeras 10 líneas del dataframe\n",
        "\n",
        "Visualizamos los nombres de las columnas de nuestro df.\n",
        "\n",
        "Visualizamos las últimas 10 líneas del dataframe"
      ],
      "metadata": {
        "id": "7Qnkt6VKHkvM"
      }
    },
    {
      "cell_type": "code",
      "source": [
        "#Aquí podés resolver el ejercicio. Al final de la sección verás la resolución."
      ],
      "metadata": {
        "id": "4tE3n4OfH0Y9"
      },
      "execution_count": null,
      "outputs": []
    },
    {
      "cell_type": "markdown",
      "source": [
        "**Ejercicio 5.3:**\n",
        "\n",
        "Realizar las siguientes acciones:\n",
        "\n",
        "Seleccionar la columna **Company**\n",
        "\n",
        "Quitar los duplicados\n",
        "\n",
        "\n",
        "\n"
      ],
      "metadata": {
        "id": "Uuf275T3Iwem"
      }
    },
    {
      "cell_type": "code",
      "source": [
        "#Aquí podés resolver el ejercicio. Al final de la sección verás la resolución."
      ],
      "metadata": {
        "id": "Ea70tRrJJp9T"
      },
      "execution_count": null,
      "outputs": []
    },
    {
      "cell_type": "markdown",
      "source": [
        "**Ejercicio 5.4:**\n",
        "\n",
        "Realizar las siguientes acciones:\n",
        "\n",
        "Filtrar el df solo en los casos en que la compañía sea Ford, creando un nuevo dataframe llamado Ford_datos\n",
        "\n",
        "Añadir una columna a este dataframe que concatene el color y el modelo, con un espacio entre ambos\n",
        "\n"
      ],
      "metadata": {
        "id": "jH9v0mRzJwLr"
      }
    },
    {
      "cell_type": "code",
      "source": [
        "#Aquí podés resolver el ejercicio. Al final de la sección verás la resolución."
      ],
      "metadata": {
        "id": "k_TTVkK5KqP7"
      },
      "execution_count": null,
      "outputs": []
    },
    {
      "cell_type": "markdown",
      "source": [
        "**Ejercicio 5.6:**\n",
        "\n",
        "Realiza las siguientes acciones.\n",
        "\n",
        "Agrupa el df original por la companía y verifica cuantas ventas hubo para cada compañía, asignando esto a un nuevo df\n"
      ],
      "metadata": {
        "id": "vdwbl5O-MPGZ"
      }
    },
    {
      "cell_type": "code",
      "source": [
        "#Aquí podés resolver el ejercicio. Al final de la sección verás la resolución"
      ],
      "metadata": {
        "id": "BDSsNnYzMiTs"
      },
      "execution_count": null,
      "outputs": []
    },
    {
      "cell_type": "markdown",
      "source": [
        "**Ejercicio 5.7:**\n",
        "\n",
        "Realiza las siguientes acciones.\n",
        "\n",
        "Verifica la existencia de nulos y elimina los registros, asegurate que los cambios se hayan aplicado consultando nuevamente los nulos\n"
      ],
      "metadata": {
        "id": "rQrW4PdPNHcQ"
      }
    },
    {
      "cell_type": "code",
      "source": [
        "#Aquí podés resolver el ejercicio. Al final de la sección verás la resolución"
      ],
      "metadata": {
        "id": "9RnKHAdeNSQ2"
      },
      "execution_count": null,
      "outputs": []
    },
    {
      "cell_type": "markdown",
      "source": [
        "**Ejercicio 5.8:**\n",
        "\n",
        "Realiza un agrupamiento de los datos por Body Style y la Suma de Annual Income.\n",
        "Asigna esto a un nuevo df llamado grouped_data\n",
        "\n",
        "Utiliza en nuevo df para realizar un gráfico de barras para visualizar la suma del ingreso anual por estilo de carrocería."
      ],
      "metadata": {
        "id": "Md7kvuemO8Ip"
      }
    },
    {
      "cell_type": "code",
      "source": [
        "#Aquí podés resolver el ejercicio. Al final de la sección verás la resolución"
      ],
      "metadata": {
        "id": "F7lTXd0WO-Mq"
      },
      "execution_count": null,
      "outputs": []
    },
    {
      "cell_type": "markdown",
      "source": [
        "# **✅Resueltos clase 5**"
      ],
      "metadata": {
        "id": "gwNcpk0IHd7V"
      }
    },
    {
      "cell_type": "markdown",
      "source": [
        "**Ejercicio 5.1:**\n",
        "\n",
        "Cargar y convertir en un dataframe el archivo dataVENTAS AUTOS.csv"
      ],
      "metadata": {
        "id": "qehcaboHHdzU"
      }
    },
    {
      "cell_type": "code",
      "source": [
        "from google.colab import drive\n",
        "drive.mount('/content/drive', force_remount=True)"
      ],
      "metadata": {
        "colab": {
          "base_uri": "https://localhost:8080/"
        },
        "id": "5t36W7cG_t79",
        "outputId": "a0caa647-cd93-46ce-f0ba-2e25cd6af2e8"
      },
      "execution_count": null,
      "outputs": [
        {
          "output_type": "stream",
          "name": "stdout",
          "text": [
            "Mounted at /content/drive\n"
          ]
        }
      ]
    },
    {
      "cell_type": "code",
      "source": [
        "import pandas as pd"
      ],
      "metadata": {
        "id": "q7Ob94-wFXTo"
      },
      "execution_count": null,
      "outputs": []
    },
    {
      "cell_type": "code",
      "source": [
        "df = pd.read_csv('/dataVENTAS AUTOS.csv')\n",
        "df"
      ],
      "metadata": {
        "colab": {
          "base_uri": "https://localhost:8080/",
          "height": 860
        },
        "id": "8fJYmXUd_4oI",
        "outputId": "2e84b492-74ac-403e-c693-6ba06ba46ee8"
      },
      "execution_count": null,
      "outputs": [
        {
          "output_type": "execute_result",
          "data": {
            "text/plain": [
              "                      Date        Car_id Body Style  Suma de Annual Income  \\\n",
              "0      2022-01-02 00:00:00  C_CND_000001        SUV                  13500   \n",
              "1      2022-01-02 00:00:00  C_CND_000002        SUV                1480000   \n",
              "2      2022-01-02 00:00:00  C_CND_000003  Passenger                1035000   \n",
              "3      2022-01-02 00:00:00  C_CND_000004        SUV                  13500   \n",
              "4      2022-01-02 00:00:00  C_CND_000005  Hatchback                1465000   \n",
              "...                    ...           ...        ...                    ...   \n",
              "23901  2023-12-31 00:00:00  C_CND_023902  Passenger                  13500   \n",
              "23902  2023-12-31 00:00:00  C_CND_023903    Hardtop                 900000   \n",
              "23903  2023-12-31 00:00:00  C_CND_023904      Sedan                 705000   \n",
              "23904  2023-12-31 00:00:00  C_CND_023905  Passenger                  13500   \n",
              "23905  2023-12-31 00:00:00  C_CND_023906    Hardtop                1225000   \n",
              "\n",
              "            Color    Company Customer Name  \\\n",
              "0           Black       Ford     Geraldine   \n",
              "1           Black      Dodge           Gia   \n",
              "2             Red   Cadillac        Gianna   \n",
              "3      Pale White     Toyota       Giselle   \n",
              "4             Red      Acura         Grace   \n",
              "...           ...        ...           ...   \n",
              "23901         Red   Plymouth        Martin   \n",
              "23902       Black  Chevrolet         Jimmy   \n",
              "23903         Red        BMW          Emma   \n",
              "23904       Black  Chevrolet      Victoire   \n",
              "23905  Pale White      Lexus       Donovan   \n",
              "\n",
              "                               Dealer_Name  Dealer_No  Dealer_Region  \\\n",
              "0      Buddy Storbeck's Diesel Service Inc  06457-3834    Middletown   \n",
              "1                         C & M Motors Inc  60504-7114        Aurora   \n",
              "2                              Capitol KIA  38701-8047    Greenville   \n",
              "3                   Chrysler of Tri-Cities  99301-3882         Pasco   \n",
              "4                        Chrysler Plymouth  53546-9427    Janesville   \n",
              "...                                    ...         ...           ...   \n",
              "23901                     C & M Motors Inc  60504-7114         Pasco   \n",
              "23902       Ryder Truck Rental and Leasing  06457-3834    Middletown   \n",
              "23903               Chrysler of Tri-Cities  99301-3882    Scottsdale   \n",
              "23904                    Chrysler Plymouth  53546-9427        Austin   \n",
              "23905                      Pars Auto Sales  38701-8047    Middletown   \n",
              "\n",
              "                          Engine  Gender       Model  Suma de Phone  \\\n",
              "0      DoubleÂ Overhead Camshaft    Male  Expedition        8264678   \n",
              "1      DoubleÂ Overhead Camshaft    Male     Durango        6848189   \n",
              "2              Overhead Camshaft    Male    Eldorado        7298798   \n",
              "3              Overhead Camshaft    Male      Celica        6257557   \n",
              "4      DoubleÂ Overhead Camshaft    Male          TL        7081483   \n",
              "...                          ...     ...         ...            ...   \n",
              "23901          Overhead Camshaft    Male     Voyager        8583598   \n",
              "23902  DoubleÂ Overhead Camshaft  Female       Prizm        7914229   \n",
              "23903          Overhead Camshaft    Male        328i        7659127   \n",
              "23904  DoubleÂ Overhead Camshaft    Male       Metro        6030764   \n",
              "23905  DoubleÂ Overhead Camshaft    Male       ES300        7020564   \n",
              "\n",
              "       Suma de Price ($) Transmission Transmission.1 Transmission.2  \n",
              "0                  26000         Auto           Auto           Auto  \n",
              "1                  19000         Auto           Auto           Auto  \n",
              "2                  31500       Manual         Manual         Manual  \n",
              "3                  14000       Manual         Manual         Manual  \n",
              "4                  24500         Auto           Auto           Auto  \n",
              "...                  ...          ...            ...            ...  \n",
              "23901              12000       Manual         Manual         Manual  \n",
              "23902              16000         Auto           Auto           Auto  \n",
              "23903              21000       Manual         Manual         Manual  \n",
              "23904              31000         Auto           Auto           Auto  \n",
              "23905              27500         Auto           Auto           Auto  \n",
              "\n",
              "[23906 rows x 18 columns]"
            ],
            "text/html": [
              "\n",
              "  <div id=\"df-790163f8-2939-4499-be98-c2d072017314\" class=\"colab-df-container\">\n",
              "    <div>\n",
              "<style scoped>\n",
              "    .dataframe tbody tr th:only-of-type {\n",
              "        vertical-align: middle;\n",
              "    }\n",
              "\n",
              "    .dataframe tbody tr th {\n",
              "        vertical-align: top;\n",
              "    }\n",
              "\n",
              "    .dataframe thead th {\n",
              "        text-align: right;\n",
              "    }\n",
              "</style>\n",
              "<table border=\"1\" class=\"dataframe\">\n",
              "  <thead>\n",
              "    <tr style=\"text-align: right;\">\n",
              "      <th></th>\n",
              "      <th>Date</th>\n",
              "      <th>Car_id</th>\n",
              "      <th>Body Style</th>\n",
              "      <th>Suma de Annual Income</th>\n",
              "      <th>Color</th>\n",
              "      <th>Company</th>\n",
              "      <th>Customer Name</th>\n",
              "      <th>Dealer_Name</th>\n",
              "      <th>Dealer_No</th>\n",
              "      <th>Dealer_Region</th>\n",
              "      <th>Engine</th>\n",
              "      <th>Gender</th>\n",
              "      <th>Model</th>\n",
              "      <th>Suma de Phone</th>\n",
              "      <th>Suma de Price ($)</th>\n",
              "      <th>Transmission</th>\n",
              "      <th>Transmission.1</th>\n",
              "      <th>Transmission.2</th>\n",
              "    </tr>\n",
              "  </thead>\n",
              "  <tbody>\n",
              "    <tr>\n",
              "      <th>0</th>\n",
              "      <td>2022-01-02 00:00:00</td>\n",
              "      <td>C_CND_000001</td>\n",
              "      <td>SUV</td>\n",
              "      <td>13500</td>\n",
              "      <td>Black</td>\n",
              "      <td>Ford</td>\n",
              "      <td>Geraldine</td>\n",
              "      <td>Buddy Storbeck's Diesel Service Inc</td>\n",
              "      <td>06457-3834</td>\n",
              "      <td>Middletown</td>\n",
              "      <td>DoubleÂ Overhead Camshaft</td>\n",
              "      <td>Male</td>\n",
              "      <td>Expedition</td>\n",
              "      <td>8264678</td>\n",
              "      <td>26000</td>\n",
              "      <td>Auto</td>\n",
              "      <td>Auto</td>\n",
              "      <td>Auto</td>\n",
              "    </tr>\n",
              "    <tr>\n",
              "      <th>1</th>\n",
              "      <td>2022-01-02 00:00:00</td>\n",
              "      <td>C_CND_000002</td>\n",
              "      <td>SUV</td>\n",
              "      <td>1480000</td>\n",
              "      <td>Black</td>\n",
              "      <td>Dodge</td>\n",
              "      <td>Gia</td>\n",
              "      <td>C &amp; M Motors Inc</td>\n",
              "      <td>60504-7114</td>\n",
              "      <td>Aurora</td>\n",
              "      <td>DoubleÂ Overhead Camshaft</td>\n",
              "      <td>Male</td>\n",
              "      <td>Durango</td>\n",
              "      <td>6848189</td>\n",
              "      <td>19000</td>\n",
              "      <td>Auto</td>\n",
              "      <td>Auto</td>\n",
              "      <td>Auto</td>\n",
              "    </tr>\n",
              "    <tr>\n",
              "      <th>2</th>\n",
              "      <td>2022-01-02 00:00:00</td>\n",
              "      <td>C_CND_000003</td>\n",
              "      <td>Passenger</td>\n",
              "      <td>1035000</td>\n",
              "      <td>Red</td>\n",
              "      <td>Cadillac</td>\n",
              "      <td>Gianna</td>\n",
              "      <td>Capitol KIA</td>\n",
              "      <td>38701-8047</td>\n",
              "      <td>Greenville</td>\n",
              "      <td>Overhead Camshaft</td>\n",
              "      <td>Male</td>\n",
              "      <td>Eldorado</td>\n",
              "      <td>7298798</td>\n",
              "      <td>31500</td>\n",
              "      <td>Manual</td>\n",
              "      <td>Manual</td>\n",
              "      <td>Manual</td>\n",
              "    </tr>\n",
              "    <tr>\n",
              "      <th>3</th>\n",
              "      <td>2022-01-02 00:00:00</td>\n",
              "      <td>C_CND_000004</td>\n",
              "      <td>SUV</td>\n",
              "      <td>13500</td>\n",
              "      <td>Pale White</td>\n",
              "      <td>Toyota</td>\n",
              "      <td>Giselle</td>\n",
              "      <td>Chrysler of Tri-Cities</td>\n",
              "      <td>99301-3882</td>\n",
              "      <td>Pasco</td>\n",
              "      <td>Overhead Camshaft</td>\n",
              "      <td>Male</td>\n",
              "      <td>Celica</td>\n",
              "      <td>6257557</td>\n",
              "      <td>14000</td>\n",
              "      <td>Manual</td>\n",
              "      <td>Manual</td>\n",
              "      <td>Manual</td>\n",
              "    </tr>\n",
              "    <tr>\n",
              "      <th>4</th>\n",
              "      <td>2022-01-02 00:00:00</td>\n",
              "      <td>C_CND_000005</td>\n",
              "      <td>Hatchback</td>\n",
              "      <td>1465000</td>\n",
              "      <td>Red</td>\n",
              "      <td>Acura</td>\n",
              "      <td>Grace</td>\n",
              "      <td>Chrysler Plymouth</td>\n",
              "      <td>53546-9427</td>\n",
              "      <td>Janesville</td>\n",
              "      <td>DoubleÂ Overhead Camshaft</td>\n",
              "      <td>Male</td>\n",
              "      <td>TL</td>\n",
              "      <td>7081483</td>\n",
              "      <td>24500</td>\n",
              "      <td>Auto</td>\n",
              "      <td>Auto</td>\n",
              "      <td>Auto</td>\n",
              "    </tr>\n",
              "    <tr>\n",
              "      <th>...</th>\n",
              "      <td>...</td>\n",
              "      <td>...</td>\n",
              "      <td>...</td>\n",
              "      <td>...</td>\n",
              "      <td>...</td>\n",
              "      <td>...</td>\n",
              "      <td>...</td>\n",
              "      <td>...</td>\n",
              "      <td>...</td>\n",
              "      <td>...</td>\n",
              "      <td>...</td>\n",
              "      <td>...</td>\n",
              "      <td>...</td>\n",
              "      <td>...</td>\n",
              "      <td>...</td>\n",
              "      <td>...</td>\n",
              "      <td>...</td>\n",
              "      <td>...</td>\n",
              "    </tr>\n",
              "    <tr>\n",
              "      <th>23901</th>\n",
              "      <td>2023-12-31 00:00:00</td>\n",
              "      <td>C_CND_023902</td>\n",
              "      <td>Passenger</td>\n",
              "      <td>13500</td>\n",
              "      <td>Red</td>\n",
              "      <td>Plymouth</td>\n",
              "      <td>Martin</td>\n",
              "      <td>C &amp; M Motors Inc</td>\n",
              "      <td>60504-7114</td>\n",
              "      <td>Pasco</td>\n",
              "      <td>Overhead Camshaft</td>\n",
              "      <td>Male</td>\n",
              "      <td>Voyager</td>\n",
              "      <td>8583598</td>\n",
              "      <td>12000</td>\n",
              "      <td>Manual</td>\n",
              "      <td>Manual</td>\n",
              "      <td>Manual</td>\n",
              "    </tr>\n",
              "    <tr>\n",
              "      <th>23902</th>\n",
              "      <td>2023-12-31 00:00:00</td>\n",
              "      <td>C_CND_023903</td>\n",
              "      <td>Hardtop</td>\n",
              "      <td>900000</td>\n",
              "      <td>Black</td>\n",
              "      <td>Chevrolet</td>\n",
              "      <td>Jimmy</td>\n",
              "      <td>Ryder Truck Rental and Leasing</td>\n",
              "      <td>06457-3834</td>\n",
              "      <td>Middletown</td>\n",
              "      <td>DoubleÂ Overhead Camshaft</td>\n",
              "      <td>Female</td>\n",
              "      <td>Prizm</td>\n",
              "      <td>7914229</td>\n",
              "      <td>16000</td>\n",
              "      <td>Auto</td>\n",
              "      <td>Auto</td>\n",
              "      <td>Auto</td>\n",
              "    </tr>\n",
              "    <tr>\n",
              "      <th>23903</th>\n",
              "      <td>2023-12-31 00:00:00</td>\n",
              "      <td>C_CND_023904</td>\n",
              "      <td>Sedan</td>\n",
              "      <td>705000</td>\n",
              "      <td>Red</td>\n",
              "      <td>BMW</td>\n",
              "      <td>Emma</td>\n",
              "      <td>Chrysler of Tri-Cities</td>\n",
              "      <td>99301-3882</td>\n",
              "      <td>Scottsdale</td>\n",
              "      <td>Overhead Camshaft</td>\n",
              "      <td>Male</td>\n",
              "      <td>328i</td>\n",
              "      <td>7659127</td>\n",
              "      <td>21000</td>\n",
              "      <td>Manual</td>\n",
              "      <td>Manual</td>\n",
              "      <td>Manual</td>\n",
              "    </tr>\n",
              "    <tr>\n",
              "      <th>23904</th>\n",
              "      <td>2023-12-31 00:00:00</td>\n",
              "      <td>C_CND_023905</td>\n",
              "      <td>Passenger</td>\n",
              "      <td>13500</td>\n",
              "      <td>Black</td>\n",
              "      <td>Chevrolet</td>\n",
              "      <td>Victoire</td>\n",
              "      <td>Chrysler Plymouth</td>\n",
              "      <td>53546-9427</td>\n",
              "      <td>Austin</td>\n",
              "      <td>DoubleÂ Overhead Camshaft</td>\n",
              "      <td>Male</td>\n",
              "      <td>Metro</td>\n",
              "      <td>6030764</td>\n",
              "      <td>31000</td>\n",
              "      <td>Auto</td>\n",
              "      <td>Auto</td>\n",
              "      <td>Auto</td>\n",
              "    </tr>\n",
              "    <tr>\n",
              "      <th>23905</th>\n",
              "      <td>2023-12-31 00:00:00</td>\n",
              "      <td>C_CND_023906</td>\n",
              "      <td>Hardtop</td>\n",
              "      <td>1225000</td>\n",
              "      <td>Pale White</td>\n",
              "      <td>Lexus</td>\n",
              "      <td>Donovan</td>\n",
              "      <td>Pars Auto Sales</td>\n",
              "      <td>38701-8047</td>\n",
              "      <td>Middletown</td>\n",
              "      <td>DoubleÂ Overhead Camshaft</td>\n",
              "      <td>Male</td>\n",
              "      <td>ES300</td>\n",
              "      <td>7020564</td>\n",
              "      <td>27500</td>\n",
              "      <td>Auto</td>\n",
              "      <td>Auto</td>\n",
              "      <td>Auto</td>\n",
              "    </tr>\n",
              "  </tbody>\n",
              "</table>\n",
              "<p>23906 rows × 18 columns</p>\n",
              "</div>\n",
              "    <div class=\"colab-df-buttons\">\n",
              "\n",
              "  <div class=\"colab-df-container\">\n",
              "    <button class=\"colab-df-convert\" onclick=\"convertToInteractive('df-790163f8-2939-4499-be98-c2d072017314')\"\n",
              "            title=\"Convert this dataframe to an interactive table.\"\n",
              "            style=\"display:none;\">\n",
              "\n",
              "  <svg xmlns=\"http://www.w3.org/2000/svg\" height=\"24px\" viewBox=\"0 -960 960 960\">\n",
              "    <path d=\"M120-120v-720h720v720H120Zm60-500h600v-160H180v160Zm220 220h160v-160H400v160Zm0 220h160v-160H400v160ZM180-400h160v-160H180v160Zm440 0h160v-160H620v160ZM180-180h160v-160H180v160Zm440 0h160v-160H620v160Z\"/>\n",
              "  </svg>\n",
              "    </button>\n",
              "\n",
              "  <style>\n",
              "    .colab-df-container {\n",
              "      display:flex;\n",
              "      gap: 12px;\n",
              "    }\n",
              "\n",
              "    .colab-df-convert {\n",
              "      background-color: #E8F0FE;\n",
              "      border: none;\n",
              "      border-radius: 50%;\n",
              "      cursor: pointer;\n",
              "      display: none;\n",
              "      fill: #1967D2;\n",
              "      height: 32px;\n",
              "      padding: 0 0 0 0;\n",
              "      width: 32px;\n",
              "    }\n",
              "\n",
              "    .colab-df-convert:hover {\n",
              "      background-color: #E2EBFA;\n",
              "      box-shadow: 0px 1px 2px rgba(60, 64, 67, 0.3), 0px 1px 3px 1px rgba(60, 64, 67, 0.15);\n",
              "      fill: #174EA6;\n",
              "    }\n",
              "\n",
              "    .colab-df-buttons div {\n",
              "      margin-bottom: 4px;\n",
              "    }\n",
              "\n",
              "    [theme=dark] .colab-df-convert {\n",
              "      background-color: #3B4455;\n",
              "      fill: #D2E3FC;\n",
              "    }\n",
              "\n",
              "    [theme=dark] .colab-df-convert:hover {\n",
              "      background-color: #434B5C;\n",
              "      box-shadow: 0px 1px 3px 1px rgba(0, 0, 0, 0.15);\n",
              "      filter: drop-shadow(0px 1px 2px rgba(0, 0, 0, 0.3));\n",
              "      fill: #FFFFFF;\n",
              "    }\n",
              "  </style>\n",
              "\n",
              "    <script>\n",
              "      const buttonEl =\n",
              "        document.querySelector('#df-790163f8-2939-4499-be98-c2d072017314 button.colab-df-convert');\n",
              "      buttonEl.style.display =\n",
              "        google.colab.kernel.accessAllowed ? 'block' : 'none';\n",
              "\n",
              "      async function convertToInteractive(key) {\n",
              "        const element = document.querySelector('#df-790163f8-2939-4499-be98-c2d072017314');\n",
              "        const dataTable =\n",
              "          await google.colab.kernel.invokeFunction('convertToInteractive',\n",
              "                                                    [key], {});\n",
              "        if (!dataTable) return;\n",
              "\n",
              "        const docLinkHtml = 'Like what you see? Visit the ' +\n",
              "          '<a target=\"_blank\" href=https://colab.research.google.com/notebooks/data_table.ipynb>data table notebook</a>'\n",
              "          + ' to learn more about interactive tables.';\n",
              "        element.innerHTML = '';\n",
              "        dataTable['output_type'] = 'display_data';\n",
              "        await google.colab.output.renderOutput(dataTable, element);\n",
              "        const docLink = document.createElement('div');\n",
              "        docLink.innerHTML = docLinkHtml;\n",
              "        element.appendChild(docLink);\n",
              "      }\n",
              "    </script>\n",
              "  </div>\n",
              "\n",
              "\n",
              "<div id=\"df-0f044a9d-334e-4a9e-b223-57a795b45448\">\n",
              "  <button class=\"colab-df-quickchart\" onclick=\"quickchart('df-0f044a9d-334e-4a9e-b223-57a795b45448')\"\n",
              "            title=\"Suggest charts\"\n",
              "            style=\"display:none;\">\n",
              "\n",
              "<svg xmlns=\"http://www.w3.org/2000/svg\" height=\"24px\"viewBox=\"0 0 24 24\"\n",
              "     width=\"24px\">\n",
              "    <g>\n",
              "        <path d=\"M19 3H5c-1.1 0-2 .9-2 2v14c0 1.1.9 2 2 2h14c1.1 0 2-.9 2-2V5c0-1.1-.9-2-2-2zM9 17H7v-7h2v7zm4 0h-2V7h2v10zm4 0h-2v-4h2v4z\"/>\n",
              "    </g>\n",
              "</svg>\n",
              "  </button>\n",
              "\n",
              "<style>\n",
              "  .colab-df-quickchart {\n",
              "      --bg-color: #E8F0FE;\n",
              "      --fill-color: #1967D2;\n",
              "      --hover-bg-color: #E2EBFA;\n",
              "      --hover-fill-color: #174EA6;\n",
              "      --disabled-fill-color: #AAA;\n",
              "      --disabled-bg-color: #DDD;\n",
              "  }\n",
              "\n",
              "  [theme=dark] .colab-df-quickchart {\n",
              "      --bg-color: #3B4455;\n",
              "      --fill-color: #D2E3FC;\n",
              "      --hover-bg-color: #434B5C;\n",
              "      --hover-fill-color: #FFFFFF;\n",
              "      --disabled-bg-color: #3B4455;\n",
              "      --disabled-fill-color: #666;\n",
              "  }\n",
              "\n",
              "  .colab-df-quickchart {\n",
              "    background-color: var(--bg-color);\n",
              "    border: none;\n",
              "    border-radius: 50%;\n",
              "    cursor: pointer;\n",
              "    display: none;\n",
              "    fill: var(--fill-color);\n",
              "    height: 32px;\n",
              "    padding: 0;\n",
              "    width: 32px;\n",
              "  }\n",
              "\n",
              "  .colab-df-quickchart:hover {\n",
              "    background-color: var(--hover-bg-color);\n",
              "    box-shadow: 0 1px 2px rgba(60, 64, 67, 0.3), 0 1px 3px 1px rgba(60, 64, 67, 0.15);\n",
              "    fill: var(--button-hover-fill-color);\n",
              "  }\n",
              "\n",
              "  .colab-df-quickchart-complete:disabled,\n",
              "  .colab-df-quickchart-complete:disabled:hover {\n",
              "    background-color: var(--disabled-bg-color);\n",
              "    fill: var(--disabled-fill-color);\n",
              "    box-shadow: none;\n",
              "  }\n",
              "\n",
              "  .colab-df-spinner {\n",
              "    border: 2px solid var(--fill-color);\n",
              "    border-color: transparent;\n",
              "    border-bottom-color: var(--fill-color);\n",
              "    animation:\n",
              "      spin 1s steps(1) infinite;\n",
              "  }\n",
              "\n",
              "  @keyframes spin {\n",
              "    0% {\n",
              "      border-color: transparent;\n",
              "      border-bottom-color: var(--fill-color);\n",
              "      border-left-color: var(--fill-color);\n",
              "    }\n",
              "    20% {\n",
              "      border-color: transparent;\n",
              "      border-left-color: var(--fill-color);\n",
              "      border-top-color: var(--fill-color);\n",
              "    }\n",
              "    30% {\n",
              "      border-color: transparent;\n",
              "      border-left-color: var(--fill-color);\n",
              "      border-top-color: var(--fill-color);\n",
              "      border-right-color: var(--fill-color);\n",
              "    }\n",
              "    40% {\n",
              "      border-color: transparent;\n",
              "      border-right-color: var(--fill-color);\n",
              "      border-top-color: var(--fill-color);\n",
              "    }\n",
              "    60% {\n",
              "      border-color: transparent;\n",
              "      border-right-color: var(--fill-color);\n",
              "    }\n",
              "    80% {\n",
              "      border-color: transparent;\n",
              "      border-right-color: var(--fill-color);\n",
              "      border-bottom-color: var(--fill-color);\n",
              "    }\n",
              "    90% {\n",
              "      border-color: transparent;\n",
              "      border-bottom-color: var(--fill-color);\n",
              "    }\n",
              "  }\n",
              "</style>\n",
              "\n",
              "  <script>\n",
              "    async function quickchart(key) {\n",
              "      const quickchartButtonEl =\n",
              "        document.querySelector('#' + key + ' button');\n",
              "      quickchartButtonEl.disabled = true;  // To prevent multiple clicks.\n",
              "      quickchartButtonEl.classList.add('colab-df-spinner');\n",
              "      try {\n",
              "        const charts = await google.colab.kernel.invokeFunction(\n",
              "            'suggestCharts', [key], {});\n",
              "      } catch (error) {\n",
              "        console.error('Error during call to suggestCharts:', error);\n",
              "      }\n",
              "      quickchartButtonEl.classList.remove('colab-df-spinner');\n",
              "      quickchartButtonEl.classList.add('colab-df-quickchart-complete');\n",
              "    }\n",
              "    (() => {\n",
              "      let quickchartButtonEl =\n",
              "        document.querySelector('#df-0f044a9d-334e-4a9e-b223-57a795b45448 button');\n",
              "      quickchartButtonEl.style.display =\n",
              "        google.colab.kernel.accessAllowed ? 'block' : 'none';\n",
              "    })();\n",
              "  </script>\n",
              "</div>\n",
              "    </div>\n",
              "  </div>\n"
            ],
            "application/vnd.google.colaboratory.intrinsic+json": {
              "type": "dataframe",
              "variable_name": "df",
              "summary": "{\n  \"name\": \"df\",\n  \"rows\": 23906,\n  \"fields\": [\n    {\n      \"column\": \"Date\",\n      \"properties\": {\n        \"dtype\": \"object\",\n        \"num_unique_values\": 612,\n        \"samples\": [\n          \"2022-04-25 00:00:00\",\n          \"2022-10-15 00:00:00\",\n          \"2022-03-24 00:00:00\"\n        ],\n        \"semantic_type\": \"\",\n        \"description\": \"\"\n      }\n    },\n    {\n      \"column\": \"Car_id\",\n      \"properties\": {\n        \"dtype\": \"string\",\n        \"num_unique_values\": 23906,\n        \"samples\": [\n          \"C_CND_003394\",\n          \"C_CND_000517\",\n          \"C_CND_000537\"\n        ],\n        \"semantic_type\": \"\",\n        \"description\": \"\"\n      }\n    },\n    {\n      \"column\": \"Body Style\",\n      \"properties\": {\n        \"dtype\": \"category\",\n        \"num_unique_values\": 5,\n        \"samples\": [\n          \"Passenger\",\n          \"Sedan\",\n          \"Hatchback\"\n        ],\n        \"semantic_type\": \"\",\n        \"description\": \"\"\n      }\n    },\n    {\n      \"column\": \"Suma de Annual Income\",\n      \"properties\": {\n        \"dtype\": \"number\",\n        \"std\": 720006,\n        \"min\": 10080,\n        \"max\": 11200000,\n        \"num_unique_values\": 2508,\n        \"samples\": [\n          5355000,\n          542000,\n          1092000\n        ],\n        \"semantic_type\": \"\",\n        \"description\": \"\"\n      }\n    },\n    {\n      \"column\": \"Color\",\n      \"properties\": {\n        \"dtype\": \"category\",\n        \"num_unique_values\": 3,\n        \"samples\": [\n          \"Black\",\n          \"Red\",\n          \"Pale White\"\n        ],\n        \"semantic_type\": \"\",\n        \"description\": \"\"\n      }\n    },\n    {\n      \"column\": \"Company\",\n      \"properties\": {\n        \"dtype\": \"category\",\n        \"num_unique_values\": 30,\n        \"samples\": [\n          \"Plymouth\",\n          \"Audi\",\n          \"Pontiac\"\n        ],\n        \"semantic_type\": \"\",\n        \"description\": \"\"\n      }\n    },\n    {\n      \"column\": \"Customer Name\",\n      \"properties\": {\n        \"dtype\": \"category\",\n        \"num_unique_values\": 3021,\n        \"samples\": [\n          \"Albertine\",\n          \"Orlane\",\n          \"Kelly\"\n        ],\n        \"semantic_type\": \"\",\n        \"description\": \"\"\n      }\n    },\n    {\n      \"column\": \"Dealer_Name\",\n      \"properties\": {\n        \"dtype\": \"category\",\n        \"num_unique_values\": 28,\n        \"samples\": [\n          \"Race Car Help\",\n          \"New Castle Ford Lincoln Mercury\",\n          \"Rabun Used Car Sales\"\n        ],\n        \"semantic_type\": \"\",\n        \"description\": \"\"\n      }\n    },\n    {\n      \"column\": \"Dealer_No \",\n      \"properties\": {\n        \"dtype\": \"category\",\n        \"num_unique_values\": 7,\n        \"samples\": [\n          \"06457-3834\",\n          \"60504-7114\",\n          \"85257-3102\"\n        ],\n        \"semantic_type\": \"\",\n        \"description\": \"\"\n      }\n    },\n    {\n      \"column\": \"Dealer_Region\",\n      \"properties\": {\n        \"dtype\": \"category\",\n        \"num_unique_values\": 7,\n        \"samples\": [\n          \"Middletown\",\n          \"Aurora\",\n          \"Scottsdale\"\n        ],\n        \"semantic_type\": \"\",\n        \"description\": \"\"\n      }\n    },\n    {\n      \"column\": \"Engine\",\n      \"properties\": {\n        \"dtype\": \"category\",\n        \"num_unique_values\": 2,\n        \"samples\": [\n          \"Overhead Camshaft\",\n          \"Double\\u00c2\\u00a0Overhead Camshaft\"\n        ],\n        \"semantic_type\": \"\",\n        \"description\": \"\"\n      }\n    },\n    {\n      \"column\": \"Gender\",\n      \"properties\": {\n        \"dtype\": \"category\",\n        \"num_unique_values\": 2,\n        \"samples\": [\n          \"Female\",\n          \"Male\"\n        ],\n        \"semantic_type\": \"\",\n        \"description\": \"\"\n      }\n    },\n    {\n      \"column\": \"Model\",\n      \"properties\": {\n        \"dtype\": \"category\",\n        \"num_unique_values\": 154,\n        \"samples\": [\n          \"Forester\",\n          \"Breeze\"\n        ],\n        \"semantic_type\": \"\",\n        \"description\": \"\"\n      }\n    },\n    {\n      \"column\": \"Suma de Phone\",\n      \"properties\": {\n        \"dtype\": \"number\",\n        \"std\": 867491,\n        \"min\": 6000101,\n        \"max\": 8999579,\n        \"num_unique_values\": 23804,\n        \"samples\": [\n          8955220,\n          8396717\n        ],\n        \"semantic_type\": \"\",\n        \"description\": \"\"\n      }\n    },\n    {\n      \"column\": \"Suma de Price ($)\",\n      \"properties\": {\n        \"dtype\": \"number\",\n        \"std\": 14788,\n        \"min\": 1200,\n        \"max\": 85800,\n        \"num_unique_values\": 870,\n        \"samples\": [\n          13100,\n          44000\n        ],\n        \"semantic_type\": \"\",\n        \"description\": \"\"\n      }\n    },\n    {\n      \"column\": \"Transmission\",\n      \"properties\": {\n        \"dtype\": \"category\",\n        \"num_unique_values\": 2,\n        \"samples\": [\n          \"Manual\",\n          \"Auto\"\n        ],\n        \"semantic_type\": \"\",\n        \"description\": \"\"\n      }\n    },\n    {\n      \"column\": \"Transmission.1\",\n      \"properties\": {\n        \"dtype\": \"category\",\n        \"num_unique_values\": 2,\n        \"samples\": [\n          \"Manual\",\n          \"Auto\"\n        ],\n        \"semantic_type\": \"\",\n        \"description\": \"\"\n      }\n    },\n    {\n      \"column\": \"Transmission.2\",\n      \"properties\": {\n        \"dtype\": \"category\",\n        \"num_unique_values\": 2,\n        \"samples\": [\n          \"Manual\",\n          \"Auto\"\n        ],\n        \"semantic_type\": \"\",\n        \"description\": \"\"\n      }\n    }\n  ]\n}"
            }
          },
          "metadata": {},
          "execution_count": 21
        }
      ]
    },
    {
      "cell_type": "markdown",
      "source": [
        "**Ejercicio 5.2:**\n",
        "\n",
        "Visualizamos las dimensiones (filas-columnas) de nuestro df\n",
        "\n",
        "Visualizamos las primeras 10 líneas del dataframe\n",
        "\n",
        "Visualizamos los nombres de las columnas de nuestro df.\n",
        "\n",
        "Visualizamos las últimas 10 líneas del dataframe"
      ],
      "metadata": {
        "id": "zVdv_IObH_ai"
      }
    },
    {
      "cell_type": "code",
      "source": [
        "df.shape"
      ],
      "metadata": {
        "colab": {
          "base_uri": "https://localhost:8080/"
        },
        "id": "e824UQCiIDKa",
        "outputId": "b4a6f35f-ca38-4577-9528-b89d5b0bf9bc"
      },
      "execution_count": null,
      "outputs": [
        {
          "output_type": "execute_result",
          "data": {
            "text/plain": [
              "(23906, 18)"
            ]
          },
          "metadata": {},
          "execution_count": 22
        }
      ]
    },
    {
      "cell_type": "code",
      "source": [
        "df.head()"
      ],
      "metadata": {
        "colab": {
          "base_uri": "https://localhost:8080/",
          "height": 469
        },
        "id": "QwQLHWDnIWkM",
        "outputId": "5832edb5-acb0-4d48-9040-fdeb066e718d"
      },
      "execution_count": null,
      "outputs": [
        {
          "output_type": "execute_result",
          "data": {
            "text/plain": [
              "                  Date        Car_id Body Style  Suma de Annual Income  \\\n",
              "0  2022-01-02 00:00:00  C_CND_000001        SUV                  13500   \n",
              "1  2022-01-02 00:00:00  C_CND_000002        SUV                1480000   \n",
              "2  2022-01-02 00:00:00  C_CND_000003  Passenger                1035000   \n",
              "3  2022-01-02 00:00:00  C_CND_000004        SUV                  13500   \n",
              "4  2022-01-02 00:00:00  C_CND_000005  Hatchback                1465000   \n",
              "\n",
              "        Color   Company Customer Name                          Dealer_Name  \\\n",
              "0       Black      Ford     Geraldine  Buddy Storbeck's Diesel Service Inc   \n",
              "1       Black     Dodge           Gia                     C & M Motors Inc   \n",
              "2         Red  Cadillac        Gianna                          Capitol KIA   \n",
              "3  Pale White    Toyota       Giselle               Chrysler of Tri-Cities   \n",
              "4         Red     Acura         Grace                    Chrysler Plymouth   \n",
              "\n",
              "   Dealer_No  Dealer_Region                     Engine Gender       Model  \\\n",
              "0  06457-3834    Middletown  DoubleÂ Overhead Camshaft   Male  Expedition   \n",
              "1  60504-7114        Aurora  DoubleÂ Overhead Camshaft   Male     Durango   \n",
              "2  38701-8047    Greenville          Overhead Camshaft   Male    Eldorado   \n",
              "3  99301-3882         Pasco          Overhead Camshaft   Male      Celica   \n",
              "4  53546-9427    Janesville  DoubleÂ Overhead Camshaft   Male          TL   \n",
              "\n",
              "   Suma de Phone  Suma de Price ($) Transmission Transmission.1 Transmission.2  \n",
              "0        8264678              26000         Auto           Auto           Auto  \n",
              "1        6848189              19000         Auto           Auto           Auto  \n",
              "2        7298798              31500       Manual         Manual         Manual  \n",
              "3        6257557              14000       Manual         Manual         Manual  \n",
              "4        7081483              24500         Auto           Auto           Auto  "
            ],
            "text/html": [
              "\n",
              "  <div id=\"df-cd531f6a-c114-4ed8-b8a3-5fccc735fb38\" class=\"colab-df-container\">\n",
              "    <div>\n",
              "<style scoped>\n",
              "    .dataframe tbody tr th:only-of-type {\n",
              "        vertical-align: middle;\n",
              "    }\n",
              "\n",
              "    .dataframe tbody tr th {\n",
              "        vertical-align: top;\n",
              "    }\n",
              "\n",
              "    .dataframe thead th {\n",
              "        text-align: right;\n",
              "    }\n",
              "</style>\n",
              "<table border=\"1\" class=\"dataframe\">\n",
              "  <thead>\n",
              "    <tr style=\"text-align: right;\">\n",
              "      <th></th>\n",
              "      <th>Date</th>\n",
              "      <th>Car_id</th>\n",
              "      <th>Body Style</th>\n",
              "      <th>Suma de Annual Income</th>\n",
              "      <th>Color</th>\n",
              "      <th>Company</th>\n",
              "      <th>Customer Name</th>\n",
              "      <th>Dealer_Name</th>\n",
              "      <th>Dealer_No</th>\n",
              "      <th>Dealer_Region</th>\n",
              "      <th>Engine</th>\n",
              "      <th>Gender</th>\n",
              "      <th>Model</th>\n",
              "      <th>Suma de Phone</th>\n",
              "      <th>Suma de Price ($)</th>\n",
              "      <th>Transmission</th>\n",
              "      <th>Transmission.1</th>\n",
              "      <th>Transmission.2</th>\n",
              "    </tr>\n",
              "  </thead>\n",
              "  <tbody>\n",
              "    <tr>\n",
              "      <th>0</th>\n",
              "      <td>2022-01-02 00:00:00</td>\n",
              "      <td>C_CND_000001</td>\n",
              "      <td>SUV</td>\n",
              "      <td>13500</td>\n",
              "      <td>Black</td>\n",
              "      <td>Ford</td>\n",
              "      <td>Geraldine</td>\n",
              "      <td>Buddy Storbeck's Diesel Service Inc</td>\n",
              "      <td>06457-3834</td>\n",
              "      <td>Middletown</td>\n",
              "      <td>DoubleÂ Overhead Camshaft</td>\n",
              "      <td>Male</td>\n",
              "      <td>Expedition</td>\n",
              "      <td>8264678</td>\n",
              "      <td>26000</td>\n",
              "      <td>Auto</td>\n",
              "      <td>Auto</td>\n",
              "      <td>Auto</td>\n",
              "    </tr>\n",
              "    <tr>\n",
              "      <th>1</th>\n",
              "      <td>2022-01-02 00:00:00</td>\n",
              "      <td>C_CND_000002</td>\n",
              "      <td>SUV</td>\n",
              "      <td>1480000</td>\n",
              "      <td>Black</td>\n",
              "      <td>Dodge</td>\n",
              "      <td>Gia</td>\n",
              "      <td>C &amp; M Motors Inc</td>\n",
              "      <td>60504-7114</td>\n",
              "      <td>Aurora</td>\n",
              "      <td>DoubleÂ Overhead Camshaft</td>\n",
              "      <td>Male</td>\n",
              "      <td>Durango</td>\n",
              "      <td>6848189</td>\n",
              "      <td>19000</td>\n",
              "      <td>Auto</td>\n",
              "      <td>Auto</td>\n",
              "      <td>Auto</td>\n",
              "    </tr>\n",
              "    <tr>\n",
              "      <th>2</th>\n",
              "      <td>2022-01-02 00:00:00</td>\n",
              "      <td>C_CND_000003</td>\n",
              "      <td>Passenger</td>\n",
              "      <td>1035000</td>\n",
              "      <td>Red</td>\n",
              "      <td>Cadillac</td>\n",
              "      <td>Gianna</td>\n",
              "      <td>Capitol KIA</td>\n",
              "      <td>38701-8047</td>\n",
              "      <td>Greenville</td>\n",
              "      <td>Overhead Camshaft</td>\n",
              "      <td>Male</td>\n",
              "      <td>Eldorado</td>\n",
              "      <td>7298798</td>\n",
              "      <td>31500</td>\n",
              "      <td>Manual</td>\n",
              "      <td>Manual</td>\n",
              "      <td>Manual</td>\n",
              "    </tr>\n",
              "    <tr>\n",
              "      <th>3</th>\n",
              "      <td>2022-01-02 00:00:00</td>\n",
              "      <td>C_CND_000004</td>\n",
              "      <td>SUV</td>\n",
              "      <td>13500</td>\n",
              "      <td>Pale White</td>\n",
              "      <td>Toyota</td>\n",
              "      <td>Giselle</td>\n",
              "      <td>Chrysler of Tri-Cities</td>\n",
              "      <td>99301-3882</td>\n",
              "      <td>Pasco</td>\n",
              "      <td>Overhead Camshaft</td>\n",
              "      <td>Male</td>\n",
              "      <td>Celica</td>\n",
              "      <td>6257557</td>\n",
              "      <td>14000</td>\n",
              "      <td>Manual</td>\n",
              "      <td>Manual</td>\n",
              "      <td>Manual</td>\n",
              "    </tr>\n",
              "    <tr>\n",
              "      <th>4</th>\n",
              "      <td>2022-01-02 00:00:00</td>\n",
              "      <td>C_CND_000005</td>\n",
              "      <td>Hatchback</td>\n",
              "      <td>1465000</td>\n",
              "      <td>Red</td>\n",
              "      <td>Acura</td>\n",
              "      <td>Grace</td>\n",
              "      <td>Chrysler Plymouth</td>\n",
              "      <td>53546-9427</td>\n",
              "      <td>Janesville</td>\n",
              "      <td>DoubleÂ Overhead Camshaft</td>\n",
              "      <td>Male</td>\n",
              "      <td>TL</td>\n",
              "      <td>7081483</td>\n",
              "      <td>24500</td>\n",
              "      <td>Auto</td>\n",
              "      <td>Auto</td>\n",
              "      <td>Auto</td>\n",
              "    </tr>\n",
              "  </tbody>\n",
              "</table>\n",
              "</div>\n",
              "    <div class=\"colab-df-buttons\">\n",
              "\n",
              "  <div class=\"colab-df-container\">\n",
              "    <button class=\"colab-df-convert\" onclick=\"convertToInteractive('df-cd531f6a-c114-4ed8-b8a3-5fccc735fb38')\"\n",
              "            title=\"Convert this dataframe to an interactive table.\"\n",
              "            style=\"display:none;\">\n",
              "\n",
              "  <svg xmlns=\"http://www.w3.org/2000/svg\" height=\"24px\" viewBox=\"0 -960 960 960\">\n",
              "    <path d=\"M120-120v-720h720v720H120Zm60-500h600v-160H180v160Zm220 220h160v-160H400v160Zm0 220h160v-160H400v160ZM180-400h160v-160H180v160Zm440 0h160v-160H620v160ZM180-180h160v-160H180v160Zm440 0h160v-160H620v160Z\"/>\n",
              "  </svg>\n",
              "    </button>\n",
              "\n",
              "  <style>\n",
              "    .colab-df-container {\n",
              "      display:flex;\n",
              "      gap: 12px;\n",
              "    }\n",
              "\n",
              "    .colab-df-convert {\n",
              "      background-color: #E8F0FE;\n",
              "      border: none;\n",
              "      border-radius: 50%;\n",
              "      cursor: pointer;\n",
              "      display: none;\n",
              "      fill: #1967D2;\n",
              "      height: 32px;\n",
              "      padding: 0 0 0 0;\n",
              "      width: 32px;\n",
              "    }\n",
              "\n",
              "    .colab-df-convert:hover {\n",
              "      background-color: #E2EBFA;\n",
              "      box-shadow: 0px 1px 2px rgba(60, 64, 67, 0.3), 0px 1px 3px 1px rgba(60, 64, 67, 0.15);\n",
              "      fill: #174EA6;\n",
              "    }\n",
              "\n",
              "    .colab-df-buttons div {\n",
              "      margin-bottom: 4px;\n",
              "    }\n",
              "\n",
              "    [theme=dark] .colab-df-convert {\n",
              "      background-color: #3B4455;\n",
              "      fill: #D2E3FC;\n",
              "    }\n",
              "\n",
              "    [theme=dark] .colab-df-convert:hover {\n",
              "      background-color: #434B5C;\n",
              "      box-shadow: 0px 1px 3px 1px rgba(0, 0, 0, 0.15);\n",
              "      filter: drop-shadow(0px 1px 2px rgba(0, 0, 0, 0.3));\n",
              "      fill: #FFFFFF;\n",
              "    }\n",
              "  </style>\n",
              "\n",
              "    <script>\n",
              "      const buttonEl =\n",
              "        document.querySelector('#df-cd531f6a-c114-4ed8-b8a3-5fccc735fb38 button.colab-df-convert');\n",
              "      buttonEl.style.display =\n",
              "        google.colab.kernel.accessAllowed ? 'block' : 'none';\n",
              "\n",
              "      async function convertToInteractive(key) {\n",
              "        const element = document.querySelector('#df-cd531f6a-c114-4ed8-b8a3-5fccc735fb38');\n",
              "        const dataTable =\n",
              "          await google.colab.kernel.invokeFunction('convertToInteractive',\n",
              "                                                    [key], {});\n",
              "        if (!dataTable) return;\n",
              "\n",
              "        const docLinkHtml = 'Like what you see? Visit the ' +\n",
              "          '<a target=\"_blank\" href=https://colab.research.google.com/notebooks/data_table.ipynb>data table notebook</a>'\n",
              "          + ' to learn more about interactive tables.';\n",
              "        element.innerHTML = '';\n",
              "        dataTable['output_type'] = 'display_data';\n",
              "        await google.colab.output.renderOutput(dataTable, element);\n",
              "        const docLink = document.createElement('div');\n",
              "        docLink.innerHTML = docLinkHtml;\n",
              "        element.appendChild(docLink);\n",
              "      }\n",
              "    </script>\n",
              "  </div>\n",
              "\n",
              "\n",
              "<div id=\"df-e900dced-9e53-4cf3-bdc9-c7caddc0331e\">\n",
              "  <button class=\"colab-df-quickchart\" onclick=\"quickchart('df-e900dced-9e53-4cf3-bdc9-c7caddc0331e')\"\n",
              "            title=\"Suggest charts\"\n",
              "            style=\"display:none;\">\n",
              "\n",
              "<svg xmlns=\"http://www.w3.org/2000/svg\" height=\"24px\"viewBox=\"0 0 24 24\"\n",
              "     width=\"24px\">\n",
              "    <g>\n",
              "        <path d=\"M19 3H5c-1.1 0-2 .9-2 2v14c0 1.1.9 2 2 2h14c1.1 0 2-.9 2-2V5c0-1.1-.9-2-2-2zM9 17H7v-7h2v7zm4 0h-2V7h2v10zm4 0h-2v-4h2v4z\"/>\n",
              "    </g>\n",
              "</svg>\n",
              "  </button>\n",
              "\n",
              "<style>\n",
              "  .colab-df-quickchart {\n",
              "      --bg-color: #E8F0FE;\n",
              "      --fill-color: #1967D2;\n",
              "      --hover-bg-color: #E2EBFA;\n",
              "      --hover-fill-color: #174EA6;\n",
              "      --disabled-fill-color: #AAA;\n",
              "      --disabled-bg-color: #DDD;\n",
              "  }\n",
              "\n",
              "  [theme=dark] .colab-df-quickchart {\n",
              "      --bg-color: #3B4455;\n",
              "      --fill-color: #D2E3FC;\n",
              "      --hover-bg-color: #434B5C;\n",
              "      --hover-fill-color: #FFFFFF;\n",
              "      --disabled-bg-color: #3B4455;\n",
              "      --disabled-fill-color: #666;\n",
              "  }\n",
              "\n",
              "  .colab-df-quickchart {\n",
              "    background-color: var(--bg-color);\n",
              "    border: none;\n",
              "    border-radius: 50%;\n",
              "    cursor: pointer;\n",
              "    display: none;\n",
              "    fill: var(--fill-color);\n",
              "    height: 32px;\n",
              "    padding: 0;\n",
              "    width: 32px;\n",
              "  }\n",
              "\n",
              "  .colab-df-quickchart:hover {\n",
              "    background-color: var(--hover-bg-color);\n",
              "    box-shadow: 0 1px 2px rgba(60, 64, 67, 0.3), 0 1px 3px 1px rgba(60, 64, 67, 0.15);\n",
              "    fill: var(--button-hover-fill-color);\n",
              "  }\n",
              "\n",
              "  .colab-df-quickchart-complete:disabled,\n",
              "  .colab-df-quickchart-complete:disabled:hover {\n",
              "    background-color: var(--disabled-bg-color);\n",
              "    fill: var(--disabled-fill-color);\n",
              "    box-shadow: none;\n",
              "  }\n",
              "\n",
              "  .colab-df-spinner {\n",
              "    border: 2px solid var(--fill-color);\n",
              "    border-color: transparent;\n",
              "    border-bottom-color: var(--fill-color);\n",
              "    animation:\n",
              "      spin 1s steps(1) infinite;\n",
              "  }\n",
              "\n",
              "  @keyframes spin {\n",
              "    0% {\n",
              "      border-color: transparent;\n",
              "      border-bottom-color: var(--fill-color);\n",
              "      border-left-color: var(--fill-color);\n",
              "    }\n",
              "    20% {\n",
              "      border-color: transparent;\n",
              "      border-left-color: var(--fill-color);\n",
              "      border-top-color: var(--fill-color);\n",
              "    }\n",
              "    30% {\n",
              "      border-color: transparent;\n",
              "      border-left-color: var(--fill-color);\n",
              "      border-top-color: var(--fill-color);\n",
              "      border-right-color: var(--fill-color);\n",
              "    }\n",
              "    40% {\n",
              "      border-color: transparent;\n",
              "      border-right-color: var(--fill-color);\n",
              "      border-top-color: var(--fill-color);\n",
              "    }\n",
              "    60% {\n",
              "      border-color: transparent;\n",
              "      border-right-color: var(--fill-color);\n",
              "    }\n",
              "    80% {\n",
              "      border-color: transparent;\n",
              "      border-right-color: var(--fill-color);\n",
              "      border-bottom-color: var(--fill-color);\n",
              "    }\n",
              "    90% {\n",
              "      border-color: transparent;\n",
              "      border-bottom-color: var(--fill-color);\n",
              "    }\n",
              "  }\n",
              "</style>\n",
              "\n",
              "  <script>\n",
              "    async function quickchart(key) {\n",
              "      const quickchartButtonEl =\n",
              "        document.querySelector('#' + key + ' button');\n",
              "      quickchartButtonEl.disabled = true;  // To prevent multiple clicks.\n",
              "      quickchartButtonEl.classList.add('colab-df-spinner');\n",
              "      try {\n",
              "        const charts = await google.colab.kernel.invokeFunction(\n",
              "            'suggestCharts', [key], {});\n",
              "      } catch (error) {\n",
              "        console.error('Error during call to suggestCharts:', error);\n",
              "      }\n",
              "      quickchartButtonEl.classList.remove('colab-df-spinner');\n",
              "      quickchartButtonEl.classList.add('colab-df-quickchart-complete');\n",
              "    }\n",
              "    (() => {\n",
              "      let quickchartButtonEl =\n",
              "        document.querySelector('#df-e900dced-9e53-4cf3-bdc9-c7caddc0331e button');\n",
              "      quickchartButtonEl.style.display =\n",
              "        google.colab.kernel.accessAllowed ? 'block' : 'none';\n",
              "    })();\n",
              "  </script>\n",
              "</div>\n",
              "    </div>\n",
              "  </div>\n"
            ],
            "application/vnd.google.colaboratory.intrinsic+json": {
              "type": "dataframe",
              "variable_name": "df",
              "summary": "{\n  \"name\": \"df\",\n  \"rows\": 23906,\n  \"fields\": [\n    {\n      \"column\": \"Date\",\n      \"properties\": {\n        \"dtype\": \"object\",\n        \"num_unique_values\": 612,\n        \"samples\": [\n          \"2022-04-25 00:00:00\",\n          \"2022-10-15 00:00:00\",\n          \"2022-03-24 00:00:00\"\n        ],\n        \"semantic_type\": \"\",\n        \"description\": \"\"\n      }\n    },\n    {\n      \"column\": \"Car_id\",\n      \"properties\": {\n        \"dtype\": \"string\",\n        \"num_unique_values\": 23906,\n        \"samples\": [\n          \"C_CND_003394\",\n          \"C_CND_000517\",\n          \"C_CND_000537\"\n        ],\n        \"semantic_type\": \"\",\n        \"description\": \"\"\n      }\n    },\n    {\n      \"column\": \"Body Style\",\n      \"properties\": {\n        \"dtype\": \"category\",\n        \"num_unique_values\": 5,\n        \"samples\": [\n          \"Passenger\",\n          \"Sedan\",\n          \"Hatchback\"\n        ],\n        \"semantic_type\": \"\",\n        \"description\": \"\"\n      }\n    },\n    {\n      \"column\": \"Suma de Annual Income\",\n      \"properties\": {\n        \"dtype\": \"number\",\n        \"std\": 720006,\n        \"min\": 10080,\n        \"max\": 11200000,\n        \"num_unique_values\": 2508,\n        \"samples\": [\n          5355000,\n          542000,\n          1092000\n        ],\n        \"semantic_type\": \"\",\n        \"description\": \"\"\n      }\n    },\n    {\n      \"column\": \"Color\",\n      \"properties\": {\n        \"dtype\": \"category\",\n        \"num_unique_values\": 3,\n        \"samples\": [\n          \"Black\",\n          \"Red\",\n          \"Pale White\"\n        ],\n        \"semantic_type\": \"\",\n        \"description\": \"\"\n      }\n    },\n    {\n      \"column\": \"Company\",\n      \"properties\": {\n        \"dtype\": \"category\",\n        \"num_unique_values\": 30,\n        \"samples\": [\n          \"Plymouth\",\n          \"Audi\",\n          \"Pontiac\"\n        ],\n        \"semantic_type\": \"\",\n        \"description\": \"\"\n      }\n    },\n    {\n      \"column\": \"Customer Name\",\n      \"properties\": {\n        \"dtype\": \"category\",\n        \"num_unique_values\": 3021,\n        \"samples\": [\n          \"Albertine\",\n          \"Orlane\",\n          \"Kelly\"\n        ],\n        \"semantic_type\": \"\",\n        \"description\": \"\"\n      }\n    },\n    {\n      \"column\": \"Dealer_Name\",\n      \"properties\": {\n        \"dtype\": \"category\",\n        \"num_unique_values\": 28,\n        \"samples\": [\n          \"Race Car Help\",\n          \"New Castle Ford Lincoln Mercury\",\n          \"Rabun Used Car Sales\"\n        ],\n        \"semantic_type\": \"\",\n        \"description\": \"\"\n      }\n    },\n    {\n      \"column\": \"Dealer_No \",\n      \"properties\": {\n        \"dtype\": \"category\",\n        \"num_unique_values\": 7,\n        \"samples\": [\n          \"06457-3834\",\n          \"60504-7114\",\n          \"85257-3102\"\n        ],\n        \"semantic_type\": \"\",\n        \"description\": \"\"\n      }\n    },\n    {\n      \"column\": \"Dealer_Region\",\n      \"properties\": {\n        \"dtype\": \"category\",\n        \"num_unique_values\": 7,\n        \"samples\": [\n          \"Middletown\",\n          \"Aurora\",\n          \"Scottsdale\"\n        ],\n        \"semantic_type\": \"\",\n        \"description\": \"\"\n      }\n    },\n    {\n      \"column\": \"Engine\",\n      \"properties\": {\n        \"dtype\": \"category\",\n        \"num_unique_values\": 2,\n        \"samples\": [\n          \"Overhead Camshaft\",\n          \"Double\\u00c2\\u00a0Overhead Camshaft\"\n        ],\n        \"semantic_type\": \"\",\n        \"description\": \"\"\n      }\n    },\n    {\n      \"column\": \"Gender\",\n      \"properties\": {\n        \"dtype\": \"category\",\n        \"num_unique_values\": 2,\n        \"samples\": [\n          \"Female\",\n          \"Male\"\n        ],\n        \"semantic_type\": \"\",\n        \"description\": \"\"\n      }\n    },\n    {\n      \"column\": \"Model\",\n      \"properties\": {\n        \"dtype\": \"category\",\n        \"num_unique_values\": 154,\n        \"samples\": [\n          \"Forester\",\n          \"Breeze\"\n        ],\n        \"semantic_type\": \"\",\n        \"description\": \"\"\n      }\n    },\n    {\n      \"column\": \"Suma de Phone\",\n      \"properties\": {\n        \"dtype\": \"number\",\n        \"std\": 867491,\n        \"min\": 6000101,\n        \"max\": 8999579,\n        \"num_unique_values\": 23804,\n        \"samples\": [\n          8955220,\n          8396717\n        ],\n        \"semantic_type\": \"\",\n        \"description\": \"\"\n      }\n    },\n    {\n      \"column\": \"Suma de Price ($)\",\n      \"properties\": {\n        \"dtype\": \"number\",\n        \"std\": 14788,\n        \"min\": 1200,\n        \"max\": 85800,\n        \"num_unique_values\": 870,\n        \"samples\": [\n          13100,\n          44000\n        ],\n        \"semantic_type\": \"\",\n        \"description\": \"\"\n      }\n    },\n    {\n      \"column\": \"Transmission\",\n      \"properties\": {\n        \"dtype\": \"category\",\n        \"num_unique_values\": 2,\n        \"samples\": [\n          \"Manual\",\n          \"Auto\"\n        ],\n        \"semantic_type\": \"\",\n        \"description\": \"\"\n      }\n    },\n    {\n      \"column\": \"Transmission.1\",\n      \"properties\": {\n        \"dtype\": \"category\",\n        \"num_unique_values\": 2,\n        \"samples\": [\n          \"Manual\",\n          \"Auto\"\n        ],\n        \"semantic_type\": \"\",\n        \"description\": \"\"\n      }\n    },\n    {\n      \"column\": \"Transmission.2\",\n      \"properties\": {\n        \"dtype\": \"category\",\n        \"num_unique_values\": 2,\n        \"samples\": [\n          \"Manual\",\n          \"Auto\"\n        ],\n        \"semantic_type\": \"\",\n        \"description\": \"\"\n      }\n    }\n  ]\n}"
            }
          },
          "metadata": {},
          "execution_count": 23
        }
      ]
    },
    {
      "cell_type": "code",
      "source": [
        "df.columns\n"
      ],
      "metadata": {
        "colab": {
          "base_uri": "https://localhost:8080/"
        },
        "id": "6wePIvRpIYhT",
        "outputId": "ca463311-1f6f-415c-ca33-59f4c27b007f"
      },
      "execution_count": null,
      "outputs": [
        {
          "output_type": "execute_result",
          "data": {
            "text/plain": [
              "Index(['Date', 'Car_id', 'Body Style', 'Suma de Annual Income', 'Color',\n",
              "       'Company', 'Customer Name', 'Dealer_Name', 'Dealer_No ',\n",
              "       'Dealer_Region', 'Engine', 'Gender', 'Model', 'Suma de Phone',\n",
              "       'Suma de Price ($)', 'Transmission', 'Transmission.1',\n",
              "       'Transmission.2'],\n",
              "      dtype='object')"
            ]
          },
          "metadata": {},
          "execution_count": 25
        }
      ]
    },
    {
      "cell_type": "code",
      "source": [
        "df.tail()"
      ],
      "metadata": {
        "colab": {
          "base_uri": "https://localhost:8080/",
          "height": 452
        },
        "id": "ftWHnujEIpcG",
        "outputId": "aafd4a5f-3d7c-444e-c2bc-891740d4ffea"
      },
      "execution_count": null,
      "outputs": [
        {
          "output_type": "execute_result",
          "data": {
            "text/plain": [
              "                      Date        Car_id Body Style  Suma de Annual Income  \\\n",
              "23901  2023-12-31 00:00:00  C_CND_023902  Passenger                  13500   \n",
              "23902  2023-12-31 00:00:00  C_CND_023903    Hardtop                 900000   \n",
              "23903  2023-12-31 00:00:00  C_CND_023904      Sedan                 705000   \n",
              "23904  2023-12-31 00:00:00  C_CND_023905  Passenger                  13500   \n",
              "23905  2023-12-31 00:00:00  C_CND_023906    Hardtop                1225000   \n",
              "\n",
              "            Color    Company Customer Name                     Dealer_Name  \\\n",
              "23901         Red   Plymouth        Martin                C & M Motors Inc   \n",
              "23902       Black  Chevrolet         Jimmy  Ryder Truck Rental and Leasing   \n",
              "23903         Red        BMW          Emma          Chrysler of Tri-Cities   \n",
              "23904       Black  Chevrolet      Victoire               Chrysler Plymouth   \n",
              "23905  Pale White      Lexus       Donovan                 Pars Auto Sales   \n",
              "\n",
              "       Dealer_No  Dealer_Region                     Engine  Gender    Model  \\\n",
              "23901  60504-7114         Pasco          Overhead Camshaft    Male  Voyager   \n",
              "23902  06457-3834    Middletown  DoubleÂ Overhead Camshaft  Female    Prizm   \n",
              "23903  99301-3882    Scottsdale          Overhead Camshaft    Male     328i   \n",
              "23904  53546-9427        Austin  DoubleÂ Overhead Camshaft    Male    Metro   \n",
              "23905  38701-8047    Middletown  DoubleÂ Overhead Camshaft    Male    ES300   \n",
              "\n",
              "       Suma de Phone  Suma de Price ($) Transmission Transmission.1  \\\n",
              "23901        8583598              12000       Manual         Manual   \n",
              "23902        7914229              16000         Auto           Auto   \n",
              "23903        7659127              21000       Manual         Manual   \n",
              "23904        6030764              31000         Auto           Auto   \n",
              "23905        7020564              27500         Auto           Auto   \n",
              "\n",
              "      Transmission.2  \n",
              "23901         Manual  \n",
              "23902           Auto  \n",
              "23903         Manual  \n",
              "23904           Auto  \n",
              "23905           Auto  "
            ],
            "text/html": [
              "\n",
              "  <div id=\"df-daf3f804-093c-4948-9c08-8e989eba4d6d\" class=\"colab-df-container\">\n",
              "    <div>\n",
              "<style scoped>\n",
              "    .dataframe tbody tr th:only-of-type {\n",
              "        vertical-align: middle;\n",
              "    }\n",
              "\n",
              "    .dataframe tbody tr th {\n",
              "        vertical-align: top;\n",
              "    }\n",
              "\n",
              "    .dataframe thead th {\n",
              "        text-align: right;\n",
              "    }\n",
              "</style>\n",
              "<table border=\"1\" class=\"dataframe\">\n",
              "  <thead>\n",
              "    <tr style=\"text-align: right;\">\n",
              "      <th></th>\n",
              "      <th>Date</th>\n",
              "      <th>Car_id</th>\n",
              "      <th>Body Style</th>\n",
              "      <th>Suma de Annual Income</th>\n",
              "      <th>Color</th>\n",
              "      <th>Company</th>\n",
              "      <th>Customer Name</th>\n",
              "      <th>Dealer_Name</th>\n",
              "      <th>Dealer_No</th>\n",
              "      <th>Dealer_Region</th>\n",
              "      <th>Engine</th>\n",
              "      <th>Gender</th>\n",
              "      <th>Model</th>\n",
              "      <th>Suma de Phone</th>\n",
              "      <th>Suma de Price ($)</th>\n",
              "      <th>Transmission</th>\n",
              "      <th>Transmission.1</th>\n",
              "      <th>Transmission.2</th>\n",
              "    </tr>\n",
              "  </thead>\n",
              "  <tbody>\n",
              "    <tr>\n",
              "      <th>23901</th>\n",
              "      <td>2023-12-31 00:00:00</td>\n",
              "      <td>C_CND_023902</td>\n",
              "      <td>Passenger</td>\n",
              "      <td>13500</td>\n",
              "      <td>Red</td>\n",
              "      <td>Plymouth</td>\n",
              "      <td>Martin</td>\n",
              "      <td>C &amp; M Motors Inc</td>\n",
              "      <td>60504-7114</td>\n",
              "      <td>Pasco</td>\n",
              "      <td>Overhead Camshaft</td>\n",
              "      <td>Male</td>\n",
              "      <td>Voyager</td>\n",
              "      <td>8583598</td>\n",
              "      <td>12000</td>\n",
              "      <td>Manual</td>\n",
              "      <td>Manual</td>\n",
              "      <td>Manual</td>\n",
              "    </tr>\n",
              "    <tr>\n",
              "      <th>23902</th>\n",
              "      <td>2023-12-31 00:00:00</td>\n",
              "      <td>C_CND_023903</td>\n",
              "      <td>Hardtop</td>\n",
              "      <td>900000</td>\n",
              "      <td>Black</td>\n",
              "      <td>Chevrolet</td>\n",
              "      <td>Jimmy</td>\n",
              "      <td>Ryder Truck Rental and Leasing</td>\n",
              "      <td>06457-3834</td>\n",
              "      <td>Middletown</td>\n",
              "      <td>DoubleÂ Overhead Camshaft</td>\n",
              "      <td>Female</td>\n",
              "      <td>Prizm</td>\n",
              "      <td>7914229</td>\n",
              "      <td>16000</td>\n",
              "      <td>Auto</td>\n",
              "      <td>Auto</td>\n",
              "      <td>Auto</td>\n",
              "    </tr>\n",
              "    <tr>\n",
              "      <th>23903</th>\n",
              "      <td>2023-12-31 00:00:00</td>\n",
              "      <td>C_CND_023904</td>\n",
              "      <td>Sedan</td>\n",
              "      <td>705000</td>\n",
              "      <td>Red</td>\n",
              "      <td>BMW</td>\n",
              "      <td>Emma</td>\n",
              "      <td>Chrysler of Tri-Cities</td>\n",
              "      <td>99301-3882</td>\n",
              "      <td>Scottsdale</td>\n",
              "      <td>Overhead Camshaft</td>\n",
              "      <td>Male</td>\n",
              "      <td>328i</td>\n",
              "      <td>7659127</td>\n",
              "      <td>21000</td>\n",
              "      <td>Manual</td>\n",
              "      <td>Manual</td>\n",
              "      <td>Manual</td>\n",
              "    </tr>\n",
              "    <tr>\n",
              "      <th>23904</th>\n",
              "      <td>2023-12-31 00:00:00</td>\n",
              "      <td>C_CND_023905</td>\n",
              "      <td>Passenger</td>\n",
              "      <td>13500</td>\n",
              "      <td>Black</td>\n",
              "      <td>Chevrolet</td>\n",
              "      <td>Victoire</td>\n",
              "      <td>Chrysler Plymouth</td>\n",
              "      <td>53546-9427</td>\n",
              "      <td>Austin</td>\n",
              "      <td>DoubleÂ Overhead Camshaft</td>\n",
              "      <td>Male</td>\n",
              "      <td>Metro</td>\n",
              "      <td>6030764</td>\n",
              "      <td>31000</td>\n",
              "      <td>Auto</td>\n",
              "      <td>Auto</td>\n",
              "      <td>Auto</td>\n",
              "    </tr>\n",
              "    <tr>\n",
              "      <th>23905</th>\n",
              "      <td>2023-12-31 00:00:00</td>\n",
              "      <td>C_CND_023906</td>\n",
              "      <td>Hardtop</td>\n",
              "      <td>1225000</td>\n",
              "      <td>Pale White</td>\n",
              "      <td>Lexus</td>\n",
              "      <td>Donovan</td>\n",
              "      <td>Pars Auto Sales</td>\n",
              "      <td>38701-8047</td>\n",
              "      <td>Middletown</td>\n",
              "      <td>DoubleÂ Overhead Camshaft</td>\n",
              "      <td>Male</td>\n",
              "      <td>ES300</td>\n",
              "      <td>7020564</td>\n",
              "      <td>27500</td>\n",
              "      <td>Auto</td>\n",
              "      <td>Auto</td>\n",
              "      <td>Auto</td>\n",
              "    </tr>\n",
              "  </tbody>\n",
              "</table>\n",
              "</div>\n",
              "    <div class=\"colab-df-buttons\">\n",
              "\n",
              "  <div class=\"colab-df-container\">\n",
              "    <button class=\"colab-df-convert\" onclick=\"convertToInteractive('df-daf3f804-093c-4948-9c08-8e989eba4d6d')\"\n",
              "            title=\"Convert this dataframe to an interactive table.\"\n",
              "            style=\"display:none;\">\n",
              "\n",
              "  <svg xmlns=\"http://www.w3.org/2000/svg\" height=\"24px\" viewBox=\"0 -960 960 960\">\n",
              "    <path d=\"M120-120v-720h720v720H120Zm60-500h600v-160H180v160Zm220 220h160v-160H400v160Zm0 220h160v-160H400v160ZM180-400h160v-160H180v160Zm440 0h160v-160H620v160ZM180-180h160v-160H180v160Zm440 0h160v-160H620v160Z\"/>\n",
              "  </svg>\n",
              "    </button>\n",
              "\n",
              "  <style>\n",
              "    .colab-df-container {\n",
              "      display:flex;\n",
              "      gap: 12px;\n",
              "    }\n",
              "\n",
              "    .colab-df-convert {\n",
              "      background-color: #E8F0FE;\n",
              "      border: none;\n",
              "      border-radius: 50%;\n",
              "      cursor: pointer;\n",
              "      display: none;\n",
              "      fill: #1967D2;\n",
              "      height: 32px;\n",
              "      padding: 0 0 0 0;\n",
              "      width: 32px;\n",
              "    }\n",
              "\n",
              "    .colab-df-convert:hover {\n",
              "      background-color: #E2EBFA;\n",
              "      box-shadow: 0px 1px 2px rgba(60, 64, 67, 0.3), 0px 1px 3px 1px rgba(60, 64, 67, 0.15);\n",
              "      fill: #174EA6;\n",
              "    }\n",
              "\n",
              "    .colab-df-buttons div {\n",
              "      margin-bottom: 4px;\n",
              "    }\n",
              "\n",
              "    [theme=dark] .colab-df-convert {\n",
              "      background-color: #3B4455;\n",
              "      fill: #D2E3FC;\n",
              "    }\n",
              "\n",
              "    [theme=dark] .colab-df-convert:hover {\n",
              "      background-color: #434B5C;\n",
              "      box-shadow: 0px 1px 3px 1px rgba(0, 0, 0, 0.15);\n",
              "      filter: drop-shadow(0px 1px 2px rgba(0, 0, 0, 0.3));\n",
              "      fill: #FFFFFF;\n",
              "    }\n",
              "  </style>\n",
              "\n",
              "    <script>\n",
              "      const buttonEl =\n",
              "        document.querySelector('#df-daf3f804-093c-4948-9c08-8e989eba4d6d button.colab-df-convert');\n",
              "      buttonEl.style.display =\n",
              "        google.colab.kernel.accessAllowed ? 'block' : 'none';\n",
              "\n",
              "      async function convertToInteractive(key) {\n",
              "        const element = document.querySelector('#df-daf3f804-093c-4948-9c08-8e989eba4d6d');\n",
              "        const dataTable =\n",
              "          await google.colab.kernel.invokeFunction('convertToInteractive',\n",
              "                                                    [key], {});\n",
              "        if (!dataTable) return;\n",
              "\n",
              "        const docLinkHtml = 'Like what you see? Visit the ' +\n",
              "          '<a target=\"_blank\" href=https://colab.research.google.com/notebooks/data_table.ipynb>data table notebook</a>'\n",
              "          + ' to learn more about interactive tables.';\n",
              "        element.innerHTML = '';\n",
              "        dataTable['output_type'] = 'display_data';\n",
              "        await google.colab.output.renderOutput(dataTable, element);\n",
              "        const docLink = document.createElement('div');\n",
              "        docLink.innerHTML = docLinkHtml;\n",
              "        element.appendChild(docLink);\n",
              "      }\n",
              "    </script>\n",
              "  </div>\n",
              "\n",
              "\n",
              "<div id=\"df-6310652e-aa74-4a3e-9528-024da9f592b7\">\n",
              "  <button class=\"colab-df-quickchart\" onclick=\"quickchart('df-6310652e-aa74-4a3e-9528-024da9f592b7')\"\n",
              "            title=\"Suggest charts\"\n",
              "            style=\"display:none;\">\n",
              "\n",
              "<svg xmlns=\"http://www.w3.org/2000/svg\" height=\"24px\"viewBox=\"0 0 24 24\"\n",
              "     width=\"24px\">\n",
              "    <g>\n",
              "        <path d=\"M19 3H5c-1.1 0-2 .9-2 2v14c0 1.1.9 2 2 2h14c1.1 0 2-.9 2-2V5c0-1.1-.9-2-2-2zM9 17H7v-7h2v7zm4 0h-2V7h2v10zm4 0h-2v-4h2v4z\"/>\n",
              "    </g>\n",
              "</svg>\n",
              "  </button>\n",
              "\n",
              "<style>\n",
              "  .colab-df-quickchart {\n",
              "      --bg-color: #E8F0FE;\n",
              "      --fill-color: #1967D2;\n",
              "      --hover-bg-color: #E2EBFA;\n",
              "      --hover-fill-color: #174EA6;\n",
              "      --disabled-fill-color: #AAA;\n",
              "      --disabled-bg-color: #DDD;\n",
              "  }\n",
              "\n",
              "  [theme=dark] .colab-df-quickchart {\n",
              "      --bg-color: #3B4455;\n",
              "      --fill-color: #D2E3FC;\n",
              "      --hover-bg-color: #434B5C;\n",
              "      --hover-fill-color: #FFFFFF;\n",
              "      --disabled-bg-color: #3B4455;\n",
              "      --disabled-fill-color: #666;\n",
              "  }\n",
              "\n",
              "  .colab-df-quickchart {\n",
              "    background-color: var(--bg-color);\n",
              "    border: none;\n",
              "    border-radius: 50%;\n",
              "    cursor: pointer;\n",
              "    display: none;\n",
              "    fill: var(--fill-color);\n",
              "    height: 32px;\n",
              "    padding: 0;\n",
              "    width: 32px;\n",
              "  }\n",
              "\n",
              "  .colab-df-quickchart:hover {\n",
              "    background-color: var(--hover-bg-color);\n",
              "    box-shadow: 0 1px 2px rgba(60, 64, 67, 0.3), 0 1px 3px 1px rgba(60, 64, 67, 0.15);\n",
              "    fill: var(--button-hover-fill-color);\n",
              "  }\n",
              "\n",
              "  .colab-df-quickchart-complete:disabled,\n",
              "  .colab-df-quickchart-complete:disabled:hover {\n",
              "    background-color: var(--disabled-bg-color);\n",
              "    fill: var(--disabled-fill-color);\n",
              "    box-shadow: none;\n",
              "  }\n",
              "\n",
              "  .colab-df-spinner {\n",
              "    border: 2px solid var(--fill-color);\n",
              "    border-color: transparent;\n",
              "    border-bottom-color: var(--fill-color);\n",
              "    animation:\n",
              "      spin 1s steps(1) infinite;\n",
              "  }\n",
              "\n",
              "  @keyframes spin {\n",
              "    0% {\n",
              "      border-color: transparent;\n",
              "      border-bottom-color: var(--fill-color);\n",
              "      border-left-color: var(--fill-color);\n",
              "    }\n",
              "    20% {\n",
              "      border-color: transparent;\n",
              "      border-left-color: var(--fill-color);\n",
              "      border-top-color: var(--fill-color);\n",
              "    }\n",
              "    30% {\n",
              "      border-color: transparent;\n",
              "      border-left-color: var(--fill-color);\n",
              "      border-top-color: var(--fill-color);\n",
              "      border-right-color: var(--fill-color);\n",
              "    }\n",
              "    40% {\n",
              "      border-color: transparent;\n",
              "      border-right-color: var(--fill-color);\n",
              "      border-top-color: var(--fill-color);\n",
              "    }\n",
              "    60% {\n",
              "      border-color: transparent;\n",
              "      border-right-color: var(--fill-color);\n",
              "    }\n",
              "    80% {\n",
              "      border-color: transparent;\n",
              "      border-right-color: var(--fill-color);\n",
              "      border-bottom-color: var(--fill-color);\n",
              "    }\n",
              "    90% {\n",
              "      border-color: transparent;\n",
              "      border-bottom-color: var(--fill-color);\n",
              "    }\n",
              "  }\n",
              "</style>\n",
              "\n",
              "  <script>\n",
              "    async function quickchart(key) {\n",
              "      const quickchartButtonEl =\n",
              "        document.querySelector('#' + key + ' button');\n",
              "      quickchartButtonEl.disabled = true;  // To prevent multiple clicks.\n",
              "      quickchartButtonEl.classList.add('colab-df-spinner');\n",
              "      try {\n",
              "        const charts = await google.colab.kernel.invokeFunction(\n",
              "            'suggestCharts', [key], {});\n",
              "      } catch (error) {\n",
              "        console.error('Error during call to suggestCharts:', error);\n",
              "      }\n",
              "      quickchartButtonEl.classList.remove('colab-df-spinner');\n",
              "      quickchartButtonEl.classList.add('colab-df-quickchart-complete');\n",
              "    }\n",
              "    (() => {\n",
              "      let quickchartButtonEl =\n",
              "        document.querySelector('#df-6310652e-aa74-4a3e-9528-024da9f592b7 button');\n",
              "      quickchartButtonEl.style.display =\n",
              "        google.colab.kernel.accessAllowed ? 'block' : 'none';\n",
              "    })();\n",
              "  </script>\n",
              "</div>\n",
              "    </div>\n",
              "  </div>\n"
            ],
            "application/vnd.google.colaboratory.intrinsic+json": {
              "type": "dataframe",
              "repr_error": "0"
            }
          },
          "metadata": {},
          "execution_count": 26
        }
      ]
    },
    {
      "cell_type": "markdown",
      "source": [
        "**Ejercicio 5.3:**\n",
        "\n",
        "Realizar las siguientes acciones:\n",
        "\n",
        "Seleccionar la columna **Company**\n",
        "\n",
        "Quitar los duplicados"
      ],
      "metadata": {
        "id": "DWlH4Ha1JN7G"
      }
    },
    {
      "cell_type": "code",
      "source": [
        "# Seleccionar una columna\n",
        "Company = df['Company']\n",
        "Company"
      ],
      "metadata": {
        "colab": {
          "base_uri": "https://localhost:8080/"
        },
        "id": "b0tXMUeoJPE5",
        "outputId": "bad969c5-bff8-4a71-a08c-91f5ccb084b9"
      },
      "execution_count": null,
      "outputs": [
        {
          "output_type": "execute_result",
          "data": {
            "text/plain": [
              "0             Ford\n",
              "1            Dodge\n",
              "2         Cadillac\n",
              "3           Toyota\n",
              "4            Acura\n",
              "           ...    \n",
              "23901     Plymouth\n",
              "23902    Chevrolet\n",
              "23903          BMW\n",
              "23904    Chevrolet\n",
              "23905        Lexus\n",
              "Name: Company, Length: 23906, dtype: object"
            ]
          },
          "metadata": {},
          "execution_count": 27
        }
      ]
    },
    {
      "cell_type": "code",
      "source": [
        "Company_sin_duplicados = df['Company'].drop_duplicates()\n",
        "Company_sin_duplicados"
      ],
      "metadata": {
        "colab": {
          "base_uri": "https://localhost:8080/"
        },
        "id": "epk9iJ2HJbKw",
        "outputId": "1a798262-6335-4388-aae4-8b79404d899f"
      },
      "execution_count": null,
      "outputs": [
        {
          "output_type": "execute_result",
          "data": {
            "text/plain": [
              "0            Ford\n",
              "1           Dodge\n",
              "2        Cadillac\n",
              "3          Toyota\n",
              "4           Acura\n",
              "5      Mitsubishi\n",
              "8       Chevrolet\n",
              "11         Nissan\n",
              "12        Mercury\n",
              "13            BMW\n",
              "14       Chrysler\n",
              "15         Subaru\n",
              "16        Hyundai\n",
              "19          Honda\n",
              "21       Infiniti\n",
              "22           Audi\n",
              "23        Porsche\n",
              "24     Volkswagen\n",
              "26          Buick\n",
              "29         Saturn\n",
              "31     Mercedes-B\n",
              "34         Jaguar\n",
              "35          Volvo\n",
              "44        Pontiac\n",
              "76        Lincoln\n",
              "82     Oldsmobile\n",
              "100         Lexus\n",
              "132      Plymouth\n",
              "147          Saab\n",
              "365          Jeep\n",
              "Name: Company, dtype: object"
            ]
          },
          "metadata": {},
          "execution_count": 28
        }
      ]
    },
    {
      "cell_type": "markdown",
      "source": [
        "**Ejercicio 5.4:**\n",
        "\n",
        "Realizar las siguientes acciones:\n",
        "\n",
        "Filtrar el df solo en los casos en que la compañía sea Ford, creando un nuevo dataframe llamado Ford_datos\n",
        "\n",
        "Añadir una columna a este dataframe que concatene el color y el modelo, con un espacio entre ambos"
      ],
      "metadata": {
        "id": "Xum6tvQ1J-Kt"
      }
    },
    {
      "cell_type": "code",
      "source": [
        "Ford_datos = df[df['Company'] == \"Ford\"]\n",
        "Ford_datos"
      ],
      "metadata": {
        "colab": {
          "base_uri": "https://localhost:8080/",
          "height": 913
        },
        "id": "twGjRB32J-5b",
        "outputId": "8ca57050-1927-4a1a-d877-5ebc38d0b39a"
      },
      "execution_count": null,
      "outputs": [
        {
          "output_type": "execute_result",
          "data": {
            "text/plain": [
              "                      Date        Car_id Body Style  Suma de Annual Income  \\\n",
              "0      2022-01-02 00:00:00  C_CND_000001        SUV                  13500   \n",
              "9      2022-01-02 00:00:00  C_CND_000010  Passenger                  13500   \n",
              "73     2022-01-05 00:00:00  C_CND_000074      Sedan                 300000   \n",
              "77     2022-01-05 00:00:00  C_CND_000078    Hardtop                 490000   \n",
              "81     2022-01-05 00:00:00  C_CND_000082  Hatchback                1360000   \n",
              "...                    ...           ...        ...                    ...   \n",
              "23827  2023-12-29 00:00:00  C_CND_023828    Hardtop                 492000   \n",
              "23850  2023-12-30 00:00:00  C_CND_023851        SUV                1300000   \n",
              "23871  2023-12-31 00:00:00  C_CND_023872  Hatchback                 801000   \n",
              "23885  2023-12-31 00:00:00  C_CND_023886    Hardtop                1890000   \n",
              "23900  2023-12-31 00:00:00  C_CND_023901      Sedan                 771000   \n",
              "\n",
              "            Color Company Customer Name  \\\n",
              "0           Black    Ford     Geraldine   \n",
              "9      Pale White    Ford       Grayson   \n",
              "73     Pale White    Ford        Ingrid   \n",
              "77          Black    Ford         James   \n",
              "81     Pale White    Ford        Israel   \n",
              "...           ...     ...           ...   \n",
              "23827         Red    Ford          Jose   \n",
              "23850         Red    Ford  Piebbe-Louis   \n",
              "23871  Pale White    Ford     Francesco   \n",
              "23885       Black    Ford      Jeremias   \n",
              "23900         Red    Ford        Nathan   \n",
              "\n",
              "                                           Dealer_Name  Dealer_No   \\\n",
              "0                  Buddy Storbeck's Diesel Service Inc  06457-3834   \n",
              "9                                 Rabun Used Car Sales  85257-3102   \n",
              "73               Pitre Buick-Pontiac-Gmc of Scottsdale  99301-3882   \n",
              "77                         Motor Vehicle Branch Office  78758-7841   \n",
              "81                               Enterprise Rent A Car  60504-7114   \n",
              "...                                                ...         ...   \n",
              "23827                               Tri-State Mack Inc  85257-3102   \n",
              "23850                              Hatfield Volkswagen  99301-3882   \n",
              "23871                                    Race Car Help  78758-7841   \n",
              "23885  Progressive Shippers Cooperative Association No  53546-9427   \n",
              "23900              Buddy Storbeck's Diesel Service Inc  06457-3834   \n",
              "\n",
              "      Dealer_Region                     Engine  Gender       Model  \\\n",
              "0        Middletown  DoubleÂ Overhead Camshaft    Male  Expedition   \n",
              "9        Scottsdale  DoubleÂ Overhead Camshaft  Female      Escort   \n",
              "73            Pasco  DoubleÂ Overhead Camshaft    Male     Contour   \n",
              "77           Austin          Overhead Camshaft    Male       Focus   \n",
              "81           Aurora          Overhead Camshaft  Female     Mustang   \n",
              "...             ...                        ...     ...         ...   \n",
              "23827        Aurora          Overhead Camshaft    Male       Focus   \n",
              "23850         Pasco          Overhead Camshaft    Male  Expedition   \n",
              "23871        Austin  DoubleÂ Overhead Camshaft    Male    Explorer   \n",
              "23885    Janesville          Overhead Camshaft    Male      Ranger   \n",
              "23900    Greenville  DoubleÂ Overhead Camshaft  Female     Contour   \n",
              "\n",
              "       Suma de Phone  Suma de Price ($) Transmission Transmission.1  \\\n",
              "0            8264678              26000         Auto           Auto   \n",
              "9            7836892              15000         Auto           Auto   \n",
              "73           7031644              62000         Auto           Auto   \n",
              "77           6766211              49000       Manual         Manual   \n",
              "81           8082987              43000       Manual         Manual   \n",
              "...              ...                ...          ...            ...   \n",
              "23827        7297185              17000       Manual         Manual   \n",
              "23850        8143114              22000       Manual         Manual   \n",
              "23871        7444561              42000         Auto           Auto   \n",
              "23885        6009530              18000       Manual         Manual   \n",
              "23900        8170003              19000         Auto           Auto   \n",
              "\n",
              "      Transmission.2  \n",
              "0               Auto  \n",
              "9               Auto  \n",
              "73              Auto  \n",
              "77            Manual  \n",
              "81            Manual  \n",
              "...              ...  \n",
              "23827         Manual  \n",
              "23850         Manual  \n",
              "23871           Auto  \n",
              "23885         Manual  \n",
              "23900           Auto  \n",
              "\n",
              "[1614 rows x 18 columns]"
            ],
            "text/html": [
              "\n",
              "  <div id=\"df-ded300cf-d33f-485a-81e3-a69ea7e7e52e\" class=\"colab-df-container\">\n",
              "    <div>\n",
              "<style scoped>\n",
              "    .dataframe tbody tr th:only-of-type {\n",
              "        vertical-align: middle;\n",
              "    }\n",
              "\n",
              "    .dataframe tbody tr th {\n",
              "        vertical-align: top;\n",
              "    }\n",
              "\n",
              "    .dataframe thead th {\n",
              "        text-align: right;\n",
              "    }\n",
              "</style>\n",
              "<table border=\"1\" class=\"dataframe\">\n",
              "  <thead>\n",
              "    <tr style=\"text-align: right;\">\n",
              "      <th></th>\n",
              "      <th>Date</th>\n",
              "      <th>Car_id</th>\n",
              "      <th>Body Style</th>\n",
              "      <th>Suma de Annual Income</th>\n",
              "      <th>Color</th>\n",
              "      <th>Company</th>\n",
              "      <th>Customer Name</th>\n",
              "      <th>Dealer_Name</th>\n",
              "      <th>Dealer_No</th>\n",
              "      <th>Dealer_Region</th>\n",
              "      <th>Engine</th>\n",
              "      <th>Gender</th>\n",
              "      <th>Model</th>\n",
              "      <th>Suma de Phone</th>\n",
              "      <th>Suma de Price ($)</th>\n",
              "      <th>Transmission</th>\n",
              "      <th>Transmission.1</th>\n",
              "      <th>Transmission.2</th>\n",
              "    </tr>\n",
              "  </thead>\n",
              "  <tbody>\n",
              "    <tr>\n",
              "      <th>0</th>\n",
              "      <td>2022-01-02 00:00:00</td>\n",
              "      <td>C_CND_000001</td>\n",
              "      <td>SUV</td>\n",
              "      <td>13500</td>\n",
              "      <td>Black</td>\n",
              "      <td>Ford</td>\n",
              "      <td>Geraldine</td>\n",
              "      <td>Buddy Storbeck's Diesel Service Inc</td>\n",
              "      <td>06457-3834</td>\n",
              "      <td>Middletown</td>\n",
              "      <td>DoubleÂ Overhead Camshaft</td>\n",
              "      <td>Male</td>\n",
              "      <td>Expedition</td>\n",
              "      <td>8264678</td>\n",
              "      <td>26000</td>\n",
              "      <td>Auto</td>\n",
              "      <td>Auto</td>\n",
              "      <td>Auto</td>\n",
              "    </tr>\n",
              "    <tr>\n",
              "      <th>9</th>\n",
              "      <td>2022-01-02 00:00:00</td>\n",
              "      <td>C_CND_000010</td>\n",
              "      <td>Passenger</td>\n",
              "      <td>13500</td>\n",
              "      <td>Pale White</td>\n",
              "      <td>Ford</td>\n",
              "      <td>Grayson</td>\n",
              "      <td>Rabun Used Car Sales</td>\n",
              "      <td>85257-3102</td>\n",
              "      <td>Scottsdale</td>\n",
              "      <td>DoubleÂ Overhead Camshaft</td>\n",
              "      <td>Female</td>\n",
              "      <td>Escort</td>\n",
              "      <td>7836892</td>\n",
              "      <td>15000</td>\n",
              "      <td>Auto</td>\n",
              "      <td>Auto</td>\n",
              "      <td>Auto</td>\n",
              "    </tr>\n",
              "    <tr>\n",
              "      <th>73</th>\n",
              "      <td>2022-01-05 00:00:00</td>\n",
              "      <td>C_CND_000074</td>\n",
              "      <td>Sedan</td>\n",
              "      <td>300000</td>\n",
              "      <td>Pale White</td>\n",
              "      <td>Ford</td>\n",
              "      <td>Ingrid</td>\n",
              "      <td>Pitre Buick-Pontiac-Gmc of Scottsdale</td>\n",
              "      <td>99301-3882</td>\n",
              "      <td>Pasco</td>\n",
              "      <td>DoubleÂ Overhead Camshaft</td>\n",
              "      <td>Male</td>\n",
              "      <td>Contour</td>\n",
              "      <td>7031644</td>\n",
              "      <td>62000</td>\n",
              "      <td>Auto</td>\n",
              "      <td>Auto</td>\n",
              "      <td>Auto</td>\n",
              "    </tr>\n",
              "    <tr>\n",
              "      <th>77</th>\n",
              "      <td>2022-01-05 00:00:00</td>\n",
              "      <td>C_CND_000078</td>\n",
              "      <td>Hardtop</td>\n",
              "      <td>490000</td>\n",
              "      <td>Black</td>\n",
              "      <td>Ford</td>\n",
              "      <td>James</td>\n",
              "      <td>Motor Vehicle Branch Office</td>\n",
              "      <td>78758-7841</td>\n",
              "      <td>Austin</td>\n",
              "      <td>Overhead Camshaft</td>\n",
              "      <td>Male</td>\n",
              "      <td>Focus</td>\n",
              "      <td>6766211</td>\n",
              "      <td>49000</td>\n",
              "      <td>Manual</td>\n",
              "      <td>Manual</td>\n",
              "      <td>Manual</td>\n",
              "    </tr>\n",
              "    <tr>\n",
              "      <th>81</th>\n",
              "      <td>2022-01-05 00:00:00</td>\n",
              "      <td>C_CND_000082</td>\n",
              "      <td>Hatchback</td>\n",
              "      <td>1360000</td>\n",
              "      <td>Pale White</td>\n",
              "      <td>Ford</td>\n",
              "      <td>Israel</td>\n",
              "      <td>Enterprise Rent A Car</td>\n",
              "      <td>60504-7114</td>\n",
              "      <td>Aurora</td>\n",
              "      <td>Overhead Camshaft</td>\n",
              "      <td>Female</td>\n",
              "      <td>Mustang</td>\n",
              "      <td>8082987</td>\n",
              "      <td>43000</td>\n",
              "      <td>Manual</td>\n",
              "      <td>Manual</td>\n",
              "      <td>Manual</td>\n",
              "    </tr>\n",
              "    <tr>\n",
              "      <th>...</th>\n",
              "      <td>...</td>\n",
              "      <td>...</td>\n",
              "      <td>...</td>\n",
              "      <td>...</td>\n",
              "      <td>...</td>\n",
              "      <td>...</td>\n",
              "      <td>...</td>\n",
              "      <td>...</td>\n",
              "      <td>...</td>\n",
              "      <td>...</td>\n",
              "      <td>...</td>\n",
              "      <td>...</td>\n",
              "      <td>...</td>\n",
              "      <td>...</td>\n",
              "      <td>...</td>\n",
              "      <td>...</td>\n",
              "      <td>...</td>\n",
              "      <td>...</td>\n",
              "    </tr>\n",
              "    <tr>\n",
              "      <th>23827</th>\n",
              "      <td>2023-12-29 00:00:00</td>\n",
              "      <td>C_CND_023828</td>\n",
              "      <td>Hardtop</td>\n",
              "      <td>492000</td>\n",
              "      <td>Red</td>\n",
              "      <td>Ford</td>\n",
              "      <td>Jose</td>\n",
              "      <td>Tri-State Mack Inc</td>\n",
              "      <td>85257-3102</td>\n",
              "      <td>Aurora</td>\n",
              "      <td>Overhead Camshaft</td>\n",
              "      <td>Male</td>\n",
              "      <td>Focus</td>\n",
              "      <td>7297185</td>\n",
              "      <td>17000</td>\n",
              "      <td>Manual</td>\n",
              "      <td>Manual</td>\n",
              "      <td>Manual</td>\n",
              "    </tr>\n",
              "    <tr>\n",
              "      <th>23850</th>\n",
              "      <td>2023-12-30 00:00:00</td>\n",
              "      <td>C_CND_023851</td>\n",
              "      <td>SUV</td>\n",
              "      <td>1300000</td>\n",
              "      <td>Red</td>\n",
              "      <td>Ford</td>\n",
              "      <td>Piebbe-Louis</td>\n",
              "      <td>Hatfield Volkswagen</td>\n",
              "      <td>99301-3882</td>\n",
              "      <td>Pasco</td>\n",
              "      <td>Overhead Camshaft</td>\n",
              "      <td>Male</td>\n",
              "      <td>Expedition</td>\n",
              "      <td>8143114</td>\n",
              "      <td>22000</td>\n",
              "      <td>Manual</td>\n",
              "      <td>Manual</td>\n",
              "      <td>Manual</td>\n",
              "    </tr>\n",
              "    <tr>\n",
              "      <th>23871</th>\n",
              "      <td>2023-12-31 00:00:00</td>\n",
              "      <td>C_CND_023872</td>\n",
              "      <td>Hatchback</td>\n",
              "      <td>801000</td>\n",
              "      <td>Pale White</td>\n",
              "      <td>Ford</td>\n",
              "      <td>Francesco</td>\n",
              "      <td>Race Car Help</td>\n",
              "      <td>78758-7841</td>\n",
              "      <td>Austin</td>\n",
              "      <td>DoubleÂ Overhead Camshaft</td>\n",
              "      <td>Male</td>\n",
              "      <td>Explorer</td>\n",
              "      <td>7444561</td>\n",
              "      <td>42000</td>\n",
              "      <td>Auto</td>\n",
              "      <td>Auto</td>\n",
              "      <td>Auto</td>\n",
              "    </tr>\n",
              "    <tr>\n",
              "      <th>23885</th>\n",
              "      <td>2023-12-31 00:00:00</td>\n",
              "      <td>C_CND_023886</td>\n",
              "      <td>Hardtop</td>\n",
              "      <td>1890000</td>\n",
              "      <td>Black</td>\n",
              "      <td>Ford</td>\n",
              "      <td>Jeremias</td>\n",
              "      <td>Progressive Shippers Cooperative Association No</td>\n",
              "      <td>53546-9427</td>\n",
              "      <td>Janesville</td>\n",
              "      <td>Overhead Camshaft</td>\n",
              "      <td>Male</td>\n",
              "      <td>Ranger</td>\n",
              "      <td>6009530</td>\n",
              "      <td>18000</td>\n",
              "      <td>Manual</td>\n",
              "      <td>Manual</td>\n",
              "      <td>Manual</td>\n",
              "    </tr>\n",
              "    <tr>\n",
              "      <th>23900</th>\n",
              "      <td>2023-12-31 00:00:00</td>\n",
              "      <td>C_CND_023901</td>\n",
              "      <td>Sedan</td>\n",
              "      <td>771000</td>\n",
              "      <td>Red</td>\n",
              "      <td>Ford</td>\n",
              "      <td>Nathan</td>\n",
              "      <td>Buddy Storbeck's Diesel Service Inc</td>\n",
              "      <td>06457-3834</td>\n",
              "      <td>Greenville</td>\n",
              "      <td>DoubleÂ Overhead Camshaft</td>\n",
              "      <td>Female</td>\n",
              "      <td>Contour</td>\n",
              "      <td>8170003</td>\n",
              "      <td>19000</td>\n",
              "      <td>Auto</td>\n",
              "      <td>Auto</td>\n",
              "      <td>Auto</td>\n",
              "    </tr>\n",
              "  </tbody>\n",
              "</table>\n",
              "<p>1614 rows × 18 columns</p>\n",
              "</div>\n",
              "    <div class=\"colab-df-buttons\">\n",
              "\n",
              "  <div class=\"colab-df-container\">\n",
              "    <button class=\"colab-df-convert\" onclick=\"convertToInteractive('df-ded300cf-d33f-485a-81e3-a69ea7e7e52e')\"\n",
              "            title=\"Convert this dataframe to an interactive table.\"\n",
              "            style=\"display:none;\">\n",
              "\n",
              "  <svg xmlns=\"http://www.w3.org/2000/svg\" height=\"24px\" viewBox=\"0 -960 960 960\">\n",
              "    <path d=\"M120-120v-720h720v720H120Zm60-500h600v-160H180v160Zm220 220h160v-160H400v160Zm0 220h160v-160H400v160ZM180-400h160v-160H180v160Zm440 0h160v-160H620v160ZM180-180h160v-160H180v160Zm440 0h160v-160H620v160Z\"/>\n",
              "  </svg>\n",
              "    </button>\n",
              "\n",
              "  <style>\n",
              "    .colab-df-container {\n",
              "      display:flex;\n",
              "      gap: 12px;\n",
              "    }\n",
              "\n",
              "    .colab-df-convert {\n",
              "      background-color: #E8F0FE;\n",
              "      border: none;\n",
              "      border-radius: 50%;\n",
              "      cursor: pointer;\n",
              "      display: none;\n",
              "      fill: #1967D2;\n",
              "      height: 32px;\n",
              "      padding: 0 0 0 0;\n",
              "      width: 32px;\n",
              "    }\n",
              "\n",
              "    .colab-df-convert:hover {\n",
              "      background-color: #E2EBFA;\n",
              "      box-shadow: 0px 1px 2px rgba(60, 64, 67, 0.3), 0px 1px 3px 1px rgba(60, 64, 67, 0.15);\n",
              "      fill: #174EA6;\n",
              "    }\n",
              "\n",
              "    .colab-df-buttons div {\n",
              "      margin-bottom: 4px;\n",
              "    }\n",
              "\n",
              "    [theme=dark] .colab-df-convert {\n",
              "      background-color: #3B4455;\n",
              "      fill: #D2E3FC;\n",
              "    }\n",
              "\n",
              "    [theme=dark] .colab-df-convert:hover {\n",
              "      background-color: #434B5C;\n",
              "      box-shadow: 0px 1px 3px 1px rgba(0, 0, 0, 0.15);\n",
              "      filter: drop-shadow(0px 1px 2px rgba(0, 0, 0, 0.3));\n",
              "      fill: #FFFFFF;\n",
              "    }\n",
              "  </style>\n",
              "\n",
              "    <script>\n",
              "      const buttonEl =\n",
              "        document.querySelector('#df-ded300cf-d33f-485a-81e3-a69ea7e7e52e button.colab-df-convert');\n",
              "      buttonEl.style.display =\n",
              "        google.colab.kernel.accessAllowed ? 'block' : 'none';\n",
              "\n",
              "      async function convertToInteractive(key) {\n",
              "        const element = document.querySelector('#df-ded300cf-d33f-485a-81e3-a69ea7e7e52e');\n",
              "        const dataTable =\n",
              "          await google.colab.kernel.invokeFunction('convertToInteractive',\n",
              "                                                    [key], {});\n",
              "        if (!dataTable) return;\n",
              "\n",
              "        const docLinkHtml = 'Like what you see? Visit the ' +\n",
              "          '<a target=\"_blank\" href=https://colab.research.google.com/notebooks/data_table.ipynb>data table notebook</a>'\n",
              "          + ' to learn more about interactive tables.';\n",
              "        element.innerHTML = '';\n",
              "        dataTable['output_type'] = 'display_data';\n",
              "        await google.colab.output.renderOutput(dataTable, element);\n",
              "        const docLink = document.createElement('div');\n",
              "        docLink.innerHTML = docLinkHtml;\n",
              "        element.appendChild(docLink);\n",
              "      }\n",
              "    </script>\n",
              "  </div>\n",
              "\n",
              "\n",
              "<div id=\"df-bb3dd176-5389-45fa-b48b-b6899bc6f3e6\">\n",
              "  <button class=\"colab-df-quickchart\" onclick=\"quickchart('df-bb3dd176-5389-45fa-b48b-b6899bc6f3e6')\"\n",
              "            title=\"Suggest charts\"\n",
              "            style=\"display:none;\">\n",
              "\n",
              "<svg xmlns=\"http://www.w3.org/2000/svg\" height=\"24px\"viewBox=\"0 0 24 24\"\n",
              "     width=\"24px\">\n",
              "    <g>\n",
              "        <path d=\"M19 3H5c-1.1 0-2 .9-2 2v14c0 1.1.9 2 2 2h14c1.1 0 2-.9 2-2V5c0-1.1-.9-2-2-2zM9 17H7v-7h2v7zm4 0h-2V7h2v10zm4 0h-2v-4h2v4z\"/>\n",
              "    </g>\n",
              "</svg>\n",
              "  </button>\n",
              "\n",
              "<style>\n",
              "  .colab-df-quickchart {\n",
              "      --bg-color: #E8F0FE;\n",
              "      --fill-color: #1967D2;\n",
              "      --hover-bg-color: #E2EBFA;\n",
              "      --hover-fill-color: #174EA6;\n",
              "      --disabled-fill-color: #AAA;\n",
              "      --disabled-bg-color: #DDD;\n",
              "  }\n",
              "\n",
              "  [theme=dark] .colab-df-quickchart {\n",
              "      --bg-color: #3B4455;\n",
              "      --fill-color: #D2E3FC;\n",
              "      --hover-bg-color: #434B5C;\n",
              "      --hover-fill-color: #FFFFFF;\n",
              "      --disabled-bg-color: #3B4455;\n",
              "      --disabled-fill-color: #666;\n",
              "  }\n",
              "\n",
              "  .colab-df-quickchart {\n",
              "    background-color: var(--bg-color);\n",
              "    border: none;\n",
              "    border-radius: 50%;\n",
              "    cursor: pointer;\n",
              "    display: none;\n",
              "    fill: var(--fill-color);\n",
              "    height: 32px;\n",
              "    padding: 0;\n",
              "    width: 32px;\n",
              "  }\n",
              "\n",
              "  .colab-df-quickchart:hover {\n",
              "    background-color: var(--hover-bg-color);\n",
              "    box-shadow: 0 1px 2px rgba(60, 64, 67, 0.3), 0 1px 3px 1px rgba(60, 64, 67, 0.15);\n",
              "    fill: var(--button-hover-fill-color);\n",
              "  }\n",
              "\n",
              "  .colab-df-quickchart-complete:disabled,\n",
              "  .colab-df-quickchart-complete:disabled:hover {\n",
              "    background-color: var(--disabled-bg-color);\n",
              "    fill: var(--disabled-fill-color);\n",
              "    box-shadow: none;\n",
              "  }\n",
              "\n",
              "  .colab-df-spinner {\n",
              "    border: 2px solid var(--fill-color);\n",
              "    border-color: transparent;\n",
              "    border-bottom-color: var(--fill-color);\n",
              "    animation:\n",
              "      spin 1s steps(1) infinite;\n",
              "  }\n",
              "\n",
              "  @keyframes spin {\n",
              "    0% {\n",
              "      border-color: transparent;\n",
              "      border-bottom-color: var(--fill-color);\n",
              "      border-left-color: var(--fill-color);\n",
              "    }\n",
              "    20% {\n",
              "      border-color: transparent;\n",
              "      border-left-color: var(--fill-color);\n",
              "      border-top-color: var(--fill-color);\n",
              "    }\n",
              "    30% {\n",
              "      border-color: transparent;\n",
              "      border-left-color: var(--fill-color);\n",
              "      border-top-color: var(--fill-color);\n",
              "      border-right-color: var(--fill-color);\n",
              "    }\n",
              "    40% {\n",
              "      border-color: transparent;\n",
              "      border-right-color: var(--fill-color);\n",
              "      border-top-color: var(--fill-color);\n",
              "    }\n",
              "    60% {\n",
              "      border-color: transparent;\n",
              "      border-right-color: var(--fill-color);\n",
              "    }\n",
              "    80% {\n",
              "      border-color: transparent;\n",
              "      border-right-color: var(--fill-color);\n",
              "      border-bottom-color: var(--fill-color);\n",
              "    }\n",
              "    90% {\n",
              "      border-color: transparent;\n",
              "      border-bottom-color: var(--fill-color);\n",
              "    }\n",
              "  }\n",
              "</style>\n",
              "\n",
              "  <script>\n",
              "    async function quickchart(key) {\n",
              "      const quickchartButtonEl =\n",
              "        document.querySelector('#' + key + ' button');\n",
              "      quickchartButtonEl.disabled = true;  // To prevent multiple clicks.\n",
              "      quickchartButtonEl.classList.add('colab-df-spinner');\n",
              "      try {\n",
              "        const charts = await google.colab.kernel.invokeFunction(\n",
              "            'suggestCharts', [key], {});\n",
              "      } catch (error) {\n",
              "        console.error('Error during call to suggestCharts:', error);\n",
              "      }\n",
              "      quickchartButtonEl.classList.remove('colab-df-spinner');\n",
              "      quickchartButtonEl.classList.add('colab-df-quickchart-complete');\n",
              "    }\n",
              "    (() => {\n",
              "      let quickchartButtonEl =\n",
              "        document.querySelector('#df-bb3dd176-5389-45fa-b48b-b6899bc6f3e6 button');\n",
              "      quickchartButtonEl.style.display =\n",
              "        google.colab.kernel.accessAllowed ? 'block' : 'none';\n",
              "    })();\n",
              "  </script>\n",
              "</div>\n",
              "    </div>\n",
              "  </div>\n"
            ],
            "application/vnd.google.colaboratory.intrinsic+json": {
              "type": "dataframe",
              "variable_name": "Ford_datos",
              "summary": "{\n  \"name\": \"Ford_datos\",\n  \"rows\": 1614,\n  \"fields\": [\n    {\n      \"column\": \"Date\",\n      \"properties\": {\n        \"dtype\": \"object\",\n        \"num_unique_values\": 479,\n        \"samples\": [\n          \"2022-06-23 00:00:00\",\n          \"2023-06-09 00:00:00\",\n          \"2022-04-17 00:00:00\"\n        ],\n        \"semantic_type\": \"\",\n        \"description\": \"\"\n      }\n    },\n    {\n      \"column\": \"Car_id\",\n      \"properties\": {\n        \"dtype\": \"string\",\n        \"num_unique_values\": 1614,\n        \"samples\": [\n          \"C_CND_002054\",\n          \"C_CND_018874\",\n          \"C_CND_016478\"\n        ],\n        \"semantic_type\": \"\",\n        \"description\": \"\"\n      }\n    },\n    {\n      \"column\": \"Body Style\",\n      \"properties\": {\n        \"dtype\": \"category\",\n        \"num_unique_values\": 5,\n        \"samples\": [\n          \"Passenger\",\n          \"Hatchback\",\n          \"Sedan\"\n        ],\n        \"semantic_type\": \"\",\n        \"description\": \"\"\n      }\n    },\n    {\n      \"column\": \"Suma de Annual Income\",\n      \"properties\": {\n        \"dtype\": \"number\",\n        \"std\": 708048,\n        \"min\": 13500,\n        \"max\": 6500000,\n        \"num_unique_values\": 617,\n        \"samples\": [\n          510000,\n          1918000,\n          1650000\n        ],\n        \"semantic_type\": \"\",\n        \"description\": \"\"\n      }\n    },\n    {\n      \"column\": \"Color\",\n      \"properties\": {\n        \"dtype\": \"category\",\n        \"num_unique_values\": 3,\n        \"samples\": [\n          \"Black\",\n          \"Pale White\",\n          \"Red\"\n        ],\n        \"semantic_type\": \"\",\n        \"description\": \"\"\n      }\n    },\n    {\n      \"column\": \"Company\",\n      \"properties\": {\n        \"dtype\": \"category\",\n        \"num_unique_values\": 1,\n        \"samples\": [\n          \"Ford\"\n        ],\n        \"semantic_type\": \"\",\n        \"description\": \"\"\n      }\n    },\n    {\n      \"column\": \"Customer Name\",\n      \"properties\": {\n        \"dtype\": \"string\",\n        \"num_unique_values\": 968,\n        \"samples\": [\n          \"Erica\"\n        ],\n        \"semantic_type\": \"\",\n        \"description\": \"\"\n      }\n    },\n    {\n      \"column\": \"Dealer_Name\",\n      \"properties\": {\n        \"dtype\": \"category\",\n        \"num_unique_values\": 28,\n        \"samples\": [\n          \"New Castle Ford Lincoln Mercury\"\n        ],\n        \"semantic_type\": \"\",\n        \"description\": \"\"\n      }\n    },\n    {\n      \"column\": \"Dealer_No \",\n      \"properties\": {\n        \"dtype\": \"category\",\n        \"num_unique_values\": 7,\n        \"samples\": [\n          \"06457-3834\"\n        ],\n        \"semantic_type\": \"\",\n        \"description\": \"\"\n      }\n    },\n    {\n      \"column\": \"Dealer_Region\",\n      \"properties\": {\n        \"dtype\": \"category\",\n        \"num_unique_values\": 7,\n        \"samples\": [\n          \"Middletown\"\n        ],\n        \"semantic_type\": \"\",\n        \"description\": \"\"\n      }\n    },\n    {\n      \"column\": \"Engine\",\n      \"properties\": {\n        \"dtype\": \"category\",\n        \"num_unique_values\": 2,\n        \"samples\": [\n          \"Overhead Camshaft\"\n        ],\n        \"semantic_type\": \"\",\n        \"description\": \"\"\n      }\n    },\n    {\n      \"column\": \"Gender\",\n      \"properties\": {\n        \"dtype\": \"category\",\n        \"num_unique_values\": 2,\n        \"samples\": [\n          \"Female\"\n        ],\n        \"semantic_type\": \"\",\n        \"description\": \"\"\n      }\n    },\n    {\n      \"column\": \"Model\",\n      \"properties\": {\n        \"dtype\": \"category\",\n        \"num_unique_values\": 11,\n        \"samples\": [\n          \"Explorer\"\n        ],\n        \"semantic_type\": \"\",\n        \"description\": \"\"\n      }\n    },\n    {\n      \"column\": \"Suma de Phone\",\n      \"properties\": {\n        \"dtype\": \"number\",\n        \"std\": 864213,\n        \"min\": 6002101,\n        \"max\": 8998913,\n        \"num_unique_values\": 1612,\n        \"samples\": [\n          7925467\n        ],\n        \"semantic_type\": \"\",\n        \"description\": \"\"\n      }\n    },\n    {\n      \"column\": \"Suma de Price ($)\",\n      \"properties\": {\n        \"dtype\": \"number\",\n        \"std\": 15849,\n        \"min\": 1200,\n        \"max\": 69600,\n        \"num_unique_values\": 181,\n        \"samples\": [\n          22100\n        ],\n        \"semantic_type\": \"\",\n        \"description\": \"\"\n      }\n    },\n    {\n      \"column\": \"Transmission\",\n      \"properties\": {\n        \"dtype\": \"category\",\n        \"num_unique_values\": 2,\n        \"samples\": [\n          \"Manual\"\n        ],\n        \"semantic_type\": \"\",\n        \"description\": \"\"\n      }\n    },\n    {\n      \"column\": \"Transmission.1\",\n      \"properties\": {\n        \"dtype\": \"category\",\n        \"num_unique_values\": 2,\n        \"samples\": [\n          \"Manual\"\n        ],\n        \"semantic_type\": \"\",\n        \"description\": \"\"\n      }\n    },\n    {\n      \"column\": \"Transmission.2\",\n      \"properties\": {\n        \"dtype\": \"category\",\n        \"num_unique_values\": 2,\n        \"samples\": [\n          \"Manual\"\n        ],\n        \"semantic_type\": \"\",\n        \"description\": \"\"\n      }\n    }\n  ]\n}"
            }
          },
          "metadata": {},
          "execution_count": 30
        }
      ]
    },
    {
      "cell_type": "code",
      "source": [
        "Ford_datos['Color_model'] = Ford_datos['Color'] + \" \" + Ford_datos['Model']\n",
        "Ford_datos"
      ],
      "metadata": {
        "colab": {
          "base_uri": "https://localhost:8080/",
          "height": 1000
        },
        "id": "bs5Ku6lCLSjx",
        "outputId": "254befd4-4b6d-4a4d-e1e2-df07390906f5"
      },
      "execution_count": null,
      "outputs": [
        {
          "output_type": "stream",
          "name": "stderr",
          "text": [
            "<ipython-input-33-54ada0d58aef>:1: SettingWithCopyWarning: \n",
            "A value is trying to be set on a copy of a slice from a DataFrame.\n",
            "Try using .loc[row_indexer,col_indexer] = value instead\n",
            "\n",
            "See the caveats in the documentation: https://pandas.pydata.org/pandas-docs/stable/user_guide/indexing.html#returning-a-view-versus-a-copy\n",
            "  Ford_datos['Color_model'] = Ford_datos['Color'] + \" \" + Ford_datos['Model']\n"
          ]
        },
        {
          "output_type": "execute_result",
          "data": {
            "text/plain": [
              "                      Date        Car_id Body Style  Suma de Annual Income  \\\n",
              "0      2022-01-02 00:00:00  C_CND_000001        SUV                  13500   \n",
              "9      2022-01-02 00:00:00  C_CND_000010  Passenger                  13500   \n",
              "73     2022-01-05 00:00:00  C_CND_000074      Sedan                 300000   \n",
              "77     2022-01-05 00:00:00  C_CND_000078    Hardtop                 490000   \n",
              "81     2022-01-05 00:00:00  C_CND_000082  Hatchback                1360000   \n",
              "...                    ...           ...        ...                    ...   \n",
              "23827  2023-12-29 00:00:00  C_CND_023828    Hardtop                 492000   \n",
              "23850  2023-12-30 00:00:00  C_CND_023851        SUV                1300000   \n",
              "23871  2023-12-31 00:00:00  C_CND_023872  Hatchback                 801000   \n",
              "23885  2023-12-31 00:00:00  C_CND_023886    Hardtop                1890000   \n",
              "23900  2023-12-31 00:00:00  C_CND_023901      Sedan                 771000   \n",
              "\n",
              "            Color Company Customer Name  \\\n",
              "0           Black    Ford     Geraldine   \n",
              "9      Pale White    Ford       Grayson   \n",
              "73     Pale White    Ford        Ingrid   \n",
              "77          Black    Ford         James   \n",
              "81     Pale White    Ford        Israel   \n",
              "...           ...     ...           ...   \n",
              "23827         Red    Ford          Jose   \n",
              "23850         Red    Ford  Piebbe-Louis   \n",
              "23871  Pale White    Ford     Francesco   \n",
              "23885       Black    Ford      Jeremias   \n",
              "23900         Red    Ford        Nathan   \n",
              "\n",
              "                                           Dealer_Name  Dealer_No   \\\n",
              "0                  Buddy Storbeck's Diesel Service Inc  06457-3834   \n",
              "9                                 Rabun Used Car Sales  85257-3102   \n",
              "73               Pitre Buick-Pontiac-Gmc of Scottsdale  99301-3882   \n",
              "77                         Motor Vehicle Branch Office  78758-7841   \n",
              "81                               Enterprise Rent A Car  60504-7114   \n",
              "...                                                ...         ...   \n",
              "23827                               Tri-State Mack Inc  85257-3102   \n",
              "23850                              Hatfield Volkswagen  99301-3882   \n",
              "23871                                    Race Car Help  78758-7841   \n",
              "23885  Progressive Shippers Cooperative Association No  53546-9427   \n",
              "23900              Buddy Storbeck's Diesel Service Inc  06457-3834   \n",
              "\n",
              "      Dealer_Region                     Engine  Gender       Model  \\\n",
              "0        Middletown  DoubleÂ Overhead Camshaft    Male  Expedition   \n",
              "9        Scottsdale  DoubleÂ Overhead Camshaft  Female      Escort   \n",
              "73            Pasco  DoubleÂ Overhead Camshaft    Male     Contour   \n",
              "77           Austin          Overhead Camshaft    Male       Focus   \n",
              "81           Aurora          Overhead Camshaft  Female     Mustang   \n",
              "...             ...                        ...     ...         ...   \n",
              "23827        Aurora          Overhead Camshaft    Male       Focus   \n",
              "23850         Pasco          Overhead Camshaft    Male  Expedition   \n",
              "23871        Austin  DoubleÂ Overhead Camshaft    Male    Explorer   \n",
              "23885    Janesville          Overhead Camshaft    Male      Ranger   \n",
              "23900    Greenville  DoubleÂ Overhead Camshaft  Female     Contour   \n",
              "\n",
              "       Suma de Phone  Suma de Price ($) Transmission Transmission.1  \\\n",
              "0            8264678              26000         Auto           Auto   \n",
              "9            7836892              15000         Auto           Auto   \n",
              "73           7031644              62000         Auto           Auto   \n",
              "77           6766211              49000       Manual         Manual   \n",
              "81           8082987              43000       Manual         Manual   \n",
              "...              ...                ...          ...            ...   \n",
              "23827        7297185              17000       Manual         Manual   \n",
              "23850        8143114              22000       Manual         Manual   \n",
              "23871        7444561              42000         Auto           Auto   \n",
              "23885        6009530              18000       Manual         Manual   \n",
              "23900        8170003              19000         Auto           Auto   \n",
              "\n",
              "      Transmission.2          Color_model  \n",
              "0               Auto     Black Expedition  \n",
              "9               Auto    Pale White Escort  \n",
              "73              Auto   Pale White Contour  \n",
              "77            Manual          Black Focus  \n",
              "81            Manual   Pale White Mustang  \n",
              "...              ...                  ...  \n",
              "23827         Manual            Red Focus  \n",
              "23850         Manual       Red Expedition  \n",
              "23871           Auto  Pale White Explorer  \n",
              "23885         Manual         Black Ranger  \n",
              "23900           Auto          Red Contour  \n",
              "\n",
              "[1614 rows x 19 columns]"
            ],
            "text/html": [
              "\n",
              "  <div id=\"df-1c158ce8-8e8c-437d-933a-5218e16d14e3\" class=\"colab-df-container\">\n",
              "    <div>\n",
              "<style scoped>\n",
              "    .dataframe tbody tr th:only-of-type {\n",
              "        vertical-align: middle;\n",
              "    }\n",
              "\n",
              "    .dataframe tbody tr th {\n",
              "        vertical-align: top;\n",
              "    }\n",
              "\n",
              "    .dataframe thead th {\n",
              "        text-align: right;\n",
              "    }\n",
              "</style>\n",
              "<table border=\"1\" class=\"dataframe\">\n",
              "  <thead>\n",
              "    <tr style=\"text-align: right;\">\n",
              "      <th></th>\n",
              "      <th>Date</th>\n",
              "      <th>Car_id</th>\n",
              "      <th>Body Style</th>\n",
              "      <th>Suma de Annual Income</th>\n",
              "      <th>Color</th>\n",
              "      <th>Company</th>\n",
              "      <th>Customer Name</th>\n",
              "      <th>Dealer_Name</th>\n",
              "      <th>Dealer_No</th>\n",
              "      <th>Dealer_Region</th>\n",
              "      <th>Engine</th>\n",
              "      <th>Gender</th>\n",
              "      <th>Model</th>\n",
              "      <th>Suma de Phone</th>\n",
              "      <th>Suma de Price ($)</th>\n",
              "      <th>Transmission</th>\n",
              "      <th>Transmission.1</th>\n",
              "      <th>Transmission.2</th>\n",
              "      <th>Color_model</th>\n",
              "    </tr>\n",
              "  </thead>\n",
              "  <tbody>\n",
              "    <tr>\n",
              "      <th>0</th>\n",
              "      <td>2022-01-02 00:00:00</td>\n",
              "      <td>C_CND_000001</td>\n",
              "      <td>SUV</td>\n",
              "      <td>13500</td>\n",
              "      <td>Black</td>\n",
              "      <td>Ford</td>\n",
              "      <td>Geraldine</td>\n",
              "      <td>Buddy Storbeck's Diesel Service Inc</td>\n",
              "      <td>06457-3834</td>\n",
              "      <td>Middletown</td>\n",
              "      <td>DoubleÂ Overhead Camshaft</td>\n",
              "      <td>Male</td>\n",
              "      <td>Expedition</td>\n",
              "      <td>8264678</td>\n",
              "      <td>26000</td>\n",
              "      <td>Auto</td>\n",
              "      <td>Auto</td>\n",
              "      <td>Auto</td>\n",
              "      <td>Black Expedition</td>\n",
              "    </tr>\n",
              "    <tr>\n",
              "      <th>9</th>\n",
              "      <td>2022-01-02 00:00:00</td>\n",
              "      <td>C_CND_000010</td>\n",
              "      <td>Passenger</td>\n",
              "      <td>13500</td>\n",
              "      <td>Pale White</td>\n",
              "      <td>Ford</td>\n",
              "      <td>Grayson</td>\n",
              "      <td>Rabun Used Car Sales</td>\n",
              "      <td>85257-3102</td>\n",
              "      <td>Scottsdale</td>\n",
              "      <td>DoubleÂ Overhead Camshaft</td>\n",
              "      <td>Female</td>\n",
              "      <td>Escort</td>\n",
              "      <td>7836892</td>\n",
              "      <td>15000</td>\n",
              "      <td>Auto</td>\n",
              "      <td>Auto</td>\n",
              "      <td>Auto</td>\n",
              "      <td>Pale White Escort</td>\n",
              "    </tr>\n",
              "    <tr>\n",
              "      <th>73</th>\n",
              "      <td>2022-01-05 00:00:00</td>\n",
              "      <td>C_CND_000074</td>\n",
              "      <td>Sedan</td>\n",
              "      <td>300000</td>\n",
              "      <td>Pale White</td>\n",
              "      <td>Ford</td>\n",
              "      <td>Ingrid</td>\n",
              "      <td>Pitre Buick-Pontiac-Gmc of Scottsdale</td>\n",
              "      <td>99301-3882</td>\n",
              "      <td>Pasco</td>\n",
              "      <td>DoubleÂ Overhead Camshaft</td>\n",
              "      <td>Male</td>\n",
              "      <td>Contour</td>\n",
              "      <td>7031644</td>\n",
              "      <td>62000</td>\n",
              "      <td>Auto</td>\n",
              "      <td>Auto</td>\n",
              "      <td>Auto</td>\n",
              "      <td>Pale White Contour</td>\n",
              "    </tr>\n",
              "    <tr>\n",
              "      <th>77</th>\n",
              "      <td>2022-01-05 00:00:00</td>\n",
              "      <td>C_CND_000078</td>\n",
              "      <td>Hardtop</td>\n",
              "      <td>490000</td>\n",
              "      <td>Black</td>\n",
              "      <td>Ford</td>\n",
              "      <td>James</td>\n",
              "      <td>Motor Vehicle Branch Office</td>\n",
              "      <td>78758-7841</td>\n",
              "      <td>Austin</td>\n",
              "      <td>Overhead Camshaft</td>\n",
              "      <td>Male</td>\n",
              "      <td>Focus</td>\n",
              "      <td>6766211</td>\n",
              "      <td>49000</td>\n",
              "      <td>Manual</td>\n",
              "      <td>Manual</td>\n",
              "      <td>Manual</td>\n",
              "      <td>Black Focus</td>\n",
              "    </tr>\n",
              "    <tr>\n",
              "      <th>81</th>\n",
              "      <td>2022-01-05 00:00:00</td>\n",
              "      <td>C_CND_000082</td>\n",
              "      <td>Hatchback</td>\n",
              "      <td>1360000</td>\n",
              "      <td>Pale White</td>\n",
              "      <td>Ford</td>\n",
              "      <td>Israel</td>\n",
              "      <td>Enterprise Rent A Car</td>\n",
              "      <td>60504-7114</td>\n",
              "      <td>Aurora</td>\n",
              "      <td>Overhead Camshaft</td>\n",
              "      <td>Female</td>\n",
              "      <td>Mustang</td>\n",
              "      <td>8082987</td>\n",
              "      <td>43000</td>\n",
              "      <td>Manual</td>\n",
              "      <td>Manual</td>\n",
              "      <td>Manual</td>\n",
              "      <td>Pale White Mustang</td>\n",
              "    </tr>\n",
              "    <tr>\n",
              "      <th>...</th>\n",
              "      <td>...</td>\n",
              "      <td>...</td>\n",
              "      <td>...</td>\n",
              "      <td>...</td>\n",
              "      <td>...</td>\n",
              "      <td>...</td>\n",
              "      <td>...</td>\n",
              "      <td>...</td>\n",
              "      <td>...</td>\n",
              "      <td>...</td>\n",
              "      <td>...</td>\n",
              "      <td>...</td>\n",
              "      <td>...</td>\n",
              "      <td>...</td>\n",
              "      <td>...</td>\n",
              "      <td>...</td>\n",
              "      <td>...</td>\n",
              "      <td>...</td>\n",
              "      <td>...</td>\n",
              "    </tr>\n",
              "    <tr>\n",
              "      <th>23827</th>\n",
              "      <td>2023-12-29 00:00:00</td>\n",
              "      <td>C_CND_023828</td>\n",
              "      <td>Hardtop</td>\n",
              "      <td>492000</td>\n",
              "      <td>Red</td>\n",
              "      <td>Ford</td>\n",
              "      <td>Jose</td>\n",
              "      <td>Tri-State Mack Inc</td>\n",
              "      <td>85257-3102</td>\n",
              "      <td>Aurora</td>\n",
              "      <td>Overhead Camshaft</td>\n",
              "      <td>Male</td>\n",
              "      <td>Focus</td>\n",
              "      <td>7297185</td>\n",
              "      <td>17000</td>\n",
              "      <td>Manual</td>\n",
              "      <td>Manual</td>\n",
              "      <td>Manual</td>\n",
              "      <td>Red Focus</td>\n",
              "    </tr>\n",
              "    <tr>\n",
              "      <th>23850</th>\n",
              "      <td>2023-12-30 00:00:00</td>\n",
              "      <td>C_CND_023851</td>\n",
              "      <td>SUV</td>\n",
              "      <td>1300000</td>\n",
              "      <td>Red</td>\n",
              "      <td>Ford</td>\n",
              "      <td>Piebbe-Louis</td>\n",
              "      <td>Hatfield Volkswagen</td>\n",
              "      <td>99301-3882</td>\n",
              "      <td>Pasco</td>\n",
              "      <td>Overhead Camshaft</td>\n",
              "      <td>Male</td>\n",
              "      <td>Expedition</td>\n",
              "      <td>8143114</td>\n",
              "      <td>22000</td>\n",
              "      <td>Manual</td>\n",
              "      <td>Manual</td>\n",
              "      <td>Manual</td>\n",
              "      <td>Red Expedition</td>\n",
              "    </tr>\n",
              "    <tr>\n",
              "      <th>23871</th>\n",
              "      <td>2023-12-31 00:00:00</td>\n",
              "      <td>C_CND_023872</td>\n",
              "      <td>Hatchback</td>\n",
              "      <td>801000</td>\n",
              "      <td>Pale White</td>\n",
              "      <td>Ford</td>\n",
              "      <td>Francesco</td>\n",
              "      <td>Race Car Help</td>\n",
              "      <td>78758-7841</td>\n",
              "      <td>Austin</td>\n",
              "      <td>DoubleÂ Overhead Camshaft</td>\n",
              "      <td>Male</td>\n",
              "      <td>Explorer</td>\n",
              "      <td>7444561</td>\n",
              "      <td>42000</td>\n",
              "      <td>Auto</td>\n",
              "      <td>Auto</td>\n",
              "      <td>Auto</td>\n",
              "      <td>Pale White Explorer</td>\n",
              "    </tr>\n",
              "    <tr>\n",
              "      <th>23885</th>\n",
              "      <td>2023-12-31 00:00:00</td>\n",
              "      <td>C_CND_023886</td>\n",
              "      <td>Hardtop</td>\n",
              "      <td>1890000</td>\n",
              "      <td>Black</td>\n",
              "      <td>Ford</td>\n",
              "      <td>Jeremias</td>\n",
              "      <td>Progressive Shippers Cooperative Association No</td>\n",
              "      <td>53546-9427</td>\n",
              "      <td>Janesville</td>\n",
              "      <td>Overhead Camshaft</td>\n",
              "      <td>Male</td>\n",
              "      <td>Ranger</td>\n",
              "      <td>6009530</td>\n",
              "      <td>18000</td>\n",
              "      <td>Manual</td>\n",
              "      <td>Manual</td>\n",
              "      <td>Manual</td>\n",
              "      <td>Black Ranger</td>\n",
              "    </tr>\n",
              "    <tr>\n",
              "      <th>23900</th>\n",
              "      <td>2023-12-31 00:00:00</td>\n",
              "      <td>C_CND_023901</td>\n",
              "      <td>Sedan</td>\n",
              "      <td>771000</td>\n",
              "      <td>Red</td>\n",
              "      <td>Ford</td>\n",
              "      <td>Nathan</td>\n",
              "      <td>Buddy Storbeck's Diesel Service Inc</td>\n",
              "      <td>06457-3834</td>\n",
              "      <td>Greenville</td>\n",
              "      <td>DoubleÂ Overhead Camshaft</td>\n",
              "      <td>Female</td>\n",
              "      <td>Contour</td>\n",
              "      <td>8170003</td>\n",
              "      <td>19000</td>\n",
              "      <td>Auto</td>\n",
              "      <td>Auto</td>\n",
              "      <td>Auto</td>\n",
              "      <td>Red Contour</td>\n",
              "    </tr>\n",
              "  </tbody>\n",
              "</table>\n",
              "<p>1614 rows × 19 columns</p>\n",
              "</div>\n",
              "    <div class=\"colab-df-buttons\">\n",
              "\n",
              "  <div class=\"colab-df-container\">\n",
              "    <button class=\"colab-df-convert\" onclick=\"convertToInteractive('df-1c158ce8-8e8c-437d-933a-5218e16d14e3')\"\n",
              "            title=\"Convert this dataframe to an interactive table.\"\n",
              "            style=\"display:none;\">\n",
              "\n",
              "  <svg xmlns=\"http://www.w3.org/2000/svg\" height=\"24px\" viewBox=\"0 -960 960 960\">\n",
              "    <path d=\"M120-120v-720h720v720H120Zm60-500h600v-160H180v160Zm220 220h160v-160H400v160Zm0 220h160v-160H400v160ZM180-400h160v-160H180v160Zm440 0h160v-160H620v160ZM180-180h160v-160H180v160Zm440 0h160v-160H620v160Z\"/>\n",
              "  </svg>\n",
              "    </button>\n",
              "\n",
              "  <style>\n",
              "    .colab-df-container {\n",
              "      display:flex;\n",
              "      gap: 12px;\n",
              "    }\n",
              "\n",
              "    .colab-df-convert {\n",
              "      background-color: #E8F0FE;\n",
              "      border: none;\n",
              "      border-radius: 50%;\n",
              "      cursor: pointer;\n",
              "      display: none;\n",
              "      fill: #1967D2;\n",
              "      height: 32px;\n",
              "      padding: 0 0 0 0;\n",
              "      width: 32px;\n",
              "    }\n",
              "\n",
              "    .colab-df-convert:hover {\n",
              "      background-color: #E2EBFA;\n",
              "      box-shadow: 0px 1px 2px rgba(60, 64, 67, 0.3), 0px 1px 3px 1px rgba(60, 64, 67, 0.15);\n",
              "      fill: #174EA6;\n",
              "    }\n",
              "\n",
              "    .colab-df-buttons div {\n",
              "      margin-bottom: 4px;\n",
              "    }\n",
              "\n",
              "    [theme=dark] .colab-df-convert {\n",
              "      background-color: #3B4455;\n",
              "      fill: #D2E3FC;\n",
              "    }\n",
              "\n",
              "    [theme=dark] .colab-df-convert:hover {\n",
              "      background-color: #434B5C;\n",
              "      box-shadow: 0px 1px 3px 1px rgba(0, 0, 0, 0.15);\n",
              "      filter: drop-shadow(0px 1px 2px rgba(0, 0, 0, 0.3));\n",
              "      fill: #FFFFFF;\n",
              "    }\n",
              "  </style>\n",
              "\n",
              "    <script>\n",
              "      const buttonEl =\n",
              "        document.querySelector('#df-1c158ce8-8e8c-437d-933a-5218e16d14e3 button.colab-df-convert');\n",
              "      buttonEl.style.display =\n",
              "        google.colab.kernel.accessAllowed ? 'block' : 'none';\n",
              "\n",
              "      async function convertToInteractive(key) {\n",
              "        const element = document.querySelector('#df-1c158ce8-8e8c-437d-933a-5218e16d14e3');\n",
              "        const dataTable =\n",
              "          await google.colab.kernel.invokeFunction('convertToInteractive',\n",
              "                                                    [key], {});\n",
              "        if (!dataTable) return;\n",
              "\n",
              "        const docLinkHtml = 'Like what you see? Visit the ' +\n",
              "          '<a target=\"_blank\" href=https://colab.research.google.com/notebooks/data_table.ipynb>data table notebook</a>'\n",
              "          + ' to learn more about interactive tables.';\n",
              "        element.innerHTML = '';\n",
              "        dataTable['output_type'] = 'display_data';\n",
              "        await google.colab.output.renderOutput(dataTable, element);\n",
              "        const docLink = document.createElement('div');\n",
              "        docLink.innerHTML = docLinkHtml;\n",
              "        element.appendChild(docLink);\n",
              "      }\n",
              "    </script>\n",
              "  </div>\n",
              "\n",
              "\n",
              "<div id=\"df-771dfcc4-4da9-45fe-9912-95defcec364f\">\n",
              "  <button class=\"colab-df-quickchart\" onclick=\"quickchart('df-771dfcc4-4da9-45fe-9912-95defcec364f')\"\n",
              "            title=\"Suggest charts\"\n",
              "            style=\"display:none;\">\n",
              "\n",
              "<svg xmlns=\"http://www.w3.org/2000/svg\" height=\"24px\"viewBox=\"0 0 24 24\"\n",
              "     width=\"24px\">\n",
              "    <g>\n",
              "        <path d=\"M19 3H5c-1.1 0-2 .9-2 2v14c0 1.1.9 2 2 2h14c1.1 0 2-.9 2-2V5c0-1.1-.9-2-2-2zM9 17H7v-7h2v7zm4 0h-2V7h2v10zm4 0h-2v-4h2v4z\"/>\n",
              "    </g>\n",
              "</svg>\n",
              "  </button>\n",
              "\n",
              "<style>\n",
              "  .colab-df-quickchart {\n",
              "      --bg-color: #E8F0FE;\n",
              "      --fill-color: #1967D2;\n",
              "      --hover-bg-color: #E2EBFA;\n",
              "      --hover-fill-color: #174EA6;\n",
              "      --disabled-fill-color: #AAA;\n",
              "      --disabled-bg-color: #DDD;\n",
              "  }\n",
              "\n",
              "  [theme=dark] .colab-df-quickchart {\n",
              "      --bg-color: #3B4455;\n",
              "      --fill-color: #D2E3FC;\n",
              "      --hover-bg-color: #434B5C;\n",
              "      --hover-fill-color: #FFFFFF;\n",
              "      --disabled-bg-color: #3B4455;\n",
              "      --disabled-fill-color: #666;\n",
              "  }\n",
              "\n",
              "  .colab-df-quickchart {\n",
              "    background-color: var(--bg-color);\n",
              "    border: none;\n",
              "    border-radius: 50%;\n",
              "    cursor: pointer;\n",
              "    display: none;\n",
              "    fill: var(--fill-color);\n",
              "    height: 32px;\n",
              "    padding: 0;\n",
              "    width: 32px;\n",
              "  }\n",
              "\n",
              "  .colab-df-quickchart:hover {\n",
              "    background-color: var(--hover-bg-color);\n",
              "    box-shadow: 0 1px 2px rgba(60, 64, 67, 0.3), 0 1px 3px 1px rgba(60, 64, 67, 0.15);\n",
              "    fill: var(--button-hover-fill-color);\n",
              "  }\n",
              "\n",
              "  .colab-df-quickchart-complete:disabled,\n",
              "  .colab-df-quickchart-complete:disabled:hover {\n",
              "    background-color: var(--disabled-bg-color);\n",
              "    fill: var(--disabled-fill-color);\n",
              "    box-shadow: none;\n",
              "  }\n",
              "\n",
              "  .colab-df-spinner {\n",
              "    border: 2px solid var(--fill-color);\n",
              "    border-color: transparent;\n",
              "    border-bottom-color: var(--fill-color);\n",
              "    animation:\n",
              "      spin 1s steps(1) infinite;\n",
              "  }\n",
              "\n",
              "  @keyframes spin {\n",
              "    0% {\n",
              "      border-color: transparent;\n",
              "      border-bottom-color: var(--fill-color);\n",
              "      border-left-color: var(--fill-color);\n",
              "    }\n",
              "    20% {\n",
              "      border-color: transparent;\n",
              "      border-left-color: var(--fill-color);\n",
              "      border-top-color: var(--fill-color);\n",
              "    }\n",
              "    30% {\n",
              "      border-color: transparent;\n",
              "      border-left-color: var(--fill-color);\n",
              "      border-top-color: var(--fill-color);\n",
              "      border-right-color: var(--fill-color);\n",
              "    }\n",
              "    40% {\n",
              "      border-color: transparent;\n",
              "      border-right-color: var(--fill-color);\n",
              "      border-top-color: var(--fill-color);\n",
              "    }\n",
              "    60% {\n",
              "      border-color: transparent;\n",
              "      border-right-color: var(--fill-color);\n",
              "    }\n",
              "    80% {\n",
              "      border-color: transparent;\n",
              "      border-right-color: var(--fill-color);\n",
              "      border-bottom-color: var(--fill-color);\n",
              "    }\n",
              "    90% {\n",
              "      border-color: transparent;\n",
              "      border-bottom-color: var(--fill-color);\n",
              "    }\n",
              "  }\n",
              "</style>\n",
              "\n",
              "  <script>\n",
              "    async function quickchart(key) {\n",
              "      const quickchartButtonEl =\n",
              "        document.querySelector('#' + key + ' button');\n",
              "      quickchartButtonEl.disabled = true;  // To prevent multiple clicks.\n",
              "      quickchartButtonEl.classList.add('colab-df-spinner');\n",
              "      try {\n",
              "        const charts = await google.colab.kernel.invokeFunction(\n",
              "            'suggestCharts', [key], {});\n",
              "      } catch (error) {\n",
              "        console.error('Error during call to suggestCharts:', error);\n",
              "      }\n",
              "      quickchartButtonEl.classList.remove('colab-df-spinner');\n",
              "      quickchartButtonEl.classList.add('colab-df-quickchart-complete');\n",
              "    }\n",
              "    (() => {\n",
              "      let quickchartButtonEl =\n",
              "        document.querySelector('#df-771dfcc4-4da9-45fe-9912-95defcec364f button');\n",
              "      quickchartButtonEl.style.display =\n",
              "        google.colab.kernel.accessAllowed ? 'block' : 'none';\n",
              "    })();\n",
              "  </script>\n",
              "</div>\n",
              "    </div>\n",
              "  </div>\n"
            ],
            "application/vnd.google.colaboratory.intrinsic+json": {
              "type": "dataframe",
              "variable_name": "Ford_datos",
              "summary": "{\n  \"name\": \"Ford_datos\",\n  \"rows\": 1614,\n  \"fields\": [\n    {\n      \"column\": \"Date\",\n      \"properties\": {\n        \"dtype\": \"object\",\n        \"num_unique_values\": 479,\n        \"samples\": [\n          \"2022-06-23 00:00:00\",\n          \"2023-06-09 00:00:00\",\n          \"2022-04-17 00:00:00\"\n        ],\n        \"semantic_type\": \"\",\n        \"description\": \"\"\n      }\n    },\n    {\n      \"column\": \"Car_id\",\n      \"properties\": {\n        \"dtype\": \"string\",\n        \"num_unique_values\": 1614,\n        \"samples\": [\n          \"C_CND_002054\",\n          \"C_CND_018874\",\n          \"C_CND_016478\"\n        ],\n        \"semantic_type\": \"\",\n        \"description\": \"\"\n      }\n    },\n    {\n      \"column\": \"Body Style\",\n      \"properties\": {\n        \"dtype\": \"category\",\n        \"num_unique_values\": 5,\n        \"samples\": [\n          \"Passenger\",\n          \"Hatchback\",\n          \"Sedan\"\n        ],\n        \"semantic_type\": \"\",\n        \"description\": \"\"\n      }\n    },\n    {\n      \"column\": \"Suma de Annual Income\",\n      \"properties\": {\n        \"dtype\": \"number\",\n        \"std\": 708048,\n        \"min\": 13500,\n        \"max\": 6500000,\n        \"num_unique_values\": 617,\n        \"samples\": [\n          510000,\n          1918000,\n          1650000\n        ],\n        \"semantic_type\": \"\",\n        \"description\": \"\"\n      }\n    },\n    {\n      \"column\": \"Color\",\n      \"properties\": {\n        \"dtype\": \"category\",\n        \"num_unique_values\": 3,\n        \"samples\": [\n          \"Black\",\n          \"Pale White\",\n          \"Red\"\n        ],\n        \"semantic_type\": \"\",\n        \"description\": \"\"\n      }\n    },\n    {\n      \"column\": \"Company\",\n      \"properties\": {\n        \"dtype\": \"category\",\n        \"num_unique_values\": 1,\n        \"samples\": [\n          \"Ford\"\n        ],\n        \"semantic_type\": \"\",\n        \"description\": \"\"\n      }\n    },\n    {\n      \"column\": \"Customer Name\",\n      \"properties\": {\n        \"dtype\": \"string\",\n        \"num_unique_values\": 968,\n        \"samples\": [\n          \"Erica\"\n        ],\n        \"semantic_type\": \"\",\n        \"description\": \"\"\n      }\n    },\n    {\n      \"column\": \"Dealer_Name\",\n      \"properties\": {\n        \"dtype\": \"category\",\n        \"num_unique_values\": 28,\n        \"samples\": [\n          \"New Castle Ford Lincoln Mercury\"\n        ],\n        \"semantic_type\": \"\",\n        \"description\": \"\"\n      }\n    },\n    {\n      \"column\": \"Dealer_No \",\n      \"properties\": {\n        \"dtype\": \"category\",\n        \"num_unique_values\": 7,\n        \"samples\": [\n          \"06457-3834\"\n        ],\n        \"semantic_type\": \"\",\n        \"description\": \"\"\n      }\n    },\n    {\n      \"column\": \"Dealer_Region\",\n      \"properties\": {\n        \"dtype\": \"category\",\n        \"num_unique_values\": 7,\n        \"samples\": [\n          \"Middletown\"\n        ],\n        \"semantic_type\": \"\",\n        \"description\": \"\"\n      }\n    },\n    {\n      \"column\": \"Engine\",\n      \"properties\": {\n        \"dtype\": \"category\",\n        \"num_unique_values\": 2,\n        \"samples\": [\n          \"Overhead Camshaft\"\n        ],\n        \"semantic_type\": \"\",\n        \"description\": \"\"\n      }\n    },\n    {\n      \"column\": \"Gender\",\n      \"properties\": {\n        \"dtype\": \"category\",\n        \"num_unique_values\": 2,\n        \"samples\": [\n          \"Female\"\n        ],\n        \"semantic_type\": \"\",\n        \"description\": \"\"\n      }\n    },\n    {\n      \"column\": \"Model\",\n      \"properties\": {\n        \"dtype\": \"category\",\n        \"num_unique_values\": 11,\n        \"samples\": [\n          \"Explorer\"\n        ],\n        \"semantic_type\": \"\",\n        \"description\": \"\"\n      }\n    },\n    {\n      \"column\": \"Suma de Phone\",\n      \"properties\": {\n        \"dtype\": \"number\",\n        \"std\": 864213,\n        \"min\": 6002101,\n        \"max\": 8998913,\n        \"num_unique_values\": 1612,\n        \"samples\": [\n          7925467\n        ],\n        \"semantic_type\": \"\",\n        \"description\": \"\"\n      }\n    },\n    {\n      \"column\": \"Suma de Price ($)\",\n      \"properties\": {\n        \"dtype\": \"number\",\n        \"std\": 15849,\n        \"min\": 1200,\n        \"max\": 69600,\n        \"num_unique_values\": 181,\n        \"samples\": [\n          22100\n        ],\n        \"semantic_type\": \"\",\n        \"description\": \"\"\n      }\n    },\n    {\n      \"column\": \"Transmission\",\n      \"properties\": {\n        \"dtype\": \"category\",\n        \"num_unique_values\": 2,\n        \"samples\": [\n          \"Manual\"\n        ],\n        \"semantic_type\": \"\",\n        \"description\": \"\"\n      }\n    },\n    {\n      \"column\": \"Transmission.1\",\n      \"properties\": {\n        \"dtype\": \"category\",\n        \"num_unique_values\": 2,\n        \"samples\": [\n          \"Manual\"\n        ],\n        \"semantic_type\": \"\",\n        \"description\": \"\"\n      }\n    },\n    {\n      \"column\": \"Transmission.2\",\n      \"properties\": {\n        \"dtype\": \"category\",\n        \"num_unique_values\": 2,\n        \"samples\": [\n          \"Manual\"\n        ],\n        \"semantic_type\": \"\",\n        \"description\": \"\"\n      }\n    },\n    {\n      \"column\": \"Color_model\",\n      \"properties\": {\n        \"dtype\": \"category\",\n        \"num_unique_values\": 29,\n        \"samples\": [\n          \"Red Contour\"\n        ],\n        \"semantic_type\": \"\",\n        \"description\": \"\"\n      }\n    }\n  ]\n}"
            }
          },
          "metadata": {},
          "execution_count": 33
        }
      ]
    },
    {
      "cell_type": "markdown",
      "source": [
        "**Ejercicio 5.6:**\n",
        "\n",
        "Realiza las siguientes acciones.\n",
        "\n",
        "Agrupa el df original por la companía y verifica cuantas ventas hubo para cada compañía, asignando esto a un nuevo df\n"
      ],
      "metadata": {
        "id": "v9GEkOD4M1H5"
      }
    },
    {
      "cell_type": "code",
      "source": [
        "ventas_compania = df.groupby('Company')  # Genero objeto  DataFrameGroupBy\n",
        "ventas_compania.size()"
      ],
      "metadata": {
        "colab": {
          "base_uri": "https://localhost:8080/"
        },
        "id": "Gb4Gbsf7M7ih",
        "outputId": "b30f52c2-a09d-4c7c-9996-f0c359610deb"
      },
      "execution_count": null,
      "outputs": [
        {
          "output_type": "execute_result",
          "data": {
            "text/plain": [
              "Company\n",
              "Acura          689\n",
              "Audi           468\n",
              "BMW            790\n",
              "Buick          439\n",
              "Cadillac       652\n",
              "Chevrolet     1819\n",
              "Chrysler      1120\n",
              "Dodge         1671\n",
              "Ford          1614\n",
              "Honda          708\n",
              "Hyundai        264\n",
              "Infiniti       195\n",
              "Jaguar         180\n",
              "Jeep           363\n",
              "Lexus          802\n",
              "Lincoln        492\n",
              "Mercedes-B    1285\n",
              "Mercury        874\n",
              "Mitsubishi    1277\n",
              "Nissan         886\n",
              "Oldsmobile    1111\n",
              "Plymouth       617\n",
              "Pontiac        796\n",
              "Porsche        361\n",
              "Saab           210\n",
              "Saturn         586\n",
              "Subaru         405\n",
              "Toyota        1110\n",
              "Volkswagen    1333\n",
              "Volvo          789\n",
              "dtype: int64"
            ]
          },
          "metadata": {},
          "execution_count": 35
        }
      ]
    },
    {
      "cell_type": "markdown",
      "source": [
        "**Ejercicio 5.7:**\n",
        "\n",
        "Realiza las siguientes acciones.\n",
        "\n",
        "Verifica la existencia de nulos y elimina los registros, asegurate que los cambios se hayan aplicado consultando nuevamente los nulos"
      ],
      "metadata": {
        "id": "ViIWJ8ceNnh4"
      }
    },
    {
      "cell_type": "code",
      "source": [
        "df.isna().sum()\n",
        "\n",
        "df.dropna(inplace=True)"
      ],
      "metadata": {
        "id": "i1mjSDejNsq1"
      },
      "execution_count": null,
      "outputs": []
    },
    {
      "cell_type": "code",
      "source": [
        "df.isna().sum()"
      ],
      "metadata": {
        "colab": {
          "base_uri": "https://localhost:8080/"
        },
        "id": "_RkAqXSONvD7",
        "outputId": "03bad341-2232-40b8-e315-933976b404aa"
      },
      "execution_count": null,
      "outputs": [
        {
          "output_type": "execute_result",
          "data": {
            "text/plain": [
              "Date                     0\n",
              "Car_id                   0\n",
              "Body Style               0\n",
              "Suma de Annual Income    0\n",
              "Color                    0\n",
              "Company                  0\n",
              "Customer Name            0\n",
              "Dealer_Name              0\n",
              "Dealer_No                0\n",
              "Dealer_Region            0\n",
              "Engine                   0\n",
              "Gender                   0\n",
              "Model                    0\n",
              "Suma de Phone            0\n",
              "Suma de Price ($)        0\n",
              "Transmission             0\n",
              "Transmission.1           0\n",
              "Transmission.2           0\n",
              "Color_model              0\n",
              "dtype: int64"
            ]
          },
          "metadata": {},
          "execution_count": 40
        }
      ]
    },
    {
      "cell_type": "markdown",
      "source": [
        "**Ejercicio 5.8:**\n",
        "\n",
        "Realiza un agrupamiento de los datos por Body Style y la Suma de Annual Income.\n",
        "Asigna esto a un nuevo df llamado grouped_data\n",
        "\n",
        "Utiliza en nuevo df para realizar un gráfico de barras para visualizar la suma del ingreso anual por estilo de carrocería."
      ],
      "metadata": {
        "id": "aShV1Me6OcHZ"
      }
    },
    {
      "cell_type": "code",
      "source": [
        "grouped_data = df.groupby('Body Style')['Suma de Annual Income'].sum()"
      ],
      "metadata": {
        "id": "-3NjIdWuOVD5"
      },
      "execution_count": null,
      "outputs": []
    },
    {
      "cell_type": "code",
      "source": [
        "grouped_data.plot(kind='bar', title='Total de Ingresos Anuales por Estilo de Carrocería', xlabel='Body Style', ylabel='Suma de Annual Income ($)')"
      ],
      "metadata": {
        "colab": {
          "base_uri": "https://localhost:8080/",
          "height": 549
        },
        "id": "ViSn3kwnOZVT",
        "outputId": "b19ae026-5e0c-4420-d7f7-32a22bf9d15c"
      },
      "execution_count": null,
      "outputs": [
        {
          "output_type": "execute_result",
          "data": {
            "text/plain": [
              "<Axes: title={'center': 'Total de Ingresos Anuales por Estilo de Carrocería'}, xlabel='Body Style', ylabel='Suma de Annual Income ($)'>"
            ]
          },
          "metadata": {},
          "execution_count": 43
        },
        {
          "output_type": "display_data",
          "data": {
            "text/plain": [
              "<Figure size 640x480 with 1 Axes>"
            ],
            "image/png": "[encoded data removed]"
          },
          "metadata": {}
        }
      ]
    },
    {
      "cell_type": "markdown",
      "source": [
        "# **💥Ejercicios clase 6**"
      ],
      "metadata": {
        "id": "9BLz4AoJG8qV"
      }
    },
    {
      "cell_type": "markdown",
      "source": [
        "# **✅Resueltos clase 6**"
      ],
      "metadata": {
        "id": "52SAaEubHgI2"
      }
    }
  ]
}