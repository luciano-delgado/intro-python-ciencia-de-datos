{
  "nbformat": 4,
  "nbformat_minor": 0,
  "metadata": {
    "colab": {
      "provenance": []
    },
    "kernelspec": {
      "name": "python3",
      "display_name": "Python 3"
    },
    "language_info": {
      "name": "python"
    }
  },
  "cells": [
    {
      "cell_type": "markdown",
      "source": [
        "\n",
        "# **Workbook de Ejercicios de Python🐍**\n",
        "\n",
        "En este workbook encontrarán ejercicios para cada clase, además al final de cada sección tendrás las resoluciones.\n",
        "\n",
        "Nota: Para hacer una copia ir a \"Archivo > Guardar una copia en Drive\".\n",
        "\n",
        "Te sugerimos intentar resolverlo por tu cuenta antes de ver la solución, recuerda que la práctica es clave para fijar el conocimiento.\n",
        "\n",
        "\n",
        "# **🚨IMPORTANTE: Forma de uso de este notebook:**´\n",
        "\n",
        "Debes hacer una **copia** de este cuaderno para poder editarlo y trabajar sobre el mismo sin que eso afecte el workbook original.\n",
        "\n"
      ],
      "metadata": {
        "id": "26-Stbi-E1jn"
      }
    },
    {
      "cell_type": "markdown",
      "source": [
        "# **💥Ejercicios clase 1**"
      ],
      "metadata": {
        "id": "LBlGneS4E2bd"
      }
    },
    {
      "cell_type": "markdown",
      "source": [
        "**✔ Parte 1 Generalidades**\n",
        "\n",
        "1.1) Comentar código\n",
        "\n",
        "1.2) Introducción a la función print()\n",
        "\n",
        "1.3) Variables: Definición y nomenclatura.\n",
        "\n",
        "1.4) Asignacion Simple/Aumentada/Multiple.\n",
        "\n",
        "1.5) Constantes\n",
        "\n",
        "1.6) Keywords"
      ],
      "metadata": {
        "id": "XcYPfAzdHkEU"
      }
    },
    {
      "cell_type": "markdown",
      "source": [
        "**Ejercicio 1.1:**\n",
        "\n",
        "Define una variable que represente el número de horas que has dormido esta noche y otra variable que represente tu estado de ánimo. Luego, imprime un mensaje que combine estos datos."
      ],
      "metadata": {
        "id": "M8LaGoI8MkQO"
      }
    },
    {
      "cell_type": "code",
      "source": [
        "#Aquí podés resolver el ejercicio. Al final de la sección verás la resolución."
      ],
      "metadata": {
        "id": "BwnCLnQ9SrE2"
      },
      "execution_count": null,
      "outputs": []
    },
    {
      "cell_type": "markdown",
      "source": [
        "**Ejercicio 1.2:**\n",
        "\n",
        "Define una variable que represente tu edad. Luego, usa asignación aumentada para sumar 5 años a tu edad y asignación simple para restar 2 años. Finalmente, imprime tu edad actual.\n"
      ],
      "metadata": {
        "id": "PG6phWibMdW3"
      }
    },
    {
      "cell_type": "code",
      "source": [
        "#Aquí podés resolver el ejercicio. Al final de la sección verás la resolución."
      ],
      "metadata": {
        "id": "JoE-A-cBSy2P"
      },
      "execution_count": null,
      "outputs": []
    },
    {
      "cell_type": "markdown",
      "source": [
        "**Ejercicio 1.3:**\n",
        "\n",
        "Crea una constante llamada DESCUENTO con valor 20. Luego, calcula el precio final de un producto que cuesta $100 aplicando el descuento y muestra el resultado en pantalla"
      ],
      "metadata": {
        "id": "4iZeBppyMqLs"
      }
    },
    {
      "cell_type": "code",
      "source": [
        "#Aquí podés resolver el ejercicio. Al final de la sección verás la resolución."
      ],
      "metadata": {
        "id": "NmIo2FCdS0D_"
      },
      "execution_count": null,
      "outputs": []
    },
    {
      "cell_type": "markdown",
      "source": [
        "**✔ Parte 2: Más sobre variables. Tipos de datós básicos. Introducción a Funciones.**\n",
        "\n",
        "2.1) Ubicación en memoria de las variables\n",
        "\n",
        "2.2) Tipos de datos básicos\n",
        "\n",
        "2.3) Método type(). Castear una variable\n",
        "\n",
        "2.4) Funciones\n",
        "\n",
        "2.5) Documentación"
      ],
      "metadata": {
        "id": "q0ZmqSsyIOnG"
      }
    },
    {
      "cell_type": "markdown",
      "source": [
        "**Ejercicio 1.4:**\n",
        "\n",
        "Define dos variables, número1 y número2, y asignales valores. Luego, imprime en pantalla la ubicación en memoria de cada una de estas variables."
      ],
      "metadata": {
        "id": "f9Gh6vsoUx0P"
      }
    },
    {
      "cell_type": "code",
      "source": [
        "#Aquí podés resolver el ejercicio. Al final de la sección verás la resolución."
      ],
      "metadata": {
        "id": "7PJbnzkdU943"
      },
      "execution_count": null,
      "outputs": []
    },
    {
      "cell_type": "markdown",
      "source": [
        "**Ejercicio 1.5:**\n",
        "\n",
        "Define una variable con un valor numérico entero y otra variable con un valor de tipo cadena. Usa el método type() para mostrar el tipo de dato de cada variable. Luego, convierte la variable entera en cadena y muestra nuevamente su tipo de dato."
      ],
      "metadata": {
        "id": "x28WA_h2Uy_I"
      }
    },
    {
      "cell_type": "code",
      "source": [
        "#Aquí podés resolver el ejercicio. Al final de la sección verás la resolución."
      ],
      "metadata": {
        "id": "g9mstBDrU-4_"
      },
      "execution_count": null,
      "outputs": []
    },
    {
      "cell_type": "markdown",
      "source": [
        "**Ejercicio 1.6:**\n",
        "\n",
        "Define una función llamada suma que reciba dos números como argumentos y retorne la suma de esos números. Luego, llama a la función con valores de prueba e imprime el resultado."
      ],
      "metadata": {
        "id": "cO6dZmOdU0nv"
      }
    },
    {
      "cell_type": "code",
      "source": [
        "#Aquí podés resolver el ejercicio. Al final de la sección verás la resolución."
      ],
      "metadata": {
        "id": "3Eo4m2LfU_ff"
      },
      "execution_count": null,
      "outputs": []
    },
    {
      "cell_type": "markdown",
      "source": [
        "**✔ Parte 3: Parte 3: Condicionales.**"
      ],
      "metadata": {
        "id": "JaHlJRdZJXnM"
      }
    },
    {
      "cell_type": "markdown",
      "source": [
        "**Ejercicio 1.7:**\n",
        "\n",
        "Define dos variables, temperatura_actual y temperatura_limite. Usa condicionales anidados para imprimir un mensaje dependiendo de si la temperatura actual está por encima, por debajo o igual a la temperatura límite."
      ],
      "metadata": {
        "id": "3DR1NGxBMxD9"
      }
    },
    {
      "cell_type": "code",
      "source": [
        "#Aquí podés resolver el ejercicio. Al final de la sección verás la resolución."
      ],
      "metadata": {
        "id": "o5qM39wHTAJf"
      },
      "execution_count": null,
      "outputs": []
    },
    {
      "cell_type": "markdown",
      "source": [
        "**Ejercicio 1.8:**\n",
        "\n",
        "Define tres variables: hora_actual, hora_apertura y hora_cierre. Usa condicionales con operadores lógicos para determinar si un negocio está abierto o cerrado en función de la hora actual."
      ],
      "metadata": {
        "id": "DcE8wbShM3xj"
      }
    },
    {
      "cell_type": "code",
      "source": [
        "#Aquí podés resolver el ejercicio. Al final de la sección verás la resolución."
      ],
      "metadata": {
        "id": "NyOBtMNLTBAn"
      },
      "execution_count": null,
      "outputs": []
    },
    {
      "cell_type": "markdown",
      "source": [
        "**Ejercicio 1.9:**\n",
        "\n",
        "\n",
        "Define una variable llamada mes_actual y asigna un valor numérico correspondiente a un mes del año. Usa un condicional para imprimir el nombre del mes según el número proporcionado."
      ],
      "metadata": {
        "id": "x-UKiD5uPs3w"
      }
    },
    {
      "cell_type": "code",
      "source": [
        "#Aquí podés resolver el ejercicio. Al final de la sección verás la resolución."
      ],
      "metadata": {
        "id": "_B-LoR9fTB1g"
      },
      "execution_count": null,
      "outputs": []
    },
    {
      "cell_type": "markdown",
      "source": [
        "# **✅Resueltos clase 1**"
      ],
      "metadata": {
        "id": "tMaoBvuyG-pW"
      }
    },
    {
      "cell_type": "markdown",
      "source": [
        "**Ejercicio 1.1:**\n",
        "\n",
        "Define una variable que represente el número de horas que has dormido esta noche y otra variable que represente tu estado de ánimo. Luego, imprime un mensaje que combine estos datos."
      ],
      "metadata": {
        "id": "208ZS_GVTu86"
      }
    },
    {
      "cell_type": "code",
      "source": [
        "horas_dormidas = 7\n",
        "estado_animico = \"feliz\"\n",
        "\n",
        "print(f\"Hoy he dormido {horas_dormidas} horas y me siento {estado_animico} 😊\")"
      ],
      "metadata": {
        "colab": {
          "base_uri": "https://localhost:8080/"
        },
        "id": "OJKYi6toTw6Q",
        "outputId": "82cfbde3-b678-4e46-95d0-d97844db5d81"
      },
      "execution_count": null,
      "outputs": [
        {
          "output_type": "stream",
          "name": "stdout",
          "text": [
            "Hoy he dormido 7 horas y me siento feliz 😊\n"
          ]
        }
      ]
    },
    {
      "cell_type": "markdown",
      "source": [
        "**Ejercicio 1.2:**\n",
        "\n",
        "Define una variable que represente tu edad. Luego, usa asignación aumentada para sumar 5 años a tu edad y asignación simple para restar 2 años. Finalmente, imprime tu edad actual."
      ],
      "metadata": {
        "id": "ahxPOZ83SgrX"
      }
    },
    {
      "cell_type": "code",
      "source": [
        "edad = 25\n",
        "\n",
        "# Aumentar edad en 5 años\n",
        "edad += 5\n",
        "\n",
        "# Restar 2 años\n",
        "edad -= 2\n",
        "\n",
        "print(f\"Mi edad actual es {edad} años.\")"
      ],
      "metadata": {
        "colab": {
          "base_uri": "https://localhost:8080/"
        },
        "id": "9TZ6RJmsSkbB",
        "outputId": "5805a688-f8c0-4776-bbcb-8d3ecc03ae33"
      },
      "execution_count": null,
      "outputs": [
        {
          "output_type": "stream",
          "name": "stdout",
          "text": [
            "Mi edad actual es 28 años.\n"
          ]
        }
      ]
    },
    {
      "cell_type": "markdown",
      "source": [
        "**Ejercicio 1.3:**\n",
        "\n",
        "Crea una constante llamada DESCUENTO con valor 20. Luego, calcula el precio final de un producto que cuesta $100 aplicando el descuento y muestra el resultado en pantalla"
      ],
      "metadata": {
        "id": "5jPKZFcZUVcA"
      }
    },
    {
      "cell_type": "code",
      "source": [
        "DESCUENTO = 20\n",
        "precio_producto = 100\n",
        "\n",
        "precio_final = precio_producto - (precio_producto * (DESCUENTO / 100))\n",
        "\n",
        "print(precio_final)"
      ],
      "metadata": {
        "colab": {
          "base_uri": "https://localhost:8080/"
        },
        "id": "WRFspwIQUfHP",
        "outputId": "eb3a099f-517c-4c2b-9579-f65d532b97a2"
      },
      "execution_count": null,
      "outputs": [
        {
          "output_type": "stream",
          "name": "stdout",
          "text": [
            "80.0\n"
          ]
        }
      ]
    },
    {
      "cell_type": "markdown",
      "source": [
        "**Ejercicio 1.4:**\n",
        "\n",
        "Define dos variables, número1 y número2, y asignales valores. Luego, imprime en pantalla la ubicación en memoria de cada una de estas variables."
      ],
      "metadata": {
        "id": "p29O0EyrVhyv"
      }
    },
    {
      "cell_type": "code",
      "source": [
        "numero1 = 10\n",
        "numero2 = 20\n",
        "\n",
        "print(f\"La ubicación en memoria de número1 es: {id(numero1)}\")\n",
        "print(f\"La ubicación en memoria de número2 es: {id(numero2)}\")"
      ],
      "metadata": {
        "colab": {
          "base_uri": "https://localhost:8080/"
        },
        "id": "VuJxMtl1Vndo",
        "outputId": "315a2bad-45ff-4123-8519-6f755285d8ad"
      },
      "execution_count": null,
      "outputs": [
        {
          "output_type": "stream",
          "name": "stdout",
          "text": [
            "La ubicación en memoria de número1 es: 134086700270096\n",
            "La ubicación en memoria de número2 es: 134086700270416\n"
          ]
        }
      ]
    },
    {
      "cell_type": "markdown",
      "source": [
        "**Ejercicio 1.5:**\n",
        "\n",
        "Define una variable con un valor numérico entero y otra variable con un valor de tipo cadena. Usa el método type() para mostrar el tipo de dato de cada variable. Luego, convierte la variable entera en cadena y muestra nuevamente su tipo de dato."
      ],
      "metadata": {
        "id": "wXh0OJfNV7C4"
      }
    },
    {
      "cell_type": "code",
      "source": [
        "numero_entero = 25\n",
        "cadena_texto = \"Python\"\n",
        "\n",
        "print(type(numero_entero))\n",
        "print(type(cadena_texto))\n",
        "\n",
        "# Convertir número entero a cadena\n",
        "numero_entero = str(numero_entero)\n",
        "print(type(numero_entero))"
      ],
      "metadata": {
        "colab": {
          "base_uri": "https://localhost:8080/"
        },
        "id": "1A-wR5tFV5re",
        "outputId": "43d8274c-c396-40a4-8e07-afb345976d56"
      },
      "execution_count": null,
      "outputs": [
        {
          "output_type": "stream",
          "name": "stdout",
          "text": [
            "<class 'int'>\n",
            "<class 'str'>\n",
            "<class 'str'>\n"
          ]
        }
      ]
    },
    {
      "cell_type": "markdown",
      "source": [
        "**Ejercicio 1.6:**\n",
        "\n",
        "Define una función llamada suma que reciba dos números como argumentos y retorne la suma de esos números. Luego, llama a la función con valores de prueba e imprime el resultado."
      ],
      "metadata": {
        "id": "9baNqzwQWMlG"
      }
    },
    {
      "cell_type": "code",
      "source": [
        "def suma(a, b):\n",
        "    return a + b\n",
        "\n",
        "resultado_suma = suma(10, 5)\n",
        "print(f\"El resultado de la suma es: {resultado_suma}\")"
      ],
      "metadata": {
        "id": "Q5L9L224WSrf"
      },
      "execution_count": null,
      "outputs": []
    },
    {
      "cell_type": "markdown",
      "source": [
        "**Ejercicio 1.7:**\n",
        "\n",
        "Define dos variables, temperatura_actual y temperatura_limite. Usa condicionales anidados para imprimir un mensaje dependiendo de si la temperatura actual está por encima, por debajo o igual a la temperatura límite."
      ],
      "metadata": {
        "id": "1Pi_6-5tWZA-"
      }
    },
    {
      "cell_type": "code",
      "source": [
        "temperatura_actual = 25\n",
        "temperatura_limite = 30\n",
        "\n",
        "if temperatura_actual > temperatura_limite:\n",
        "    print(\"La temperatura está por encima del límite.\")\n",
        "elif temperatura_actual < temperatura_limite:\n",
        "    print(\"La temperatura está por debajo del límite.\")\n",
        "else:\n",
        "    print(\"La temperatura está en el límite.\")"
      ],
      "metadata": {
        "colab": {
          "base_uri": "https://localhost:8080/"
        },
        "id": "KWarmtUSW0lQ",
        "outputId": "6cf23a4a-eeed-4bd5-95e1-45af5da574c7"
      },
      "execution_count": null,
      "outputs": [
        {
          "output_type": "stream",
          "name": "stdout",
          "text": [
            "La temperatura está por debajo del límite.\n"
          ]
        }
      ]
    },
    {
      "cell_type": "markdown",
      "source": [
        "**Ejercicio 1.8:**\n",
        "\n",
        "Define tres variables: hora_actual, hora_apertura y hora_cierre. Usa condicionales con operadores lógicos para determinar si un negocio está abierto o cerrado en función de la hora actual."
      ],
      "metadata": {
        "id": "yQ-gN8ycWdVl"
      }
    },
    {
      "cell_type": "code",
      "source": [
        "hora_actual = 15\n",
        "hora_apertura = 9\n",
        "hora_cierre = 18\n",
        "\n",
        "if hora_actual >= hora_apertura and hora_actual <= hora_cierre:\n",
        "    print(\"El negocio está abierto.\")\n",
        "else:\n",
        "    print(\"El negocio está cerrado.\")"
      ],
      "metadata": {
        "colab": {
          "base_uri": "https://localhost:8080/"
        },
        "id": "uy0APj2vW_Bs",
        "outputId": "56b2b53d-d6ef-428b-d445-b24b09ceb1db"
      },
      "execution_count": null,
      "outputs": [
        {
          "output_type": "stream",
          "name": "stdout",
          "text": [
            "El negocio está abierto.\n"
          ]
        }
      ]
    },
    {
      "cell_type": "markdown",
      "source": [
        "**Ejercicio 1.9:**\n",
        "\n",
        "Define una variable llamada mes_actual y asigna un valor numérico correspondiente a un mes del año. Usa un condicional para imprimir el nombre del mes según el número proporcionado."
      ],
      "metadata": {
        "id": "Gj8VvsyFWe2H"
      }
    },
    {
      "cell_type": "code",
      "source": [
        "mes_actual = 7\n",
        "\n",
        "if mes_actual == 1:\n",
        "    print(\"Enero\")\n",
        "elif mes_actual == 2:\n",
        "    print(\"Febrero\")\n",
        "elif mes_actual == 3:\n",
        "    print(\"Marzo\")\n",
        "elif mes_actual == 4:\n",
        "    print(\"Abril\")\n",
        "elif mes_actual == 5:\n",
        "    print(\"Mayo\")\n",
        "elif mes_actual == 6:\n",
        "    print(\"Junio\")\n",
        "elif mes_actual == 7:\n",
        "    print(\"Julio\")\n",
        "elif mes_actual == 8:\n",
        "    print(\"Agosto\")\n",
        "elif mes_actual == 9:\n",
        "    print(\"Septiembre\")\n",
        "elif mes_actual == 10:\n",
        "    print(\"Octubre\")\n",
        "elif mes_actual == 11:\n",
        "    print(\"Noviembre\")\n",
        "elif mes_actual == 12:\n",
        "    print(\"Diciembre\")\n",
        "else:\n",
        "    print(\"Número de mes inválido\")"
      ],
      "metadata": {
        "id": "2ZGU6KHOXPJC"
      },
      "execution_count": null,
      "outputs": []
    },
    {
      "cell_type": "markdown",
      "source": [
        "# **💥Ejercicios clase 2**"
      ],
      "metadata": {
        "id": "cN3lSdRoGrds"
      }
    },
    {
      "cell_type": "markdown",
      "source": [
        "**✔ Parte 1: Más sobre Condicionales\n",
        "Condicionales:**\n",
        "\n",
        "1.1) Condicionales más utilizados: if/else/elif\n",
        "\n",
        "1.2) Otros condicionales: match/case"
      ],
      "metadata": {
        "id": "rRZo3U0_Jv7w"
      }
    },
    {
      "cell_type": "markdown",
      "source": [
        "**Ejercicio 2.1:**\n",
        "\n",
        "Define una variable llamada hora y asigna un valor numérico. Usa un condicional if/elif/else para imprimir un mensaje según la hora del día (mañana, tarde, noche)."
      ],
      "metadata": {
        "id": "CWmB6zpkPxK5"
      }
    },
    {
      "cell_type": "code",
      "source": [
        "#Aquí podés resolver el ejercicio. Al final de la sección verás la resolución."
      ],
      "metadata": {
        "id": "EW1giJMNTDAF"
      },
      "execution_count": null,
      "outputs": []
    },
    {
      "cell_type": "markdown",
      "source": [
        "**Ejercicio 2.2**\n",
        "\n",
        "Define una variable llamada día_semana y asigna un valor numérico del 1 al 7 para representar un día de la semana. Utiliza el condicional match/case para imprimir el nombre del día según el número proporcionado."
      ],
      "metadata": {
        "id": "1sHFInKkPz3x"
      }
    },
    {
      "cell_type": "code",
      "source": [
        "#Aquí podés resolver el ejercicio. Al final de la sección verás la resolución."
      ],
      "metadata": {
        "id": "-ieYUqzCTDwI"
      },
      "execution_count": null,
      "outputs": []
    },
    {
      "cell_type": "markdown",
      "source": [
        "**✔ Parte 2: Estructuras I**\n",
        "\n",
        "2.1) Listas\n",
        "\n",
        "2.2) Set (Conjuntos)\n",
        "\n",
        "2.3) Matrices"
      ],
      "metadata": {
        "id": "kboqHNIfKHAq"
      }
    },
    {
      "cell_type": "markdown",
      "source": [
        "**Ejercicio 2.3:**\n",
        "\n",
        "Crea una lista llamada colores con al menos 5 colores diferentes. Imprime el primer y último elemento de la lista."
      ],
      "metadata": {
        "id": "m-6viMptP1xW"
      }
    },
    {
      "cell_type": "code",
      "source": [
        "#Aquí podés resolver el ejercicio. Al final de la sección verás la resolución."
      ],
      "metadata": {
        "id": "Zn8-g5bATEpw"
      },
      "execution_count": null,
      "outputs": []
    },
    {
      "cell_type": "markdown",
      "source": [
        "**Ejercicio 2.4:**\n",
        "\n",
        "Crea una lista llamada numeros con números del 1 al 10 y un conjunto llamado pares con los números pares del 1 al 10. Imprime la suma de los números en la lista y la cantidad de elementos en el conjunto de pares."
      ],
      "metadata": {
        "id": "AUkQ_wPJP2mW"
      }
    },
    {
      "cell_type": "code",
      "source": [
        "#Aquí podés resolver el ejercicio. Al final de la sección verás la resolución."
      ],
      "metadata": {
        "id": "HunexxGgTFRJ"
      },
      "execution_count": null,
      "outputs": []
    },
    {
      "cell_type": "markdown",
      "source": [
        "**✔ Parte 3: Bucles**\n",
        "\n",
        "3.1) Bucles for\n",
        "\n",
        "3.2) Bucles while"
      ],
      "metadata": {
        "id": "rRssU_h0KXpU"
      }
    },
    {
      "cell_type": "markdown",
      "source": [
        "**Ejercicio 2.5:**\n",
        "\n",
        "Crea una matriz 3x3 llamada matriz_numeros con números del 1 al 9. Imprime la matriz completa y el valor en la posición (2, 2). (Utilizando el bucle for)"
      ],
      "metadata": {
        "id": "itRdcLg2P6hH"
      }
    },
    {
      "cell_type": "code",
      "source": [
        "#Aquí podés resolver el ejercicio. Al final de la sección verás la resolución."
      ],
      "metadata": {
        "id": "Xl8xFsW5TGT3"
      },
      "execution_count": null,
      "outputs": []
    },
    {
      "cell_type": "markdown",
      "source": [
        "**Ejercicio 2.6:**\n",
        "\n",
        "\n",
        "Crea una variable contador y asigna un valor inicial de 1. Usa un bucle while para imprimir los números del 1 al 5 y luego incrementar el contador en cada iteración."
      ],
      "metadata": {
        "id": "RHWfhK4jP8Xg"
      }
    },
    {
      "cell_type": "code",
      "source": [
        "#Aquí podés resolver el ejercicio. Al final de la sección verás la resolución."
      ],
      "metadata": {
        "id": "XlWJId87THBv"
      },
      "execution_count": null,
      "outputs": []
    },
    {
      "cell_type": "markdown",
      "source": [
        "**Ejercicio 2.7:**\n",
        "\n",
        "Crea una variable llamada suma y asigna un valor inicial de 0. Usa un bucle while con una condición que verifique que la suma sea menor que 100. En cada iteración, suma el número actual al valor de suma e imprime la suma actual."
      ],
      "metadata": {
        "id": "zeW2Oh2EIHFV"
      }
    },
    {
      "cell_type": "code",
      "source": [
        "#Aquí podés resolver el ejercicio. Al final de la sección verás la resolución."
      ],
      "metadata": {
        "id": "sVYyGk_pIL5Q"
      },
      "execution_count": null,
      "outputs": []
    },
    {
      "cell_type": "markdown",
      "source": [
        "# **✅Resueltos clase 2**"
      ],
      "metadata": {
        "id": "QukXsiA4HQut"
      }
    },
    {
      "cell_type": "markdown",
      "source": [
        "**Ejercicio 2.1:**\n",
        "\n",
        "Define una variable llamada hora y asigna un valor numérico. Usa un condicional if/elif/else para imprimir un mensaje según la hora del día (mañana, tarde, noche).\n"
      ],
      "metadata": {
        "id": "RXusW7IUXxl1"
      }
    },
    {
      "cell_type": "code",
      "source": [
        "hora = 18\n",
        "\n",
        "if hora < 12:\n",
        "    print(\"Buenos días.\")\n",
        "elif hora >= 12 and hora < 18:\n",
        "    print(\"Buenas tardes.\")\n",
        "else:\n",
        "    print(\"Buenas noches.\")"
      ],
      "metadata": {
        "id": "qxNJjBWsX0ph"
      },
      "execution_count": null,
      "outputs": []
    },
    {
      "cell_type": "markdown",
      "source": [
        "**Ejercicio 2.2:**\n",
        "\n",
        "Define una variable llamada día_semana y asigna un valor numérico del 1 al 7 para representar un día de la semana. Utiliza el condicional match/case para imprimir el nombre del día según el número proporcionado."
      ],
      "metadata": {
        "id": "8XwgPQbYYCWG"
      }
    },
    {
      "cell_type": "code",
      "source": [
        "dia_semana = 3\n",
        "\n",
        "match dia_semana:\n",
        "    case 1:\n",
        "        nombre_dia = \"Lunes\"\n",
        "    case 2:\n",
        "        nombre_dia =\"Martes\"\n",
        "    case 3:\n",
        "        nombre_dia =\"Miércoles\"\n",
        "    case 4:\n",
        "        nombre_dia =\"Jueves\"\n",
        "    case 5:\n",
        "        nombre_dia =\"Viernes\"\n",
        "    case 6:\n",
        "        nombre_dia =\"Sábado\"\n",
        "    case 7:\n",
        "        nombre_dia =\"Domingo\"\n",
        "\n",
        "print(f\"Hoy es {nombre_dia}.\")"
      ],
      "metadata": {
        "colab": {
          "base_uri": "https://localhost:8080/"
        },
        "id": "jtME37-gZVJ1",
        "outputId": "e5431835-f1d6-4424-90e0-a69182e862e9"
      },
      "execution_count": null,
      "outputs": [
        {
          "output_type": "stream",
          "name": "stdout",
          "text": [
            "Hoy es Miércoles.\n"
          ]
        }
      ]
    },
    {
      "cell_type": "markdown",
      "source": [
        "**Ejercicio 2.3:**\n",
        "\n",
        "Crea una lista llamada colores con al menos 5 colores diferentes. Imprime el primer y último elemento de la lista."
      ],
      "metadata": {
        "id": "qKMA2JdzYG1f"
      }
    },
    {
      "cell_type": "code",
      "source": [
        "colores = [\"rojo\", \"azul\", \"verde\", \"amarillo\", \"naranja\"]\n",
        "\n",
        "primer_color = colores[0]\n",
        "ultimo_color = colores[-1]\n",
        "\n",
        "print(f\"Primer color: {primer_color}\")\n",
        "print(f\"Último color: {ultimo_color}\")"
      ],
      "metadata": {
        "colab": {
          "base_uri": "https://localhost:8080/"
        },
        "id": "6AaonFdaHEeg",
        "outputId": "6a1907e2-4ad8-45fe-d51a-3952622f8cb1"
      },
      "execution_count": null,
      "outputs": [
        {
          "output_type": "stream",
          "name": "stdout",
          "text": [
            "Primer color: rojo\n",
            "Último color: naranja\n"
          ]
        }
      ]
    },
    {
      "cell_type": "markdown",
      "source": [
        "**Ejercicio 2.4:**\n",
        "\n",
        "Crea una lista llamada numeros con números del 1 al 10 y un conjunto llamado pares con los números pares del 1 al 10. Imprime la suma de los números en la lista y la cantidad de elementos en el conjunto de pares."
      ],
      "metadata": {
        "id": "xrP9Q9X8YIWd"
      }
    },
    {
      "cell_type": "code",
      "source": [
        "numeros = [1, 2, 3, 4, 5, 6, 7, 8, 9, 10]\n",
        "pares = {2, 4, 6, 8, 10}\n",
        "\n",
        "suma_numeros = sum(numeros)\n",
        "cantidad_pares = len(pares)\n",
        "\n",
        "print(f\"Suma de números en la lista: {suma_numeros}\")\n",
        "print(f\"Cantidad de elementos en el conjunto de pares: {cantidad_pares}\")"
      ],
      "metadata": {
        "colab": {
          "base_uri": "https://localhost:8080/"
        },
        "id": "1yGad52bHXdI",
        "outputId": "4737101d-4e67-49d0-8abe-3b1ff34a33b6"
      },
      "execution_count": null,
      "outputs": [
        {
          "output_type": "stream",
          "name": "stdout",
          "text": [
            "Suma de números en la lista: 55\n",
            "Cantidad de elementos en el conjunto de pares: 5\n"
          ]
        }
      ]
    },
    {
      "cell_type": "markdown",
      "source": [
        "**Ejercicio 2.5:**\n",
        "\n",
        "Crea una matriz 3x3 llamada matriz_numeros con números del 1 al 9. Imprime la matriz completa y el valor en la posición (2, 2). (Utilizando el bucle for)"
      ],
      "metadata": {
        "id": "tauvhlDOYKF2"
      }
    },
    {
      "cell_type": "code",
      "source": [
        "matriz_numeros = [\n",
        "    [1, 2, 3],\n",
        "    [4, 5, 6],\n",
        "    [7, 8, 9]\n",
        "]\n",
        "\n",
        "print(\"Matriz completa:\")\n",
        "for fila in matriz_numeros:\n",
        "    print(fila)\n",
        "\n",
        "valor_posicion_22 = matriz_numeros[2][2]\n",
        "print(f\"Valor en la posición (2, 2): {valor_posicion_22}\")"
      ],
      "metadata": {
        "colab": {
          "base_uri": "https://localhost:8080/"
        },
        "id": "qpdjtjmfHm-n",
        "outputId": "1fa20414-4d2b-4bbb-d202-4af8a149394a"
      },
      "execution_count": null,
      "outputs": [
        {
          "output_type": "stream",
          "name": "stdout",
          "text": [
            "Matriz completa:\n",
            "[1, 2, 3]\n",
            "[4, 5, 6]\n",
            "[7, 8, 9]\n",
            "Valor en la posición (2, 2): 9\n"
          ]
        }
      ]
    },
    {
      "cell_type": "markdown",
      "source": [
        "\n",
        "\n",
        "**Ejercicio 2.6:**\n",
        "\n",
        "Crea una variable contador y asigna un valor inicial de 1. Usa un bucle while para imprimir los números del 1 al 5 y luego incrementar el contador en cada iteración."
      ],
      "metadata": {
        "id": "fG-IkfZAH0k5"
      }
    },
    {
      "cell_type": "code",
      "source": [
        "contador = 1\n",
        "\n",
        "while contador <= 5:\n",
        "    print(contador)\n",
        "    contador += 1"
      ],
      "metadata": {
        "colab": {
          "base_uri": "https://localhost:8080/"
        },
        "id": "ufF6XmHSH9Pw",
        "outputId": "893d26c9-8e31-400b-b091-4abd62dc6ef3"
      },
      "execution_count": null,
      "outputs": [
        {
          "output_type": "stream",
          "name": "stdout",
          "text": [
            "1\n",
            "2\n",
            "3\n",
            "4\n",
            "5\n"
          ]
        }
      ]
    },
    {
      "cell_type": "markdown",
      "source": [
        "**Ejercicio 2.7:**\n",
        "\n",
        "Crea una variable llamada suma y asigna un valor inicial de 0. Usa un bucle while con una condición que verifique que la suma sea menor que 100. En cada iteración, suma el número actual al valor de suma e imprime la suma actual."
      ],
      "metadata": {
        "id": "v8dAqz9gIUJ3"
      }
    },
    {
      "cell_type": "code",
      "source": [
        "suma = 0\n",
        "numero_actual = 1\n",
        "\n",
        "while suma < 100:\n",
        "    suma += numero_actual\n",
        "    print(f\"Suma actual: {suma}\")\n",
        "    numero_actual += 1"
      ],
      "metadata": {
        "colab": {
          "base_uri": "https://localhost:8080/"
        },
        "id": "Mlu3wgTSIWuW",
        "outputId": "499cb22d-f0c1-4c69-c746-a6557d41544c"
      },
      "execution_count": null,
      "outputs": [
        {
          "output_type": "stream",
          "name": "stdout",
          "text": [
            "Suma actual: 1\n",
            "Suma actual: 3\n",
            "Suma actual: 6\n",
            "Suma actual: 10\n",
            "Suma actual: 15\n",
            "Suma actual: 21\n",
            "Suma actual: 28\n",
            "Suma actual: 36\n",
            "Suma actual: 45\n",
            "Suma actual: 55\n",
            "Suma actual: 66\n",
            "Suma actual: 78\n",
            "Suma actual: 91\n",
            "Suma actual: 105\n"
          ]
        }
      ]
    },
    {
      "cell_type": "markdown",
      "source": [
        "# **💥Ejercicios clase 3**"
      ],
      "metadata": {
        "id": "ApNjogGYGv38"
      }
    },
    {
      "cell_type": "markdown",
      "source": [
        "**✔Parte 1: Diccionarios y Tuplas. Conversiones de Tipos**\n",
        "\n",
        "1) Diccionarios\n",
        "\n",
        "2)Tuplas\n",
        "\n",
        "3)Conversiones de tipos"
      ],
      "metadata": {
        "id": "AHsIaQZRLAcG"
      }
    },
    {
      "cell_type": "markdown",
      "source": [
        "**Ejercicio 3.1:**\n",
        "\n",
        "Crea un diccionario llamado precios con al menos tres pares clave-valor representando productos y sus precios. Calcula e imprime el precio total de todos los productos en el diccionario."
      ],
      "metadata": {
        "id": "Z59K7MwjP_uQ"
      }
    },
    {
      "cell_type": "code",
      "source": [
        "#Aquí podés resolver el ejercicio. Al final de la sección verás la resolución."
      ],
      "metadata": {
        "id": "b-3-qxWzTIa_"
      },
      "execution_count": null,
      "outputs": []
    },
    {
      "cell_type": "markdown",
      "source": [
        "**Ejercicio 3.2:**\n",
        "\n",
        "Crea una tupla llamada frutas con al menos tres nombres de frutas. Imprime la tupla completa y accede a cada elemento por su índice para imprimirlos individualmente."
      ],
      "metadata": {
        "id": "6SX1QGEXQBWw"
      }
    },
    {
      "cell_type": "code",
      "source": [
        "#Aquí podés resolver el ejercicio. Al final de la sección verás la resolución."
      ],
      "metadata": {
        "id": "0Xe0Z267TJLg"
      },
      "execution_count": null,
      "outputs": []
    },
    {
      "cell_type": "markdown",
      "source": [
        "**Ejercicio 3.3:**\n",
        "\n",
        "Crea un diccionario llamado datos con información personal (nombre, edad, ciudad, país). Imprime las claves, valores y pares clave-valor del diccionario utilizando los métodos keys(), values() e items()."
      ],
      "metadata": {
        "id": "PLgsN7l9QUUo"
      }
    },
    {
      "cell_type": "code",
      "source": [
        "#Aquí podés resolver el ejercicio. Al final de la sección verás la resolución."
      ],
      "metadata": {
        "id": "Im4spr0iTKA4"
      },
      "execution_count": null,
      "outputs": []
    },
    {
      "cell_type": "markdown",
      "source": [
        "**✔Parte 2: Funciones**\n",
        "1)Definición de una función\n",
        "2)Argumentos de una función\n",
        "3) Packing & Unpacking"
      ],
      "metadata": {
        "id": "OWPDI-gaLw4f"
      }
    },
    {
      "cell_type": "markdown",
      "source": [
        "**Ejercicio 3.4:**\n",
        "\n",
        "Crea un diccionario llamado capitales con al menos tres pares clave-valor representando países y sus capitales. Usa el método keys() para imprimir todas las claves del diccionario."
      ],
      "metadata": {
        "id": "ilmddLbgQDPp"
      }
    },
    {
      "cell_type": "code",
      "source": [
        "#Aquí podés resolver el ejercicio. Al final de la sección verás la resolución."
      ],
      "metadata": {
        "id": "e2a_HlGeTKv1"
      },
      "execution_count": null,
      "outputs": []
    },
    {
      "cell_type": "markdown",
      "source": [
        "\n",
        "**Ejercicio 3.5:**\n",
        "\n",
        "Usa el diccionario capitales del ejercicio anterior y el método values() para imprimir todas los valores del diccionario."
      ],
      "metadata": {
        "id": "e6Msh3TgQHTB"
      }
    },
    {
      "cell_type": "code",
      "source": [
        "#Aquí podés resolver el ejercicio. Al final de la sección verás la resolución."
      ],
      "metadata": {
        "id": "tIKUYOJcTLk4"
      },
      "execution_count": null,
      "outputs": []
    },
    {
      "cell_type": "markdown",
      "source": [
        "**Ejercicio 3.6:**\n",
        "\n",
        "Usa el diccionario capitales del ejercicio anterior y el método items() para imprimir todos los pares clave-valor del diccionario."
      ],
      "metadata": {
        "id": "0jlQk2yDQLMo"
      }
    },
    {
      "cell_type": "code",
      "source": [
        "#Aquí podés resolver el ejercicio. Al final de la sección verás la resolución."
      ],
      "metadata": {
        "id": "ImI7jGbdTMNJ"
      },
      "execution_count": null,
      "outputs": []
    },
    {
      "cell_type": "markdown",
      "source": [
        "**Ejercicio 3.7:**\n",
        "\n",
        "Crea un diccionario llamado deportes con algunos deportes y sus jugadores favoritos. Luego, crea otro diccionario llamado nuevos_deportes con más deportes y jugadores favoritos. Utiliza el método update() para agregar los nuevos deportes y jugadores al diccionario original. *texto en cursiva*"
      ],
      "metadata": {
        "id": "LFHo1M9ILCKJ"
      }
    },
    {
      "cell_type": "code",
      "source": [
        "#Aquí podés resolver el ejercicio. Al final de la sección verás la resolución."
      ],
      "metadata": {
        "id": "9SvU5ZEILdYQ"
      },
      "execution_count": null,
      "outputs": []
    },
    {
      "cell_type": "markdown",
      "source": [
        "**Ejercicio 3.8:**\n",
        "\n",
        "Usa el diccionario deportes del ejercicio anterior y el método pop() para eliminar el deporte \"tenis\" y su jugador favorito del diccionario."
      ],
      "metadata": {
        "id": "pmaXZ7YnLdwv"
      }
    },
    {
      "cell_type": "code",
      "source": [
        "#Aquí podés resolver el ejercicio. Al final de la sección verás la resolución."
      ],
      "metadata": {
        "id": "zlJe5G9WLtEq"
      },
      "execution_count": null,
      "outputs": []
    },
    {
      "cell_type": "markdown",
      "source": [
        "**Ejercicio 3.9:**\n",
        "\n",
        "Copia el diccionario deportes en un nuevo diccionario llamado deportes_copia utilizando el método copy(). Modifica el nombre de un jugador en el diccionario copiado y verifica que el diccionario original no haya sido alterado."
      ],
      "metadata": {
        "id": "0qpF73hrMAEH"
      }
    },
    {
      "cell_type": "markdown",
      "source": [
        "# **✅Resueltos clase 3**"
      ],
      "metadata": {
        "id": "FbrWWOW1HTLm"
      }
    },
    {
      "cell_type": "markdown",
      "source": [
        "**Ejercicio 3.1:**\n",
        "\n",
        "Crea un diccionario llamado precios con al menos tres pares clave-valor representando productos y sus precios. Calcula e imprime el precio total de todos los productos en el diccionario."
      ],
      "metadata": {
        "id": "G3Zm-zjzI6rn"
      }
    },
    {
      "cell_type": "code",
      "source": [
        "precios = {\n",
        "    \"manzana\": 1.5,\n",
        "    \"banana\": 2.0,\n",
        "    \"pera\": 1.75\n",
        "}\n",
        "\n",
        "precio_total = sum(precios.values())\n",
        "\n",
        "print(f\"Precio total de los productos: ${precio_total}\")"
      ],
      "metadata": {
        "id": "IbjWgbCbI7r3"
      },
      "execution_count": null,
      "outputs": []
    },
    {
      "cell_type": "markdown",
      "source": [
        "**Ejercicio 3.2:**\n",
        "\n",
        "Crea una tupla llamada frutas con al menos tres nombres de frutas. Imprime la tupla completa y accede a cada elemento por su índice para imprimirlos individualmente."
      ],
      "metadata": {
        "id": "3EIdRMebIp0U"
      }
    },
    {
      "cell_type": "code",
      "source": [
        "frutas = (\"manzana\", \"banana\", \"pera\")\n",
        "\n",
        "print(\"Tupla completa:\")\n",
        "print(frutas)\n",
        "\n",
        "print(f\"Primera fruta: {frutas[0]}\")\n",
        "print(f\"Segunda fruta: {frutas[1]}\")\n",
        "print(f\"Tercera fruta: {frutas[2]}\")"
      ],
      "metadata": {
        "id": "-n04OlApIrjk"
      },
      "execution_count": null,
      "outputs": []
    },
    {
      "cell_type": "markdown",
      "source": [
        "**Ejercicio 3.3:**\n",
        "\n",
        "Crea un diccionario llamado datos con información personal (nombre, edad, ciudad, país). Imprime las claves, valores y pares clave-valor del diccionario utilizando los métodos keys(), values() e items()."
      ],
      "metadata": {
        "id": "AriO-PjGJWSX"
      }
    },
    {
      "cell_type": "code",
      "source": [
        "datos = {\n",
        "    \"nombre\": \"María\",\n",
        "    \"edad\": 30,\n",
        "    \"ciudad\": \"Barcelona\",\n",
        "    \"país\": \"España\"\n",
        "}\n",
        "\n",
        "print(\"Claves del diccionario:\")\n",
        "for clave in datos.keys():\n",
        "    print(clave)\n",
        "\n",
        "print(\"\\nValores del diccionario:\")\n",
        "for valor in datos.values():\n",
        "    print(valor)\n",
        "\n",
        "print(\"\\nPares clave-valor del diccionario:\")\n",
        "for clave, valor in datos.items():\n",
        "    print(f\"{clave}: {valor}\")"
      ],
      "metadata": {
        "colab": {
          "base_uri": "https://localhost:8080/"
        },
        "id": "x7tAaLxUJYuo",
        "outputId": "d2c3c8aa-0e12-49d0-aee2-cd398c95bb42"
      },
      "execution_count": null,
      "outputs": [
        {
          "output_type": "stream",
          "name": "stdout",
          "text": [
            "Claves del diccionario:\n",
            "nombre\n",
            "edad\n",
            "ciudad\n",
            "país\n",
            "\n",
            "Valores del diccionario:\n",
            "María\n",
            "30\n",
            "Barcelona\n",
            "España\n",
            "\n",
            "Pares clave-valor del diccionario:\n",
            "nombre: María\n",
            "edad: 30\n",
            "ciudad: Barcelona\n",
            "país: España\n"
          ]
        }
      ]
    },
    {
      "cell_type": "markdown",
      "source": [
        "**Ejercicio 3.4:**\n",
        "\n",
        "Crea un diccionario llamado capitales con al menos tres pares clave-valor representando países y sus capitales. Usa el método keys() para imprimir todas las claves del diccionario."
      ],
      "metadata": {
        "id": "pueTksunJ-nY"
      }
    },
    {
      "cell_type": "code",
      "source": [
        "capitales = {\n",
        "    \"España\": \"Madrid\",\n",
        "    \"Francia\": \"París\",\n",
        "    \"Italia\": \"Roma\"\n",
        "}\n",
        "\n",
        "claves = capitales.keys()\n",
        "\n",
        "print(\"Claves del diccionario:\")\n",
        "for clave in claves:\n",
        "    print(clave)"
      ],
      "metadata": {
        "colab": {
          "base_uri": "https://localhost:8080/"
        },
        "id": "u-SGeiwgKBV3",
        "outputId": "2fe1e511-ab91-4cee-e44c-4f50766e32f9"
      },
      "execution_count": null,
      "outputs": [
        {
          "output_type": "stream",
          "name": "stdout",
          "text": [
            "Claves del diccionario:\n",
            "España\n",
            "Francia\n",
            "Italia\n"
          ]
        }
      ]
    },
    {
      "cell_type": "markdown",
      "source": [
        "\n",
        "**Ejercicio 3.5:**\n",
        "\n",
        "Usa el diccionario capitales del ejercicio anterior y el método values() para imprimir todas los valores del diccionario."
      ],
      "metadata": {
        "id": "GtwjXeXIKKF_"
      }
    },
    {
      "cell_type": "code",
      "source": [
        "valores = capitales.values()\n",
        "\n",
        "print(\"Valores del diccionario:\")\n",
        "for valor in valores:\n",
        "    print(valor)"
      ],
      "metadata": {
        "colab": {
          "base_uri": "https://localhost:8080/"
        },
        "id": "h92o-YINKMWv",
        "outputId": "e0603796-f6eb-45fe-ead4-94f4aaa9af16"
      },
      "execution_count": null,
      "outputs": [
        {
          "output_type": "stream",
          "name": "stdout",
          "text": [
            "Valores del diccionario:\n",
            "Madrid\n",
            "París\n",
            "Roma\n"
          ]
        }
      ]
    },
    {
      "cell_type": "markdown",
      "source": [
        "**Ejercicio 3.6:**\n",
        "\n",
        "Usa el diccionario capitales del ejercicio anterior y el método items() para imprimir todos los pares clave-valor del diccionario."
      ],
      "metadata": {
        "id": "Dh4HIoSRKUUf"
      }
    },
    {
      "cell_type": "code",
      "source": [
        "pares = capitales.items()\n",
        "\n",
        "print(\"Pares clave-valor del diccionario:\")\n",
        "for clave, valor in pares:\n",
        "    print(f\"{clave}: {valor}\")"
      ],
      "metadata": {
        "colab": {
          "base_uri": "https://localhost:8080/"
        },
        "id": "7ADWborcKWx-",
        "outputId": "71c0b3f4-b933-402a-e950-bd51d0a67e9d"
      },
      "execution_count": null,
      "outputs": [
        {
          "output_type": "stream",
          "name": "stdout",
          "text": [
            "Pares clave-valor del diccionario:\n",
            "España: Madrid\n",
            "Francia: París\n",
            "Italia: Roma\n"
          ]
        }
      ]
    },
    {
      "cell_type": "markdown",
      "source": [
        "**Ejercicio 3.7:**\n",
        "\n",
        "Crea un diccionario llamado deportes con algunos deportes y sus jugadores favoritos. Luego, crea otro diccionario llamado nuevos_deportes con más deportes y jugadores favoritos. Utiliza el método update() para agregar los nuevos deportes y jugadores al diccionario original."
      ],
      "metadata": {
        "id": "R1GbY-E0LRwB"
      }
    },
    {
      "cell_type": "code",
      "source": [
        "deportes = {\n",
        "    \"fútbol\": \"Messi\",\n",
        "    \"tenis\": \"Nadal\",\n",
        "    \"baloncesto\": \"LeBron James\"\n",
        "}\n",
        "\n",
        "nuevos_deportes = {\n",
        "    \"golf\": \"Tiger Woods\",\n",
        "    \"natación\": \"Michael Phelps\"\n",
        "}\n",
        "\n",
        "deportes.update(nuevos_deportes)\n",
        "\n",
        "print(\"Diccionario actualizado:\")\n",
        "print(deportes)"
      ],
      "metadata": {
        "colab": {
          "base_uri": "https://localhost:8080/"
        },
        "id": "h0_gMf2cLV8W",
        "outputId": "0e1174d7-3410-4196-c6cd-133a97a42714"
      },
      "execution_count": null,
      "outputs": [
        {
          "output_type": "stream",
          "name": "stdout",
          "text": [
            "Diccionario actualizado:\n",
            "{'fútbol': 'Messi', 'tenis': 'Nadal', 'baloncesto': 'LeBron James', 'golf': 'Tiger Woods', 'natación': 'Michael Phelps'}\n"
          ]
        }
      ]
    },
    {
      "cell_type": "markdown",
      "source": [
        "**Ejercicio 3.8:**\n",
        "\n",
        "Usa el diccionario deportes del ejercicio anterior y el método pop() para eliminar el deporte \"tenis\" y su jugador favorito del diccionario."
      ],
      "metadata": {
        "id": "rxH5nOIkL3P_"
      }
    },
    {
      "cell_type": "code",
      "source": [
        "deporte_eliminado = deportes.pop(\"tenis\")\n",
        "\n",
        "print(\"Deporte eliminado:\")\n",
        "print(deporte_eliminado)\n",
        "\n",
        "print(\"\\nDiccionario actualizado:\")\n",
        "print(deportes)"
      ],
      "metadata": {
        "colab": {
          "base_uri": "https://localhost:8080/"
        },
        "id": "QmEJ0fT0L51I",
        "outputId": "0492a24e-d72f-4ccf-fac0-e8ef3e60f7a5"
      },
      "execution_count": null,
      "outputs": [
        {
          "output_type": "stream",
          "name": "stdout",
          "text": [
            "Deporte eliminado:\n",
            "Nadal\n",
            "\n",
            "Diccionario actualizado:\n",
            "{'fútbol': 'Messi', 'baloncesto': 'LeBron James', 'golf': 'Tiger Woods', 'natación': 'Michael Phelps'}\n"
          ]
        }
      ]
    },
    {
      "cell_type": "markdown",
      "source": [
        "**Ejercicio 3.9:**\n",
        "\n",
        "Copia el diccionario deportes en un nuevo diccionario llamado deportes_copia utilizando el método copy(). Modifica el nombre de un jugador en el diccionario copiado y verifica que el diccionario original no haya sido alterado."
      ],
      "metadata": {
        "id": "UEqfUF5dMHan"
      }
    },
    {
      "cell_type": "code",
      "source": [
        "deportes_copia = deportes.copy()\n",
        "\n",
        "deportes_copia[\"fútbol\"] = \"Cristiano Ronaldo\"\n",
        "\n",
        "print(\"Diccionario original:\")\n",
        "print(deportes)\n",
        "\n",
        "print(\"\\nDiccionario copiado con modificación:\")\n",
        "print(deportes_copia)"
      ],
      "metadata": {
        "id": "yIMCnpYpMKMx"
      },
      "execution_count": null,
      "outputs": []
    },
    {
      "cell_type": "markdown",
      "source": [
        "# **💥Ejercicios clase 4**"
      ],
      "metadata": {
        "id": "6JTdrcXGG3jl"
      }
    },
    {
      "cell_type": "markdown",
      "source": [
        "**✔ Parte 1: Manejo de Excepciones**\n",
        "\n",
        "1.1) Función sin capturar excepciones\n",
        "\n",
        "1.2) Capturando error de manera genérica\n",
        "\n",
        "1.3) Capturando ZeroDivisionError\n",
        "\n",
        "1.4)Especificando varias excepciones\n",
        "\n",
        "1.5) Cuando no conocemos qué excepción se puede dar podemos dejarla vacío o imprimirla en pantalla\n",
        "\n",
        "1.6) Cubriendo más casos"
      ],
      "metadata": {
        "id": "M6GJP7BMMJ0W"
      }
    },
    {
      "cell_type": "markdown",
      "source": [
        "**Ejercicio 4.1:**\n",
        "\n",
        "Crea una función llamada division que reciba dos números y realice la división del primero entre el segundo. Llama a la función sin ningún manejo de excepciones y provoca una división por cero para ver el error.\n"
      ],
      "metadata": {
        "id": "LAklyjsRQboH"
      }
    },
    {
      "cell_type": "code",
      "source": [
        "#Aquí podés resolver el ejercicio. Al final de la sección verás la resolución."
      ],
      "metadata": {
        "id": "yH75D3cBTNxQ"
      },
      "execution_count": null,
      "outputs": []
    },
    {
      "cell_type": "markdown",
      "source": [
        "**Ejercicio 4.2:**\n",
        "\n",
        "\n",
        "Modifica la función `division` para que el divisor sea una cadena en lugar de un número. Captura el tipo de error que se produce al intentar dividir por una cadena y muestra un mensaje de error adecuado."
      ],
      "metadata": {
        "id": "G7AORFhNQdCA"
      }
    },
    {
      "cell_type": "code",
      "source": [
        "#Aquí podés resolver el ejercicio. Al final de la sección verás la resolución."
      ],
      "metadata": {
        "id": "m2-J_7nPTOfv"
      },
      "execution_count": null,
      "outputs": []
    },
    {
      "cell_type": "markdown",
      "source": [
        "**Ejercicio 4.3:**\n",
        "\n",
        "Crea una función `convertir_a_entero` para capturar el error que se produce al intentar convertir una cadena que no representa un número entero a entero. Muestra un mensaje de error específico."
      ],
      "metadata": {
        "id": "mRn15UABQewy"
      }
    },
    {
      "cell_type": "code",
      "source": [
        "#Aquí podés resolver el ejercicio. Al final de la sección verás la resolución."
      ],
      "metadata": {
        "id": "YDwNVunMTPWW"
      },
      "execution_count": null,
      "outputs": []
    },
    {
      "cell_type": "markdown",
      "source": [
        "**Ejercicio 4.4:**\n",
        "\n",
        "Crea una lista llamada `colores` con algunos colores. Intenta acceder a un índice que está fuera del rango de la lista y captura el error que se produce. Muestra un mensaje de error apropiado."
      ],
      "metadata": {
        "id": "Z-vTqY1IPOdn"
      }
    },
    {
      "cell_type": "code",
      "source": [
        "#Aquí podés resolver el ejercicio. Al final de la sección verás la resolución."
      ],
      "metadata": {
        "id": "55olTpHfPXYs"
      },
      "execution_count": null,
      "outputs": []
    },
    {
      "cell_type": "markdown",
      "source": [
        "**Ejercicio 4.5:**\n",
        "\n",
        "Intenta imprimir el valor de una variable que no ha sido definida previamente y captura el error que se produce. Muestra un mensaje de error apropiado."
      ],
      "metadata": {
        "id": "ZOXcv3DqPpPO"
      }
    },
    {
      "cell_type": "markdown",
      "source": [
        "**✔ Parte 2: Librerias externas (o paquetes)**\n",
        "\n",
        "2.1) Random\n",
        "\n",
        "2.1.1) Método randint\n",
        "\n",
        "2.1.2) Método random()\n",
        "\n",
        "2.1.3) Mezclar una lista aleatoriamente\n",
        "\n",
        "2.1.4) Elegir un número aleatorio de una secuencia: choice()\n",
        "\n",
        "2.1.5) Funciones estadísticas: Generamos una distribución discreta\n",
        "\n",
        "2.1.6) Funciones estadísticas: Generamos una distribución normal\n",
        "\n",
        "2.2) Math\n",
        "\n",
        "2.2.1) Funciones trigonométricas: seno y coseno\n",
        "\n",
        "2.2.2) Funcion exponencial y logarítmica\n",
        "\n",
        "2.2.3) Redondeo: Hacia arriba ceil() y hacia abajo floor()\n",
        "\n",
        "2.2.4) Obtener constantes matemáticas"
      ],
      "metadata": {
        "id": "DkXUysaTMVHv"
      }
    },
    {
      "cell_type": "markdown",
      "source": [
        "**Ejercicio 4.6:**\n",
        "\n",
        "Genera dos números aleatorios enteros entre 1 y 10 utilizando los métodos randint y random del módulo random. Imprime ambos números."
      ],
      "metadata": {
        "id": "gr9VhjCLQhZR"
      }
    },
    {
      "cell_type": "code",
      "source": [
        "#Aquí podés resolver el ejercicio. Al final de la sección verás la resolución."
      ],
      "metadata": {
        "id": "cHHhrLUPTQXp"
      },
      "execution_count": null,
      "outputs": []
    },
    {
      "cell_type": "markdown",
      "source": [
        "**Ejercicio 4.7:**\n",
        "\n",
        "Genera una distribución discreta de números aleatorios con valores entre 1 y 10, y con una probabilidad de ocurrencia para cada número. Imprime la distribución generada."
      ],
      "metadata": {
        "id": "QRmXa56AQi-A"
      }
    },
    {
      "cell_type": "code",
      "source": [
        "#Aquí podés resolver el ejercicio. Al final de la sección verás la resolución."
      ],
      "metadata": {
        "id": "mkqHlulqTRGA"
      },
      "execution_count": null,
      "outputs": []
    },
    {
      "cell_type": "markdown",
      "source": [
        "**Ejercicio 4.8:**\n",
        "\n",
        "Calcula el seno y el coseno de un ángulo dado en radianes utilizando las funciones sin y cos del módulo math. Imprime los resultados."
      ],
      "metadata": {
        "id": "KO0Z7Gg0Qk0h"
      }
    },
    {
      "cell_type": "code",
      "source": [
        "#Aquí podés resolver el ejercicio. Al final de la sección verás la resolución."
      ],
      "metadata": {
        "id": "3URMc2b9TRt5"
      },
      "execution_count": null,
      "outputs": []
    },
    {
      "cell_type": "markdown",
      "source": [
        "**Ejercicio 4.9:**\n",
        "\n",
        "Redondea el número 4.7 hacia arriba utilizando la función ceil del módulo math y redondea el número 4.3 hacia abajo utilizando la función floor del módulo math. Imprime los resultados."
      ],
      "metadata": {
        "id": "gumn7NJERHf2"
      }
    },
    {
      "cell_type": "code",
      "source": [
        "#Aquí podés resolver el ejercicio. Al final de la sección verás la resolución."
      ],
      "metadata": {
        "id": "gx-lYa8mRZtV"
      },
      "execution_count": null,
      "outputs": []
    },
    {
      "cell_type": "markdown",
      "source": [
        "**Ejercicio 4.10:**  \n",
        "\n",
        "Obtén el valor de pi utilizando la constante pi del módulo math y el valor de la constante de Euler (e) utilizando la constante e del módulo math. Imprime los resultados."
      ],
      "metadata": {
        "id": "V8lrvAaFRqnF"
      }
    },
    {
      "cell_type": "code",
      "source": [
        "#Aquí podés resolver el ejercicio. Al final de la sección verás la resolución."
      ],
      "metadata": {
        "id": "KGcrxTjkRuL9"
      },
      "execution_count": null,
      "outputs": []
    },
    {
      "cell_type": "markdown",
      "source": [
        "# **✅Resueltos clase 4**"
      ],
      "metadata": {
        "id": "dGcH60s4HbRl"
      }
    },
    {
      "cell_type": "markdown",
      "source": [
        "**Ejercicio 4.1:**\n",
        "\n",
        "Crea una función llamada division que reciba dos números y realice la división del primero entre el segundo. Llama a la función sin ningún manejo de excepciones y provoca una división por cero para ver el error."
      ],
      "metadata": {
        "id": "Fh1EZWMtOL5m"
      }
    },
    {
      "cell_type": "code",
      "source": [
        "def division(a, b):\n",
        "    resultado = a / b\n",
        "    return resultado\n",
        "\n",
        "# Llamada a la función sin manejo de excepciones\n",
        "resultado = division(10, 0)\n",
        "print(resultado)"
      ],
      "metadata": {
        "colab": {
          "base_uri": "https://localhost:8080/",
          "height": 315
        },
        "id": "9cduQvavOO7P",
        "outputId": "ca02326d-9f8d-4e25-ec11-fca1597a41cd"
      },
      "execution_count": null,
      "outputs": [
        {
          "output_type": "error",
          "ename": "ZeroDivisionError",
          "evalue": "division by zero",
          "traceback": [
            "\u001b[0;31m---------------------------------------------------------------------------\u001b[0m",
            "\u001b[0;31mZeroDivisionError\u001b[0m                         Traceback (most recent call last)",
            "\u001b[0;32m<ipython-input-18-c2257e5d338e>\u001b[0m in \u001b[0;36m<cell line: 6>\u001b[0;34m()\u001b[0m\n\u001b[1;32m      4\u001b[0m \u001b[0;34m\u001b[0m\u001b[0m\n\u001b[1;32m      5\u001b[0m \u001b[0;31m# Llamada a la función sin manejo de excepciones\u001b[0m\u001b[0;34m\u001b[0m\u001b[0;34m\u001b[0m\u001b[0m\n\u001b[0;32m----> 6\u001b[0;31m \u001b[0mresultado\u001b[0m \u001b[0;34m=\u001b[0m \u001b[0mdivision\u001b[0m\u001b[0;34m(\u001b[0m\u001b[0;36m10\u001b[0m\u001b[0;34m,\u001b[0m \u001b[0;36m0\u001b[0m\u001b[0;34m)\u001b[0m\u001b[0;34m\u001b[0m\u001b[0;34m\u001b[0m\u001b[0m\n\u001b[0m\u001b[1;32m      7\u001b[0m \u001b[0mprint\u001b[0m\u001b[0;34m(\u001b[0m\u001b[0mresultado\u001b[0m\u001b[0;34m)\u001b[0m\u001b[0;34m\u001b[0m\u001b[0;34m\u001b[0m\u001b[0m\n",
            "\u001b[0;32m<ipython-input-18-c2257e5d338e>\u001b[0m in \u001b[0;36mdivision\u001b[0;34m(a, b)\u001b[0m\n\u001b[1;32m      1\u001b[0m \u001b[0;32mdef\u001b[0m \u001b[0mdivision\u001b[0m\u001b[0;34m(\u001b[0m\u001b[0ma\u001b[0m\u001b[0;34m,\u001b[0m \u001b[0mb\u001b[0m\u001b[0;34m)\u001b[0m\u001b[0;34m:\u001b[0m\u001b[0;34m\u001b[0m\u001b[0;34m\u001b[0m\u001b[0m\n\u001b[0;32m----> 2\u001b[0;31m     \u001b[0mresultado\u001b[0m \u001b[0;34m=\u001b[0m \u001b[0ma\u001b[0m \u001b[0;34m/\u001b[0m \u001b[0mb\u001b[0m\u001b[0;34m\u001b[0m\u001b[0;34m\u001b[0m\u001b[0m\n\u001b[0m\u001b[1;32m      3\u001b[0m     \u001b[0;32mreturn\u001b[0m \u001b[0mresultado\u001b[0m\u001b[0;34m\u001b[0m\u001b[0;34m\u001b[0m\u001b[0m\n\u001b[1;32m      4\u001b[0m \u001b[0;34m\u001b[0m\u001b[0m\n\u001b[1;32m      5\u001b[0m \u001b[0;31m# Llamada a la función sin manejo de excepciones\u001b[0m\u001b[0;34m\u001b[0m\u001b[0;34m\u001b[0m\u001b[0m\n",
            "\u001b[0;31mZeroDivisionError\u001b[0m: division by zero"
          ]
        }
      ]
    },
    {
      "cell_type": "markdown",
      "source": [
        "**Ejercicio 4.2:**\n",
        "\n",
        "\n",
        "Modifica la función `division` para que el divisor sea una cadena en lugar de un número. Captura el tipo de error que se produce al intentar dividir por una cadena y muestra un mensaje de error adecuado."
      ],
      "metadata": {
        "id": "MDU15clPOk0w"
      }
    },
    {
      "cell_type": "code",
      "source": [
        "def division(a, b):\n",
        "    try:\n",
        "        resultado = a / b\n",
        "        return resultado\n",
        "    except TypeError:\n",
        "        print(\"Error: No se puede dividir por una cadena.\")\n",
        "\n",
        "# Llamada a la función con divisor como cadena\n",
        "resultado = division(10, \"cadena\")"
      ],
      "metadata": {
        "colab": {
          "base_uri": "https://localhost:8080/"
        },
        "id": "fLoHvt8COoO-",
        "outputId": "9ebd72bf-5750-4947-f320-c6313a44d760"
      },
      "execution_count": null,
      "outputs": [
        {
          "output_type": "stream",
          "name": "stdout",
          "text": [
            "Error: No se puede dividir por una cadena.\n"
          ]
        }
      ]
    },
    {
      "cell_type": "markdown",
      "source": [
        "**Ejercicio 4.3:**\n",
        "\n",
        "Crea una función `convertir_a_entero` para capturar el error que se produce al intentar convertir una cadena que no representa un número entero a entero. Muestra un mensaje de error específico."
      ],
      "metadata": {
        "id": "kzhNDxlqO9_c"
      }
    },
    {
      "cell_type": "code",
      "source": [
        "def convertir_a_entero(cadena):\n",
        "    try:\n",
        "        numero = int(cadena)\n",
        "        return numero\n",
        "    except ValueError:\n",
        "        print(\"Error: La cadena no representa un número entero.\")\n",
        "\n",
        "# Llamada a la función con cadena no numérica\n",
        "numero = convertir_a_entero(\"hola\")"
      ],
      "metadata": {
        "colab": {
          "base_uri": "https://localhost:8080/"
        },
        "id": "RVVL718kPAgk",
        "outputId": "b1ea767d-d3d0-460e-dd42-31eb23ac8d9e"
      },
      "execution_count": null,
      "outputs": [
        {
          "output_type": "stream",
          "name": "stdout",
          "text": [
            "Error: La cadena no representa un número entero.\n"
          ]
        }
      ]
    },
    {
      "cell_type": "markdown",
      "source": [
        "**Ejercicio 4.4:**\n",
        "\n",
        "Crea una lista llamada `colores` con algunos colores. Intenta acceder a un índice que está fuera del rango de la lista y captura el error que se produce. Muestra un mensaje de error apropiado."
      ],
      "metadata": {
        "id": "1Cw2wSTYPby2"
      }
    },
    {
      "cell_type": "code",
      "source": [
        "colores = [\"rojo\", \"azul\", \"verde\"]\n",
        "\n",
        "try:\n",
        "    color = colores[5]\n",
        "except IndexError:\n",
        "    print(\"Error: Índice fuera de rango.\")"
      ],
      "metadata": {
        "colab": {
          "base_uri": "https://localhost:8080/"
        },
        "id": "fQQFJ1ZyPeSu",
        "outputId": "f691474d-a99a-4cad-c2d4-8d415027b71f"
      },
      "execution_count": null,
      "outputs": [
        {
          "output_type": "stream",
          "name": "stdout",
          "text": [
            "Error: Índice fuera de rango.\n"
          ]
        }
      ]
    },
    {
      "cell_type": "markdown",
      "source": [
        "**Ejercicio 4.5:**\n",
        "\n",
        "Intenta imprimir el valor de una variable que no ha sido definida previamente y captura el error que se produce. Muestra un mensaje de error apropiado."
      ],
      "metadata": {
        "id": "v0tGux9vPwLn"
      }
    },
    {
      "cell_type": "code",
      "source": [
        "try:\n",
        "    print(variable_inexistente)\n",
        "except NameError:\n",
        "    print(\"Error: Variable no definida.\")"
      ],
      "metadata": {
        "colab": {
          "base_uri": "https://localhost:8080/"
        },
        "id": "qgAnBTpXP0bA",
        "outputId": "80f3daae-046c-42e9-e738-34c26cf7d25b"
      },
      "execution_count": null,
      "outputs": [
        {
          "output_type": "stream",
          "name": "stdout",
          "text": [
            "Error: Variable no definida.\n"
          ]
        }
      ]
    },
    {
      "cell_type": "markdown",
      "source": [
        "**Ejercicio 4.6:**\n",
        "\n",
        "Genera dos números aleatorios enteros entre 1 y 10 utilizando los métodos randint y random del módulo random. Imprime ambos números."
      ],
      "metadata": {
        "id": "LsVYMjtQQLgW"
      }
    },
    {
      "cell_type": "code",
      "source": [
        "import random\n",
        "\n",
        "numero_aleatorio1 = random.randint(1, 10)\n",
        "numero_aleatorio2 = random.randint(1, 10)\n",
        "print(f\"Número aleatorio generado con randint: {numero_aleatorio1}\")\n",
        "print(f\"Número aleatorio generado con random: {numero_aleatorio2}\")"
      ],
      "metadata": {
        "colab": {
          "base_uri": "https://localhost:8080/"
        },
        "id": "kW9M789KQN4P",
        "outputId": "5cf6001d-35d0-48fe-8a10-c0b8e0916920"
      },
      "execution_count": null,
      "outputs": [
        {
          "output_type": "stream",
          "name": "stdout",
          "text": [
            "Número aleatorio generado con randint: 8\n",
            "Número aleatorio generado con random: 1\n"
          ]
        }
      ]
    },
    {
      "cell_type": "markdown",
      "source": [
        "**Ejercicio 4.7:**\n",
        "\n",
        "Genera una distribución discreta de números aleatorios con valores entre 1 y 10, y con una probabilidad de ocurrencia para cada número. Imprime la distribución generada."
      ],
      "metadata": {
        "id": "tTTWg0rYQoP2"
      }
    },
    {
      "cell_type": "code",
      "source": [
        "import random\n",
        "\n",
        "distribucion = random.choices(range(1, 11), k=10, weights=[0.1, 0.2, 0.15, 0.05, 0.1, 0.1, 0.1, 0.1, 0.05, 0.05])\n",
        "print(\"Distribución discreta generada:\")\n",
        "print(distribucion)"
      ],
      "metadata": {
        "colab": {
          "base_uri": "https://localhost:8080/"
        },
        "id": "4w4Z1QgNQsJv",
        "outputId": "d23f6d92-c0e0-4e6e-c192-c6338bc96ef5"
      },
      "execution_count": null,
      "outputs": [
        {
          "output_type": "stream",
          "name": "stdout",
          "text": [
            "Distribución discreta generada:\n",
            "[2, 2, 3, 9, 3, 3, 1, 1, 3, 2]\n"
          ]
        }
      ]
    },
    {
      "cell_type": "markdown",
      "source": [
        "**Ejercicio 4.8:**\n",
        "\n",
        "Calcula el seno y el coseno de un ángulo dado en radianes utilizando las funciones sin y cos del módulo math. Imprime los resultados."
      ],
      "metadata": {
        "id": "W7FnGiM6Q6e9"
      }
    },
    {
      "cell_type": "code",
      "source": [
        "import math\n",
        "\n",
        "angulo_radianes = math.pi / 4\n",
        "seno_angulo = math.sin(angulo_radianes)\n",
        "coseno_angulo = math.cos(angulo_radianes)\n",
        "print(f\"Seno del ángulo: {seno_angulo}\")\n",
        "print(f\"Coseno del ángulo: {coseno_angulo}\")"
      ],
      "metadata": {
        "colab": {
          "base_uri": "https://localhost:8080/"
        },
        "id": "i_QSrbTDQ9BU",
        "outputId": "718c0c42-e70b-4ebb-b317-b8a4023e2db6"
      },
      "execution_count": null,
      "outputs": [
        {
          "output_type": "stream",
          "name": "stdout",
          "text": [
            "Seno del ángulo: 0.7071067811865475\n",
            "Coseno del ángulo: 0.7071067811865476\n"
          ]
        }
      ]
    },
    {
      "cell_type": "markdown",
      "source": [
        "**Ejercicio 4.9:**\n",
        "\n",
        "Redondea el número 4.7 hacia arriba utilizando la función ceil del módulo math y redondea el número 4.3 hacia abajo utilizando la función floor del módulo math. Imprime los resultados."
      ],
      "metadata": {
        "id": "S47zpuoJRRkk"
      }
    },
    {
      "cell_type": "code",
      "source": [
        "import math\n",
        "\n",
        "numero_redondeo_arriba = math.ceil(4.7)\n",
        "numero_redondeo_abajo = math.floor(4.3)\n",
        "print(f\"Redondeo hacia arriba: {numero_redondeo_arriba}\")\n",
        "print(f\"Redondeo hacia abajo: {numero_redondeo_abajo}\")"
      ],
      "metadata": {
        "colab": {
          "base_uri": "https://localhost:8080/"
        },
        "id": "phbMpIvARVbV",
        "outputId": "dfab11cd-6edc-4a6f-ea37-d73bcf597d26"
      },
      "execution_count": null,
      "outputs": [
        {
          "output_type": "stream",
          "name": "stdout",
          "text": [
            "Redondeo hacia arriba: 5\n",
            "Redondeo hacia abajo: 4\n"
          ]
        }
      ]
    },
    {
      "cell_type": "markdown",
      "source": [
        "**Ejercicio 4.10:**  \n",
        "\n",
        "Obtén el valor de pi utilizando la constante pi del módulo math y el valor de la constante de Euler (e) utilizando la constante e del módulo math. Imprime los resultados."
      ],
      "metadata": {
        "id": "fHJjEmDPRegr"
      }
    },
    {
      "cell_type": "code",
      "source": [
        "import math\n",
        "\n",
        "valor_pi = math.pi\n",
        "valor_euler = math.e\n",
        "print(f\"Valor de pi: {valor_pi}\")\n",
        "print(f\"Valor de la constante de Euler (e): {valor_euler}\")"
      ],
      "metadata": {
        "colab": {
          "base_uri": "https://localhost:8080/"
        },
        "id": "ODL5o6oIRmgu",
        "outputId": "1cc3d507-74cd-4f93-aa18-f28d893a1c20"
      },
      "execution_count": null,
      "outputs": [
        {
          "output_type": "stream",
          "name": "stdout",
          "text": [
            "Valor de pi: 3.141592653589793\n",
            "Valor de la constante de Euler (e): 2.718281828459045\n"
          ]
        }
      ]
    },
    {
      "cell_type": "markdown",
      "source": [
        "# **💥Ejercicios clase 5**"
      ],
      "metadata": {
        "id": "v4PlMIBnG5y1"
      }
    },
    {
      "cell_type": "markdown",
      "source": [
        "# **✅Resueltos clase 5**"
      ],
      "metadata": {
        "id": "gwNcpk0IHd7V"
      }
    },
    {
      "cell_type": "markdown",
      "source": [
        "# **💥Ejercicios clase 6**"
      ],
      "metadata": {
        "id": "9BLz4AoJG8qV"
      }
    },
    {
      "cell_type": "markdown",
      "source": [
        "# **✅Resueltos clase 6**"
      ],
      "metadata": {
        "id": "52SAaEubHgI2"
      }
    }
  ]
}