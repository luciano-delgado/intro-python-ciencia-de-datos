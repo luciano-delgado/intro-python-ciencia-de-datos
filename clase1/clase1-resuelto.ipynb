{
  "nbformat": 4,
  "nbformat_minor": 0,
  "metadata": {
    "colab": {
      "provenance": [],
      "collapsed_sections": [
        "Z9s0G7Nyhwu8",
        "e8WK_YEbJikl"
      ]
    },
    "kernelspec": {
      "name": "python3",
      "display_name": "Python 3"
    },
    "language_info": {
      "name": "python"
    }
  },
  "cells": [
    {
      "cell_type": "markdown",
      "source": [
        "**# Clase 1 - 20/04/2024: Introducción ⚡🐍**"
      ],
      "metadata": {
        "id": "m9IR153GmBVR"
      }
    },
    {
      "cell_type": "markdown",
      "source": [
        "# ⭐ Parte 1: Generalidades"
      ],
      "metadata": {
        "id": "qzJmHKodhH-5"
      }
    },
    {
      "cell_type": "markdown",
      "source": [
        "\n",
        "- 1.1) Comentar código\n",
        "- 1.2) Introducción a la función `print()`\n",
        "- 1.3) Variables: Definición y nomenclatura.\n",
        "- 1.4) Asignacion Simple/Aumentada/Multiple.\n",
        "- 1.5) Constantes\n",
        "- 1.6) Keywords\n"
      ],
      "metadata": {
        "id": "uJIiMAfjgm6G"
      }
    },
    {
      "cell_type": "markdown",
      "source": [
        "**1.1) Comentar código**"
      ],
      "metadata": {
        "id": "5bY80-9Eo7Bv"
      }
    },
    {
      "cell_type": "code",
      "source": [
        "# Este es un comentario en 1 línea\n",
        "\"\"\"Este es un comentario\n",
        "en varias líneas\n",
        "\"\"\""
      ],
      "metadata": {
        "colab": {
          "base_uri": "https://localhost:8080/",
          "height": 36
        },
        "id": "1RGbUit8oQmE",
        "outputId": "1f8d275c-9b2f-4cb5-b3ba-d4fe2411f85b"
      },
      "execution_count": null,
      "outputs": [
        {
          "output_type": "execute_result",
          "data": {
            "text/plain": [
              "'Este es un comentario\\nen varias líneas\\n'"
            ],
            "application/vnd.google.colaboratory.intrinsic+json": {
              "type": "string"
            }
          },
          "metadata": {},
          "execution_count": 1
        }
      ]
    },
    {
      "cell_type": "code",
      "source": [
        "'Este es un comentario con \"otro comentario\" dentro del mismo mezclando comillas simples y dobles'"
      ],
      "metadata": {
        "colab": {
          "base_uri": "https://localhost:8080/",
          "height": 36
        },
        "id": "ruYNQv6dopUc",
        "outputId": "2b6d0247-765d-4299-d734-ef654e7cef11"
      },
      "execution_count": null,
      "outputs": [
        {
          "output_type": "execute_result",
          "data": {
            "text/plain": [
              "'Este es un comentario con \"otro comentario\" dentro del mismo mezclando comillas simples y dobles'"
            ],
            "application/vnd.google.colaboratory.intrinsic+json": {
              "type": "string"
            }
          },
          "metadata": {},
          "execution_count": 2
        }
      ]
    },
    {
      "cell_type": "markdown",
      "source": [
        "**1.2) Introducción a la función `print()`**\n",
        "\n",
        "La función `print()` en Python es una función integrada (built-in function) que se utiliza para imprimir texto y otros tipos de datos en la consola o en otro flujo de salida."
      ],
      "metadata": {
        "id": "Smia9iGHo3ng"
      }
    },
    {
      "cell_type": "code",
      "source": [
        "print(\"Hola Level Up\")"
      ],
      "metadata": {
        "id": "hawmyAbdimVg"
      },
      "execution_count": null,
      "outputs": []
    },
    {
      "cell_type": "code",
      "source": [
        "print(1,2,3)"
      ],
      "metadata": {
        "colab": {
          "base_uri": "https://localhost:8080/"
        },
        "id": "NCfC7tQJo-vB",
        "outputId": "6ccbc1c3-4b4d-4908-e9f0-09c4cd487421"
      },
      "execution_count": null,
      "outputs": [
        {
          "output_type": "stream",
          "name": "stdout",
          "text": [
            "1 2 3\n"
          ]
        }
      ]
    },
    {
      "cell_type": "code",
      "source": [
        "# Imprimir con saltos de línea\n",
        "print(1)\n",
        "print(2)\n",
        "print(3)"
      ],
      "metadata": {
        "colab": {
          "base_uri": "https://localhost:8080/"
        },
        "id": "9WjpAUwQpFkA",
        "outputId": "5a326002-d017-465e-91c3-f9df348f3fd0"
      },
      "execution_count": null,
      "outputs": [
        {
          "output_type": "stream",
          "name": "stdout",
          "text": [
            "1\n",
            "2\n",
            "3\n"
          ]
        }
      ]
    },
    {
      "cell_type": "code",
      "source": [
        "# Imprimir sin saltos de línea, especificando el final\n",
        "print(1, end = ',')  # Se modifica el /n por defecto.\n",
        "print(2, end = ',')\n",
        "print(3, end = ',')"
      ],
      "metadata": {
        "colab": {
          "base_uri": "https://localhost:8080/"
        },
        "id": "u2vXIUIMpJ6E",
        "outputId": "fe23f622-2466-495f-f8c0-46d277778f6b"
      },
      "execution_count": null,
      "outputs": [
        {
          "output_type": "stream",
          "name": "stdout",
          "text": [
            "1, 2, 3, "
          ]
        }
      ]
    },
    {
      "cell_type": "code",
      "source": [
        "# Especificando separador\n",
        "print('Primer Variable ', 1, sep = ':', end = '; ')\n",
        "print('Segunda Variable ', 5, sep = ':', end = '; ')\n",
        "print('Tercer Variable ', 8, sep = ':', end = '; ')"
      ],
      "metadata": {
        "colab": {
          "base_uri": "https://localhost:8080/"
        },
        "id": "SYmATX1zCQop",
        "outputId": "1913eeda-a65f-4b1d-fa8f-5728e5292e72"
      },
      "execution_count": null,
      "outputs": [
        {
          "output_type": "stream",
          "name": "stdout",
          "text": [
            "Primer Variable :1; Segunda Variable :5; Tercer Variable :8; "
          ]
        }
      ]
    },
    {
      "cell_type": "markdown",
      "source": [
        "Formas de imprimir variables dentro de la función `print()`"
      ],
      "metadata": {
        "id": "l5jODpAkBQD8"
      }
    },
    {
      "cell_type": "code",
      "source": [
        "# Imprimiendo independientemente el texto de la variable\n",
        "print(\"Mi variable a es \", 1)\n",
        "print(\"Mi variable b es \", 3.14)\n",
        "print(\"Mi variable c es \", True)"
      ],
      "metadata": {
        "colab": {
          "base_uri": "https://localhost:8080/"
        },
        "id": "czYSBborBWjZ",
        "outputId": "07ad3857-1613-4b04-95d6-a69ef9b0384b"
      },
      "execution_count": null,
      "outputs": [
        {
          "output_type": "stream",
          "name": "stdout",
          "text": [
            "Mi variable a es  1\n",
            "Mi variable b es  3.14\n",
            "Mi variable c es  True\n"
          ]
        }
      ]
    },
    {
      "cell_type": "code",
      "source": [
        "# Método format\n",
        "print('Mis valores son {}, {}, {}'.format(1, 3.14, True))"
      ],
      "metadata": {
        "colab": {
          "base_uri": "https://localhost:8080/"
        },
        "id": "ucrEe0RfBnMT",
        "outputId": "5b809067-5258-40b8-bcd5-c3edcf6fb667"
      },
      "execution_count": null,
      "outputs": [
        {
          "output_type": "stream",
          "name": "stdout",
          "text": [
            "Mis valores son 1, 3.14, True\n"
          ]
        }
      ]
    },
    {
      "cell_type": "code",
      "source": [
        "# Método f-string\n",
        "a = 1\n",
        "b = 3.14\n",
        "c = 'Manzana'\n",
        "print(f'Mis valores son {a} {b} {c} ')"
      ],
      "metadata": {
        "colab": {
          "base_uri": "https://localhost:8080/"
        },
        "id": "MlUjYn1nBnWV",
        "outputId": "547ac469-3f9d-48db-ac20-3a376e9e5858"
      },
      "execution_count": null,
      "outputs": [
        {
          "output_type": "stream",
          "name": "stdout",
          "text": [
            "Mis valores son 1 3.14 Manzana \n"
          ]
        }
      ]
    },
    {
      "cell_type": "markdown",
      "source": [
        "**1.3) Variables**"
      ],
      "metadata": {
        "id": "95N1Agx--d-5"
      }
    },
    {
      "cell_type": "markdown",
      "source": [
        "\n",
        "Las variables son *contenedores* o *cajas* que reservan un espacio de la memoria de la máquina y *hacen referencia* a un objeto:\n",
        "  - int\n",
        "  - string\n",
        "  - bool\n",
        "  - date\n",
        "\n",
        "> En Python toda entidad (representación de la realidad) es un objeto, que posee atributos (propiedades) y métodos (acciones que puede realizar)"
      ],
      "metadata": {
        "id": "gILqReP6jEak"
      }
    },
    {
      "cell_type": "markdown",
      "source": [
        "Definir una variable:\n",
        "- Solo se aceptan `mayus`, `minus`, `digitos`, `guión bajo`.\n",
        "- Case Sensitive\n",
        "- No se pueden usar `keywords`\n",
        "- Convención: snake_case. (existen también camelCase y PascalCase)\n"
      ],
      "metadata": {
        "id": "2NeIzWOsxN0i"
      }
    },
    {
      "cell_type": "code",
      "source": [
        "mi_variable_entera = 2\n",
        "print(mi_variable_entera)"
      ],
      "metadata": {
        "colab": {
          "base_uri": "https://localhost:8080/"
        },
        "id": "U88ziXIxvD4U",
        "outputId": "78f28782-6e52-46ec-bc4a-80b3a3616163"
      },
      "execution_count": null,
      "outputs": [
        {
          "output_type": "stream",
          "name": "stdout",
          "text": [
            "2\n"
          ]
        }
      ]
    },
    {
      "cell_type": "code",
      "source": [
        "mi_variable_float = 3.14\n",
        "print(mi_variable_float)"
      ],
      "metadata": {
        "colab": {
          "base_uri": "https://localhost:8080/"
        },
        "id": "4Pe22s5zvRPV",
        "outputId": "bacbd865-107b-4a10-deee-9df194e09a85"
      },
      "execution_count": null,
      "outputs": [
        {
          "output_type": "stream",
          "name": "stdout",
          "text": [
            "3.14\n"
          ]
        }
      ]
    },
    {
      "cell_type": "code",
      "source": [
        "mi_variable_string = 'Hello LVL UP'\n",
        "print(mi_variable_string)"
      ],
      "metadata": {
        "colab": {
          "base_uri": "https://localhost:8080/"
        },
        "id": "F8b8xLwqvdyv",
        "outputId": "67323574-2a9d-4d1a-f187-424e957f227a"
      },
      "execution_count": null,
      "outputs": [
        {
          "output_type": "stream",
          "name": "stdout",
          "text": [
            "Hello LVL UP\n"
          ]
        }
      ]
    },
    {
      "cell_type": "markdown",
      "source": [
        "**1.4) Asignación Simple/Aumentada/Múltiple**"
      ],
      "metadata": {
        "id": "_2LUfpjYu2Ld"
      }
    },
    {
      "cell_type": "markdown",
      "source": [
        "> Definir y Asignar: Son conceptos similares con la diferencia de que la definición es por primera vez y la asignación se va dando a medida que se actualiza el valor de una variable."
      ],
      "metadata": {
        "id": "E7cRFTYevnyb"
      }
    },
    {
      "cell_type": "markdown",
      "source": [
        "Asignación Simple"
      ],
      "metadata": {
        "id": "UeG912z9v96A"
      }
    },
    {
      "cell_type": "code",
      "source": [
        "mi_variable_entera = 2\n",
        "print(mi_variable_entera)"
      ],
      "metadata": {
        "colab": {
          "base_uri": "https://localhost:8080/"
        },
        "id": "rYHj2443xaA8",
        "outputId": "72207816-3e25-4d06-b502-68f221c90254"
      },
      "execution_count": null,
      "outputs": [
        {
          "output_type": "stream",
          "name": "stdout",
          "text": [
            "2\n"
          ]
        }
      ]
    },
    {
      "cell_type": "code",
      "source": [
        "mi_variable_float = 3.4\n",
        "mi_variable_bool = True\n",
        "print(mi_variable_float)\n",
        "print(mi_variable_bool)"
      ],
      "metadata": {
        "colab": {
          "base_uri": "https://localhost:8080/"
        },
        "id": "9O_hezpHFrZ-",
        "outputId": "2aa458c6-5306-4983-cda4-670943df673b"
      },
      "execution_count": null,
      "outputs": [
        {
          "output_type": "stream",
          "name": "stdout",
          "text": [
            "3.4\n",
            "True\n"
          ]
        }
      ]
    },
    {
      "cell_type": "markdown",
      "source": [
        "Asignación Aumentada. Suma/Multiplicación/División"
      ],
      "metadata": {
        "id": "0MB1MBgzwBxX"
      }
    },
    {
      "cell_type": "code",
      "source": [
        "# Primero defino la variable\n",
        "a = 10.5\n",
        "# Realizo la asignación aumentada\n",
        "a += 1\n",
        "print(a)"
      ],
      "metadata": {
        "colab": {
          "base_uri": "https://localhost:8080/"
        },
        "id": "DvOJ_RXpy3F_",
        "outputId": "cfbb1137-2705-4abd-b9b2-5f42d59774b4"
      },
      "execution_count": null,
      "outputs": [
        {
          "output_type": "stream",
          "name": "stdout",
          "text": [
            "11.5\n"
          ]
        }
      ]
    },
    {
      "cell_type": "code",
      "source": [
        "# Asignación Aumentada. Multiplicación\n",
        "b = 10\n",
        "b *= 2\n",
        "print(b)"
      ],
      "metadata": {
        "colab": {
          "base_uri": "https://localhost:8080/"
        },
        "id": "EyJ27l5Yy9WA",
        "outputId": "8bb88c42-1b2c-4a85-f3ba-e352e1be0071"
      },
      "execution_count": null,
      "outputs": [
        {
          "output_type": "stream",
          "name": "stdout",
          "text": [
            "20\n"
          ]
        }
      ]
    },
    {
      "cell_type": "code",
      "source": [
        "# Asignación Aumentada. División\n",
        "c = 10\n",
        "c /= 3\n",
        "print(c)"
      ],
      "metadata": {
        "colab": {
          "base_uri": "https://localhost:8080/"
        },
        "id": "Z9_2WY1ezDCf",
        "outputId": "c92ac1d7-0b91-499a-d6d9-27c6042a000e"
      },
      "execution_count": null,
      "outputs": [
        {
          "output_type": "stream",
          "name": "stdout",
          "text": [
            "3.3333333333333335\n"
          ]
        }
      ]
    },
    {
      "cell_type": "markdown",
      "source": [
        "Asignación Múltiple"
      ],
      "metadata": {
        "id": "srmp6lGcwN8C"
      }
    },
    {
      "cell_type": "code",
      "source": [
        "a = b = c = 3\n",
        "print(a,b,c)"
      ],
      "metadata": {
        "colab": {
          "base_uri": "https://localhost:8080/"
        },
        "id": "KNumKU8nzILb",
        "outputId": "e60efa54-030a-4212-fa59-433efed0bc46"
      },
      "execution_count": null,
      "outputs": [
        {
          "output_type": "stream",
          "name": "stdout",
          "text": [
            "3 3 3\n"
          ]
        }
      ]
    },
    {
      "cell_type": "markdown",
      "source": [
        "\n",
        "\n",
        "**1.5) Constantes**\n",
        "> Las constantes se declaran en MAYUSCULA.\n",
        "\n"
      ],
      "metadata": {
        "id": "-sJZBfh2yq9O"
      }
    },
    {
      "cell_type": "code",
      "source": [
        "VELOCIDAD_LUZ = 300_000 # Se puede usar _ para facilidad de lectura\n",
        "PRESION_ATM = 1.013\n",
        "PI = 3.1416\n",
        "print(VELOCIDAD_LUZ)"
      ],
      "metadata": {
        "colab": {
          "base_uri": "https://localhost:8080/"
        },
        "id": "c1V5KXzApUkt",
        "outputId": "db27c5c4-65b6-4dca-8706-3838e2f991e3"
      },
      "execution_count": null,
      "outputs": [
        {
          "output_type": "stream",
          "name": "stdout",
          "text": [
            "300000\n"
          ]
        }
      ]
    },
    {
      "cell_type": "markdown",
      "source": [
        "**1.6) Keywords**"
      ],
      "metadata": {
        "id": "uk_Js_5HnQB2"
      }
    },
    {
      "cell_type": "code",
      "source": [
        "help('keywords')"
      ],
      "metadata": {
        "colab": {
          "base_uri": "https://localhost:8080/"
        },
        "id": "8uwsYIO_nSbX",
        "outputId": "f8cb90b8-8859-44df-816e-e803f956060b"
      },
      "execution_count": null,
      "outputs": [
        {
          "output_type": "stream",
          "name": "stdout",
          "text": [
            "\n",
            "Here is a list of the Python keywords.  Enter any keyword to get more help.\n",
            "\n",
            "False               class               from                or\n",
            "None                continue            global              pass\n",
            "True                def                 if                  raise\n",
            "and                 del                 import              return\n",
            "as                  elif                in                  try\n",
            "assert              else                is                  while\n",
            "async               except              lambda              with\n",
            "await               finally             nonlocal            yield\n",
            "break               for                 not                 \n",
            "\n"
          ]
        }
      ]
    },
    {
      "cell_type": "markdown",
      "source": [
        "#📝Ejercicios Parte 1\n",
        "\n",
        "\n",
        "\n"
      ],
      "metadata": {
        "id": "gWuQRM5V0F3x"
      }
    },
    {
      "cell_type": "markdown",
      "source": [
        "👉 **Parte 1: Ejercicio de clase**\n",
        "\n",
        "- Definir 3 variables (`producto1`, `producto2`, `producto3`) que representen los distintos productos o SKU de un ecommerce y los precios de los mismos (`precio1`, `precio2`, `precio3`)\n",
        "\n",
        "- Imprimir en pantalla un mensaje con un texto que indique la promoción/oferta del produtco3 ante la compra del 1 y 2. Utilice notación `f-string`"
      ],
      "metadata": {
        "id": "H_cblpSr1-bH"
      }
    },
    {
      "cell_type": "code",
      "source": [
        "# Definir variables\n",
        "producto1 = \"Microprocesador Intel I5\"\n",
        "producto2 = \"Placa de video Nvidia\"\n",
        "producto3 = \"Juego de teclado y mouse\"\n",
        "precio1 = 1000\n",
        "precio2 = 1500\n",
        "precio3 = 200\n",
        "\n",
        "# Imprimir mensaje\n",
        "print(f\"Con la compra del {producto1} - valor {precio1} y el {producto2} - valor {precio2} se obtiene de regalo un juego de {producto3} - valor {precio3}- \")"
      ],
      "metadata": {
        "id": "ZR0cEls52DIm",
        "colab": {
          "base_uri": "https://localhost:8080/"
        },
        "outputId": "b8c3bed5-3f03-4080-b701-638ff7625222"
      },
      "execution_count": null,
      "outputs": [
        {
          "output_type": "stream",
          "name": "stdout",
          "text": [
            "Con la compra del Microprocesador Intel I5 - valor 1000 y el Placa de video Nvidia - valor 1500 se obtiene de regalo un juego de Juego de teclado y mouse - valor 200- \n"
          ]
        }
      ]
    },
    {
      "cell_type": "markdown",
      "source": [
        "🫴🏻 **Parte 1: Ejercio tarea 1**\n",
        "\n",
        "- Define una variable `a` numérica igual a 5 y una `b` que sea float igual a 1.61 (número Aureo).  \n",
        "- Aumenta en 3 el valor de `a` asignación aumentada.\n",
        "- Potencia en 2 el valor de `b`.\n",
        "- Imprimir el resultado final de `a` en pantalla y compartirlo con la comunidad."
      ],
      "metadata": {
        "id": "XLSesUIC2MOR"
      }
    },
    {
      "cell_type": "code",
      "source": [
        "# Asignación simple\n",
        "a = 5\n",
        "b = 1.61\n",
        "# Asignación aumentada\n",
        "a += 3\n",
        "b *= 2\n",
        "print(a)\n",
        "print(b)"
      ],
      "metadata": {
        "id": "rhqcZbg80wGM",
        "colab": {
          "base_uri": "https://localhost:8080/"
        },
        "outputId": "c5593cf1-217f-4075-e900-52ee82b30a6e"
      },
      "execution_count": null,
      "outputs": [
        {
          "output_type": "stream",
          "name": "stdout",
          "text": [
            "8\n",
            "3.22\n"
          ]
        }
      ]
    },
    {
      "cell_type": "markdown",
      "source": [
        "🫴🏻 **Parte 1: Ejercicio de tarea 2**\n",
        "\n",
        "- Define una constante llamada `GRAVEDAD`\n",
        "- Define una variable `b` y asígnale el valor de la constante `GRAVEDAD`.\n",
        "- Imprimir el valor de `b` en pantalla\n",
        "\n"
      ],
      "metadata": {
        "id": "IRTw5owY0oBm"
      }
    },
    {
      "cell_type": "code",
      "source": [
        "GRAVEDAD =  10\n",
        "b = GRAVEDAD\n",
        "print(b)"
      ],
      "metadata": {
        "id": "efCSXd2k03AL",
        "colab": {
          "base_uri": "https://localhost:8080/"
        },
        "outputId": "047f0d2f-b0f7-48fe-83d8-1d7996685207"
      },
      "execution_count": null,
      "outputs": [
        {
          "output_type": "stream",
          "name": "stdout",
          "text": [
            "10\n"
          ]
        }
      ]
    },
    {
      "cell_type": "markdown",
      "source": [
        "# ⭐ Parte 2: Más sobre variables. Tipos de datós básicos. Introducción a Funciones.\n"
      ],
      "metadata": {
        "id": "Z9s0G7Nyhwu8"
      }
    },
    {
      "cell_type": "markdown",
      "source": [
        "\n",
        "\n",
        "\n",
        "- 2.1) Ubicación en memoria de las variables\n",
        "- 2.2) Tipos de datos básicos\n",
        "- 2.3) Método `type()`. Castear una variable\n",
        "- 2.4) Funciones\n",
        "- 2.5) Documentación\n"
      ],
      "metadata": {
        "id": "32DOxIVHiUtk"
      }
    },
    {
      "cell_type": "markdown",
      "source": [
        "**2.1) Ubicación en memoria de las variables**"
      ],
      "metadata": {
        "id": "TPxdU9CSn9Vp"
      }
    },
    {
      "cell_type": "markdown",
      "source": [
        "Utilización de la función `id()`. Me da un identificador único por cada ubicación."
      ],
      "metadata": {
        "id": "TLCYvSoc0W1u"
      }
    },
    {
      "cell_type": "code",
      "source": [
        "a = 2\n",
        "b = 'Hello'\n",
        "c = True\n",
        "print(f'El espacio en memoria de mi variable a es {id(a)}')\n",
        "print(f'El espacio en memoria de mi variable b es {id(b)}')\n",
        "print(f'El espacio en memoria de mi variable c es {id(c)}')"
      ],
      "metadata": {
        "colab": {
          "base_uri": "https://localhost:8080/"
        },
        "id": "6aFk0M-in9dX",
        "outputId": "be373c5a-ac14-4077-b6d1-0f1ec1a6a5a3"
      },
      "execution_count": null,
      "outputs": [
        {
          "output_type": "stream",
          "name": "stdout",
          "text": [
            "El espacio en memoria de mi variable a es 133883252932880\n",
            "El espacio en memoria de mi variable b es 133881972917744\n",
            "El espacio en memoria de mi variable c es 98036334060576\n"
          ]
        }
      ]
    },
    {
      "cell_type": "markdown",
      "source": [
        "**2.2) Tipos de datos básicos**"
      ],
      "metadata": {
        "id": "Jj5k7Z1Kn9jP"
      }
    },
    {
      "cell_type": "markdown",
      "source": [
        "**2.2.1) Strings (cadena de caracteres)**\n",
        "- Inmutables\n",
        "- Métodos más utilizados:\n",
        "  - `capitalize()`: Convetir primer caracter en UPPER Case.\n",
        "  - `count()`: Cuenta la cantidad de ocurrencias de un strung dentro del string general.\n",
        "  - `startswith()` y `endswith()`: Retorna True si la cadena empieza o termina con un valor especificado.\n",
        "  - `len()`: Devuelve la cantidad de letras del string.\n",
        "  - `find()`: Devuelve la posición del string en caso de encontrarlo.\n",
        "\n",
        "\n",
        "> Más métodos: https://www.w3schools.com/python/python_strings_methods.asp\n",
        "    "
      ],
      "metadata": {
        "id": "zvkp8_Gq7NZt"
      }
    },
    {
      "cell_type": "code",
      "source": [
        "mi_string = \"hola buen día, es un buen día para cursar python\""
      ],
      "metadata": {
        "id": "WtCFXUz12JVp"
      },
      "execution_count": null,
      "outputs": []
    },
    {
      "cell_type": "code",
      "source": [
        "print('Capitalizo mi_string', mi_string.capitalize())\n",
        "print('Cuento la cantidad de ocurrencia de la palabra \"buen\"', mi_string.count(\"buen\"))\n",
        "print('Mi string comienza con \"hola\"?', mi_string.startswith(\"hola\"))\n",
        "print('Mi string termina con \"python\"?: ', mi_string.endswith(\"python\"))\n",
        "print('La longitud de mi string es: ',len(mi_string))\n",
        "print('La posición del elemento \"hola\" es', mi_string.find(\"hola\"))"
      ],
      "metadata": {
        "colab": {
          "base_uri": "https://localhost:8080/"
        },
        "id": "yFTVk_mD4Frk",
        "outputId": "69ffdcf5-a662-4b1f-ed2a-82c1f7e83812"
      },
      "execution_count": null,
      "outputs": [
        {
          "output_type": "stream",
          "name": "stdout",
          "text": [
            "Capitalizo mi_string Hola buen día, es un buen día para cursar python\n",
            "Cuento la cantidad de ocurrencia de la palabra \"buen\" 2\n",
            "Mi string comienza con \"hola\"? True\n",
            "Mi string termina con \"python\"?:  True\n",
            "La longitud de mi string es:  48\n",
            "La posición del elemento \"hola\" es 0\n"
          ]
        }
      ]
    },
    {
      "cell_type": "markdown",
      "source": [
        "Un string es **iterable**. Es decir, podemos acceder a sus elementos"
      ],
      "metadata": {
        "id": "f8RFfQiGBWwH"
      }
    },
    {
      "cell_type": "markdown",
      "source": [
        "Accediendo al 1er elemento"
      ],
      "metadata": {
        "id": "3AAfoINL6xOJ"
      }
    },
    {
      "cell_type": "code",
      "source": [
        "elemento_0 = mi_string[0]\n",
        "elemento_0"
      ],
      "metadata": {
        "colab": {
          "base_uri": "https://localhost:8080/",
          "height": 36
        },
        "id": "W0RbEob6BeW2",
        "outputId": "b85b6ba4-154b-4d24-dd92-996885788a6e"
      },
      "execution_count": null,
      "outputs": [
        {
          "output_type": "execute_result",
          "data": {
            "text/plain": [
              "'h'"
            ],
            "application/vnd.google.colaboratory.intrinsic+json": {
              "type": "string"
            }
          },
          "metadata": {},
          "execution_count": 53
        }
      ]
    },
    {
      "cell_type": "markdown",
      "source": [
        "Concatenar strings"
      ],
      "metadata": {
        "id": "A_HjozuF60zm"
      }
    },
    {
      "cell_type": "code",
      "source": [
        "string1 = 'Hello'\n",
        "string2 =  'LVL UP'\n",
        "concatenado = string1+ ' ' +string2\n",
        "print(concatenado)"
      ],
      "metadata": {
        "colab": {
          "base_uri": "https://localhost:8080/"
        },
        "id": "qW2o8T17CosE",
        "outputId": "e81a8484-7422-4f13-ccca-6df40fd64ddd"
      },
      "execution_count": null,
      "outputs": [
        {
          "output_type": "stream",
          "name": "stdout",
          "text": [
            "Hello LVL UP\n"
          ]
        }
      ]
    },
    {
      "cell_type": "markdown",
      "source": [
        "Convertir a Lista (Estructura de datos que veremos más adelante)"
      ],
      "metadata": {
        "id": "x4dXGiJw7TIw"
      }
    },
    {
      "cell_type": "code",
      "source": [
        "string_a_lista = list(string1)\n",
        "print(string_a_lista)"
      ],
      "metadata": {
        "colab": {
          "base_uri": "https://localhost:8080/"
        },
        "id": "aPHtGlrXCuwO",
        "outputId": "3484e12a-9962-43ae-f3c1-ef43eeba2e18"
      },
      "execution_count": null,
      "outputs": [
        {
          "output_type": "stream",
          "name": "stdout",
          "text": [
            "['H', 'e', 'l', 'l', 'o']\n"
          ]
        }
      ]
    },
    {
      "cell_type": "markdown",
      "source": [
        "Los strings son INMUTABLES. No se pueden alterar."
      ],
      "metadata": {
        "id": "98G4eY2o7bvO"
      }
    },
    {
      "cell_type": "code",
      "source": [
        "string1 = 'Hello' # string original\n",
        "string1[0] = 'J' # Intento reemplazar H por J pero da ERROR"
      ],
      "metadata": {
        "colab": {
          "base_uri": "https://localhost:8080/",
          "height": 164
        },
        "id": "UoCD9XdfC0_D",
        "outputId": "1044012c-a848-445d-9ea7-89578c6e7886"
      },
      "execution_count": null,
      "outputs": [
        {
          "output_type": "error",
          "ename": "TypeError",
          "evalue": "'str' object does not support item assignment",
          "traceback": [
            "\u001b[0;31m---------------------------------------------------------------------------\u001b[0m",
            "\u001b[0;31mTypeError\u001b[0m                                 Traceback (most recent call last)",
            "\u001b[0;32m<ipython-input-61-f30083fad467>\u001b[0m in \u001b[0;36m<cell line: 2>\u001b[0;34m()\u001b[0m\n\u001b[1;32m      1\u001b[0m \u001b[0mstring1\u001b[0m \u001b[0;34m=\u001b[0m \u001b[0;34m'Hello'\u001b[0m \u001b[0;31m# string original\u001b[0m\u001b[0;34m\u001b[0m\u001b[0;34m\u001b[0m\u001b[0m\n\u001b[0;32m----> 2\u001b[0;31m \u001b[0mstring1\u001b[0m\u001b[0;34m[\u001b[0m\u001b[0;36m0\u001b[0m\u001b[0;34m]\u001b[0m \u001b[0;34m=\u001b[0m \u001b[0;34m'J'\u001b[0m \u001b[0;31m# Intento reemplazar H por J pero da ERROR\u001b[0m\u001b[0;34m\u001b[0m\u001b[0;34m\u001b[0m\u001b[0m\n\u001b[0m",
            "\u001b[0;31mTypeError\u001b[0m: 'str' object does not support item assignment"
          ]
        }
      ]
    },
    {
      "cell_type": "markdown",
      "source": [
        "Ninguna de las operaciones vistas modifica el string original, sino que devuelve un **nuevo** objeto string."
      ],
      "metadata": {
        "id": "gkv6WUENDWkN"
      }
    },
    {
      "cell_type": "code",
      "source": [
        "string = 'Hello LVL UP'\n",
        "trozo1 = string[5:]\n",
        "print(id(string))\n",
        "print(id(trozo1))"
      ],
      "metadata": {
        "colab": {
          "base_uri": "https://localhost:8080/"
        },
        "id": "a2uHxkBMDcQe",
        "outputId": "aea75779-e748-48a6-cfd7-cbff518e3444"
      },
      "execution_count": null,
      "outputs": [
        {
          "output_type": "stream",
          "name": "stdout",
          "text": [
            "137725319778160\n",
            "137725319777584\n"
          ]
        }
      ]
    },
    {
      "cell_type": "markdown",
      "source": [
        "2.2.2) **Integers & Floats**\n",
        "- Inmutables\n",
        "- Operaciones más comunes:\n",
        "    - Suma/Resta/Multiplicación\n",
        "    - División Flotante/Entera/Resto\n",
        "    - Potencia/Raíz\n",
        "    - Incremento y Decremento"
      ],
      "metadata": {
        "id": "sITHdd0MFzPI"
      }
    },
    {
      "cell_type": "markdown",
      "source": [
        "Suma. Resta. Multiplicación."
      ],
      "metadata": {
        "id": "7kWBCk-Z-T5y"
      }
    },
    {
      "cell_type": "code",
      "source": [
        "a = 4\n",
        "b = 2\n",
        "c = 2.5\n",
        "suma = a + b + c\n",
        "suma"
      ],
      "metadata": {
        "colab": {
          "base_uri": "https://localhost:8080/"
        },
        "id": "WNWuG1K1F5K2",
        "outputId": "3668f030-0fac-4c2c-d5c8-d1edd1617703"
      },
      "execution_count": null,
      "outputs": [
        {
          "output_type": "execute_result",
          "data": {
            "text/plain": [
              "8.5"
            ]
          },
          "metadata": {},
          "execution_count": 88
        }
      ]
    },
    {
      "cell_type": "code",
      "source": [
        "resta = a - b\n",
        "resta"
      ],
      "metadata": {
        "colab": {
          "base_uri": "https://localhost:8080/"
        },
        "id": "VcVfFTRbGsio",
        "outputId": "defa163e-b9bb-4f59-a693-e0a7a27b4d8b"
      },
      "execution_count": null,
      "outputs": [
        {
          "output_type": "execute_result",
          "data": {
            "text/plain": [
              "2"
            ]
          },
          "metadata": {},
          "execution_count": 89
        }
      ]
    },
    {
      "cell_type": "code",
      "source": [
        "multiplicacion = a * b\n",
        "multiplicacion"
      ],
      "metadata": {
        "colab": {
          "base_uri": "https://localhost:8080/"
        },
        "id": "YW21bSUYGzbt",
        "outputId": "e8f376b5-6593-4af2-b814-30bb8a95a422"
      },
      "execution_count": null,
      "outputs": [
        {
          "output_type": "execute_result",
          "data": {
            "text/plain": [
              "8"
            ]
          },
          "metadata": {},
          "execution_count": 90
        }
      ]
    },
    {
      "cell_type": "markdown",
      "source": [
        "División entera/flotante/resto."
      ],
      "metadata": {
        "id": "2o4TBNRO-hXR"
      }
    },
    {
      "cell_type": "code",
      "source": [
        "division_flotante = a/b\n",
        "division_flotante"
      ],
      "metadata": {
        "colab": {
          "base_uri": "https://localhost:8080/"
        },
        "id": "aRxcpycKG5Nt",
        "outputId": "b7a0d952-1a6e-40e2-9070-bce38096db25"
      },
      "execution_count": null,
      "outputs": [
        {
          "output_type": "execute_result",
          "data": {
            "text/plain": [
              "2.0"
            ]
          },
          "metadata": {},
          "execution_count": 91
        }
      ]
    },
    {
      "cell_type": "code",
      "source": [
        "division_entera = a//b\n",
        "division_entera"
      ],
      "metadata": {
        "colab": {
          "base_uri": "https://localhost:8080/"
        },
        "id": "4WIUuWyiG9Yl",
        "outputId": "b0bc0ab5-d44e-4681-ed08-29b3a2909889"
      },
      "execution_count": null,
      "outputs": [
        {
          "output_type": "execute_result",
          "data": {
            "text/plain": [
              "2"
            ]
          },
          "metadata": {},
          "execution_count": 92
        }
      ]
    },
    {
      "cell_type": "code",
      "source": [
        "resto = a%b     # modulo\n",
        "resto"
      ],
      "metadata": {
        "colab": {
          "base_uri": "https://localhost:8080/"
        },
        "id": "_R0ev7W1HD4S",
        "outputId": "cb4c9199-9793-4ef5-9edb-db5fde496706"
      },
      "execution_count": null,
      "outputs": [
        {
          "output_type": "execute_result",
          "data": {
            "text/plain": [
              "0"
            ]
          },
          "metadata": {},
          "execution_count": 93
        }
      ]
    },
    {
      "cell_type": "markdown",
      "source": [
        "Potencia y Raíz"
      ],
      "metadata": {
        "id": "nrCAdfFQ-loh"
      }
    },
    {
      "cell_type": "code",
      "source": [
        "potencia = a**b\n",
        "potencia"
      ],
      "metadata": {
        "colab": {
          "base_uri": "https://localhost:8080/"
        },
        "id": "7rSrbbfwHJGP",
        "outputId": "f64cb0f5-e066-457f-9946-e4f4a462f586"
      },
      "execution_count": null,
      "outputs": [
        {
          "output_type": "execute_result",
          "data": {
            "text/plain": [
              "16"
            ]
          },
          "metadata": {},
          "execution_count": 94
        }
      ]
    },
    {
      "cell_type": "code",
      "source": [
        "# Para la raíz debemos importar el módulo math\n",
        "from math import sqrt\n",
        "raiz = sqrt(c)\n",
        "raiz"
      ],
      "metadata": {
        "colab": {
          "base_uri": "https://localhost:8080/"
        },
        "id": "NggH6ieDHmrf",
        "outputId": "6463a2b6-0b12-41e1-9f11-ce88aba4c94f"
      },
      "execution_count": null,
      "outputs": [
        {
          "output_type": "execute_result",
          "data": {
            "text/plain": [
              "1.5811388300841898"
            ]
          },
          "metadata": {},
          "execution_count": 95
        }
      ]
    },
    {
      "cell_type": "markdown",
      "source": [
        "**2.2.3) BOOL**\n",
        "- Inmutables\n",
        "- Operaciones\n",
        "    - Comparación\n",
        "    - Negación\n",
        "    - Conjunción\n",
        "    - Disyunción\n",
        "    - Casteo a int"
      ],
      "metadata": {
        "id": "9S1UbcdYI38F"
      }
    },
    {
      "cell_type": "markdown",
      "source": [
        "Comparación"
      ],
      "metadata": {
        "id": "DehugqEE-v2A"
      }
    },
    {
      "cell_type": "code",
      "source": [
        "print(10 > 9)\n",
        "print(10 == 9)\n",
        "print(10 < 9)"
      ],
      "metadata": {
        "colab": {
          "base_uri": "https://localhost:8080/"
        },
        "id": "LwsRiXptJeDE",
        "outputId": "67af573f-4f0b-45b7-b349-7441020b5d4c"
      },
      "execution_count": null,
      "outputs": [
        {
          "output_type": "stream",
          "name": "stdout",
          "text": [
            "True\n",
            "False\n",
            "False\n"
          ]
        }
      ]
    },
    {
      "cell_type": "markdown",
      "source": [
        "Negación"
      ],
      "metadata": {
        "id": "Y2FlPDk_-yf0"
      }
    },
    {
      "cell_type": "code",
      "source": [
        "x = True\n",
        "y = not x  # y será False\n",
        "y"
      ],
      "metadata": {
        "colab": {
          "base_uri": "https://localhost:8080/"
        },
        "id": "12bDdcrdJsKQ",
        "outputId": "f70ff130-02c3-43c7-ec2b-484b9433af21"
      },
      "execution_count": null,
      "outputs": [
        {
          "output_type": "execute_result",
          "data": {
            "text/plain": [
              "False"
            ]
          },
          "metadata": {},
          "execution_count": 100
        }
      ]
    },
    {
      "cell_type": "markdown",
      "source": [
        "Conjunción"
      ],
      "metadata": {
        "id": "mo0HOmne-1la"
      }
    },
    {
      "cell_type": "code",
      "source": [
        "x = True\n",
        "y = False\n",
        "z = x and y  # z será False\n",
        "z"
      ],
      "metadata": {
        "colab": {
          "base_uri": "https://localhost:8080/"
        },
        "id": "gycHF08sKG3y",
        "outputId": "99fa3aa4-73df-42ed-97f0-f60eeaff63f7"
      },
      "execution_count": null,
      "outputs": [
        {
          "output_type": "execute_result",
          "data": {
            "text/plain": [
              "False"
            ]
          },
          "metadata": {},
          "execution_count": 101
        }
      ]
    },
    {
      "cell_type": "markdown",
      "source": [
        "Disyunción"
      ],
      "metadata": {
        "id": "hxRQw0JF-4fG"
      }
    },
    {
      "cell_type": "code",
      "source": [
        "x = True\n",
        "y = False\n",
        "z = x or y  # z será True\n",
        "z"
      ],
      "metadata": {
        "colab": {
          "base_uri": "https://localhost:8080/"
        },
        "id": "KfLV0c0aKS3M",
        "outputId": "e83e5f28-7623-4ad4-c0f2-b2996bd6f35e"
      },
      "execution_count": null,
      "outputs": [
        {
          "output_type": "execute_result",
          "data": {
            "text/plain": [
              "True"
            ]
          },
          "metadata": {},
          "execution_count": 64
        }
      ]
    },
    {
      "cell_type": "markdown",
      "source": [
        "**2.2.4) DATE**\n",
        "- Día/mes/año\n",
        "- Día de la semana\n",
        "- Comparar Fechas\n",
        "- Sumar y Restar días\n",
        "- Formatear como String"
      ],
      "metadata": {
        "id": "HB0sugS0JbWi"
      }
    },
    {
      "cell_type": "markdown",
      "source": [
        "Importamos el módulo standard  `datetime`"
      ],
      "metadata": {
        "id": "QJzxd8ta_6nn"
      }
    },
    {
      "cell_type": "code",
      "source": [
        "from datetime import date, timedelta"
      ],
      "metadata": {
        "id": "cp1_XK9fLH4Q"
      },
      "execution_count": null,
      "outputs": []
    },
    {
      "cell_type": "code",
      "source": [
        "# Definición\n",
        "fecha = date(2024, 4, 16)"
      ],
      "metadata": {
        "id": "lKGfbh8nLUmO"
      },
      "execution_count": null,
      "outputs": []
    },
    {
      "cell_type": "markdown",
      "source": [
        "Obtener día/mes/año"
      ],
      "metadata": {
        "id": "t9IrrE2_AB-0"
      }
    },
    {
      "cell_type": "code",
      "source": [
        "dia = fecha.day\n",
        "mes = fecha.month\n",
        "year = fecha.year\n",
        "print(dia, mes, year)"
      ],
      "metadata": {
        "colab": {
          "base_uri": "https://localhost:8080/"
        },
        "id": "E6wyRCRvLhX7",
        "outputId": "3225c832-8766-4975-f5f8-95ee6b2db3d2"
      },
      "execution_count": null,
      "outputs": [
        {
          "output_type": "stream",
          "name": "stdout",
          "text": [
            "16 4 2024\n"
          ]
        }
      ]
    },
    {
      "cell_type": "markdown",
      "source": [
        "Obtener dia de semana"
      ],
      "metadata": {
        "id": "oTmR7zWsAFhd"
      }
    },
    {
      "cell_type": "code",
      "source": [
        "dia_semana = fecha.weekday()\n",
        "dia_semana"
      ],
      "metadata": {
        "colab": {
          "base_uri": "https://localhost:8080/"
        },
        "id": "hNQATYZnLrZ2",
        "outputId": "50e0f436-37e3-4f56-dd09-8bbf1794e476"
      },
      "execution_count": null,
      "outputs": [
        {
          "output_type": "execute_result",
          "data": {
            "text/plain": [
              "1"
            ]
          },
          "metadata": {},
          "execution_count": 70
        }
      ]
    },
    {
      "cell_type": "markdown",
      "source": [
        "Comparar fechas"
      ],
      "metadata": {
        "id": "BY7zeSYMANyi"
      }
    },
    {
      "cell_type": "code",
      "source": [
        "otra_fecha = date(2024, 4, 20)\n",
        "es_anterior = fecha < otra_fecha\n",
        "es_anterior"
      ],
      "metadata": {
        "colab": {
          "base_uri": "https://localhost:8080/"
        },
        "id": "oRIE7X4hLzhJ",
        "outputId": "64c5b940-9925-4f54-8ad8-f9f1e6052cf0"
      },
      "execution_count": null,
      "outputs": [
        {
          "output_type": "execute_result",
          "data": {
            "text/plain": [
              "True"
            ]
          },
          "metadata": {},
          "execution_count": 72
        }
      ]
    },
    {
      "cell_type": "code",
      "source": [
        "es_posterior = fecha > otra_fecha"
      ],
      "metadata": {
        "id": "6b23uT8CL4Sx"
      },
      "execution_count": null,
      "outputs": []
    },
    {
      "cell_type": "markdown",
      "source": [
        "Sumar o restar días"
      ],
      "metadata": {
        "id": "dWS8P-_yAS30"
      }
    },
    {
      "cell_type": "code",
      "source": [
        "nueva_fecha = fecha + timedelta(days=7)\n",
        "nueva_fecha"
      ],
      "metadata": {
        "colab": {
          "base_uri": "https://localhost:8080/"
        },
        "id": "AFluza8VL6Ev",
        "outputId": "503e630d-e1e9-4367-df2d-0ec90352b524"
      },
      "execution_count": null,
      "outputs": [
        {
          "output_type": "execute_result",
          "data": {
            "text/plain": [
              "datetime.date(2024, 4, 23)"
            ]
          },
          "metadata": {},
          "execution_count": 119
        }
      ]
    },
    {
      "cell_type": "markdown",
      "source": [
        "Calcular la diferencia en días"
      ],
      "metadata": {
        "id": "eZ3vNGZdAcvK"
      }
    },
    {
      "cell_type": "code",
      "source": [
        "diferencia = otra_fecha - fecha\n",
        "diferencia"
      ],
      "metadata": {
        "colab": {
          "base_uri": "https://localhost:8080/"
        },
        "id": "qOmutpCFMA1O",
        "outputId": "5c4e5155-28c1-41ac-b2ab-93c1563b00f9"
      },
      "execution_count": null,
      "outputs": [
        {
          "output_type": "execute_result",
          "data": {
            "text/plain": [
              "datetime.timedelta(days=4)"
            ]
          },
          "metadata": {},
          "execution_count": 73
        }
      ]
    },
    {
      "cell_type": "markdown",
      "source": [
        " Formatear la Fecha como cadena. Método `strftime()`\n"
      ],
      "metadata": {
        "id": "PHPhwjvmAlqC"
      }
    },
    {
      "cell_type": "code",
      "source": [
        "fecha_formateada = fecha.strftime(\"%Y-%m-%d\")\n",
        "fecha_formateada"
      ],
      "metadata": {
        "colab": {
          "base_uri": "https://localhost:8080/",
          "height": 36
        },
        "id": "7kiP4mB1MJZ3",
        "outputId": "c94cc985-cffa-4379-b069-e023a2c26ccc"
      },
      "execution_count": null,
      "outputs": [
        {
          "output_type": "execute_result",
          "data": {
            "text/plain": [
              "'2024-04-16'"
            ],
            "application/vnd.google.colaboratory.intrinsic+json": {
              "type": "string"
            }
          },
          "metadata": {},
          "execution_count": 74
        }
      ]
    },
    {
      "cell_type": "markdown",
      "source": [
        "**2.3) Método `type()`. Castear una variable**"
      ],
      "metadata": {
        "id": "s-04-MbPIYbx"
      }
    },
    {
      "cell_type": "markdown",
      "source": [
        "¿Cómo conocer que tipo de dato corresponde a mi variable?"
      ],
      "metadata": {
        "id": "Y0JQpbuIIgPz"
      }
    },
    {
      "cell_type": "code",
      "source": [
        "mi_variable1 = 5\n",
        "mi_variable2 = \"Hello\"\n",
        "print('Mi variable1 es del tipo',type(mi_variable1))\n",
        "print('Mi variable2 es del tipo',type(mi_variable2))"
      ],
      "metadata": {
        "colab": {
          "base_uri": "https://localhost:8080/"
        },
        "id": "S2xXqJYwIs3S",
        "outputId": "784b0aaf-e4ad-4043-ecc5-652c3ca871fe"
      },
      "execution_count": 81,
      "outputs": [
        {
          "output_type": "stream",
          "name": "stdout",
          "text": [
            "Mi variable1 es del tipo <class 'int'>\n",
            "Mi variable2 es del tipo <class 'str'>\n"
          ]
        }
      ]
    },
    {
      "cell_type": "markdown",
      "source": [
        "¿Cómo cambiar el tipo de dato de mi variable?"
      ],
      "metadata": {
        "id": "sTEdRm2mJYIl"
      }
    },
    {
      "cell_type": "code",
      "source": [
        "mi_variable = 55\n",
        "casteo = str(mi_variable)\n",
        "print(casteo)\n",
        "print(type(casteo))"
      ],
      "metadata": {
        "colab": {
          "base_uri": "https://localhost:8080/"
        },
        "id": "fS0D7s3jJAgS",
        "outputId": "aa282123-65c9-4a7a-b42b-0b13783153c0"
      },
      "execution_count": 85,
      "outputs": [
        {
          "output_type": "stream",
          "name": "stdout",
          "text": [
            "55\n",
            "<class 'str'>\n"
          ]
        }
      ]
    },
    {
      "cell_type": "markdown",
      "source": [
        "**2.4) Funciones**"
      ],
      "metadata": {
        "id": "aD8BOcdfn9uu"
      }
    },
    {
      "cell_type": "markdown",
      "source": [
        "- Built-in functions: Estas funciones predefinidas en Python que están disponibles en cualquier momento. Ejemplos incluyen `print()`, `input()`, `len()`, `range()`, entre otras.\n",
        "- User Defined functions: Estas son funciones creadas por el programador para realizar tareas específicas. Son definidas utilizando la palabra clave `def`.\n"
      ],
      "metadata": {
        "id": "DoWg40qXmdRT"
      }
    },
    {
      "cell_type": "code",
      "source": [
        "def suma(a, b):\n",
        "    \"\"\"Función recibe 2 valores y devuelve la suma\n",
        "    Parametros: 2 valores int o float\n",
        "    Resultado: Suma de los valores.\n",
        "    \"\"\"\n",
        "    return a + b\n",
        "\n",
        "resultado = suma(3, 5)\n",
        "print(resultado)"
      ],
      "metadata": {
        "id": "W6jgXcWDmlib",
        "colab": {
          "base_uri": "https://localhost:8080/"
        },
        "outputId": "24e86e40-b9f3-4a19-c13b-6afea4848ddc"
      },
      "execution_count": null,
      "outputs": [
        {
          "output_type": "stream",
          "name": "stdout",
          "text": [
            "8\n"
          ]
        }
      ]
    },
    {
      "cell_type": "markdown",
      "source": [
        "**Función `input()`**\n",
        "\n",
        "En Python, `input()` es una función integrada (built-in function).Se utiliza para solicitar al usuario que ingrese datos desde el teclado y devuelve la entrada del usuario como una cadena de texto (`string`)."
      ],
      "metadata": {
        "id": "R_-Rh8VYoYCo"
      }
    },
    {
      "cell_type": "code",
      "source": [
        "# Ejemplo\n",
        "nombre = input(\"Por favor, ingresa tu nombre:\")\n",
        "curso = input(\"Por favor, ingresa el curso que estás realizando: \")\n",
        "\n",
        "# Concatenar el nombre y la edad utilizando format()\n",
        "mensaje = f\"Hola, {nombre}. Estás antado en el curso: {curso}\"\n",
        "\n",
        "print(mensaje)"
      ],
      "metadata": {
        "colab": {
          "base_uri": "https://localhost:8080/"
        },
        "id": "qNHMFLVVDWmD",
        "outputId": "f0a92650-b5df-49a8-9b37-deec4332397a"
      },
      "execution_count": null,
      "outputs": [
        {
          "output_type": "stream",
          "name": "stdout",
          "text": [
            "Por favor, ingresa tu nombre:Lucho\n",
            "Por favor, ingresa el curso que estás realizando: Python\n",
            "Hola, Lucho. Estás antado en el curso: Python\n"
          ]
        }
      ]
    },
    {
      "cell_type": "markdown",
      "source": [
        "**2.5) Documentación**\n"
      ],
      "metadata": {
        "id": "rDY4qp2MoTXh"
      }
    },
    {
      "cell_type": "markdown",
      "source": [
        "Obtenemos la documentación de la función con el método `help()`"
      ],
      "metadata": {
        "id": "oYFL62pLD9Mq"
      }
    },
    {
      "cell_type": "code",
      "source": [
        "help(print)"
      ],
      "metadata": {
        "colab": {
          "base_uri": "https://localhost:8080/"
        },
        "id": "z5trj7O_q5Oo",
        "outputId": "f697b82c-baaa-4370-e26f-8e8f1f88be55"
      },
      "execution_count": null,
      "outputs": [
        {
          "output_type": "stream",
          "name": "stdout",
          "text": [
            "Help on built-in function print in module builtins:\n",
            "\n",
            "print(...)\n",
            "    print(value, ..., sep=' ', end='\\n', file=sys.stdout, flush=False)\n",
            "    \n",
            "    Prints the values to a stream, or to sys.stdout by default.\n",
            "    Optional keyword arguments:\n",
            "    file:  a file-like object (stream); defaults to the current sys.stdout.\n",
            "    sep:   string inserted between values, default a space.\n",
            "    end:   string appended after the last value, default a newline.\n",
            "    flush: whether to forcibly flush the stream.\n",
            "\n"
          ]
        }
      ]
    },
    {
      "cell_type": "markdown",
      "source": [
        "También podemos verlo con el método `__doc__`"
      ],
      "metadata": {
        "id": "sRAVy0m-EEX5"
      }
    },
    {
      "cell_type": "code",
      "source": [
        "print(print.__doc__)"
      ],
      "metadata": {
        "colab": {
          "base_uri": "https://localhost:8080/"
        },
        "id": "oQGo33IwrBFi",
        "outputId": "33b50f73-4ba7-4a32-e14c-4279f3c3ce95"
      },
      "execution_count": null,
      "outputs": [
        {
          "output_type": "stream",
          "name": "stdout",
          "text": [
            "print(value, ..., sep=' ', end='\\n', file=sys.stdout, flush=False)\n",
            "\n",
            "Prints the values to a stream, or to sys.stdout by default.\n",
            "Optional keyword arguments:\n",
            "file:  a file-like object (stream); defaults to the current sys.stdout.\n",
            "sep:   string inserted between values, default a space.\n",
            "end:   string appended after the last value, default a newline.\n",
            "flush: whether to forcibly flush the stream.\n"
          ]
        }
      ]
    },
    {
      "cell_type": "markdown",
      "source": [
        "#📝Ejercicios Parte 2"
      ],
      "metadata": {
        "id": "e8WK_YEbJikl"
      }
    },
    {
      "cell_type": "markdown",
      "source": [
        "👉 Parte 2 - Ejercicio de clase:\n",
        "\n",
        "- Define una función llamada `calcular_promedio` que tome tres parámetros (notas) y devuelva el promedio de esos valores.\n",
        "- Define tres variables `nota1`, `nota2` y `nota3`, y asígnales valores numéricos.\n",
        "Llama a la función `calcular_promedio` con las tres variables `nota1`, `nota2` y `nota3` como argumentos y almacena el resultado en una nueva variable llamada promedio.\n",
        "- Imprime el valor del promedio calculado."
      ],
      "metadata": {
        "id": "Cl36DS5A0rE4"
      }
    },
    {
      "cell_type": "code",
      "source": [
        "# Definir una función\n",
        "def calcular_promedio(a, b, c):\n",
        "    return (a + b + c) / 3\n",
        "\n",
        "# Definir variables\n",
        "nota1 = 7\n",
        "nota2 = 8\n",
        "nota3 = 9\n",
        "\n",
        "# Calcular el promedio utilizando la función\n",
        "promedio = calcular_promedio(nota1, nota2, nota3)\n",
        "print(\"El promedio de las notas es:\", promedio)"
      ],
      "metadata": {
        "id": "rOqzZSUf06Q5"
      },
      "execution_count": null,
      "outputs": []
    },
    {
      "cell_type": "markdown",
      "source": [
        "🫴🏻 Parte 2 - Ejercicio de tarea 1:\n",
        "\n",
        "- Define una función llamada `mostrar_id` que tome un argumento variable.\n",
        "Dentro de la función, imprime el ID de la variable utilizando la función `id()`.\n",
        "- Llama a la función con diferentes tipos de variables (al menos 3) y mostrar cómo cambian sus IDs. ¿Está bien que no coincidan?"
      ],
      "metadata": {
        "id": "yKBk54JV2yLa"
      }
    },
    {
      "cell_type": "code",
      "source": [
        "def mostrar_id(variable):\n",
        "    print(\"El ID de la variable es:\", id(variable))\n",
        "\n",
        "# Llamar a la función con diferentes variables\n",
        "mostrar_id(5)\n",
        "mostrar_id(\"Hola\")\n",
        "mostrar_id([1, 2, 3])"
      ],
      "metadata": {
        "id": "HnQ87U752271",
        "colab": {
          "base_uri": "https://localhost:8080/"
        },
        "outputId": "9a181565-a808-46b4-965e-33384334aea8"
      },
      "execution_count": null,
      "outputs": [
        {
          "output_type": "stream",
          "name": "stdout",
          "text": [
            "El ID de la variable es: 138869421310320\n",
            "El ID de la variable es: 138868992276336\n",
            "El ID de la variable es: 138868991769088\n"
          ]
        }
      ]
    },
    {
      "cell_type": "markdown",
      "source": [
        "Está bien que no coincidan ya que son diferentes variables que tienen diferentes ubicaciones en memoria."
      ],
      "metadata": {
        "id": "NuYstquKKcR7"
      }
    },
    {
      "cell_type": "markdown",
      "source": [
        "🫴🏻 Parte 2 - Ejercicio de tarea 2\n",
        "\n",
        "- Escribe un programa que solicite al usuario su `nombre` y su `edad` utilizando la función `input()`.\n",
        "\n",
        "- Utiliza la notación `f-string` para concatenar el nombre y la edad en una cadena de texto que diga \"Hola, [nombre]. Tienes [edad]\n",
        "años\"."
      ],
      "metadata": {
        "id": "wfNmdtLc4YAr"
      }
    },
    {
      "cell_type": "code",
      "source": [
        "# Solicitar al usuario su nombre y edad\n",
        "nombre = input(\"Por favor, ingresa tu nombre: \")\n",
        "edad = input(\"Por favor, ingresa tu edad: \")\n",
        "\n",
        "# Concatenar el nombre y la edad utilizando format()\n",
        "mensaje = f\"Hola, {nombre}. Tienes {edad} años.\"\n",
        "\n",
        "# Imprimir el mensaje\n",
        "print(mensaje)"
      ],
      "metadata": {
        "id": "SnDpTmri4xbi",
        "colab": {
          "base_uri": "https://localhost:8080/"
        },
        "outputId": "332b9913-e1b0-46c6-d30d-90448d1f82e5"
      },
      "execution_count": null,
      "outputs": [
        {
          "output_type": "stream",
          "name": "stdout",
          "text": [
            "Por favor, ingresa tu nombre: Luciano\n",
            "Por favor, ingresa tu edad: 32\n",
            "Hola, Luciano. Tienes 32 años.\n"
          ]
        }
      ]
    },
    {
      "cell_type": "markdown",
      "source": [
        "🫴🏻 Parte 2 - Ejercicio de tarea 3\n",
        "\n",
        "- Define diferentes variables con los tipos de datos básicos de Python: entero, flotante, cadena de texto y booleano.\n",
        "- Imprime el tipo de cada variable."
      ],
      "metadata": {
        "id": "fa84l1mu3N0c"
      }
    },
    {
      "cell_type": "code",
      "source": [
        "# Definir variables con diferentes tipos de datos\n",
        "entero = 5\n",
        "flotante = 3.14\n",
        "cadena = \"Hola\"\n",
        "booleano = True\n",
        "\n",
        "# Imprimir tipos de datos\n",
        "print(\"Tipo de entero:\", type(entero))\n",
        "print(\"Tipo de flotante:\", type(flotante))\n",
        "print(\"Tipo de cadena:\", type(cadena))\n",
        "print(\"Tipo de booleano:\", type(booleano))"
      ],
      "metadata": {
        "id": "CXtWhyfE3PPO"
      },
      "execution_count": null,
      "outputs": []
    },
    {
      "cell_type": "markdown",
      "source": [
        "🫴🏻 Parte 2 - Ejercicio de tarea 4\n",
        "\n",
        "- Escribe un programa que solicite al usuario dos números enteros.\n",
        "- Suma los dos números y muestra el resultado en la pantalla."
      ],
      "metadata": {
        "id": "QCk4_-jk6McN"
      }
    },
    {
      "cell_type": "code",
      "source": [
        "# Solicitar al usuario dos números enteros\n",
        "numero1 = int(input(\"Por favor, ingresa el primer número entero: \"))\n",
        "numero2 = int(input(\"Por favor, ingresa el segundo número entero: \"))\n",
        "\n",
        "# Sumar los dos números\n",
        "resultado = numero1 + numero2\n",
        "\n",
        "# Mostrar el resultado\n",
        "print(\"La suma de\", numero1, \"y\", numero2, \"es:\", resultado)"
      ],
      "metadata": {
        "id": "bwG7xhGV6abG",
        "colab": {
          "base_uri": "https://localhost:8080/"
        },
        "outputId": "3b50b647-8e27-4668-8f84-8ed24cd048c3"
      },
      "execution_count": null,
      "outputs": [
        {
          "output_type": "stream",
          "name": "stdout",
          "text": [
            "Por favor, ingresa el primer número entero: 2\n",
            "Por favor, ingresa el segundo número entero: 3\n",
            "La suma de 2 y 3 es: 5\n"
          ]
        }
      ]
    },
    {
      "cell_type": "markdown",
      "source": [
        "# ⭐ Parte 3: Condicionales"
      ],
      "metadata": {
        "id": "N6y08LLRjbL8"
      }
    },
    {
      "cell_type": "markdown",
      "source": [
        "  - if/else/elif\n",
        "  - match/case\n",
        "\n",
        "\n",
        "\n"
      ],
      "metadata": {
        "id": "pX7u20dsjdhu"
      }
    },
    {
      "cell_type": "markdown",
      "source": [
        "Condicional Simple"
      ],
      "metadata": {
        "id": "NMppEQt6LlQY"
      }
    },
    {
      "cell_type": "code",
      "source": [
        "a = 1\n",
        "b  = 20\n",
        "\n",
        "if a < b:\n",
        "  print(f'a es mayor a b')\n",
        "else:\n",
        "  print(f'a es menor a b')\n"
      ],
      "metadata": {
        "colab": {
          "base_uri": "https://localhost:8080/"
        },
        "id": "cc-COp7_Gr7H",
        "outputId": "bd734c39-6481-4a6f-9d77-4d70a58b885a"
      },
      "execution_count": null,
      "outputs": [
        {
          "output_type": "stream",
          "name": "stdout",
          "text": [
            "a es mayor a b\n"
          ]
        }
      ]
    },
    {
      "cell_type": "markdown",
      "source": [
        "Condicional anidado"
      ],
      "metadata": {
        "id": "BflcjTpULoEa"
      }
    },
    {
      "cell_type": "code",
      "source": [
        "a = 1\n",
        "b = 2\n",
        "if (a == 1 or b == 2 or a < b):\n",
        "    print (\"Condicionales anidados\")"
      ],
      "metadata": {
        "colab": {
          "base_uri": "https://localhost:8080/"
        },
        "id": "WCPbY1yPNsA8",
        "outputId": "41c2c4e0-1075-440c-e40d-a02a79428e2d"
      },
      "execution_count": null,
      "outputs": [
        {
          "output_type": "stream",
          "name": "stdout",
          "text": [
            "Condicionales anidados\n"
          ]
        }
      ]
    },
    {
      "cell_type": "markdown",
      "source": [
        "Varias condiciones. Uso de `elif`"
      ],
      "metadata": {
        "id": "RiGg2rL4LrdF"
      }
    },
    {
      "cell_type": "code",
      "source": [
        "# Con varias condiciones.Uso de Elif\n",
        "if a+b == 1:\n",
        "  print('La suma da 1')\n",
        "elif a+b == 2:\n",
        "  print('La suma da 2')\n",
        "elif a+b == 3:\n",
        "  print('La suma da 3')\n",
        "elif a+b == 4:\n",
        "  print('La suma da 4')\n",
        "elif a+b == 5:\n",
        "  print('La suma da 5')\n",
        "else:\n",
        "  print('Condicion no contemplada')\n"
      ],
      "metadata": {
        "colab": {
          "base_uri": "https://localhost:8080/"
        },
        "id": "pDdhdTb4OBbx",
        "outputId": "744c89d3-67a4-454a-9a5e-bc038bfad851"
      },
      "execution_count": null,
      "outputs": [
        {
          "output_type": "stream",
          "name": "stdout",
          "text": [
            "La suma da 3\n"
          ]
        }
      ]
    },
    {
      "cell_type": "markdown",
      "source": [
        "Match y case"
      ],
      "metadata": {
        "id": "GToh9-2XLvG8"
      }
    },
    {
      "cell_type": "markdown",
      "source": [
        "El uso es similar a `if/else` pero la notacion queda más limpia para casos que no tengo muchos condicionales complejos."
      ],
      "metadata": {
        "id": "M16CQu3FL2P1"
      }
    },
    {
      "cell_type": "code",
      "source": [
        "x = 10\n",
        "match x:\n",
        "    case 1:\n",
        "        print('x es 1')\n",
        "    case 5:\n",
        "        print('x es 5')\n",
        "    case _:\n",
        "        print('x no esta dentro de mis valores esperados <unknown>')"
      ],
      "metadata": {
        "colab": {
          "base_uri": "https://localhost:8080/"
        },
        "id": "ioSKCSrsOVPR",
        "outputId": "6bbebf15-7666-4ace-c639-d59dd02b4f53"
      },
      "execution_count": 87,
      "outputs": [
        {
          "output_type": "stream",
          "name": "stdout",
          "text": [
            "x no esta dentro de mis valores esperados <unknown>\n"
          ]
        }
      ]
    },
    {
      "cell_type": "markdown",
      "source": [
        "\n",
        "#📝Ejercicios parte 3:"
      ],
      "metadata": {
        "id": "8eYmHDu379XA"
      }
    },
    {
      "cell_type": "markdown",
      "source": [
        "👉 Parte 3 - Ejercicio de clase\n",
        "\n",
        "- Escribe un programa que solicitará al usuario que ingrese su `edad` y su `nombre`.\n",
        "- Verificará si el usuario tiene al menos 18 años y si su nombre comienza con la letra 'A' o 'a'. Si ambas condiciones se cumplen, el programa imprimirá un mensaje de acceso concedido; de lo contrario, imprimirá un mensaje de acceso denegado."
      ],
      "metadata": {
        "id": "gcB164hm6uzx"
      }
    },
    {
      "cell_type": "code",
      "source": [
        "# Solicitar al usuario ingresar su edad y nombre\n",
        "edad = int(input(\"Ingresa tu edad: \"))\n",
        "nombre = input(\"Ingresa tu nombre: \")\n",
        "\n",
        "# Verificar si el usuario tiene al menos 18 años y su nombre comienza con 'A' o 'a'\n",
        "acceso_concedido = (edad >= 18) and (nombre[0].lower() == 'a')\n",
        "\n",
        "# Imprimir el resultado\n",
        "if acceso_concedido:\n",
        "    print(\"Acceso concedido. ¡Bienvenido!\")\n",
        "else:\n",
        "    print(\"Acceso denegado. Lo siento, no cumples con los requisitos de acceso.\")"
      ],
      "metadata": {
        "id": "YpdjO-Sc6xyn"
      },
      "execution_count": null,
      "outputs": []
    },
    {
      "cell_type": "markdown",
      "source": [
        "🫴🏻 Parte 3 - Ejercicio de tarea 1\n",
        "- Escribe un programa que solicite al usuario que ingrese dos números.\n",
        "- Luego, el programa debe calcular el resultado al cuadrado sumando el cuadrado de cada número. Si el resultado es mayor a 100, el programa debe imprimir \"Supera la superficie máxima\". En caso contrario, debe imprimir \"Superficie habilitada\".\n",
        "\n",
        "*Tip: Recuerda que cuando utilizas la función `input()` debes asegurarte que el valor a sumar es int/float casteando el dato ingresado con los métodos vistos*"
      ],
      "metadata": {
        "id": "cs0-GKQwYb-w"
      }
    },
    {
      "cell_type": "code",
      "source": [
        "# Pedir al usuario que ingrese dos números\n",
        "numero1 = float(input(\"Ingrese el primer número: \"))\n",
        "numero2 = float(input(\"Ingrese el segundo número: \"))\n",
        "\n",
        "# Calcular el resultado al cuadrado\n",
        "resultado_cuadrado = numero1 ** 2 + numero2 ** 2\n",
        "\n",
        "# Comprobar si el resultado supera la superficie máxima (100)\n",
        "if resultado_cuadrado > 100:\n",
        "    print(\"El resultado al cuadrado supera la superficie máxima.\")\n",
        "else:\n",
        "    print(\"El resultado al cuadrado está dentro de la superficie habilitada.\")\n"
      ],
      "metadata": {
        "id": "gFtuIhBbYdUM"
      },
      "execution_count": null,
      "outputs": []
    }
  ]
}