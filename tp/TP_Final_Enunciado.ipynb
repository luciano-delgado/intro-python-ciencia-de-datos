{
  "nbformat": 4,
  "nbformat_minor": 0,
  "metadata": {
    "colab": {
      "provenance": []
    },
    "kernelspec": {
      "name": "python3",
      "display_name": "Python 3"
    },
    "language_info": {
      "name": "python"
    }
  },
  "cells": [
    {
      "cell_type": "markdown",
      "source": [
        "# TP Final 🐍⭐ - Análisis de Strokes.csv"
      ],
      "metadata": {
        "id": "JEFhjl102T8b"
      }
    },
    {
      "cell_type": "markdown",
      "source": [
        "# Introducción"
      ],
      "metadata": {
        "id": "5kybViyT3BCh"
      }
    },
    {
      "cell_type": "markdown",
      "source": [
        "- Importas las librerías necesarias para realizar el análisis.\n",
        "- Instalar aquellas que sean necesarias\n",
        "- Colocar el archivo `csv` en la carpeta `/content`\n",
        "- Importar el `csv` y generar el `df`"
      ],
      "metadata": {
        "id": "2LinRHAy3DRV"
      }
    },
    {
      "cell_type": "markdown",
      "source": [
        "# EDA\n",
        "\n"
      ],
      "metadata": {
        "id": "cWs5w4902lGR"
      }
    },
    {
      "cell_type": "markdown",
      "source": [
        "Realizar el análisis exploratorio de nuestro dataset.\n",
        "\n",
        "- Tipos de variable. Segregar `categóricas` y `numéricas`\n",
        "- Dimensiones del dataset\n",
        "- Mostrar\n",
        "  - Primeros 10 registros\n",
        "  - Ultimos 10 registros\n",
        "  - 10 registros aleatorios\n",
        "- Hallar valores duplicados\n",
        "- Hallar valores \"Not A Number\" `NaNs`\n",
        "  - Tratar los datos faltantes reemplazando los numéricos por la `Mediana` y los categóricos por `Unknown`\n",
        "- Castear (convertir) los tipos de datos correspondientes (Pista: Hay un valor que viene como `float64` que no tiene sentido que sea un valor con `coma`, el cual se debe convertir a su tipo de dato correspondiente.\n"
      ],
      "metadata": {
        "id": "QYjEA4LK31DD"
      }
    },
    {
      "cell_type": "markdown",
      "source": [
        "# Columnas calculadas"
      ],
      "metadata": {
        "id": "Xdwdew9U2miB"
      }
    },
    {
      "cell_type": "markdown",
      "source": [
        "- Función 1: Agregar una columna que agrupe `bmi` en categorías:\n",
        "  - Si es de 0 a 20: Bajo\n",
        "  - Si es de 20 a 40: Medio\n",
        "  - Si es mayor a 40: Alto\n",
        "\n",
        "- Función 2: Agregar una columna que agrupe `avg_glucose_level`:\n",
        "  - Si es de 0 a 100: Bajo\n",
        "  - Si es de 100 a 200: Medio\n",
        "  - Si es mayor a 200: Alto\n",
        "\n",
        "\n",
        "Nota: Se debe definir la función correspondiente considerando todos los conceptos vistos en el curso:\n",
        "- Documentación\n",
        "- Indicar qué tipo de dato se espera en los parámetros\n",
        "- Proteger el bloque de código capturando errores\n"
      ],
      "metadata": {
        "id": "lSr-xO3q7n6Y"
      }
    },
    {
      "cell_type": "code",
      "source": [],
      "metadata": {
        "id": "uS_h1gDZ7oFR"
      },
      "execution_count": null,
      "outputs": []
    },
    {
      "cell_type": "markdown",
      "source": [
        "# Hipótesis"
      ],
      "metadata": {
        "id": "vRcBuzi42ml0"
      }
    },
    {
      "cell_type": "markdown",
      "source": [
        "A partir del análisis buscaremos validar las siguientes hipótesis sobre nuestro dataset.\n",
        "¿Se les ocurren alguna más interesante para analizar?\n",
        "\n",
        "- La mayoría de las personas tienen más de 60 años\n",
        "- De las personas que presentan `stroke`, la mayoría tiene un trabajo privado.\n",
        "- De las personas que presentan `stroke`, la mayoría reside en zonas urbanas."
      ],
      "metadata": {
        "id": "V36Z4Lmn-npy"
      }
    },
    {
      "cell_type": "markdown",
      "source": [
        "# Visualizaciones y Estadísticas"
      ],
      "metadata": {
        "id": "CMjh46Fg21dl"
      }
    },
    {
      "cell_type": "markdown",
      "source": [
        "Habiendo identificado las variables `categóricas` y `numéricas` se solicita realizar las siguientes visualizaciones:\n",
        "\n",
        "- Diagrama de Barras\n",
        "  - Por tipo de trabajo\n",
        "  - Por tipo de residencia\n",
        "\n",
        "- Diagrama de Torta\n",
        "  - Por estado civil\n",
        "  - Por smoking status\n",
        "\n",
        "- Histograma\n",
        "  - Por bmi\n",
        "  - Por nivel promedio de glucosa\n",
        "\n",
        "- Diagrama Caja-Bigote (Boxplot)\n",
        "  - Por bmi\n",
        "  - Por nivel promedio de glucosa\n",
        "  - Adicionalmente, validar los valores que se visualizan utilizando una función estadística que muestre las principales medidas.\n",
        "\n",
        "- Diagrama Violin (Boxplot)\n",
        "  - Por bmi\n",
        "  - Por nivel promedio de glucosa\n",
        "\n",
        "- PairPlot\n",
        "  - Visualizar las relaciones entre `age`, `hypertension`, `heart_disease`,`smoking_status` según si tuvo stroke\n",
        "  - Visualizar las relaciones entre `age`, `work_type`, `residence_type` según si tuvo stroke\n",
        "\n",
        "  👉 ¿Qué hipótesis de las realizadas inicialmente podemos confirmar/rechazar?\n",
        "\n",
        "  👉 ¿Qué otras conclusiones se pueden obtener del análisis?"
      ],
      "metadata": {
        "id": "WjDuxMQcBHnq"
      }
    },
    {
      "cell_type": "markdown",
      "source": [
        "# SQL"
      ],
      "metadata": {
        "id": "q1-lySFe2mpu"
      }
    },
    {
      "cell_type": "markdown",
      "source": [
        "Para complementar el análisis, realizar las siguientes consultas SQL\n",
        "\n",
        "- Obtener todos los registros donde la persona está casada y no casada.\n",
        "- Obtener todos los registros de personas mayores a 20 años\n",
        "- Obtener todos los registros de personas con hipertensión y sin hipertensión.\n",
        "- Obtener todos los registros de personas que tuvieron stroke y las que no tuvieron\n",
        "- Obtener todos los registros de personas que tuvieron stroke y son menores a 10 años\n",
        "- Obtener la suma total de registros y validar que se condise con el `shape` del dataframe (Para esto, podes usar la formula `sum()` indicando la columna `id` entre los paréntesis."
      ],
      "metadata": {
        "id": "Rz4MOdtBF68t"
      }
    },
    {
      "cell_type": "code",
      "source": [],
      "metadata": {
        "id": "ZJD0sJXyHR0j"
      },
      "execution_count": null,
      "outputs": []
    }
  ]
}