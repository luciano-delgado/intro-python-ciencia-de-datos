{
  "nbformat": 4,
  "nbformat_minor": 0,
  "metadata": {
    "colab": {
      "provenance": []
    },
    "kernelspec": {
      "name": "python3",
      "display_name": "Python 3"
    },
    "language_info": {
      "name": "python"
    }
  },
  "cells": [
    {
      "cell_type": "markdown",
      "source": [
        "**Clase 4 - 11/05/2024: Bibliotecas standar de Python ⚡🐍**"
      ],
      "metadata": {
        "id": "wFIjFXnTwmw1"
      }
    },
    {
      "cell_type": "markdown",
      "source": [
        "# **⭐Parte 1: Manejo de Excepciones**\n",
        "\n",
        "1.1) Excepciones `sin capturar`\n",
        "\n",
        "1.2) Capturando error de manera `genérica`\n",
        "\n",
        "1.3) Capturando `ZeroDivisionError`\n",
        "\n",
        "1.4) Especificando `varias` excepciones\n",
        "\n",
        "1.5) Excepción `desconocida` con  `alias`\n",
        "\n",
        "1.6) Le sumamos `else` y `finally`"
      ],
      "metadata": {
        "id": "D6KSW1ezwtcu"
      }
    },
    {
      "cell_type": "markdown",
      "source": [
        "Una `exepcion` es un bloque de código que se lanza cuando se produce un `error` (por ejemplo accesos a listas fuera de rango o intentar acceder a una clave inexistente en un diccionario).\n",
        "\n",
        "- Los bloques de cógido se protegen con la sentencia `try/except`"
      ],
      "metadata": {
        "id": "GG6lTHmwwtgF"
      }
    },
    {
      "cell_type": "markdown",
      "source": [
        "1.1) Excepciones `sin capturar`"
      ],
      "metadata": {
        "id": "eFWbdDBc0CvY"
      }
    },
    {
      "cell_type": "code",
      "source": [
        "def funcion_sin_manejo_de_excepcion(a, b):\n",
        "  \"\"\" Función que divide a sobre b SIN MANEJO DE EXCEPCION\n",
        "  \"\"\"\n",
        "  return a//b\n",
        "\n",
        "funcion_sin_manejo_de_excepcion(3, 0)"
      ],
      "metadata": {
        "colab": {
          "base_uri": "https://localhost:8080/",
          "height": 297
        },
        "id": "rwsmw02UwtjE",
        "outputId": "d685c2c5-0942-4b78-b062-b337155afe2e"
      },
      "execution_count": 1,
      "outputs": [
        {
          "output_type": "error",
          "ename": "ZeroDivisionError",
          "evalue": "integer division or modulo by zero",
          "traceback": [
            "\u001b[0;31m---------------------------------------------------------------------------\u001b[0m",
            "\u001b[0;31mZeroDivisionError\u001b[0m                         Traceback (most recent call last)",
            "\u001b[0;32m<ipython-input-1-dcbb73d50949>\u001b[0m in \u001b[0;36m<cell line: 6>\u001b[0;34m()\u001b[0m\n\u001b[1;32m      4\u001b[0m   \u001b[0;32mreturn\u001b[0m \u001b[0ma\u001b[0m\u001b[0;34m//\u001b[0m\u001b[0mb\u001b[0m\u001b[0;34m\u001b[0m\u001b[0;34m\u001b[0m\u001b[0m\n\u001b[1;32m      5\u001b[0m \u001b[0;34m\u001b[0m\u001b[0m\n\u001b[0;32m----> 6\u001b[0;31m \u001b[0mfuncion_sin_manejo_de_excepcion\u001b[0m\u001b[0;34m(\u001b[0m\u001b[0;36m3\u001b[0m\u001b[0;34m,\u001b[0m \u001b[0;36m0\u001b[0m\u001b[0;34m)\u001b[0m\u001b[0;34m\u001b[0m\u001b[0;34m\u001b[0m\u001b[0m\n\u001b[0m",
            "\u001b[0;32m<ipython-input-1-dcbb73d50949>\u001b[0m in \u001b[0;36mfuncion_sin_manejo_de_excepcion\u001b[0;34m(a, b)\u001b[0m\n\u001b[1;32m      2\u001b[0m   \"\"\" Función que divide a sobre b SIN MANEJO DE EXCEPCION\n\u001b[1;32m      3\u001b[0m   \"\"\"\n\u001b[0;32m----> 4\u001b[0;31m   \u001b[0;32mreturn\u001b[0m \u001b[0ma\u001b[0m\u001b[0;34m//\u001b[0m\u001b[0mb\u001b[0m\u001b[0;34m\u001b[0m\u001b[0;34m\u001b[0m\u001b[0m\n\u001b[0m\u001b[1;32m      5\u001b[0m \u001b[0;34m\u001b[0m\u001b[0m\n\u001b[1;32m      6\u001b[0m \u001b[0mfuncion_sin_manejo_de_excepcion\u001b[0m\u001b[0;34m(\u001b[0m\u001b[0;36m3\u001b[0m\u001b[0;34m,\u001b[0m \u001b[0;36m0\u001b[0m\u001b[0;34m)\u001b[0m\u001b[0;34m\u001b[0m\u001b[0;34m\u001b[0m\u001b[0m\n",
            "\u001b[0;31mZeroDivisionError\u001b[0m: integer division or modulo by zero"
          ]
        }
      ]
    },
    {
      "cell_type": "markdown",
      "source": [
        "1.2) Capturando error de manera `genérica`\n",
        "\n",
        "No es una buena práctica, siempre se debe indicar qué tipo de `Exception` se está gestionando."
      ],
      "metadata": {
        "id": "5fv6S55Q0F-L"
      }
    },
    {
      "cell_type": "code",
      "source": [
        "def funcion2(a, b):\n",
        "  \"\"\" Función que divide a sobre b CON MANEJO DE EXCEPCION de manera Genérica\n",
        "  \"\"\"\n",
        "  try:\n",
        "      return a//b\n",
        "  except:\n",
        "      print('No se pudo realizar la división')\n",
        "\n",
        "funcion2(3, 0)"
      ],
      "metadata": {
        "colab": {
          "base_uri": "https://localhost:8080/"
        },
        "id": "vJSAsxQq0GIu",
        "outputId": "636c19c5-76f3-4ff9-d012-987138c5261e"
      },
      "execution_count": null,
      "outputs": [
        {
          "output_type": "stream",
          "name": "stdout",
          "text": [
            "No se pudo realizar la división\n"
          ]
        }
      ]
    },
    {
      "cell_type": "markdown",
      "source": [
        "1.3) Capturando `ZeroDivisionError`"
      ],
      "metadata": {
        "id": "4S6xJ5Qnz0Vv"
      }
    },
    {
      "cell_type": "markdown",
      "source": [
        "Lo correcto es indicar el `tipo de excepción` que puede darse y cómo se `gestionará` en caso de suceder.\n",
        "\n",
        "Si no sabemos que tipo de `excepción` tenemos que capturar, Python en el resultado de la ejecución indica el motivo del error."
      ],
      "metadata": {
        "id": "yCyMJ5jR0oOt"
      }
    },
    {
      "cell_type": "code",
      "source": [
        "def funcion3(a, b):\n",
        "  \"\"\" Función que divide a sobre b CON MANEJO DE EXCEPCION\n",
        "  \"\"\"\n",
        "  try:\n",
        "      return a//b\n",
        "  except ZeroDivisionError:\n",
        "      print('No se puede dividir por cero. Intente con otro divisor.')\n",
        "\n",
        "funcion3(3, 0)"
      ],
      "metadata": {
        "colab": {
          "base_uri": "https://localhost:8080/"
        },
        "id": "ESxr7CqswtmE",
        "outputId": "0ba7639e-a77d-4a0a-ad89-fa2eadc9253d"
      },
      "execution_count": 3,
      "outputs": [
        {
          "output_type": "stream",
          "name": "stdout",
          "text": [
            "No se puede dividir por cero. Intente con otro divisor.\n"
          ]
        }
      ]
    },
    {
      "cell_type": "markdown",
      "source": [
        "1.4) Especificando `varias` excepciones"
      ],
      "metadata": {
        "id": "8XdOFtVUwtou"
      }
    },
    {
      "cell_type": "code",
      "source": [
        "def funcion4(a, b):\n",
        "  \"\"\" Función que divide a sobre b CON MANEJO DE EXCEPCION\n",
        "  \"\"\"\n",
        "  try:\n",
        "    return a//b\n",
        "  except ZeroDivisionError:\n",
        "    print('No se puede dividir por cero. Intente con otro divisor.')\n",
        "  except TypeError:\n",
        "    print('Revisar el tipo de dato ingresado')\n",
        "  except:\n",
        "    print('Excepción no capturada o desconocida.')\n"
      ],
      "metadata": {
        "id": "iJvvj6cA07G_"
      },
      "execution_count": 6,
      "outputs": []
    },
    {
      "cell_type": "code",
      "source": [
        "funcion4(3, 0)"
      ],
      "metadata": {
        "colab": {
          "base_uri": "https://localhost:8080/"
        },
        "id": "b9WOjSrqV6VX",
        "outputId": "1f4433ee-cd2d-42d0-876e-048d980a2617"
      },
      "execution_count": 7,
      "outputs": [
        {
          "output_type": "stream",
          "name": "stdout",
          "text": [
            "No se puede dividir por cero. Intente con otro divisor.\n"
          ]
        }
      ]
    },
    {
      "cell_type": "code",
      "source": [
        "funcion4(3, '0')"
      ],
      "metadata": {
        "colab": {
          "base_uri": "https://localhost:8080/"
        },
        "id": "6zFRTSKhV1tO",
        "outputId": "0d7c0bf9-5002-4596-b659-bf7e7e189827"
      },
      "execution_count": 8,
      "outputs": [
        {
          "output_type": "stream",
          "name": "stdout",
          "text": [
            "Revisar el tipo de dato ingresado\n"
          ]
        }
      ]
    },
    {
      "cell_type": "markdown",
      "source": [
        "1.5) Excepción  `desconocida`\n",
        "\n",
        "Cuando no conocemos qué excepción se puede dar podemos dejarla vacío o imprimirla en pantalla (recordemos que como dijimos anteriormente la buena práctica es capturar el tipo de excepción para gestionarla debidamente)."
      ],
      "metadata": {
        "id": "QlUSwqGo30W3"
      }
    },
    {
      "cell_type": "markdown",
      "source": [
        "1.5.1) Suponiendo que no conocemos la excepción que se va a dar:"
      ],
      "metadata": {
        "id": "LLNxnWBy3_xd"
      }
    },
    {
      "cell_type": "code",
      "source": [
        "def funcion5(a, b):\n",
        "  \"\"\" Función que divide a sobre b CON MANEJO DE EXCEPCION de manera Genérica\n",
        "  \"\"\"\n",
        "  try:\n",
        "      return a//b\n",
        "  except:\n",
        "      print('No se pudo realizar la división. Excepción desconocida sin capturar')\n"
      ],
      "metadata": {
        "id": "A5yeNVCZ4EKh"
      },
      "execution_count": 11,
      "outputs": []
    },
    {
      "cell_type": "code",
      "source": [
        "funcion5(2,'0')"
      ],
      "metadata": {
        "colab": {
          "base_uri": "https://localhost:8080/"
        },
        "id": "WwxaZ77uWNqU",
        "outputId": "4829118a-55fe-4e28-898f-65ba35fb724f"
      },
      "execution_count": 12,
      "outputs": [
        {
          "output_type": "stream",
          "name": "stdout",
          "text": [
            "No se pudo realizar la división. Excepción desconocida sin capturar\n"
          ]
        }
      ]
    },
    {
      "cell_type": "markdown",
      "source": [
        "1.5.2) Podemos también capturar la excepción desconocida para imprimirla en pantalla y luego gestionarla"
      ],
      "metadata": {
        "id": "TxNz75JH4ENk"
      }
    },
    {
      "cell_type": "markdown",
      "source": [
        "Podemos capturar en una `variable` (temporal) la excepción no capturada para imprimirla en pantalla con la sintaxis `except Exception as error`\n",
        "\n",
        "Nota: La palabra `error` es un \"alias\". Podría ser cualquier palabra que cumpla con las restricciones de no ser reservada y demás vistas la primer clase."
      ],
      "metadata": {
        "id": "8b-dwu9l07KO"
      }
    },
    {
      "cell_type": "code",
      "source": [
        "def funcion6(a, b):\n",
        "  \"\"\" Función que divide a sobre b CON MANEJO DE EXCEPCION\n",
        "  \"\"\"\n",
        "  try:\n",
        "    return a//b\n",
        "  except Exception as error:\n",
        "    print(f'Excepción no capturada o desconocida. Detalle: \\n{error}')\n",
        "\n",
        "funcion6(3, '0')"
      ],
      "metadata": {
        "colab": {
          "base_uri": "https://localhost:8080/"
        },
        "id": "mxnV2mPk07M3",
        "outputId": "e7e620ad-9236-4ac3-e506-e6729e0a9ffa"
      },
      "execution_count": 15,
      "outputs": [
        {
          "output_type": "stream",
          "name": "stdout",
          "text": [
            "Excepción no capturada o desconocida. Detalle: \n",
            "unsupported operand type(s) for //: 'int' and 'str'\n"
          ]
        }
      ]
    },
    {
      "cell_type": "code",
      "source": [
        "def funcion6(a, b):\n",
        "  \"\"\" Función que divide a sobre b CON MANEJO DE EXCEPCION\n",
        "  \"\"\"\n",
        "  try:\n",
        "    return a//b\n",
        "  except Exception as mi_excepcion:\n",
        "    print(f'Excepción no capturada o desconocida. Detalle: \\n {mi_excepcion}')\n",
        "\n",
        "funcion6(3, '0')"
      ],
      "metadata": {
        "colab": {
          "base_uri": "https://localhost:8080/"
        },
        "id": "7Fr1453zWaJt",
        "outputId": "e646c6ea-b061-4d06-ac8d-05ad0decbd44"
      },
      "execution_count": 16,
      "outputs": [
        {
          "output_type": "stream",
          "name": "stdout",
          "text": [
            "Excepción no capturada o desconocida. Detalle: \n",
            " unsupported operand type(s) for //: 'int' and 'str'\n"
          ]
        }
      ]
    },
    {
      "cell_type": "markdown",
      "source": [
        "1.6) Le sumamos el `else` y el `finally`\n",
        "\n",
        "- `else`:\n",
        "El bloque de código dentro de else se ejecuta si no se produce ninguna excepción dentro del bloque try.\n",
        "\n",
        "- `finally`:\n",
        "El bloque de código dentro de finally **se ejecuta siempre**, independientemente de si se produjo una excepción o no en el bloque try.\n",
        "Se utiliza típicamente para realizar acciones de limpieza o liberación de recursos que deben ejecutarse, independientemente de si se produce una excepción o no."
      ],
      "metadata": {
        "id": "3VYHu5qywmPj"
      }
    },
    {
      "cell_type": "code",
      "source": [
        "valores = [4,2,7]\n",
        "def funcion7(indice):\n",
        "  try:\n",
        "    r = valores[indice]\n",
        "  except IndexError:\n",
        "    print(\"Error: No existe el índice\")\n",
        "  else:\n",
        "    print(f\"El valor es {r}\")\n",
        "  finally:\n",
        "    print('Fin del proceso')\n"
      ],
      "metadata": {
        "colab": {
          "base_uri": "https://localhost:8080/"
        },
        "id": "2wI1IHr3wA7z",
        "outputId": "d6fb5574-10a4-49f5-dc44-005b8a6805f1"
      },
      "execution_count": 17,
      "outputs": [
        {
          "output_type": "stream",
          "name": "stdout",
          "text": [
            "El valor es 7\n",
            "Fin del proceso\n"
          ]
        }
      ]
    },
    {
      "cell_type": "markdown",
      "source": [
        "Resultado saliente por el `else`"
      ],
      "metadata": {
        "id": "LybMqOghW6TP"
      }
    },
    {
      "cell_type": "code",
      "source": [
        "funcion7(2)"
      ],
      "metadata": {
        "colab": {
          "base_uri": "https://localhost:8080/"
        },
        "id": "NAdJ6CinW6tl",
        "outputId": "314b76da-182b-4572-a78d-fb0d2973c993"
      },
      "execution_count": 18,
      "outputs": [
        {
          "output_type": "stream",
          "name": "stdout",
          "text": [
            "El valor es 7\n",
            "Fin del proceso\n"
          ]
        }
      ]
    },
    {
      "cell_type": "markdown",
      "source": [
        "Resultado por el `except`"
      ],
      "metadata": {
        "id": "sQ7YCLG_XA0L"
      }
    },
    {
      "cell_type": "code",
      "source": [
        "funcion7(8)"
      ],
      "metadata": {
        "colab": {
          "base_uri": "https://localhost:8080/"
        },
        "id": "wkWYFZ1swA_P",
        "outputId": "694f15e4-d7ae-4fef-ee15-4212facc7820"
      },
      "execution_count": 19,
      "outputs": [
        {
          "output_type": "stream",
          "name": "stdout",
          "text": [
            "Error: No existe el índice\n",
            "Fin del proceso\n"
          ]
        }
      ]
    },
    {
      "cell_type": "markdown",
      "source": [
        "\n",
        "Para más info sobre excepciones: https://docs.python.org/es/3/library/exceptions.html"
      ],
      "metadata": {
        "id": "EBny-yy83YdG"
      }
    },
    {
      "cell_type": "markdown",
      "source": [
        "# 📝 Ejercicios Parte 1"
      ],
      "metadata": {
        "id": "-JYSHyfLtPlo"
      }
    },
    {
      "cell_type": "markdown",
      "source": [
        "👉 Ejercicio de clase\n",
        "\n",
        "Definir un `diccionario` de personas y sus edades con los siguientes valores\n",
        "- Jim: 30\n",
        "- Pam: 28\n",
        "- Kevin: 33\n",
        "\n",
        "Realizar una función que acceda a cada una de sus `claves` y proteger el código capturando la `excepcion` en caso de querer acceder a una clave no existente."
      ],
      "metadata": {
        "id": "DcI3UyJdtXoz"
      }
    },
    {
      "cell_type": "code",
      "source": [
        "def tarea_clase(clave):\n",
        "  try:\n",
        "    ages = {'Jim': 30, 'Pam': 28, 'Kevin': 33}\n",
        "    ages[clave]\n",
        "  except KeyError:\n",
        "    print(f\"Clave inexistente: {clave}\")\n",
        "\n",
        "# tarea_clase('Jim')   # OK\n",
        "tarea_clase('John')    # Error"
      ],
      "metadata": {
        "colab": {
          "base_uri": "https://localhost:8080/"
        },
        "id": "DQbJqi0LtXsN",
        "outputId": "19682b9b-b81d-4ff4-c6bf-b7f1ec832191"
      },
      "execution_count": null,
      "outputs": [
        {
          "output_type": "stream",
          "name": "stdout",
          "text": [
            "Clave inexistente: John\n"
          ]
        }
      ]
    },
    {
      "cell_type": "markdown",
      "source": [
        "🫴🏻 Ejercicio de tarea 1\n",
        "\n"
      ],
      "metadata": {
        "id": "ldz8-65n3Lmn"
      }
    },
    {
      "cell_type": "markdown",
      "source": [
        "Corregir la siguiente función que intenta realizar el siguiente bloque de codigo:\n",
        "\n",
        "`suma = lista_numeros.sum()`\n",
        "\n",
        "El mismo arrojará un error que deberá ser capturado en un `except` para proteger el código e imprimir el mensaje necesario.\n",
        "Luego, una vez capturada la excepción se deberá realizar la acción correspondiente para obtener la `suma`\n",
        "\n"
      ],
      "metadata": {
        "id": "Ga9XRIa74WlR"
      }
    },
    {
      "cell_type": "code",
      "source": [
        "def sumar_lista(lista_numeros):\n",
        "    suma = lista_numeros.sum()\n",
        "\n",
        "argumento = [1,2,3,4]\n",
        "sumar_lista(argumento)"
      ],
      "metadata": {
        "colab": {
          "base_uri": "https://localhost:8080/",
          "height": 297
        },
        "id": "PXzgofFC5ZaX",
        "outputId": "6ca18ccf-558b-497f-89d6-0d0b9c3c0c39"
      },
      "execution_count": null,
      "outputs": [
        {
          "output_type": "error",
          "ename": "AttributeError",
          "evalue": "'list' object has no attribute 'sum'",
          "traceback": [
            "\u001b[0;31m---------------------------------------------------------------------------\u001b[0m",
            "\u001b[0;31mAttributeError\u001b[0m                            Traceback (most recent call last)",
            "\u001b[0;32m<ipython-input-34-e0e41556a104>\u001b[0m in \u001b[0;36m<cell line: 5>\u001b[0;34m()\u001b[0m\n\u001b[1;32m      3\u001b[0m \u001b[0;34m\u001b[0m\u001b[0m\n\u001b[1;32m      4\u001b[0m \u001b[0margumento\u001b[0m \u001b[0;34m=\u001b[0m \u001b[0;34m[\u001b[0m\u001b[0;36m1\u001b[0m\u001b[0;34m,\u001b[0m\u001b[0;36m2\u001b[0m\u001b[0;34m,\u001b[0m\u001b[0;36m3\u001b[0m\u001b[0;34m,\u001b[0m\u001b[0;36m4\u001b[0m\u001b[0;34m]\u001b[0m\u001b[0;34m\u001b[0m\u001b[0;34m\u001b[0m\u001b[0m\n\u001b[0;32m----> 5\u001b[0;31m \u001b[0msumar_lista\u001b[0m\u001b[0;34m(\u001b[0m\u001b[0margumento\u001b[0m\u001b[0;34m)\u001b[0m\u001b[0;34m\u001b[0m\u001b[0;34m\u001b[0m\u001b[0m\n\u001b[0m",
            "\u001b[0;32m<ipython-input-34-e0e41556a104>\u001b[0m in \u001b[0;36msumar_lista\u001b[0;34m(lista_numeros)\u001b[0m\n\u001b[1;32m      1\u001b[0m \u001b[0;32mdef\u001b[0m \u001b[0msumar_lista\u001b[0m\u001b[0;34m(\u001b[0m\u001b[0mlista_numeros\u001b[0m\u001b[0;34m)\u001b[0m\u001b[0;34m:\u001b[0m\u001b[0;34m\u001b[0m\u001b[0;34m\u001b[0m\u001b[0m\n\u001b[0;32m----> 2\u001b[0;31m     \u001b[0msuma\u001b[0m \u001b[0;34m=\u001b[0m \u001b[0mlista_numeros\u001b[0m\u001b[0;34m.\u001b[0m\u001b[0msum\u001b[0m\u001b[0;34m(\u001b[0m\u001b[0;34m)\u001b[0m\u001b[0;34m\u001b[0m\u001b[0;34m\u001b[0m\u001b[0m\n\u001b[0m\u001b[1;32m      3\u001b[0m \u001b[0;34m\u001b[0m\u001b[0m\n\u001b[1;32m      4\u001b[0m \u001b[0margumento\u001b[0m \u001b[0;34m=\u001b[0m \u001b[0;34m[\u001b[0m\u001b[0;36m1\u001b[0m\u001b[0;34m,\u001b[0m\u001b[0;36m2\u001b[0m\u001b[0;34m,\u001b[0m\u001b[0;36m3\u001b[0m\u001b[0;34m,\u001b[0m\u001b[0;36m4\u001b[0m\u001b[0;34m]\u001b[0m\u001b[0;34m\u001b[0m\u001b[0;34m\u001b[0m\u001b[0m\n\u001b[1;32m      5\u001b[0m \u001b[0msumar_lista\u001b[0m\u001b[0;34m(\u001b[0m\u001b[0margumento\u001b[0m\u001b[0;34m)\u001b[0m\u001b[0;34m\u001b[0m\u001b[0;34m\u001b[0m\u001b[0m\n",
            "\u001b[0;31mAttributeError\u001b[0m: 'list' object has no attribute 'sum'"
          ]
        }
      ]
    },
    {
      "cell_type": "code",
      "source": [
        "def tarea1_protegida(lista_numeros):\n",
        "    try:\n",
        "        suma = lista_numeros.sum()\n",
        "    except AttributeError:\n",
        "      print('Error de atributo capturado. No existe ese método')\n",
        "\n",
        "argumento1 = [1,2,3,4]\n",
        "tarea1_protegida(argumento1)"
      ],
      "metadata": {
        "colab": {
          "base_uri": "https://localhost:8080/"
        },
        "id": "YDx7HBdg3Lp3",
        "outputId": "c94c3cf9-a036-41ce-a1b8-7ac2d5dc3a0d"
      },
      "execution_count": null,
      "outputs": [
        {
          "output_type": "stream",
          "name": "stdout",
          "text": [
            "Error de atributo capturado. No existe ese método\n"
          ]
        }
      ]
    },
    {
      "cell_type": "markdown",
      "source": [
        "🫴🏻 Ejercicio de tarea 2\n",
        "\n",
        "Proteger la siguiente función para capturar en caso de que el usuario ingrese un argumento que no sea numérico."
      ],
      "metadata": {
        "id": "FdPYinFp3LuI"
      }
    },
    {
      "cell_type": "code",
      "source": [
        "def tarea2(num1, num2):\n",
        "  suma = num1 + num2\n",
        "  return suma\n",
        "\n",
        "suma = tarea2(2,'4')"
      ],
      "metadata": {
        "colab": {
          "base_uri": "https://localhost:8080/",
          "height": 297
        },
        "id": "tq-T865D6EPk",
        "outputId": "60bcb48a-6bd8-4019-e1d5-734bc93cd857"
      },
      "execution_count": null,
      "outputs": [
        {
          "output_type": "error",
          "ename": "TypeError",
          "evalue": "unsupported operand type(s) for +: 'int' and 'str'",
          "traceback": [
            "\u001b[0;31m---------------------------------------------------------------------------\u001b[0m",
            "\u001b[0;31mTypeError\u001b[0m                                 Traceback (most recent call last)",
            "\u001b[0;32m<ipython-input-36-f9d5e5e3a74d>\u001b[0m in \u001b[0;36m<cell line: 5>\u001b[0;34m()\u001b[0m\n\u001b[1;32m      3\u001b[0m   \u001b[0;32mreturn\u001b[0m \u001b[0msuma\u001b[0m\u001b[0;34m\u001b[0m\u001b[0;34m\u001b[0m\u001b[0m\n\u001b[1;32m      4\u001b[0m \u001b[0;34m\u001b[0m\u001b[0m\n\u001b[0;32m----> 5\u001b[0;31m \u001b[0msuma\u001b[0m \u001b[0;34m=\u001b[0m \u001b[0mtarea2\u001b[0m\u001b[0;34m(\u001b[0m\u001b[0;36m2\u001b[0m\u001b[0;34m,\u001b[0m\u001b[0;34m'4'\u001b[0m\u001b[0;34m)\u001b[0m\u001b[0;34m\u001b[0m\u001b[0;34m\u001b[0m\u001b[0m\n\u001b[0m",
            "\u001b[0;32m<ipython-input-36-f9d5e5e3a74d>\u001b[0m in \u001b[0;36mtarea2\u001b[0;34m(num1, num2)\u001b[0m\n\u001b[1;32m      1\u001b[0m \u001b[0;32mdef\u001b[0m \u001b[0mtarea2\u001b[0m\u001b[0;34m(\u001b[0m\u001b[0mnum1\u001b[0m\u001b[0;34m,\u001b[0m \u001b[0mnum2\u001b[0m\u001b[0;34m)\u001b[0m\u001b[0;34m:\u001b[0m\u001b[0;34m\u001b[0m\u001b[0;34m\u001b[0m\u001b[0m\n\u001b[0;32m----> 2\u001b[0;31m   \u001b[0msuma\u001b[0m \u001b[0;34m=\u001b[0m \u001b[0mnum1\u001b[0m \u001b[0;34m+\u001b[0m \u001b[0mnum2\u001b[0m\u001b[0;34m\u001b[0m\u001b[0;34m\u001b[0m\u001b[0m\n\u001b[0m\u001b[1;32m      3\u001b[0m   \u001b[0;32mreturn\u001b[0m \u001b[0msuma\u001b[0m\u001b[0;34m\u001b[0m\u001b[0;34m\u001b[0m\u001b[0m\n\u001b[1;32m      4\u001b[0m \u001b[0;34m\u001b[0m\u001b[0m\n\u001b[1;32m      5\u001b[0m \u001b[0msuma\u001b[0m \u001b[0;34m=\u001b[0m \u001b[0mtarea2\u001b[0m\u001b[0;34m(\u001b[0m\u001b[0;36m2\u001b[0m\u001b[0;34m,\u001b[0m\u001b[0;34m'4'\u001b[0m\u001b[0;34m)\u001b[0m\u001b[0;34m\u001b[0m\u001b[0;34m\u001b[0m\u001b[0m\n",
            "\u001b[0;31mTypeError\u001b[0m: unsupported operand type(s) for +: 'int' and 'str'"
          ]
        }
      ]
    },
    {
      "cell_type": "code",
      "source": [
        "def tarea2_protegida(num1, num2):\n",
        "  try:\n",
        "    suma = num1 + num2\n",
        "    return suma\n",
        "  except TypeError:\n",
        "    print('Ingrese solo valores numéricos')\n",
        "\n",
        "suma = tarea2(2,'4')"
      ],
      "metadata": {
        "id": "Q0TybQJ169iK"
      },
      "execution_count": null,
      "outputs": []
    },
    {
      "cell_type": "markdown",
      "source": [
        "# **⭐Parte 2: Librerias externas (o paquetes)**\n",
        "\n",
        "**2.1) Random**\n",
        "\n",
        "2.1.1) Método `randint()`  \n",
        "\n",
        "2.1.2) Método `random()`\n",
        "\n",
        "2.1.3) Mezclar una lista aleatoriamente\n",
        "\n",
        "2.1.4) Elegir un número aleatorio de una secuencia: `choice()`\n",
        "\n",
        "2.1.5) Funciones estadísticas: Generamos una distribución `discreta`\n",
        "\n",
        "2.1.6) Funciones estadísticas: Generamos una distribución `normal`\n",
        "\n",
        "\n",
        "\n",
        "**2.2) Math**\n",
        "\n",
        "2.2.1) Funciones trigonométricas: `seno` y `coseno`\n",
        "\n",
        "2.2.2) Funcion `exponencial` y `logarítmica`\n",
        "\n",
        "2.2.3) Redondeo: Hacia arriba `ceil()` y hacia abajo `floor()`\n",
        "\n",
        "2.2.4) Obtener `constantes` matemáticas"
      ],
      "metadata": {
        "id": "9TerPnaqdWDd"
      }
    },
    {
      "cell_type": "markdown",
      "source": [
        "Recordemos que en Python podemos importar (o traer de \"afuera\" de nuestro código) librerías que contienen funciones dentro listas para ser utilizadas (las cuales ya fueron desarrolladas por otros desarrolladores).\n",
        "\n",
        "Estas librerías pueden ser:\n",
        "- `Standard`: Vienen incorporadas con Python y con sólo instalarlo podemos utilizarlas.\n",
        "- `Terceros`: Son librerías también desarrolladas por otros desarrolladores pero que no participaron en la creación del lenguaje Python. Básicamente cualquiera de nosotros puede crearlas, el repositorio más grande de paquetes es el Python Package Index  (https://pypi.org/) donde cualquier desarrollador (incluso nosotros) podemos subir una librería."
      ],
      "metadata": {
        "id": "Hq2C5TpAdZk1"
      }
    },
    {
      "cell_type": "markdown",
      "source": [
        "**Librerías Standard**\n",
        "\n",
        "Para utilizarlas simplemente las importamos al inicio de nuestro código con la sintaxis: `import random as rnd`\n",
        "\n",
        "Nota: `as rnd` es opcional y es un \"alias\" que le ponemos para acortar el nombre y que sea más cómodo."
      ],
      "metadata": {
        "id": "MFFe3vv6fSwH"
      }
    },
    {
      "cell_type": "markdown",
      "source": [
        "**2.1 Random**\n",
        "\n",
        "Se utiliza para generar `números aleatorios` y realizar operaciones relacionadas con la aleatoriedad.\n",
        "Ofrece funciones para generar números aleatorios de diferentes tipos (enteros, flotantes, etc.), así como para realizar operaciones como mezclar listas, elegir elementos al azar de una secuencia, y generar muestras aleatorias."
      ],
      "metadata": {
        "id": "RMk8NwrGxAqe"
      }
    },
    {
      "cell_type": "markdown",
      "source": [
        " Importamos la librería"
      ],
      "metadata": {
        "id": "8L6yuNhuxAtL"
      }
    },
    {
      "cell_type": "code",
      "source": [
        "import random as rnd"
      ],
      "metadata": {
        "id": "0giJEen-xIkp"
      },
      "execution_count": 21,
      "outputs": []
    },
    {
      "cell_type": "markdown",
      "source": [
        "1.2) Métodos"
      ],
      "metadata": {
        "id": "HfjhSSikgs-E"
      }
    },
    {
      "cell_type": "markdown",
      "source": [
        "2.1.1) Método `randint()`"
      ],
      "metadata": {
        "id": "pLbJ7RQZgv6V"
      }
    },
    {
      "cell_type": "code",
      "source": [
        "# Generar un número entero aleatorio entre 1 y 100\n",
        "numero_aleatorio = rnd.randint(1, 100)\n",
        "numero_aleatorio"
      ],
      "metadata": {
        "id": "MPh67wxhxL1q",
        "colab": {
          "base_uri": "https://localhost:8080/"
        },
        "outputId": "5f17637e-87b0-44d9-8c77-3f0e3b947de6"
      },
      "execution_count": 22,
      "outputs": [
        {
          "output_type": "execute_result",
          "data": {
            "text/plain": [
              "10"
            ]
          },
          "metadata": {},
          "execution_count": 22
        }
      ]
    },
    {
      "cell_type": "markdown",
      "source": [
        " 2.1.2) Método `random()`"
      ],
      "metadata": {
        "id": "5LQ5fYUnhV-y"
      }
    },
    {
      "cell_type": "code",
      "source": [
        "# Generar un número decimal aleatorio entre 0 y 1\n",
        "numero_decimal_aleatorio = rnd.random()\n",
        "numero_decimal_aleatorio"
      ],
      "metadata": {
        "colab": {
          "base_uri": "https://localhost:8080/"
        },
        "id": "gyp_a183gfxM",
        "outputId": "2559c55e-cb56-4b7f-9469-c753c0bd0b0c"
      },
      "execution_count": 23,
      "outputs": [
        {
          "output_type": "execute_result",
          "data": {
            "text/plain": [
              "0.5776325978642555"
            ]
          },
          "metadata": {},
          "execution_count": 23
        }
      ]
    },
    {
      "cell_type": "markdown",
      "source": [
        " 2.1.3) Mezclar una lista aleatoriamente"
      ],
      "metadata": {
        "id": "vfxaerlshUmt"
      }
    },
    {
      "cell_type": "code",
      "source": [
        "lista = [1, 2, 3, 4, 5]\n",
        "lista_mezclada = rnd.shuffle(lista)\n",
        "print(lista_mezclada)  # La lista ahora estará mezclada aleatoriamente"
      ],
      "metadata": {
        "colab": {
          "base_uri": "https://localhost:8080/"
        },
        "id": "IyTtaYqdhfk6",
        "outputId": "784f3223-9ef6-4aa6-d2c7-03eb3c4c2a1f"
      },
      "execution_count": 25,
      "outputs": [
        {
          "output_type": "stream",
          "name": "stdout",
          "text": [
            "None\n"
          ]
        }
      ]
    },
    {
      "cell_type": "markdown",
      "source": [
        "2.1.4) Elegir un número aleatorio de una secuencia: `choice()`"
      ],
      "metadata": {
        "id": "ERvQCMyshfpT"
      }
    },
    {
      "cell_type": "code",
      "source": [
        "secuencia = ['a', 'b', 'c', 'd', 'e']\n",
        "elemento_aleatorio = rnd.choice(secuencia)\n",
        "print(f'El elemento aleatorio de mi lista es: {elemento_aleatorio}')  # Imprimirá un elemento aleatorio de la secuencia"
      ],
      "metadata": {
        "colab": {
          "base_uri": "https://localhost:8080/"
        },
        "id": "GW0MLZwKh-DJ",
        "outputId": "19d4017e-f26d-4999-90b9-bd915d50793e"
      },
      "execution_count": 27,
      "outputs": [
        {
          "output_type": "stream",
          "name": "stdout",
          "text": [
            "El elemento aleatorio de mi lista es: d\n"
          ]
        }
      ]
    },
    {
      "cell_type": "markdown",
      "source": [
        "2.1.5) **Funciones estadísticas**: Generamos una distribución `discreta`\n",
        "\n",
        "Nota. En estadística, una `distribución discreta` es un tipo de distribución de probabilidad que describe la probabilidad de ocurrencia de cada valor posible que puede tomar una `variable aleatoria discreta`. Una variable aleatoria discreta es aquella cuyos posibles valores son contables, es decir, finitos o infinitos numerables."
      ],
      "metadata": {
        "id": "o5Ll34_iiJLC"
      }
    },
    {
      "cell_type": "code",
      "source": [
        "\n",
        "# Definir los valores posibles y sus probabilidades\n",
        "valores = [1, 2, 3, 4, 5]\n",
        "probabilidades = [0.1, 0.2, 0.3, 0.2, 0.2]  # Las probabilidades deben sumar 1\n",
        "\n",
        "cantidad_numeros = 10  # Cantidad de números aleatorios a generar\n",
        "\n",
        "# Generar números aleatorios siguiendo una distribución discreta\n",
        "distribucion_discreta = rnd.choices(valores, weights=probabilidades, k=cantidad_numeros)\n",
        "\n",
        "print(\"Distribución discreta generada:\", distribucion_discreta)\n"
      ],
      "metadata": {
        "colab": {
          "base_uri": "https://localhost:8080/"
        },
        "id": "SDHhw1cYkIXf",
        "outputId": "fbb82331-6051-4f33-a23f-5c896e301135"
      },
      "execution_count": 28,
      "outputs": [
        {
          "output_type": "stream",
          "name": "stdout",
          "text": [
            "Distribución discreta generada: [5, 4, 4, 3, 4, 1, 1, 1, 3, 2]\n"
          ]
        }
      ]
    },
    {
      "cell_type": "markdown",
      "source": [
        "2.1.6) Funciones estadísticas: Generamos una distribución `normal` (o de `Gauss`)\n",
        "\n",
        "Una distribución normal, también conocida como distribución gaussiana, es una de las distribuciones de probabilidad más importantes en estadística y teoría de probabilidad.\n",
        "\n",
        "Se caracteriza por tener una forma de campana simétrica alrededor de su media, lo que significa que la mayoría de los datos se concentran cerca de la media y la probabilidad de que un dato caiga dentro de un rango específico alrededor de la media se puede calcular con precisión."
      ],
      "metadata": {
        "id": "56Y1JGCrlRAg"
      }
    },
    {
      "cell_type": "code",
      "source": [
        "# Parámetros de la distribución normal\n",
        "mu = 0  # Media\n",
        "sigma = 1  # Desviación estándar\n",
        "cantidad_numeros = 10  # Cantidad de números aleatorios a generar\n",
        "\n",
        "distribucion_normal = []\n",
        "# Generar números aleatorios siguiendo una distribución normal\n",
        "for n in range(cantidad_numeros):\n",
        "  nro = rnd.gauss(mu, sigma)\n",
        "  distribucion_normal.append(nro)\n",
        "\n",
        "print(\"Distribución normal generada:\", distribucion_normal)\n"
      ],
      "metadata": {
        "colab": {
          "base_uri": "https://localhost:8080/"
        },
        "id": "YKaIuFzwkG7x",
        "outputId": "872facb6-f5a5-4b12-debb-e0800192d18c"
      },
      "execution_count": 29,
      "outputs": [
        {
          "output_type": "stream",
          "name": "stdout",
          "text": [
            "Distribución normal generada: [0.06978925817428643, 0.7603082659376422, 1.718726527269611, 0.9959862711445586, 0.8565209356376197, 0.30618713454832086, 0.05137886905408481, -0.25093696649615527, -0.7637938398187376, -0.5309802470635052]\n"
          ]
        }
      ]
    },
    {
      "cell_type": "markdown",
      "source": [
        "Nota: Para más info https://docs.python.org/es/3/library/random.html"
      ],
      "metadata": {
        "id": "ivTsnG_gsOIp"
      }
    },
    {
      "cell_type": "markdown",
      "source": [
        "**2.2) Math**\n",
        "\n",
        "La librería math en Python proporciona `funciones y constantes matemáticas` para realizar operaciones matemáticas más avanzadas que no están disponibles en el conjunto de funciones incorporadas en Python.\n",
        "\n",
        "Algunas de las operaciones que puedes realizar con esta librería incluyen funciones trigonométricas, exponenciales, logaritmos, redondeo, etc."
      ],
      "metadata": {
        "id": "aTRwZ6OklDmS"
      }
    },
    {
      "cell_type": "markdown",
      "source": [
        "Al igual que con la librería `random`, lo primer es importar la librería"
      ],
      "metadata": {
        "id": "CdBCeGUYd-KB"
      }
    },
    {
      "cell_type": "code",
      "source": [
        "import math"
      ],
      "metadata": {
        "id": "hWYzupyfmXhj"
      },
      "execution_count": 30,
      "outputs": []
    },
    {
      "cell_type": "markdown",
      "source": [
        "2.2.1) Funciones trigonométricas: `sin()` y `cos()`"
      ],
      "metadata": {
        "id": "dYfXEmp4mQZE"
      }
    },
    {
      "cell_type": "code",
      "source": [
        "# Seno de un ángulo en radianes\n",
        "PI = math.pi\n",
        "angulo =  PI / 4\n",
        "seno = math.sin(angulo)\n",
        "print(\"Seno:\", seno)\n",
        "\n",
        "# Coseno de un ángulo en radianes\n",
        "coseno = math.cos(angulo)\n",
        "print(\"Coseno:\", coseno)\n"
      ],
      "metadata": {
        "colab": {
          "base_uri": "https://localhost:8080/"
        },
        "id": "v0DwAOMwmXJO",
        "outputId": "9fe731b0-d415-4d23-ec34-8904f8966b27"
      },
      "execution_count": 31,
      "outputs": [
        {
          "output_type": "stream",
          "name": "stdout",
          "text": [
            "Seno: 0.7071067811865475\n",
            "Coseno: 0.7071067811865476\n"
          ]
        }
      ]
    },
    {
      "cell_type": "markdown",
      "source": [
        "2.2.2) Funcion exponencial y logarítmica: `exp()` `log`"
      ],
      "metadata": {
        "id": "34Rd4-wUq66I"
      }
    },
    {
      "cell_type": "code",
      "source": [
        "# Exponencial de un número\n",
        "exponencial = math.exp(2)\n",
        "print(\"Exponencial de 2:\", exponencial)\n",
        "\n",
        "# Logaritmo natural de un número\n",
        "logaritmo = math.log(10)\n",
        "print(\"Logaritmo natural de 10:\", logaritmo)"
      ],
      "metadata": {
        "colab": {
          "base_uri": "https://localhost:8080/"
        },
        "id": "rFB3FvDurBMc",
        "outputId": "d4a666a9-b95d-490d-8295-dda14364177d"
      },
      "execution_count": 32,
      "outputs": [
        {
          "output_type": "stream",
          "name": "stdout",
          "text": [
            "Exponencial de 2: 7.38905609893065\n",
            "Logaritmo natural de 10: 2.302585092994046\n"
          ]
        }
      ]
    },
    {
      "cell_type": "markdown",
      "source": [
        "2.2.3) Redondeo: Hacia arriba `ceil()` y hacia abajo `floor()`"
      ],
      "metadata": {
        "id": "rFB89d61rEPt"
      }
    },
    {
      "cell_type": "code",
      "source": [
        "\n",
        "# Redondeo hacia arriba\n",
        "redondeo_arriba = math.ceil(4.3)\n",
        "print(\"Redondeo hacia arriba de 4.3:\", redondeo_arriba)\n",
        "\n",
        "# Redondeo hacia abajo\n",
        "redondeo_abajo = math.floor(4.7)\n",
        "print(\"Redondeo hacia abajo de 4.7:\", redondeo_abajo)\n"
      ],
      "metadata": {
        "id": "W2QgdPDErMTe"
      },
      "execution_count": null,
      "outputs": []
    },
    {
      "cell_type": "markdown",
      "source": [
        "2.2.4) Obtener `constantes` matemáticas (numeros constantes de la física o la naturaleza)"
      ],
      "metadata": {
        "id": "fz-AKkDFrtJO"
      }
    },
    {
      "cell_type": "code",
      "source": [
        "NUMERO_PI = math.pi\n",
        "NUMERO_EULER =  math.e\n",
        "# Valor de pi\n",
        "print(\"Valor de pi:\", NUMERO_PI)\n",
        "\n",
        "# Valor de Euler\n",
        "print(\"Valor de Euler:\", NUMERO_EULER)"
      ],
      "metadata": {
        "colab": {
          "base_uri": "https://localhost:8080/"
        },
        "id": "2t4uxd1UrxqX",
        "outputId": "002eee08-1108-42c9-f694-4f3781134cf2"
      },
      "execution_count": 33,
      "outputs": [
        {
          "output_type": "stream",
          "name": "stdout",
          "text": [
            "Valor de pi: 3.141592653589793\n",
            "Valor de Euler: 2.718281828459045\n"
          ]
        }
      ]
    },
    {
      "cell_type": "markdown",
      "source": [
        "Nota: Para más info https://docs.python.org/es/3/library/math.html#module-math"
      ],
      "metadata": {
        "id": "W6OAW6MHrxuW"
      }
    },
    {
      "cell_type": "markdown",
      "source": [
        "# 📝 Ejercicios Parte 2"
      ],
      "metadata": {
        "id": "xzQV2ik-rtej"
      }
    },
    {
      "cell_type": "markdown",
      "source": [
        "👉 Ejercicio de Clase\n",
        "\n",
        "Escribe un programa que simule el lanzamiento de un dado.\n",
        " El programa debe utilizar la función `random.randint()` de la biblioteca random para generar un número aleatorio entre 1 y 6, simulando así el resultado de lanzar un dado.\n",
        " El programa debe imprimir el resultado del lanzamiento.\n",
        "\n",
        " Además, debe imprimir la raíz cuadrada del valor del dado seleccionado."
      ],
      "metadata": {
        "id": "dUAKcZcqrtie"
      }
    },
    {
      "cell_type": "code",
      "source": [
        "import random as rnd\n",
        "import math\n",
        "def lanzamiento_dado():\n",
        "    resultado = rnd.randint(1, 6)\n",
        "    print(f\"El resultado del lanzamiento del dado es: {resultado}\")\n",
        "    print(f\"La raíz cuadrada es: {math.sqrt(resultado)}\")\n",
        "\n",
        "lanzamiento_dado()"
      ],
      "metadata": {
        "colab": {
          "base_uri": "https://localhost:8080/"
        },
        "id": "BKplRAVX7zK0",
        "outputId": "555f7c2e-af5b-4f2e-b1cc-19e03abcb75e"
      },
      "execution_count": 59,
      "outputs": [
        {
          "output_type": "stream",
          "name": "stdout",
          "text": [
            "El resultado del lanzamiento del dado es: 3\n",
            "La raíz cuadrada es: 1.7320508075688772\n"
          ]
        }
      ]
    },
    {
      "cell_type": "markdown",
      "source": [
        "🫴🏻 Ejercicio de tarea 1"
      ],
      "metadata": {
        "id": "6bv5iEz87zN9"
      }
    },
    {
      "cell_type": "markdown",
      "source": [
        "Escribe un programa que genere y muestre al azar una carta de una baraja española.\n",
        "\n",
        "Para esto, utiliza la función `random.choice()` de la biblioteca random para seleccionar al azar un palo y un valor de la baraja española."
      ],
      "metadata": {
        "id": "3C3VLW358EjB"
      }
    },
    {
      "cell_type": "code",
      "source": [
        "def carta_azar():\n",
        "    palos = ['Oros', 'Copas', 'Espadas', 'Bastos']\n",
        "    valores = ['As', '2', '3', '4', '5', '6', '7', 'Sota', 'Caballo', 'Rey']\n",
        "    palo = rnd.choice(palos)\n",
        "    valor = rnd.choice(valores)\n",
        "    print(\"Carta al azar:\", valor, \"de\", palo)\n",
        "\n",
        "carta_azar()\n"
      ],
      "metadata": {
        "colab": {
          "base_uri": "https://localhost:8080/"
        },
        "id": "M12lOKb1BeR8",
        "outputId": "105f63a7-7e96-4c2f-fea1-cf0bf5d1289f"
      },
      "execution_count": 58,
      "outputs": [
        {
          "output_type": "stream",
          "name": "stdout",
          "text": [
            "Carta al azar: 4 de Espadas\n"
          ]
        }
      ]
    },
    {
      "cell_type": "markdown",
      "source": [
        "🫴🏻 Ejercicio de tarea 2"
      ],
      "metadata": {
        "id": "yNOk6B-a7zQw"
      }
    },
    {
      "cell_type": "markdown",
      "source": [
        "Escribe un programa que solicite al usuario ingresar un número positivo.\n",
        "El programa debe utilizar la función `math.sqrt()` para calcular la raíz cuadrada del número ingresado por el usuario.\n",
        "\n",
        "Si el número ingresado es negativo, debe mostrar un mensaje de error indicando que se debe ingresar un número positivo. Si el cálculo se realiza con éxito, debe imprimir la raíz cuadrada del número."
      ],
      "metadata": {
        "id": "IuX2r7QL7zTe"
      }
    },
    {
      "cell_type": "code",
      "source": [
        "def calcular_raiz_cuadrada():\n",
        "    try:\n",
        "        numero = float(input(\"Ingresa un número positivo: \"))\n",
        "        if numero < 0:\n",
        "            raise ValueError(\"Error: Debes ingresar un número positivo.\")\n",
        "        raiz = math.sqrt(numero)\n",
        "    except ValueError as error:\n",
        "        print(error)\n",
        "    else:\n",
        "        print(\"La raíz cuadrada de\", numero, \"es:\", raiz)\n",
        "\n",
        "calcular_raiz_cuadrada()\n"
      ],
      "metadata": {
        "colab": {
          "base_uri": "https://localhost:8080/"
        },
        "id": "K1fweXvzBZnF",
        "outputId": "d0ab36e0-f808-4043-c559-6c291561c5ba"
      },
      "execution_count": null,
      "outputs": [
        {
          "output_type": "stream",
          "name": "stdout",
          "text": [
            "Ingresa un número positivo: 4\n",
            "La raíz cuadrada de 4.0 es: 2.0\n"
          ]
        }
      ]
    },
    {
      "cell_type": "markdown",
      "source": [
        "# ⚡⚠️ Spoiler Alert! 😁😎\n",
        "\n",
        "Si bien veremos `Pandas` la clase que viene, con los conceptos aprendidos podemos empezar a entender un poco más cómo es el uso de las librerías externas para ir acercándonos a aquellas que más se usan para visualización y análisis de datos.\n",
        "\n",
        "Nota: `pandas` no es una librería standard, es una librería `externa` la cual debemos realizar un paso previo (muy sencillo) para usarla en nuestro código."
      ],
      "metadata": {
        "id": "biz52X_Fh2h1"
      }
    },
    {
      "cell_type": "code",
      "source": [
        "# Importar librerías externas para reutilizar funciones que otroso hayan escrito ya.\n",
        "import random as rnd\n",
        "import pandas as pd\n",
        "\n",
        "def edades_aleatorias():\n",
        "\n",
        "  lista_edades= []\n",
        "  for n in range(0, 10):\n",
        "    num_aleatorio = rnd.randint(1, 100)\n",
        "    lista_edades.append(num_aleatorio)\n",
        "\n",
        "  return lista_edades\n",
        "\n",
        "def puntuacion_aleatorias():\n",
        "\n",
        "  lista_puntuacion = []\n",
        "  for n in range(0, 10):\n",
        "    num_aleatorio = rnd.uniform(1, 100)\n",
        "    lista_puntuacion.append(num_aleatorio)\n",
        "\n",
        "  return lista_puntuacion\n",
        "\n",
        "mis_amigos =  ['Juan', 'María', 'Carlos', 'Laura', 'Ana', 'Luciano', 'Facundo', 'Guido', 'Rodrigo', 'Daiana' ]\n",
        "\n",
        "# Definir el diccionario que representa las columnas del DataFrame\n",
        "data = {\n",
        "    'Nombre':mis_amigos,\n",
        "    'Edad': edades_aleatorias(),\n",
        "    'Puntuacion': puntuacion_aleatorias()\n",
        "}"
      ],
      "metadata": {
        "id": "BJ3VXzFGfOlR"
      },
      "execution_count": 54,
      "outputs": []
    },
    {
      "cell_type": "code",
      "source": [
        "# Crear el DataFrame: Pasamos del diccionario que conocemos a una estructura propia de 'Pandas'\n",
        "df = pd.DataFrame(data)\n",
        "# Imprimir el DataFrame\n",
        "print(f'Mi dataframe es \\n{df}')"
      ],
      "metadata": {
        "colab": {
          "base_uri": "https://localhost:8080/"
        },
        "id": "MREw3e_ziSW4",
        "outputId": "4787e684-ce96-4e80-df24-b0fa816d3c81"
      },
      "execution_count": 55,
      "outputs": [
        {
          "output_type": "stream",
          "name": "stdout",
          "text": [
            "Mi dataframe es \n",
            "    Nombre  Edad  Puntuacion\n",
            "0     Juan    46   69.137010\n",
            "1    María    86   56.554644\n",
            "2   Carlos    36   43.218374\n",
            "3    Laura    66    1.121712\n",
            "4      Ana    33   27.741546\n",
            "5  Luciano    32   85.022083\n",
            "6  Facundo    36   68.602588\n",
            "7    Guido    10   36.143145\n",
            "8  Rodrigo    42   27.524337\n",
            "9   Daiana    52   63.048004\n"
          ]
        }
      ]
    },
    {
      "cell_type": "markdown",
      "source": [
        "Así como usamos `metodos` de las librerías `random` y `math` en la clase de hoy, en pandas tenemos algunos como `mean` el cual nos permite calcular la media de una serie (o columna)."
      ],
      "metadata": {
        "id": "5lBjYzJaiZ1Q"
      }
    },
    {
      "cell_type": "code",
      "source": [
        "valores_de_edad = df[\"Edad\"]  # Capturamos los valores de la columna edad\n",
        "promedio_edad = df[\"Edad\"].mean()\n",
        "print(f'La edad promedio es: {promedio_edad}')"
      ],
      "metadata": {
        "colab": {
          "base_uri": "https://localhost:8080/"
        },
        "id": "UAJZnG5kiSb6",
        "outputId": "f70fef5c-14d7-4f18-8705-0a16bb015fbb"
      },
      "execution_count": 56,
      "outputs": [
        {
          "output_type": "stream",
          "name": "stdout",
          "text": [
            "La edad promedio es: 43.9\n"
          ]
        }
      ]
    },
    {
      "cell_type": "markdown",
      "source": [
        "Además... podemos plotear! ya que Pandas contiene métodos que permiten realizar gráficas o visualizaciones."
      ],
      "metadata": {
        "id": "q__cZ9JYiSkv"
      }
    },
    {
      "cell_type": "code",
      "source": [
        "valores_de_edad.plot()"
      ],
      "metadata": {
        "colab": {
          "base_uri": "https://localhost:8080/",
          "height": 447
        },
        "id": "Emjd5KKgg63t",
        "outputId": "4ec47d6a-0a74-4654-d5d7-90ff7f5061be"
      },
      "execution_count": 57,
      "outputs": [
        {
          "output_type": "execute_result",
          "data": {
            "text/plain": [
              "<Axes: >"
            ]
          },
          "metadata": {},
          "execution_count": 57
        },
        {
          "output_type": "display_data",
          "data": {
            "text/plain": [
              "<Figure size 640x480 with 1 Axes>"
            ],
            "image/png": "[encoded data removed]"
          },
          "metadata": {}
        }
      ]
    }
  ]
}